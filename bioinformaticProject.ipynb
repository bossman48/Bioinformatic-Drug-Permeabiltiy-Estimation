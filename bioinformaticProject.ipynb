{
  "nbformat": 4,
  "nbformat_minor": 0,
  "metadata": {
    "colab": {
      "name": "bioinformaticProject.ipynb",
      "provenance": [],
      "collapsed_sections": []
    },
    "kernelspec": {
      "name": "python3",
      "display_name": "Python 3"
    },
    "language_info": {
      "name": "python"
    }
  },
  "cells": [
    {
      "cell_type": "code",
      "source": [
        "pip install PyTDC"
      ],
      "metadata": {
        "colab": {
          "base_uri": "https://localhost:8080/"
        },
        "id": "byO9eiXnUDw7",
        "outputId": "f37e7778-c3c1-48a0-8389-07a9c7ca4d18"
      },
      "execution_count": null,
      "outputs": [
        {
          "output_type": "stream",
          "name": "stdout",
          "text": [
            "Collecting PyTDC\n",
            "  Downloading PyTDC-0.3.6.tar.gz (88 kB)\n",
            "\u001b[?25l\r\u001b[K     |███▊                            | 10 kB 18.6 MB/s eta 0:00:01\r\u001b[K     |███████▍                        | 20 kB 10.5 MB/s eta 0:00:01\r\u001b[K     |███████████                     | 30 kB 8.7 MB/s eta 0:00:01\r\u001b[K     |██████████████▊                 | 40 kB 8.0 MB/s eta 0:00:01\r\u001b[K     |██████████████████▌             | 51 kB 4.3 MB/s eta 0:00:01\r\u001b[K     |██████████████████████▏         | 61 kB 5.1 MB/s eta 0:00:01\r\u001b[K     |█████████████████████████▉      | 71 kB 5.0 MB/s eta 0:00:01\r\u001b[K     |█████████████████████████████▌  | 81 kB 5.6 MB/s eta 0:00:01\r\u001b[K     |████████████████████████████████| 88 kB 3.6 MB/s \n",
            "\u001b[?25hCollecting fuzzywuzzy\n",
            "  Downloading fuzzywuzzy-0.18.0-py2.py3-none-any.whl (18 kB)\n",
            "Requirement already satisfied: numpy in /usr/local/lib/python3.7/dist-packages (from PyTDC) (1.21.6)\n",
            "Requirement already satisfied: pandas in /usr/local/lib/python3.7/dist-packages (from PyTDC) (1.3.5)\n",
            "Requirement already satisfied: tqdm in /usr/local/lib/python3.7/dist-packages (from PyTDC) (4.64.0)\n",
            "Requirement already satisfied: scikit-learn in /usr/local/lib/python3.7/dist-packages (from PyTDC) (1.0.2)\n",
            "Requirement already satisfied: seaborn in /usr/local/lib/python3.7/dist-packages (from PyTDC) (0.11.2)\n",
            "Requirement already satisfied: pytz>=2017.3 in /usr/local/lib/python3.7/dist-packages (from pandas->PyTDC) (2022.1)\n",
            "Requirement already satisfied: python-dateutil>=2.7.3 in /usr/local/lib/python3.7/dist-packages (from pandas->PyTDC) (2.8.2)\n",
            "Requirement already satisfied: six>=1.5 in /usr/local/lib/python3.7/dist-packages (from python-dateutil>=2.7.3->pandas->PyTDC) (1.15.0)\n",
            "Requirement already satisfied: scipy>=1.1.0 in /usr/local/lib/python3.7/dist-packages (from scikit-learn->PyTDC) (1.4.1)\n",
            "Requirement already satisfied: joblib>=0.11 in /usr/local/lib/python3.7/dist-packages (from scikit-learn->PyTDC) (1.1.0)\n",
            "Requirement already satisfied: threadpoolctl>=2.0.0 in /usr/local/lib/python3.7/dist-packages (from scikit-learn->PyTDC) (3.1.0)\n",
            "Requirement already satisfied: matplotlib>=2.2 in /usr/local/lib/python3.7/dist-packages (from seaborn->PyTDC) (3.2.2)\n",
            "Requirement already satisfied: pyparsing!=2.0.4,!=2.1.2,!=2.1.6,>=2.0.1 in /usr/local/lib/python3.7/dist-packages (from matplotlib>=2.2->seaborn->PyTDC) (3.0.8)\n",
            "Requirement already satisfied: cycler>=0.10 in /usr/local/lib/python3.7/dist-packages (from matplotlib>=2.2->seaborn->PyTDC) (0.11.0)\n",
            "Requirement already satisfied: kiwisolver>=1.0.1 in /usr/local/lib/python3.7/dist-packages (from matplotlib>=2.2->seaborn->PyTDC) (1.4.2)\n",
            "Requirement already satisfied: typing-extensions in /usr/local/lib/python3.7/dist-packages (from kiwisolver>=1.0.1->matplotlib>=2.2->seaborn->PyTDC) (4.2.0)\n",
            "Building wheels for collected packages: PyTDC\n",
            "  Building wheel for PyTDC (setup.py) ... \u001b[?25l\u001b[?25hdone\n",
            "  Created wheel for PyTDC: filename=PyTDC-0.3.6-py3-none-any.whl size=120882 sha256=752283eb682103bee1b4cc3870aa7521bb27feb705b4ba4c5e317b23fe637fa1\n",
            "  Stored in directory: /root/.cache/pip/wheels/c3/54/29/38349b4cf57cda21a1493f61721a6d72b232061f7665102d47\n",
            "Successfully built PyTDC\n",
            "Installing collected packages: fuzzywuzzy, PyTDC\n",
            "Successfully installed PyTDC-0.3.6 fuzzywuzzy-0.18.0\n"
          ]
        }
      ]
    },
    {
      "cell_type": "code",
      "execution_count": null,
      "metadata": {
        "colab": {
          "base_uri": "https://localhost:8080/"
        },
        "id": "X9oqQ89MT2U9",
        "outputId": "36a57a5f-0935-4422-ced6-39b70deff2a1"
      },
      "outputs": [
        {
          "output_type": "stream",
          "name": "stderr",
          "text": [
            "Downloading...\n",
            "100%|██████████| 138k/138k [00:00<00:00, 2.49MiB/s]\n",
            "Loading...\n",
            "Done!\n"
          ]
        }
      ],
      "source": [
        "from tdc.single_pred import ADME\n",
        "data = ADME(name = 'BBB_Martins')\n",
        "split = data.get_split()"
      ]
    },
    {
      "cell_type": "code",
      "source": [
        "print(split)\n",
        "print(split[\"train\"][\"Drug_ID\"][0])"
      ],
      "metadata": {
        "colab": {
          "base_uri": "https://localhost:8080/"
        },
        "id": "9zEaQR6f1Tk1",
        "outputId": "fecdaa93-0418-4338-e236-7779fdda3029"
      },
      "execution_count": null,
      "outputs": [
        {
          "output_type": "stream",
          "name": "stdout",
          "text": [
            "{'train':                                 Drug_ID  \\\n",
            "0                  Terbutylchlorambucil   \n",
            "1                                 40730   \n",
            "2                           cloxacillin   \n",
            "3                          cefoperazone   \n",
            "4                      rolitetracycline   \n",
            "...                                 ...   \n",
            "1416                         licostinel   \n",
            "1417  ademetionine(adenosyl-methionine)   \n",
            "1418                           mesocarb   \n",
            "1419                         tofisoline   \n",
            "1420                      azidamfenicol   \n",
            "\n",
            "                                                   Drug  Y  \n",
            "0                CC(C)(C)OC(=O)CCCc1ccc(N(CCCl)CCCl)cc1  1  \n",
            "1      CC1COc2c(N3CCN(C)CC3)c(F)cc3c(=O)c(C(=O)O)cn1c23  1  \n",
            "2     Cc1onc(-c2ccccc2Cl)c1C(=O)N[C@@H]1C(=O)N2[C@@H...  1  \n",
            "3     CCN1CCN(C(=O)N[C@@H](C(=O)N[C@@H]2C(=O)N3C(C(=...  1  \n",
            "4     CN(C)[C@@H]1C(=O)/C(=C(/O)NCN2CCCC2)C(=O)[C@@]...  1  \n",
            "...                                                 ... ..  \n",
            "1416     O=c1[nH]c2cc(Cl)c(Cl)c([N+](=O)[O-])c2[nH]c1=O  1  \n",
            "1417  C[S+](CC[C@H](N)C(=O)[O-])C[C@H]1O[C@@H](n2cnc...  1  \n",
            "1418        CC(Cc1ccccc1)n1cc([N-]C(=O)Nc2ccccc2)[o+]n1  1  \n",
            "1419  CCc1c(C)[n+]([NH-])c(-c2ccc(OC)c(OC)c2)c2cc(OC...  1  \n",
            "1420  [N-]=[N+]=NCC(=O)N[C@H](CO)[C@H](O)c1ccc([N+](...  1  \n",
            "\n",
            "[1421 rows x 3 columns], 'valid':               Drug_ID                                               Drug  Y\n",
            "0          timiperone  O=C(CCCN1CCC(n2c(=S)[nH]c3ccccc32)CC1)c1ccc(F)cc1  1\n",
            "1         compound 32                 O=[N+]([O-])C1=CC=NC1NCCSCc1ccccn1  1\n",
            "2          ketorfanol  O=C1CC[C@H]2[C@H]3Cc4cccc(O)c4[C@@]2(CCN3CC2CC...  1\n",
            "3           phenytoin                  O=C1NC(=O)C(c2ccccc2)(c2ccccc2)N1  1\n",
            "4          fluocortin  CCCCOC(=O)C(=O)C1C(C)CC2C3CC(F)C4=CC(=O)C=CC4(...  1\n",
            "..                ...                                                ... ..\n",
            "198       sibopirdine       O.c1cncc(CC2(Cc3ccncc3)c3cccnc3-c3ncccc32)c1  1\n",
            "199      Sulfadiazine                      Nc1ccc(S(=O)(=O)Nc2ncccn2)cc1  1\n",
            "200  2-methylpropanol                                            CC(C)CO  1\n",
            "201     thialbarbital                  C=CCC1(C2C=CCCC2)C(=O)NC(=S)NC1=O  1\n",
            "202     hydroxindasol              COc1ccc(Cn2c(C)c(CCN)c3cc(O)ccc32)cc1  1\n",
            "\n",
            "[203 rows x 3 columns], 'test':            Drug_ID                                               Drug  Y\n",
            "0       mevastatin  CC[C@H](C)C(=O)O[C@H]1CCC=C2C=C[C@H](C)[C@H](C...  1\n",
            "1        anseculin  COc1cc2oc(=O)c(C)c(C)c2cc1OCCCN1CCN(c2ccccc2OC...  1\n",
            "2       moxalactam  CO[C@@]1(NC(=O)C(C(=O)O)c2ccc(O)cc2)C(=O)N2C(C...  0\n",
            "3        taclamine                 c1ccc2c(c1)CCc1cccc3c1C2CN1CCCCC31  1\n",
            "4        indriline                    CN(C)CCC1(c2ccccc2)C=Cc2ccccc21  1\n",
            "..             ...                                                ... ..\n",
            "401       rifamide  CCN(CC)C(=O)COc1cc2c(O)c3c(O)c(C)c4c(c13)C(=O)...  0\n",
            "402       BRL52871    O=C(Cc1ccc(Cl)c(Cl)c1)N1CCc2sccc2[C@H]1CN1CCCC1  1\n",
            "403  hydromorphone  CN1CC[C@]23c4c5ccc(O)c4O[C@H]2C(=O)CC[C@H]3[C@...  1\n",
            "404     suritozole                        Cn1nc(-c2cccc(F)c2)n(C)c1=S  1\n",
            "405      tofisopam   CCC1C(C)=NN=C(c2ccc(OC)c(OC)c2)c2cc(OC)c(OC)cc21  1\n",
            "\n",
            "[406 rows x 3 columns]}\n",
            "Terbutylchlorambucil\n"
          ]
        }
      ]
    },
    {
      "cell_type": "code",
      "source": [
        "\"\"\"print(split[\"train\"])\n",
        "print(split[\"test\"])\n",
        "print(split[\"valid\"])\"\"\"\n",
        "trainDataSize=len(split[\"train\"])\n",
        "testDataSize=len(split[\"test\"])\n",
        "validDataSize=len(split[\"valid\"])\n",
        "\"\"\"print(type(data))\n",
        "print(type(split[]))\n",
        "print(len(split[\"train\"][\"Drug\"][456]))\n",
        "print(split[\"train\"][\"Drug\"][456])\"\"\"\n",
        "\"\"\"print(split[\"train\"][\"Drug_ID\"])\n",
        "print(split[\"train\"][\"Drug\"])\n",
        "print(split[\"train\"][\"Y\"])\n",
        "print(split[\"valid\"][\"Drug_ID\"])\n",
        "print(split[\"valid\"][\"Drug\"])\n",
        "print(split[\"valid\"][\"Y\"])\n",
        "print(split[\"test\"][\"Drug_ID\"])\n",
        "print(split[\"test\"][\"Drug\"])\n",
        "print(split[\"test\"][\"Y\"])\"\"\""
      ],
      "metadata": {
        "id": "wLCpb_HLUIMx",
        "colab": {
          "base_uri": "https://localhost:8080/",
          "height": 53
        },
        "outputId": "0a0c10c9-126d-4900-abbd-4ef6ac37dd5d"
      },
      "execution_count": null,
      "outputs": [
        {
          "output_type": "execute_result",
          "data": {
            "text/plain": [
              "'print(split[\"train\"][\"Drug_ID\"])\\nprint(split[\"train\"][\"Drug\"])\\nprint(split[\"train\"][\"Y\"])\\nprint(split[\"valid\"][\"Drug_ID\"])\\nprint(split[\"valid\"][\"Drug\"])\\nprint(split[\"valid\"][\"Y\"])\\nprint(split[\"test\"][\"Drug_ID\"])\\nprint(split[\"test\"][\"Drug\"])\\nprint(split[\"test\"][\"Y\"])'"
            ],
            "application/vnd.google.colaboratory.intrinsic+json": {
              "type": "string"
            }
          },
          "metadata": {},
          "execution_count": 4
        }
      ]
    },
    {
      "cell_type": "code",
      "source": [
        "import csv\n",
        "i=0  \n",
        "with open('/content/drive/MyDrive/bioinformatic/project/train.txt', 'w') as f:\n",
        "  while(i<trainDataSize):\n",
        "    f.write(str(i)+\"- DrugID: |\"+str(split[\"train\"][\"Drug_ID\"][i])+\"|  Drug: |\"+str(split[\"train\"][\"Drug\"][i])+\"|  Label: |\"+str(split[\"train\"][\"Y\"][i])+\"|\\n\")\n",
        "    i=i+1\n",
        " "
      ],
      "metadata": {
        "id": "o-KFHQNifQO3"
      },
      "execution_count": null,
      "outputs": []
    },
    {
      "cell_type": "code",
      "source": [
        "import csv\n",
        "i=0  \n",
        "with open('/content/drive/MyDrive/bioinformatic/project/test.txt', 'w') as f:\n",
        "  while(i<testDataSize):\n",
        "    f.write(str(i)+\"- DrugID: |\"+str(split[\"test\"][\"Drug_ID\"][i])+\"|  Drug: |\"+str(split[\"test\"][\"Drug\"][i])+\"|  Label: |\"+str(split[\"test\"][\"Y\"][i])+\"|\\n\")\n",
        "    i=i+1"
      ],
      "metadata": {
        "id": "bEUodovphRLh"
      },
      "execution_count": null,
      "outputs": []
    },
    {
      "cell_type": "code",
      "source": [
        "import csv\n",
        "i=0  \n",
        "with open('/content/drive/MyDrive/bioinformatic/project/validation.txt', 'w') as f:\n",
        "  while(i<validDataSize):\n",
        "    f.write(str(i)+\"- DrugID:|\"+str(split[\"valid\"][\"Drug_ID\"][i])+\"|  Drug: |\"+str(split[\"valid\"][\"Drug\"][i])+\"|  Label: |\"+str(split[\"valid\"][\"Y\"][i])+\"|\\n\")\n",
        "    i=i+1"
      ],
      "metadata": {
        "id": "zlF1wC1UhhyR"
      },
      "execution_count": null,
      "outputs": []
    },
    {
      "cell_type": "code",
      "source": [
        "\n",
        "file1 = open('/content/drive/MyDrive/bioinformatic/project/validation.txt', 'r')\n",
        "lines = file1.readlines()\n",
        "print(lines[0])\n",
        "print(lines[0].split(\"|\"))\n"
      ],
      "metadata": {
        "colab": {
          "base_uri": "https://localhost:8080/"
        },
        "id": "6vJtcEh9ai3L",
        "outputId": "78028f79-570d-4b49-805c-647db5c2f32b"
      },
      "execution_count": null,
      "outputs": [
        {
          "output_type": "stream",
          "name": "stdout",
          "text": [
            "0- DrugID:|timiperone|  Drug: |O=C(CCCN1CCC(n2c(=S)[nH]c3ccccc32)CC1)c1ccc(F)cc1|  Label: |1|\n",
            "\n",
            "['0- DrugID:', 'timiperone', '  Drug: ', 'O=C(CCCN1CCC(n2c(=S)[nH]c3ccccc32)CC1)c1ccc(F)cc1', '  Label: ', '1', '\\n']\n"
          ]
        }
      ]
    },
    {
      "cell_type": "code",
      "source": [
        "file1 = open('/content/drive/MyDrive/bioinformatic/project/train.txt', 'r')\n",
        "lines = file1.readlines()\n",
        "trainDrugID=[0]*trainDataSize\n",
        "trainDrug=[0]*trainDataSize\n",
        "trainLabel=[0]*trainDataSize\n",
        "count = 0\n",
        "stringVectorArray=[]\n",
        "# Strips the newline character\n",
        "for line in lines:\n",
        "    trainDrugID[count]=line.split(\"|\")[1]\n",
        "    trainDrug[count]=line.split(\"|\")[3]\n",
        "    trainLabel[count]=line.split(\"|\")[5]\n",
        "    stringVectorArray.append(trainDrug[count])\n",
        "    count += 1"
      ],
      "metadata": {
        "id": "uA2BVPCheETR"
      },
      "execution_count": null,
      "outputs": []
    },
    {
      "cell_type": "code",
      "source": [
        "file1 = open('/content/drive/MyDrive/bioinformatic/project/validation.txt', 'r')\n",
        "lines = file1.readlines()\n",
        "validationDrugID=[0]*validDataSize\n",
        "validationDrug=[0]*validDataSize\n",
        "validationLabel=[0]*validDataSize\n",
        "count = 0\n",
        "# Strips the newline character\n",
        "for line in lines:\n",
        "    validationDrugID[count]=line.split(\"|\")[1]\n",
        "    validationDrug[count]=line.split(\"|\")[3]\n",
        "    validationLabel[count]=line.split(\"|\")[5]\n",
        "    stringVectorArray.append(validationDrug[count])\n",
        "    count += 1"
      ],
      "metadata": {
        "id": "JzbY7hfqegb1"
      },
      "execution_count": null,
      "outputs": []
    },
    {
      "cell_type": "code",
      "source": [
        "file1 = open('/content/drive/MyDrive/bioinformatic/project/test.txt', 'r')\n",
        "lines = file1.readlines()\n",
        "testDrugID=[0]*testDataSize\n",
        "testDrug=[0]*testDataSize\n",
        "testLabel=[0]*testDataSize\n",
        "count = 0\n",
        "# Strips the newline character\n",
        "for line in lines:\n",
        "    testDrugID[count]=line.split(\"|\")[1]\n",
        "    testDrug[count]=line.split(\"|\")[3]\n",
        "    testLabel[count]=line.split(\"|\")[5]\n",
        "    stringVectorArray.append(testDrug[count])\n",
        "    count += 1\n",
        "\n",
        "print(type(testLabel[0]))\n",
        "print(testLabel[0])"
      ],
      "metadata": {
        "id": "kiqaWlzLcoHH",
        "colab": {
          "base_uri": "https://localhost:8080/"
        },
        "outputId": "a555e0f0-fc41-464b-f722-c9ec46b3bf72"
      },
      "execution_count": null,
      "outputs": [
        {
          "output_type": "stream",
          "name": "stdout",
          "text": [
            "<class 'str'>\n",
            "1\n"
          ]
        }
      ]
    },
    {
      "cell_type": "code",
      "source": [
        "print(stringVectorArray)\n",
        "print(len(stringVectorArray))"
      ],
      "metadata": {
        "colab": {
          "base_uri": "https://localhost:8080/"
        },
        "id": "pAEf9eUTT9b_",
        "outputId": "3d77e70d-be68-4526-e07b-2cd2454326f2"
      },
      "execution_count": null,
      "outputs": [
        {
          "output_type": "stream",
          "name": "stdout",
          "text": [
            "['CC(C)(C)OC(=O)CCCc1ccc(N(CCCl)CCCl)cc1', 'CC1COc2c(N3CCN(C)CC3)c(F)cc3c(=O)c(C(=O)O)cn1c23', 'Cc1onc(-c2ccccc2Cl)c1C(=O)N[C@@H]1C(=O)N2[C@@H](C(=O)O)C(C)(C)S[C@H]12', 'CCN1CCN(C(=O)N[C@@H](C(=O)N[C@@H]2C(=O)N3C(C(=O)O)=C(CSc4nnnn4C)CS[C@H]23)c2ccc(O)cc2)C(=O)C1=O', 'CN(C)[C@@H]1C(=O)/C(=C(/O)NCN2CCCC2)C(=O)[C@@]2(O)C(=O)C3=C(O)c4c(O)cccc4[C@@](C)(O)[C@H]3C[C@@H]12', 'Cc1nccn1CC1CCc2c(c3ccccc3n2C)C1=O', 'NC(N)=NC(=O)c1nc(Cl)c(N)nc1N', 'CN1Cc2c(-c3noc(C(C)(O)CO)n3)ncn2-c2cccc(Cl)c2C1=O', 'Cc1cn([C@H]2C[C@H](F)[C@@H](CO)O2)c(=O)[nH]c1=O', 'ClCCl', 'CC(C)(C)NC(=O)C1CC2CCCCC2CN1CC(O)C(Cc1ccccc1)NC(=O)C(CC(N)=O)NC(=O)c1ccc2ccccc2n1', 'CCC(=O)C(CC(C)N(C)C)(c1ccccc1)c1ccccc1', 'CCC(=O)N(c1ccccc1)C1(COC)CCN(CCn2nnn(CC)c2=O)CC1', 'CN(C)C(=O)C(CCN1CCC(O)(c2ccc(Cl)cc2)CC1)(c1ccccc1)c1ccccc1', 'CN1C2CCC1CC(OC(=O)[C@H](CO)c1ccccc1)C2', 'COc1ccc(Cl)cc1C(=O)NCCc1ccc(S(=O)(=O)NC(=O)NC2CCCCC2)cc1', 'Nc1nnc(-c2cccc(Cl)c2Cl)c(N)n1', 'CCCC(C)C', 'C[C@H](N)Cc1ccccc1', 'CN(C)Cc1ccc(CSCCNc2nc(=O)c(Cc3ccc4ccccc4c3)c[nH]2)o1', 'CCC(=O)N(c1ccccc1)C1(COC)CCN(CCc2cccs2)CC1', 'CCNC(=NC#N)NCCSCc1ncccc1Br', 'Cc1ccc(-c2nc3ccc(C)cn3c2CC(=O)N(C)C)cc1', 'CN1CCN(C2=c3ccccc3=Nc3ccc(Cl)cc3N2)CC1', 'FC(F)(F)c1ccc(N2CCNCC2)nc1Cl', 'C[C@H]1COc2c(N3CCN(C)CC3)c(F)cc3c(=O)c(C(=O)O)cn1c23', 'CN1Cc2c(C(=O)OC(C)(C)C)ncn2-c2ccsc2C1=O', 'CCOC(=O)c1cncn1C(C)c1ccccc1', 'CN(C)c1cc(-c2nc(N)n[nH]2)ccn1', 'CN1CCN(CCCN2c3ccccc3Sc3ccc(Cl)cc32)CC1', 'Nc1ccc(-c2nc3ccc(O)cc3s2)cc1I', 'CN1[C@H]2CCC[C@@H]1CC(NC(=O)c1nn(C)c3ccccc13)C2', 'CS(=O)(=O)c1ccc([C@@H](O)[C@@H](CO)NC(=O)C(Cl)Cl)cc1', 'Cc1cccc(C)c1OCC(C)N', 'CN(C)Cc1ccc(-c2cccc(NC3N=CC=C3[N+](=O)[O-])c2)o1', 'Cn1nnnc1SCC1=C(C(=O)O)N2C(=O)[C@@H](NC(=O)[C@H](O)c3ccccc3)[C@H]2SC1', 'CN(C)CCc1ccccn1', 'C=C[C@H]1CN2CC[C@H]1C[C@@H]2[C@@H](O)c1ccnc2ccc(OC)cc12', 'CCc1ccccc1', 'NC(N)=Nc1nc(-c2cccc(N)c2)cs1', 'CC[C@]1(O)C[C@H]2CN(CCc3c([nH]c4ccccc34)[C@@](C(=O)OC)(c3cc4c(cc3OC)N(C)[C@H]3[C@@](O)(C(=O)OC)[C@H](OC(C)=O)[C@]5(CC)C=CCN6CC[C@]43[C@@H]65)C2)C1', 'CCCC(=O)Nc1ccc(OCC(O)CNC(C)C)c(C(C)=O)c1', 'NCCCN1c2ccccc2Sc2ccc(Cl)cc21', 'CNCCc1ccccn1', 'CC[C@]1(O)C[C@H]2CN(CCc3c([nH]c4ccccc34)[C@@](C(=O)OC)(c3cc4c(cc3OC)N(C=O)[C@H]3[C@@](O)(C(=O)OC)[C@H](OC(C)=O)[C@]5(CC)C=CCN6CC[C@]43[C@@H]65)C2)C1', 'CCC(NC(=O)c1c(C)c(-c2ccccc2)nc2ccccc12)c1ccccc1', 'O=S(=O)(c1ccc2cc[nH]c2c1)N1CCCC1CCN1CCC(Oc2cccc(Cl)c2)CC1', 'CN1Cc2c(-c3noc(C(C)(C)O)n3)ncn2-c2cccc(Cl)c2C1=O', 'NC(=O)N1c2ccccc2C2OC2c2ccccc21', 'CCCN(CCC)CCc1ccc(O)c2c1CC(=O)N2', 'CN1CC2c3ccccc3Oc3ccc(Cl)cc3C2C1', 'CO/N=C(\\\\C(=O)N[C@@H]1C(=O)N2C(C(=O)O)=C(COC(N)=O)CS[C@H]12)c1ccco1', 'c1cc(CN2CCCCC2)cc(OCCCNc2nc3ccccc3o2)c1', 'NCCc1cn2ccccc2n1', 'Cc1ncc([N+](=O)[O-])n1CC(O)CCl', 'CCCN(CCC)CCc1cccc2c1CC(=O)N2', 'Clc1ccc2c(c1)C1CNCC1c1ccccc1O2', 'CO/N=C(\\\\C(=O)N[C@@H]1C(=O)N2C(C(=O)O)=C(CSc3nc(=O)c(=O)[nH]n3C)CS[C@H]12)c1csc(N)n1', 'c1ccc(NCCCOc2cccc(CN3CCCCC3)c2)nc1', 'Cc1cccc2c1Oc1ccccc1C1(O)CCNCC21', 'O=[N+]([O-])C1=CC=NC1NCCSCc1ncccc1Br', 'COc1cc2c(c(OC)c1OC)-c1ccc(OC)c(=O)cc1C(NC(C)=O)CC2', 'OCCCOc1cccc(CN2CCCCC2)c1', 'Cc1ncsc1CCCl', 'CCN(CC)C(=O)Nc1ccc(OCC(O)CNC(C)(C)C)c(C(C)=O)c1', 'FC(F)(F)CCl', 'CO[C@@]1(NC(=O)Cc2cccs2)C(=O)N2C(C(=O)O)=C(COC(N)=O)CS[C@@H]21', 'C=CCC(N)c1ccccc1-c1noc2ccccc12', 'Cc1nc2n(c(=O)c1CCN1CCC(c3noc4cc(F)ccc34)CC1)CCCC2O', 'CC(=O)Nc1ccc(O)cc1', 'Cn1c(=O)c2[nH]cnc2n(C)c1=O.Cn1c(=O)c2[nH]cnc2n(C)c1=O.NCCN', 'CCCCc1oc2ccccc2c1C(=O)c1cc(I)c(OCCN(CC)CC)c(I)c1', 'CC1(C)S[C@@H]2[C@H](NC(=O)[C@H](N)c3ccc(O)cc3)C(=O)N2[C@H]1C(=O)O.O.O.O', 'CC1(C)S[C@@H]2[C@H](NC(=O)[C@H](N)c3ccccc3)C(=O)N2[C@H]1C(=O)O', 'C[C@]1(O)CC[C@H]2[C@@H]3CCC4=CC(=O)CC[C@]4(C)[C@H]3CC[C@@]21C', 'FC(F)(F)c1ccc2c(c1)N(CCCN1CCN(CCC3OCCCO3)CC1)c1ccccc1S2.O=C(O)CCC(=O)O', 'O=C1Nc2ccc(Cl)cc2C(c2ccccc2)=NC1O', 'O=c1[nH]c2ccccc2n1C1CCN(CCOc2ccccc2)CC1', 'CN1CC[C@]23c4c5ccc(O)c4O[C@H]2C(=O)CC[C@@]3(O)[C@H]1C5', 'NC1=NC(=O)C(c2ccccc2)O1', 'CCc1cc(C(N)=S)ccn1', 'NC(N)=Nc1nc(CSCCC(N)=NS(N)(=O)=O)cs1', 'OC(Cn1cncn1)(Cn1cncn1)c1ccc(F)cc1F', 'O=C([O-])P(=O)([O-])[O-].[Na+].[Na+].[Na+]', 'NCC1(CC(=O)O)CCCCC1', 'CCn1cc(C(=O)O)c(=O)c2ccc(C)nc21', 'Cc1c(O)cccc1C(=O)N[C@@H](CSc1ccccc1)[C@H](O)CN1C[C@H]2CCCC[C@H]2C[C@H]1C(=O)NC(C)(C)C', 'CN(C)[C@@H]1C(=O)/C(=C(\\\\N)O)C(=O)[C@@]2(O)C(=O)C3=C(O)c4c(O)ccc(Cl)c4[C@@](C)(O)[C@H]3C[C@@H]12.[Cl-].[H+]', 'C[C@H]1C[C@H]2[C@@H]3CCC4=CC(=O)C=C[C@]4(C)[C@@]3(F)[C@@H](O)C[C@]2(C)[C@@]1(O)C(=O)CO', 'Cc1nnc(SCC2=C(C(=O)[O-])N3C(=O)[C@@H](NC(=O)Cn4cnnn4)[C@H]3SC2)s1.[Na+]', 'CC(=O)OCC1=C(C(=O)O)N2C(=O)[C@@H](NC(=O)CSc3ccncc3)[C@H]2SC1', 'O=C(O)CCCc1ccc(N(CCCl)CCCl)cc1', 'CCCN1C[C@H](CSC)C[C@@H]2c3cccc4[nH]cc(c34)C[C@H]21', 'c1ccc(C2(N3CCCCC3)CCCCC2)cc1', 'NNCCc1ccccc1.O=S(=O)(O)O', 'NC(=O)OCCCc1ccccc1', 'CNC(=O)Oc1ccc2c(c1)[C@]1(C)CCN(C)[C@@H]1N2C', 'NCC(O)c1ccc(O)c(O)c1', 'Cc1onc(-c2ccccc2)c1C(=O)N[C@@H]1C(=O)N2[C@@H](C(=O)O)C(C)(C)S[C@H]12', 'OC[C@H]1O[C@@H](n2cnc3c2NC=NC[C@H]3O)C[C@@H]1O', 'CC1(C)S[C@@H]2[C@H](NC(=O)COc3ccccc3)C(=O)N2[C@H]1C(=O)[O-]', 'O=C(NC(CO)C(O)c1ccc([N+](=O)[O-])cc1)C(Cl)Cl', 'NS(=O)(=O)c1cc2c(cc1Cl)NC=NS2(=O)=O', 'CCCNC(=O)NS(=O)(=O)c1ccc(Cl)cc1', 'CN(C)[C@@H]1C(=O)/C(=C(\\\\N)O)C(=O)[C@@]2(O)C(=O)C3=C(O)c4c(O)ccc(Cl)c4[C@@](C)(O)[C@H]3C[C@@H]12', 'NS(=O)(=O)c1cc(C2(O)NC(=O)c3ccccc32)ccc1Cl', 'CCOC(=O)C(C)(C)Oc1ccc(Cl)cc1', 'CC(C)(Oc1ccc(Cl)cc1)C(=O)O', 'C[C@]12C[C@H](O)[C@H]3[C@@H](CCC4=CC(=O)CC[C@@]43C)[C@@H]1CC[C@@H]2C(=O)CO', 'C[C@]12CC(=O)[C@H]3[C@@H](CCC4=CC(=O)CC[C@@]43C)[C@@H]1CC[C@]2(O)C(=O)CO', 'OCCC1CCN(CC/C=C2\\\\c3ccc(F)cc3Sc3ccc(C(F)(F)F)cc32)CC1', 'O=c1[nH]c2ccccc2n1C1CCN(CCCC(c2ccc(F)cc2)c2ccc(F)cc2)CC1', 'OCCN1CCN(CC/C=C2/c3ccccc3COc3ccc(Cl)cc32)CC1', 'NC(=O)C1(N2CCCCC2)CCN(CCCC(=O)c2ccc(F)cc2)CC1', 'O=C1CN=C(c2ccccc2)c2cc(Cl)ccc2N1CC1CC1', 'CCN(CC)CCOC(=O)c1ccc(N)cc1', 'OC(CCN1CCCC1)(c1ccccc1)C1CCCCC1', 'CN(C)CCCN1c2ccccc2Sc2ccccc21', 'CC(C)NCC(O)COc1cccc2[nH]ccc12', 'CC[C@H](C)C(=O)O[C@H]1C[C@H](O)C=C2C=C[C@H](C)[C@H](CC[C@@H](O)C[C@@H](O)CC(=O)O)[C@H]21', 'O=C(C1CCCCC1)N1CC(=O)N2CCc3ccccc3C2C1', 'COc1cc(NCc2ccc3nc(N)nc(N)c3c2C)cc(OC)c1OC', 'NC1[C@@H]2CN(c3nc4c(cc3F)c(=O)c(C(=O)O)cn4-c3ccc(F)cc3F)C[C@H]12', 'O=c1ccc2ccccc2o1', 'Nc1ccc(S(=O)(=O)c2ccc(N)cc2)cc1', 'C[C@H](CCC(=O)O)[C@H]1CC[C@H]2[C@@H]3C(=O)C[C@@H]4CC(=O)CC[C@]4(C)[C@H]3CC(=O)[C@@]21C', 'O=c1c(Cc2c(O)oc3ccccc3c2=O)c(O)oc2ccccc12', 'CCN(CC)CCOC(=O)C1(C2CCCCC2)CCCCC1', 'CC/C(=C(/CC)c1ccc(O)cc1)c1ccc(O)cc1', 'C[C@H]1O[C@@H](O[C@H]2[C@@H](O)C[C@H](O[C@H]3[C@@H](O)C[C@H](O[C@H]4CC[C@]5(C)[C@H]6CC[C@]7(C)[C@H](C8=CC(=O)OC8)CC[C@]7(O)[C@@H]6CC[C@@H]5C4)O[C@@H]3C)O[C@@H]2C)C[C@H](O)[C@@H]1O', 'C[C@H]1O[C@@H](O[C@H]2[C@@H](O)C[C@H](O[C@H]3[C@@H](O)C[C@H](O[C@H]4CC[C@]5(C)[C@H]6C[C@@H](O)[C@]7(C)[C@@H](C8=CC(=O)OC8)CC[C@]7(O)[C@@H]6CC[C@@H]5C4)O[C@@H]3C)O[C@@H]2C)C[C@H](O)[C@@H]1O', 'O=c1[nH]c2ccccc2n1CCCN1CCC(n2c(=O)[nH]c3cc(Cl)ccc32)CC1', 'CCC(=O)c1ccc2c(c1)N(CC(C)N(C)C)c1ccccc1S2', 'CC(C)c1cccc(C(C)C)c1O', 'O=c1cc[nH]nc1', 'Fc1ccccc1C1=NCC(=S)N(CC(F)(F)F)c2ccc(Cl)cc21', 'COC(=O)[C@H]1[C@H]2C[C@@H]3c4[nH]c5cc(OC)ccc5c4CCN3C[C@H]2C[C@@H](OC(=O)/C=C/c2cc(OC)c(OC)c(OC)c2)[C@@H]1OC', 'COC(=O)[C@H]1[C@H]2C[C@@H]3c4[nH]c5cc(OC)ccc5c4CCN3C[C@H]2C[C@@H](OC(=O)c2cc(OC)c(OC)c(OC)c2)[C@@H]1OC', 'O=C1C(=O)c2ccccc2C(O)=C1C1CCC(c2ccc(Cl)cc2)CC1', 'CC[C@H]1OC(=O)[C@H](C)[C@@H](O[C@H]2C[C@@](C)(OC)[C@@H](O)[C@H](C)O2)C(C)[C@@H](O[C@@H]2O[C@H](C)C[C@H](N(C)C)[C@H]2O)[C@](C)(O)C[C@@H](C)CN(C)[C@H](C)[C@@H](O)[C@]1(C)O', 'CC(C[N+](C)(C)C)OC(N)=O.[Cl-]', 'CC[N+](C)(C)Cc1ccccc1Br.Cc1ccc(S(=O)(=O)[O-])cc1', 'CC(C)C[C@H]1C(=O)N2CCC[C@H]2[C@]2(O)O[C@](NC(=O)[C@@H]3C=C4c5cccc6[nH]c(Br)c(c56)C[C@H]4N(C)C3)(C(C)C)C(=O)N12', 'CO[C@]12CC[C@@]3(C[C@@H]1[C@](C)(O)C(C)(C)C)[C@H]1Cc4ccc(O)c5c4[C@@]3(CCN1CC1CC1)[C@H]2O5', 'COc1cccc2c1C(=O)c1c(O)c3c(c(O)c1C2=O)C[C@@](O)(C(=O)CO)C[C@@H]3O[C@H]1C[C@H](N)[C@H](O)[C@H](C)O1', 'CCCCOc1ccc(C(=O)CCN2CCCCC2)cc1.[Cl]', 'Clc1ccc(COC(Cn2ccnc2)c2ccc(Cl)cc2Cl)cc1', 'CC(C)[C@H](NC(=O)[C@H](Cc1ccccc1)NC(=O)CNC(=O)[C@@H](C)NC(=O)[C@@H](N)Cc1ccc(O)cc1)C(N)=O', 'CN[C@@H](C)[C@H](O)c1ccccc1', 'Nc1c2c(nc3ccccc13)CCCC2', 'CN1C(=O)C(O)N=C(c2ccccc2)c2cc(Cl)ccc21', 'COc1cc2c(cc1OC)C1CC(=O)C(CC(C)C)CN1CC2', 'CCCCCc1cc(O)c2c(c1)OC(C)(C)[C@@H]1CCC(C)=C[C@@H]21', 'COC1=CC=C2[C@H]3Cc4ccc(OC)c5c4[C@@]2(CCN3C)[C@H]1O5', 'N[C@@H]1C[C@H]1c1ccccc1.[Cl-].[H+]', 'O=c1n(CCCN2CCN(c3cccc(Cl)c3)CC2)nc2ccccn12', 'CS(=O)(=O)OCCCCOS(C)(=O)=O', 'CCN(CC)CCCC(C)Nc1ccnc2cc(Cl)ccc12', 'COc1cc(N)c(Cl)cc1C(=O)NC1CCN(CCCOc2ccc(F)cc2)CC1OC.O', 'Nc1nc(Cl)nc2c1ncn2[C@H]1C[C@H](O)[C@@H](CO)O1', 'C[N+]12CCC(CC1)C(OC(=O)C(O)(c1ccccc1)c1ccccc1)C2.[Br-]', 'C[C@]12CC[C@@H]3c4ccc(O)cc4CC[C@H]3[C@@H]1CCC2=O', 'C=C(CC)C(=O)c1ccc(OCC(=O)O)c(Cl)c1Cl', 'CC(Cc1ccc(O)cc1)NCC(O)c1cc(O)cc(O)c1', 'Cc1onc(-c2c(F)cccc2Cl)c1C(=O)N[C@@H]1C(=O)N2[C@@H](C(=O)O)C(C)(C)S[C@H]12', 'NS(=O)(=O)c1cc(C(=O)O)c(NCc2ccco2)cc1Cl', 'C[N+]1(C)CCC(OC(=O)C(O)(c2ccccc2)C2CCCC2)C1.[Br-]', 'CN(C)CCCN1c2ccccc2Sc2ccc(C(F)(F)F)cc21', 'OC(CCN1CCCCC1)(c1ccccc1)C1CCCCC1', 'COc1cc(C(=O)N2CCOCC2)cc(OC)c1OC', 'CC(CN(C)C)CN1c2ccccc2CCc2ccccc21', 'CCCCNC(=O)OCC(C)(CCC)COC(N)=O', 'O=c1ccn(C2OC(CO)C(O)C2O)c(=O)[nH]1', 'CN(C)C/C=C(/c1ccc(Br)cc1)c1cccnc1', 'NC1CONC1=O', 'NC(=O)NO', 'NC(N)=N/N=C/c1c(Cl)cccc1Cl', 'CN1C2CCC1CC(OC(=O)C(O)c1ccccc1)C2', 'NNc1nncc2ccccc12', 'NS(=O)(=O)c1cc2c(cc1Cl)NCNS2(=O)=O', 'C[C@]12C[C@H](O)[C@H]3[C@@H](CCC4=CC(=O)CC[C@@]43C)[C@@H]1CC[C@]2(O)C(=O)CO', 'NS(=O)(=O)c1cc2c(cc1C(F)(F)F)NCNS2(=O)=O', 'CC(C)Cc1ccc(C(C)C(=O)O)cc1', 'COc1ccc2c(c1)c(CC(=O)O)c(C)n2C(=O)c1ccc(Cl)cc1', 'CN1Cc2c(-c3noc([C@](C)(O)CO)n3)ncn2-c2cccc(Cl)c2C1=O', 'NCCc1cn2ccccc2n1', 'Cc1nc2n(c(=O)c1CCN1CCC(c3noc4cc(F)ccc34)CC1)CCC[C@H]2O', 'Cc1nnc2n1-c1ccc(Cl)cc1C(c1ccccc1)=NC2', 'O=NN(CCCl)C(=O)NCCCl', 'NCC1OC(OC2C(N)CC(N)C(OC3OC(CO)C(O)C(N)C3O)C2O)C(O)C(O)C1O', 'CC(C(=O)O)c1cccc(C(=O)c2ccccc2)c1', 'O=C(c1ccccc1)c1ccc2n1CCC2C(=O)O', 'C[C@H](N)[C@H](O)c1cccc(O)c1', 'CC(C)NCC(O)c1ccc(O)c(O)c1', 'CC(=O)N1CCN(c2ccc(OC[C@H]3CO[C@](Cn4ccnc4)(c4ccc(Cl)cc4Cl)O3)cc2)CC1', 'CC(CCc1ccccc1)NCC(O)c1ccc(O)c(C(N)=O)c1', 'N[C@@H](Cc1ccc(O)c(O)c1)C(=O)O', 'C=C1c2c(Cl)ccc(O)c2C(O)=C2C(=O)C3(O)C(=O)/C(=C(/N)O)C(=O)C(N(C)C)C3C(O)C12', 'Cc1ccc(Cl)c(Nc2ccccc2C(=O)O)c1Cl', 'Cc1cccc(Nc2ccccc2C(=O)O)c1C', 'CN=C(NC#N)NCCSCc1nc[nH]c1C', 'O=c1nc[nH]c2c1ncn2[C@H]1CC[C@@H](CO)O1', 'COCCc1ccc(OCC(O)CNC(C)C)cc1', 'CC#C[C@]1(O)CC[C@H]2[C@@H]3CCC4=CC(=O)CCC4=C3[C@@H](c3ccc(N(C)C)cc3)C[C@@]21C', 'CN(C)c1ccc(O)c2c1C[C@H]1C[C@H]3[C@H](N(C)C)C(O)=C(C(N)=O)C(=O)[C@@]3(O)C(O)=C1C2=O', 'O=C(NCCN1CCOCC1)c1ccc(Cl)cc1', 'CC(C)[N+](C)(CCOC(=O)C1c2ccccc2Oc2ccccc21)C(C)C.[Br-]', 'NC(=O)c1cnccn1', 'CN(C)C(=O)Oc1ccc[n+](C)c1.[Br-]', 'CCc1nc(N)nc(N)c1-c1ccc(Cl)cc1', 'c1ccc2c(c1)Sc1ccccc1N2CC1CN2CCC1CC2', 'C#C[C@]1(O)CC[C@H]2[C@@H]3CCc4cc(OC)ccc4[C@H]3CC[C@@]21C', 'CN(Cc1cnc2nc(N)nc(N)c2n1)c1ccc(C(=O)N[C@@H](CCC(=O)O)C(=O)O)cc1', 'CC(C)c1nc(-c2ncn3c2CN(C)C(=O)c2c(Cl)cccc2-3)no1', 'Cc1ccc(Cc2cnc(NCCSCc3ccc(C(C)(C)N)o3)[nH]c2=O)cn1', 'CN1CCN2c3ccccc3Cc3ccccc3C2C1', 'CC(C)c1nc(CN(C)C(=O)N[C@H](C(=O)N[C@@H](Cc2ccccc2)C[C@H](O)[C@H](Cc2ccccc2)NC(=O)OCc2cncs2)C(C)C)cs1', 'CC(C)(C)NC(=O)[C@@H]1C[C@@H]2CCCC[C@@H]2CN1C[C@@H](O)[C@H](Cc1ccccc1)NC(=O)[C@H](CC(N)=O)NC(=O)c1ccc2ccccc2n1', 'FCOC(C(F)(F)F)C(F)(F)F', 'CC(=O)Nc1c(I)c(NC(C)=O)c(I)c(C(=O)[O-])c1I.[Na+]', 'Cc1cn([C@H]2C=C[C@@H](CO)O2)c(=O)[nH]c1=O', 'CN[C@@H]1[C@H](O[C@H]2[C@H](O[C@@H]3[C@@H](N=C(N)N)[C@H](O)[C@@H](N=C(N)N)[C@H](O)[C@H]3O)O[C@@H](C)[C@]2(O)C=O)O[C@@H](CO)[C@H](O)[C@H]1O', 'Cc1noc(NS(=O)(=O)c2ccc(N)cc2)c1C', 'C[C@]12CC[C@@H]3[C@H]4CCC(=O)C=C4CC[C@H]3[C@@H]1CC[C@@H]2O', 'OCc1cccnc1', 'C#C[C@]1(O)CC[C@H]2[C@@H]3CCC4=CC(=O)CC[C@@H]4[C@H]3CC[C@@]21C', 'NCC(O)c1cccc(O)c1', 'CC(CCc1ccccc1)NC(C)C(O)c1ccc(O)cc1', 'C[C@]12COC(=O)C[C@@H]1CC[C@@H]1[C@@H]2CC[C@@]2(C)[C@H]1CC[C@]2(C)O', 'O=C(O)CCc1nc(-c2ccccc2)c(-c2ccccc2)o1', 'FC(F)(F)c1ccc(N2CCNCC2)nc1Cl', 'Clc1ccc2c(c1)[C@H]1CNC[C@H]1c1ccccc1O2', 'Cc1cccc2c1Oc1ccccc1[C@@]1(O)CCNC[C@H]21', 'C=CC[C@H](N)c1ccccc1-c1noc2ccccc12', 'Cc1cccc2c1Oc1ccccc1[C@@]1(O)CCN(C)C[C@H]21', 'CN/C(=C\\\\[N+](=O)[O-])NCCSCc1ccc(CN(C)C)o1', 'Cc1cc(NS(=O)(=O)c2ccc(N)cc2)no1', 'CC/C(=C(\\\\c1ccccc1)c1ccc(OCCN(C)C)cc1)c1ccccc1', 'CC[C@@]1(O)C(=O)OCc2c1cc1n(c2=O)Cc2cc3c(CN(C)C)c(O)ccc3nc2-1', 'NS(=O)(=O)Cc1noc2ccccc12', 'C[C@@H]1OC(=O)C[C@H](O)C[C@H](O)CC[C@@H](O)[C@H](O)C[C@H](O)C[C@]2(O)C[C@H](O)[C@@H](C(=O)O)[C@H](C[C@@H](O[C@@H]3O[C@H](C)[C@@H](O)[C@H](N)[C@@H]3O)/C=C\\\\C=C/C=C\\\\C=C/C=C\\\\C=C/C=C\\\\[C@H](C)[C@@H](O)[C@H]1C)O2', 'Nc1nc(=O)c2c([nH]1)NCC(CNc1ccc(C(=O)N[C@@H](CCC(=O)[O-])C(=O)[O-])cc1)N2C=O.[Ca+2]', 'CN(C)[C@@H]1C(=O)/C(=C(\\\\N)O)C(=O)[C@@]2(O)C(=O)C3=C(O)c4c(O)cccc4[C@@](C)(O)[C@H]3[C@H](O)[C@@H]12.O.O', 'COc1ccc(Cc2nccc3cc(OC)c(OC)cc23)cc1OC', 'CC(COc1ccccc1)N(CCCl)Cc1ccccc1', 'CCCCC1C(=O)N(c2ccccc2)N(c2ccccc2)C1=O', 'CC(C)(C)NCC(O)c1ccc(O)c(CO)n1', 'CN1CC[C@@]2(C)c3cc(OC(=O)Nc4ccccc4)ccc3N(C)[C@@H]12', 'CC(C)(O/N=C(\\\\C(=O)N[C@@H]1C(=O)N2C(C(=O)[O-])=C(C[n+]3ccccc3)CS[C@H]12)c1csc(N)n1)C(=O)O', 'Nc1[nH]c(=O)ncc1F', 'O=NN(CCCl)C(=O)NC1CCCCC1', 'S=P(N1CC1)(N1CC1)N1CC1', 'CN[C@H](CC(C)C)C(=O)NC1C(=O)N[C@@H](CC(N)=O)C(=O)N[C@H]2C(=O)N[C@H]3C(=O)N[C@H](C(=O)N[C@@H](C(=O)O)c4cc(O)cc(O)c4-c4cc3ccc4O)[C@H](O)c3ccc(c(Cl)c3)Oc3cc2cc(c3O[C@@H]2O[C@H](CO)[C@@H](O)[C@H](O)[C@H]2O[C@H]2C[C@](C)(N)[C@H](O)[C@H](C)O2)Oc2ccc(cc2Cl)[C@H]1O', 'CN1C(CSCC(F)(F)F)Nc2cc(Cl)c(S(N)(=O)=O)cc2S1(=O)=O', 'C[C@]12C[C@H](O)[C@H]3[C@@H](CCC4=CC(=O)C=C[C@@]43C)[C@@H]1CC[C@]2(O)C(=O)CO', 'C[C@]12CC(=O)[C@H]3[C@@H](CCC4=CC(=O)C=C[C@@]43C)[C@@H]1CC[C@]2(O)C(=O)CO', 'CC(=O)[C@H]1CC[C@H]2[C@@H]3CCC4=CC(=O)CC[C@]4(C)[C@H]3CC[C@]12C', 'CC(C)NCC(O)COc1cccc2ccccc12', 'CC1OC(O[C@@H]2C=C3CC[C@@H]4[C@H](CC[C@]5(C)[C@@H](c6ccc(=O)oc6)CC[C@]45O)[C@@]3(C)CC2)C(O)C(O)C1O', 'COc1ccc(C[C@H](N)C(=O)NC2[C@@H](CO)O[C@@H](n3cnc4c(N(C)C)ncnc43)[C@@H]2O)cc1', 'CN=C(NC#N)NCCSCc1csc(N=C(N)N)n1', 'O=C(O)/C=C\\\\C(=O)O.O=C(O)/C=C\\\\C(=O)O.c1cc(CN2CCCCC2)cc(OCCCNc2nc3ccccc3s2)c1', 'CCC(C)(C)C', 'Nc1ncnc2c1ncn2C1OC(CO)C(O)C1O', 'CN1Cc2c(-c3noc(C(C)(CO)CO)n3)ncn2-c2cccc(Cl)c2C1=O', 'CN1Cc2c(-c3noc(C(C)(C)O)n3)ncn2-c2cccc(Cl)c2C1=O', 'S=C(NC1CCCCC1)N1CCC(c2cnc[nH]2)CC1', 'COC1C=COC2(C)Oc3c(C)c(O)c4c(c3C2=O)C(=O)C(=CNN2CCN(C)CC2)C(=C4O)NC(=O)C(C)=CC=CC(C)C(O)C(C)C(O)C(C)C(OC(C)=O)C1C', 'O=C(O)c1ccccc1O', 'C[C@]12Cc3cn[nH]c3C[C@@H]1CC[C@@H]1[C@@H]2CC[C@@]2(C)[C@H]1CC[C@]2(C)O', 'O=C(O)C1=C/C(=N\\\\Nc2ccc(S(=O)(=O)Nc3ccccn3)cc2)C=CC1=O', 'CC(C)N1CCN(c2ccc(OC[C@H]3CO[C@](Cn4cncn4)(c4ccc(Cl)cc4Cl)O3)cc2)CC1', 'C[C@]12CC[C@H]3[C@@H](CCC4=CC(=O)C=C[C@@]43C)[C@@H]1CCC(=O)O2', 'C[C@]12CC[C@H]3[C@@H](CCC4=CC(=O)CC[C@@]43C)[C@@H]1CC[C@@H]2O', 'CN(C)[C@@H]1C(=O)/C(=C(\\\\N)O)C(=O)[C@@]2(O)C(=O)C3=C(O)c4c(O)cccc4[C@@](C)(O)[C@H]3C[C@@H]12', 'CCCC(C)CC', 'CCC(C)CC', 'Cc1ncc2n1-c1ccc(Cl)cc1C(c1ccccc1F)=NC2O', 'Cc1c(N(C)C)c(=O)n(-c2ccccc2)n1C', 'CC(C)NCC(O)COc1ccc(CC(N)=O)cc1', 'c1ccccc1', 'CC(C)(C)OC(=O)c1ncn2c1[C@@H]1CCCN1C(=O)c1c(Br)cccc1-2', 'O=C(CCCN1CCC(O)(c2ccc(Br)cc2)CC1)c1ccc(F)cc1', 'OC(c1cc(C(F)(F)F)nc2c(C(F)(F)F)cccc12)C1CCCCN1', 'CC1COc2c(N3CCN(C)CC3)c(F)cc3c(=O)c(C(=O)O)cn1c23', 'C[C@]12CCC(=O)C=C1CC[C@@H]1[C@@H]2[C@@H](O)C[C@]2(C=O)[C@@H](C(=O)CO)CC[C@@H]12', 'O=C(Cc1ccc(Cl)c(Cl)c1)N1CCCC[C@H]1CN1CCCC1', 'O=C(Cc1ccc(C(F)(F)F)cc1)N1CCCC[C@H]1CN1CCCC1', 'Nc1nc(=S)c2[nH]cnc2[nH]1', 'Cc1ccc(S(=O)(=O)NC(=O)NN2CCCCCC2)cc1', 'C[C@]12C[C@H](O)[C@@]3(F)[C@@H](CCC4=CC(=O)C=C[C@@]43C)[C@@H]1C[C@@H](O)[C@]2(O)C(=O)CO', 'NS(=O)(=O)c1cc2c(cc1Cl)NC(C(Cl)Cl)NS2(=O)=O', 'CC(C)C1NC(=O)[C@@H](C(C)C)OC(=O)[C@H](C(C)C)NC(=O)[C@H](C)OC(=O)[C@@H](C(C)C)NC(=O)[C@@H](C(C)C)OC(=O)[C@H](C(C)C)NC(=O)[C@H](C)OC(=O)[C@@H](C(C)C)NC(=O)[C@@H](C(C)C)OC(=O)[C@H](C(C)C)NC(=O)[C@H](C)OC1=O', 'CC(=O)CC(c1ccccc1)c1c(O)oc2ccccc2c1=O', 'C1CC1', 'ClCCl', 'CCOCC', 'O=C(Cc1ccc(Cl)c(Cl)c1)N1CCc2[nH]cnc2[C@H]1CN1CCCC1', 'CC1(C)CCN(C(=O)Cc2ccc(Cl)c(Cl)c2)[C@@H](CN2CCCC2)C1', 'CC(C)(C(=O)O)c1ccc(C(=O)CCCN2CCC(OC(c3ccccc3)c3ccccc3)CC2)cc1', 'O=C(O)COCCN1CCN(C(c2ccccc2)c2ccc(Cl)cc2)CC1', 'CCc1c(O)c(=O)ccn1CCO', 'CCc1c(O)c(=O)ccn1CCCCO', 'COC(=O)[C@H]1[C@@H](O)CC[C@H]2CN3CCc4c([nH]c5ccccc45)[C@@H]3C[C@@H]21', 'Cc1cn([C@H]2C[C@H](N=[N+]=[N-])[C@@H](CO)O2)c(=O)[nH]c1=O', 'CC(=O)c1ccc2c(c1)N(CCCN(C)C)c1ccccc1S2', 'CC(=O)c1ccc2c(c1)N(CCCN1CCN(CCO)CC1)c1ccccc1S2', 'CC(=O)Nc1nnc(S(N)(=O)=O)s1', 'C=CCC1(CC=C)C(=O)NC(=O)NC1=O', 'CN(C)CCC=C1c2ccccc2CCc2ccccc21', 'CCC1(CCC(C)C)C(=O)NC(=O)NC1=O', 'CCO', 'CCc1ccccc1', 'CN1C(=O)CN=C(c2ccccc2F)c2cc([N+](=O)[O-])ccc21', 'C=COCC(F)(F)F', 'FC(F)(F)C(Cl)Br', 'CCCCCCC', 'CCCCCC', 'Cc1c(O)c(=O)ccn1C', 'CCn1ccc(=O)c(O)c1C', 'CCCCn1ccc(=O)c(O)c1C', 'CCCCCn1ccc(=O)c(O)c1C', 'CCc1c(O)c(=O)ccn1CC', 'Cc1cc(=O)n(-c2ccccc2)n1C', 'CN1CCc2cccc3c2[C@H]1Cc1ccc(O)c(O)c1-3', 'COC(=O)C1=CCCN(C)C1', 'O=C(CCCN1CCC(n2c(=O)[nH]c3ccccc32)CC1)c1ccc(F)cc1', 'CCOC(=O)c1ccc(N)cc1', 'CCN(CC)C(=O)C1CN2CCc3cc(OC)c(OC)cc3C2CC1OC(C)=O', 'CN1C2CCC1CC(OC(c1ccccc1)c1ccccc1)C2.O=S(=O)(O)O', 'OC(CCN1CCCCC1)(c1ccccc1)C1CC2C=CC1C2', 'CN1C(=O)NC(=O)C(C)(C2=CCCCC2)C1=O', 'CC(C)(C)NC(=O)[C@@H]1CN(Cc2cccnc2)CCN1C[C@@H](O)C[C@@H](Cc1ccccc1)C(=O)N[C@H]1c2ccccc2C[C@H]1O', 'COC(F)(F)C(Cl)Cl', 'CN(C(=O)Cc1ccccc1N)[C@@H](CN1CC[C@@H](O)C1)c1ccccc1', 'O=C(Cc1ccc(Cl)c(Cl)c1)N1CCc2occc2[C@H]1CN1CCCC1', 'COC(=O)N1CCN(C(=O)Cc2ccc(Cl)c(Cl)c2)[C@@H](CN2CCCC2)C1', 'O=C1CN=C(c2ccccn2)c2cc(Br)ccc2N1', 'CN(C)CCc1c[nH]c2ccc(O)cc12', 'CC(NC(C)(C)C)C(=O)c1cccc(Cl)c1', 'C=C(C)[C@@H]1CCC(C)=CC1c1c(O)cc(CCCCC)cc1O', 'CCC(C)C(CC)C(=O)NC(N)=O', 'NC(=O)N1c2ccccc2C=Cc2ccccc21', 'CSc1ccc2c(c1)N(CCC1CCCNC1)c1ccccc1S2', 'Cn1c(=O)[nH]c2ncn(C)c2c1=O', 'CCCCC', 'CCCO', 'CC(C)=O', 'CCOC(=O)N1CCN(C(=O)Cc2ccc(Cl)c(Cl)c2)[C@@H](CN2CCCC2)C1', 'CCCOC(=O)N1CCN(C(=O)Cc2ccc(Cl)c(Cl)c2)[C@@H](CN2CCCC2)C1', 'CC(=O)N1CCN(C(=O)Cc2ccc(Cl)c(Cl)c2)[C@@H](CN2CC[C@@H](O)C2)C1', 'CC(=O)N1CCN(C(=O)Cc2ccc(C(F)(F)F)cc2)[C@@H](CN2CC[C@@H](O)C2)C1', 'CSc1ccc(CC(=O)N2CCN(C(C)=O)C[C@@H]2CN2CC[C@@H](O)C2)cc1', 'COc1cccc(CC(=O)N2CCN(C(C)=O)C[C@@H]2CN2CC[C@@H](O)C2)c1', 'CC(=O)N1CCN(C(=O)Cc2ccc([N+](=O)[O-])cc2)[C@@H](CN2CC[C@H](O)C2)C1', 'COc1ccc(CC(=O)N2CCN(C(C)=O)C[C@@H]2CN2CC[C@@H](O)C2)cc1', 'CCC(=O)c1ccc2c(c1)N(CCCN1CCN(CCO)CC1)c1ccccc1S2', 'Nn1cnc2cc3ccccc3cc2c1=O', 'OC(O)C(Cl)(Cl)Cl', 'CN(C)CCCN1c2ccccc2Sc2ccc(Cl)cc21', 'CN(C)CC/C=C1/c2ccccc2Sc2ccc(Cl)cc21', 'O=c1[nH]c2cc(Cl)ccc2o1', 'C[N+](C)(C)CCO', 'CN1C(=O)CC(=O)N(c2ccccc2)c2cc(Cl)ccc21', 'O=C(O)CNC(=O)c1ccccc1O', 'Cn1cnc2c1c(=O)[nH]c(=O)n2C', 'CC(=O)N1CCN(C(=O)Cc2ccccc2)[C@@H](CN2CC[C@@H](O)C2)C1', 'CC(C)[C@@H](CN1CCCC1)N(C)C(=O)Cc1ccc(Cl)c(Cl)c1', 'CN(C(=O)Cc1ccc(Cl)c(Cl)c1)[C@@H](CN1CCCC1)c1ccccc1', 'C=CCN1CC[C@]23CCCC[C@H]2[C@H]1Cc1ccc(O)cc13', 'CCn1cc(C(=O)O)c(=O)c2cc(F)c(N3CCNC(C)C3)c(F)c21', 'CN(C)CCCN1c2ccccc2CCc2ccc(Cl)cc21', 'OCCN1CCN(CC/C=C2/c3ccccc3Sc3ccc(Cl)cc32)CC1', 'O=c1[nH]c2cc(Cl)ccc2n1C1CCN(CCCC(c2ccc(F)cc2)c2ccc(F)cc2)CC1', 'COc1ccc2c3c1O[C@H]1[C@@H](O)C=C[C@H]4[C@@H](C2)N(C)CC[C@]314', 'FC(F)(F)c1ccc2c(c1)N(CCCN1CCN(C3CC3)CC1)c1ccccc1S2', 'CN(C)CCO', 'ClC(Cl)Cl', 'NCCc1nccs1', 'NCCc1nc(-c2ccccc2)cs1', 'NCCc1cn2ccccc2n1', 'Cc1cccc(C)c1', 'CCOC(=O)N1CCC(=C2c3ccc(Cl)cc3CCc3cccnc32)CC1', 'C=CCN1CC[C@]23c4c5ccc(O)c4O[C@H]2[C@@H](O)C=C[C@H]3[C@H]1C5', 'O=C1CC[C@@]2(O)[C@H]3Cc4ccc(O)c5c4[C@@]2(CCN3CC2CC2)[C@H]1O5', 'CCn1cc(C(=O)O)c(=O)c2cc(F)c(N3CCNCC3)cc21', 'CCn1cc(C(=O)O)c(=O)c2cc(F)c(N3CCN(C)CC3)cc21', 'COC(=O)[C@H]1[C@H]2C[C@@H]3c4[nH]c5ccccc5c4CCN3C[C@H]2C[C@@H](OC(=O)c2cc(OC)c(OC)c(OC)c2)[C@@H]1OC', 'CNCCCN1c2ccccc2CCc2ccccc21', 'COc1ccc2c3c1O[C@H]1[C@@H](O)CC[C@H]4[C@@H](C2)N(C)CC[C@]314', 'CN(C)CCOC(c1ccccc1)c1ccccc1', 'O=C1NC(=O)C(c2ccccc2)(c2ccccc2)N1', 'CC(CN1CCN(CCOCCO)CC1)CN1c2ccccc2Sc2ccccc21', 'COC(=O)c1ccc(C(=O)OC)cc1', 'Cc1ccccc1C', 'NC(=O)N1c2ccccc2C2OC2c2ccccc21', 'CC(C)(C)OC(=O)CCCc1ccc(N(CCCl)CCCl)cc1', 'CN1CCN(CC(=O)N2c3ccccc3C(=O)Nc3cccnc32)CC1', 'CCCNC(=O)c1ccc2c(c1)N([C@@H](C)CN1CCCC1)c1ccccc1S2', 'CN1CCN(c2c(F)cc3c(=O)c(C(=O)O)cn4c3c2SCC4)CC1', 'CC(C)(C)NCC(O)c1ccc(O)c(CO)c1', 'O=C(Cc1ccc(Cl)c(Cl)c1)N1CCn2ccnc2[C@H]1CN1CCCC1', 'O=C(Cc1ccc(Cl)c(Cl)c1)N1CCn2ccnc2[C@H]1CN1CC[C@@H](O)C1', 'O=C(Cc1ccc(Cl)c(Cl)c1)N1CCN(CCO)C[C@@H]1CN1CC[C@@H](O)C1', 'CN(C)CC/C=C1/c2ccccc2COc2ccccc21.[Cl-].[H+]', 'O=C(CCCN1CC=C(n2c(=O)[nH]c3ccccc32)CC1)c1ccc(F)cc1', 'C/C=C(\\\\CC)C(=O)NC(N)=O', 'CCC(C)(CC)OC(N)=O', 'Clc1ccc2c(c1)C(c1ccccc1)=NCc1nncn1-2', 'CCc1ccccc1-n1c(C)nc2ccccc2c1=O', 'C#CC(O)(/C=C/Cl)CC', 'C#CC1(OC(N)=O)CCCCC1', 'CNCCc1ccccn1', 'CN(C)CCc1ccccn1', 'NCCc1nccs1', 'S=C(NC1CCCCC1)N1CCC(c2c[nH]cn2)CC1', 'CN1CC[C@@H]2c3cc(Cl)ccc3Oc3ccccc3[C@H]2C1', 'O=C(Cc1ccc(Cl)c(Cl)c1)N1CCc2[nH]cnc2[C@H]1CN1CC[C@@H](O)C1', 'CC[C@H](NC(=O)c1c(O)c(-c2ccccc2)nc2ccccc12)c1ccccc1', 'CC[C@H](NC(=O)c1c(OCC(=O)O)c(-c2ccccc2)nc2ccccc12)c1ccccc1', 'CC[C@H](NC(=O)c1c(OCCNC(=O)Cc2ccccc2C(=O)O)c(-c2ccccc2)nc2ccccc12)c1ccccc1', 'C[C@H]1CN(c2c(F)c(N)c3c(=O)c(C(=O)O)cn(C4CC4)c3c2F)C[C@@H](C)N1', 'CCC1(C)CC(=O)NC1=O', 'CCc1ccc2c(c1)N(CC(C)CN(C)C)c1ccccc1S2', 'OCCN1CCN(CC/C=C2/c3ccccc3Sc3ccc(C(F)(F)F)cc32)CC1', 'OCCN1CCN(CCCN2c3ccccc3Sc3ccc(C(F)(F)F)cc32)CC1', 'CCN(CC)CCN1C(=O)CN=C(c2ccccc2F)c2cc(Cl)ccc21', 'COc1cc2c3c(c1O)C1(C=CC(=O)C=C1)CC3N(C)CC2', 'CCC1(c2ccccc2)CCC(=O)NC1=O', 'Cc1nccc2c1[nH]c1ccccc12', 'O=[N+]([O-])c1cc[nH]c1NCCSCc1ccccn1', 'C[NH+]O.Cc1oc(C(C)(C)N(C(C)(C)N)C(C)(C)N)c(C)c1C.[OH-]', 'CCNCc1c(CSC)cnc(C)c1O', 'CN1/C(=C(\\\\O)Nc2ccccn2)C(=O)c2sccc2S1(=O)=O', 'CC(C)(C)c1ccc(C(O)CCCN2CCC(C(O)(c3ccccc3)c3ccccc3)CC2)cc1', 'CN(C(=O)Cc1ccc(Cl)c(Cl)c1)C1CCCC[C@H]1N1CCCC1', 'CC(=O)Oc1ccc2c3c1O[C@H]1[C@@H](OC(C)=O)C=C[C@H]4[C@@H](C2)N(C)CC[C@]314', 'C#CCC1(OC(N)=O)CCCCC1', 'OCCN1CCCN(CCCN2c3ccccc3Sc3cc(C(F)(F)F)ccc32)CC1.[Cl-].[Cl-].[H+].[H+]', 'COc1ccc2c3c1O[C@H]1C(=O)CC[C@H]4[C@@H](C2)N(C)CC[C@]314', 'CCC(O)(COC(N)=O)c1ccccc1', 'OCCOCCN1CCN(C(c2ccccc2)c2ccc(Cl)cc2)CC1', 'CN(C)CCCN1c2ccccc2CCc2ccccc21', 'CNC1(c2ccccc2Cl)CCCCC1=O', 'O=C(O)c1cc(=O)c2ccccc2[nH]1', 'O=C(NCCCOc1cccc(CN2CCCCC2)c1)c1ccccc1', 'c1cc(CN2CCCCC2)cc(OCCCNc2nccs2)c1', 'CN(C)Cc1ccc(CSCCNc2nc(=O)c(Cc3ccc4ccccc4c3)c[nH]2)o1', 'Cc1ccc(CC2=CNC(NCCSCc3ccc(CN(C)C)o3)=NC2)cn1', 'CN(C)c1cc(-c2n[nH]c(N)n2)ccn1', 'Cn1c(=O)c2nc[nH]c2n(C)c1=O', 'O=C(CCCN1CCC(C(=O)c2ccc(F)cc2)CC1)c1ccc(F)cc1', 'CN1CC[C@]23CCCC[C@H]2[C@H]1Cc1ccc(O)cc13', 'CCN(CC)CC(=O)Nc1c(C)cccc1C', 'O=C1Nc2ccc(Cl)cc2C(c2ccccc2Cl)=NC1O', 'CC(C)N1CCC(N(C(=O)Cc2ccccc2)c2ccc(Cl)cc2)CC1', 'CN(C)CCOC(=O)COc1ccc(Cl)cc1', 'Cc1nc2ccccc2c(=O)n1-c1ccccc1Cl', 'CN1CCN=C(c2ccccc2)c2cc(Cl)ccc21', 'COc1cc2c(c(CN[C@@H]3CCCN[C@H]3c3ccccc3)c1)OCC2', 'Nc1nc(NC2CC2)c2ncn([C@H]3C=C[C@@H](CO)C3)c2n1', 'Nc1nc(=O)c2ncn(COCCO)c2[nH]1', 'CCCSc1ccc2nc(NC(=O)OC)[nH]c2c1', 'NCCCNCCSP(=O)(O)O', 'COc1cc(CCN)cc(OC)c1OC', 'CN1CCCCC1CCN1c2ccccc2Sc2ccc(S(C)=O)cc21', 'Cc1ccccc1-n1c(C)nc2ccccc2c1=O', 'C#CC(C)(O)CC', 'COC(=O)C(c1ccccc1)C1CCCCN1', 'CCC1(CC)C(=O)NCC(C)C1=O', 'NCC[C@H](O)C(=O)N[C@@H]1C[C@H](N)[C@@H](O[C@H]2O[C@H](CN)[C@@H](O)[C@H](O)[C@H]2O)[C@H](O)[C@H]1O[C@H]1O[C@H](CO)[C@@H](O)[C@H](N)[C@H]1O', 'Nc1ccc(C(=O)O)c(O)c1', 'Nc1ccn([C@@H]2O[C@H](CO)[C@@H](O)[C@@H]2O)c(=O)n1', 'CN(C)N/N=C1/N=CN=C1C(N)=O', 'COc1cccc2c1C(=O)c1c(O)c3c(c(O)c1C2=O)C[C@@](O)(C(C)=O)C[C@@H]3O[C@H]1C[C@H](N)[C@H](O)[C@H](C)O1', 'CN(C)[C@@H]1C(=O)/C(=C(\\\\N)O)C(=O)[C@@]2(O)C(=O)C3=C(O)c4c(O)ccc(Cl)c4[C@@H](O)[C@H]3C[C@@H]12', 'O=C1CC(=O)N(c2ccccc2)c2cc(Cl)ccc2N1', 'Cc1ncc2n1-c1ccc(Cl)cc1C(c1ccccc1F)=NC2.O=C(O)/C=C\\\\C(=O)O', 'CN1CC[C@]23c4c5ccc(O)c4O[C@H]2C(O)C=C[C@H]3[C@H]1C5', 'CN1CC=C(c2ccccc2)CC1', 'C=CCN1CC[C@]23c4c5ccc(O)c4O[C@H]2C(=O)CC[C@@]3(O)[C@H]1C5', 'CN1CCC[C@H]1c1cccnc1', 'O=C1CN=C(c2ccccc2)c2cc([N+](=O)[O-])ccc2N1', 'O=C1CN=C(c2ccccc2)c2cc(Cl)ccc2N1', 'CNCCC=C1c2ccccc2CCc2ccccc21', 'Cc1ccccc1C(OCCN(C)C)c1ccccc1', 'COc1ccc2c(c1)[C@]13CCCC[C@@H]1[C@H](C2)N(C)CC3', 'CN1C[C@H](C(=O)N[C@]2(C)O[C@@]3(O)[C@@H]4CCCN4C(=O)[C@H](Cc4ccccc4)N3C2=O)C[C@@H]2c3cccc4[nH]cc(c34)C[C@H]21', 'CCN(CC)C(=S)SSC(=S)N(CC)CC', 'CCOC(=O)[C@H](CCc1ccccc1)N[C@@H](C)C(=O)N1CCC[C@H]1C(=O)O', 'CC[C@@H](CO)NCCN[C@@H](CC)CO', 'CC[C@@]1(O)C[C@H](OC2CC(N(C)C)C(OC3CC(O)C(OC4CCC(=O)C(C)O4)C(C)O3)C(C)O2)c2c(cc3c(c2O)C(=O)c2c(O)cccc2C3=O)[C@H]1C(=O)OC', 'CC1(C)S[C@@H]2[C@H](NC(=O)CCC[C@@H](N)C(=O)O)C(=O)N2[C@H]1C(=O)O', 'CNCC(O)c1ccc(O)c(O)c1', 'C=CCSCC(=O)NC1C(=O)N2C1SC(C)(C)C2C(=O)[O-].[Na+]', 'CC1(C)S[C@@H]2[C@H](NC(=O)C34C[C@@H]5C[C@@H](CC(N)(C5)C3)C4)C(=O)N2[C@H]1C(=O)O', 'CN(C)[C@@H]1C(=O)/C(=C(\\\\N)O)C(=O)[C@@]2(O)C(=O)C3=C(O)c4c(ccc(N)c4O)C[C@H]3C[C@@H]12', 'CC(=O)[C@]1(N)Cc2c(O)c3c(c(O)c2[C@@H](O[C@H]2C[C@H](O)[C@H](O)CO2)C1)C(=O)c1ccccc1C3=O.[Cl-].[H+]', 'CC1(C)S[C@@H]2C(NC(=O)[C@H](NC(=O)c3c[nH]c4cccnc4c3=O)c3ccccc3)C(=O)N2[C@H]1C(=O)O', 'CN(C)[C@@H]1C(=O)/C(=C(/O)NC(C(=O)O)N2CCN(CCO)CC2)C(=O)[C@@]2(O)C(=O)C3=C(O)c4c(O)cccc4[C@@](C)(O)[C@H]3C[C@@H]12', 'CNC(=O)C[C@@H](N)C(=O)N[C@@H](C(=O)N[C@@H]1C(=O)N2[C@@H](C(=O)O)C(C)(C)S[C@H]12)c1ccc(O)cc1', 'C[C@H]1[C@H](NC(=O)/C(=N\\\\OC(C)(C)C(=O)O)c2csc([NH3+])n2)C(=O)N1S(=O)(=O)[O-]', 'NCC1OC(OC2C(N)CC(N)C(OC3OC(CO)C(O)C(N)C3O)C2O)C(N)C(O)C1O', 'NC(CO)C(=O)NNCc1ccc(O)c(O)c1O', 'CC(C)COCC(CN(Cc1ccccc1)c1ccccc1)N1CCCC1', 'CC[C@H]1OC(=O)[C@H](C)[C@@H](OC2CC(C)(OC)C(O)C(C)O2)C(C)[C@@H](OC2OC(C)CC(N(C)C)C2O)[C@](C)(O)C[C@@H](C)C(=O)[C@H](C)[C@@H](O)[C@H]1C', 'CC(C)(C)NCC(O)c1ccc(O)c(NC(N)=O)c1', 'CC1(C)S[C@@H]2[C@H](NC(=O)C(C(=O)Oc3ccccc3)c3ccccc3)C(=O)N2[C@H]1C(=O)O', 'CC(=O)[C@]1(O)Cc2c(O)c3c(c(O)c2C(OC2CC(N)C(O)C(C)O2)C1)C(=O)c1c(O)cccc1C3=O', 'NC(=O)OCC1[C@H](NC(=O)/C(=N\\\\OCC(=O)O)c2csc(N)n2)C(=O)N1S(=O)(=O)O', 'N[C@@H](C(=O)N[C@@H]1C(=O)N2C(C(=O)O)=C(Cl)CS[C@H]12)c1ccccc1', 'CC1=C(C(=O)O)N2C(=O)[C@@H](NC(=O)[C@H](N)c3ccc(O)cc3)[C@H]2SC1', 'CC1=C(C(=O)O)N2C(=O)[C@@H](NC(=O)[C@H](N)c3ccccc3)[C@H]2SC1', 'CC(=O)OCC1=C(C(=O)O)N2C(=O)[C@@H](NC(=O)Cc3ccccc3)[C@H]2SC1', 'Cc1nnc(SCC2=C(C(=O)O)N3C(=O)[C@@H](NC(=O)C(N)c4ccc(O)cc4)[C@H]3SC2)s1', 'Cc1nnc(SCC2=C(C(=O)O)N3C(=O)[C@@H](NC(=O)Cn4cc(Cl)c(=O)c(Cl)c4)[C@H]3SC2)s1', 'Cc1nnc(SCC2=C(C(=O)OCc3oc(=O)oc3C)N3C(=O)C(NC(=O)C(OC(=O)C(C)N)c4ccccc4)C3SC2)s1', 'COCC1=C(C(=O)O)N2C(=O)[C@@H](NC(=O)/C(=N\\\\O)c3csc(N)n3)[C@H]2SC1', 'C=CC1=C(C(=O)O)N2C(=O)[C@@H](NC(=O)/C(=N\\\\O)c3csc(N)n3)[C@H]2SC1', 'CO/N=C(\\\\C(=O)NC1C(=O)N2C(C(=O)O)=C(/C=C\\\\c3scnc3C)CS[C@H]12)c1csc(N)n1', 'CC1=C(C(=O)O)N2C(=O)[C@@H](NC(=O)[C@H](N)c3ccc(O)c(Cl)c3)[C@H]2SC1', 'CO/N=C(\\\\C(=O)N[C@@H]1C(=O)N2C(C(=O)O)=C(C)CS[C@H]12)c1csc(N)n1', 'O=C(Cc1cccs1)N[C@@H]1C(=O)N2C(C(=O)O)=C(CSc3ncn[nH]3)CS[C@H]12', 'Cn1nnnc1SCC1=C(C(=O)O)N2C(=O)[C@@H](NC(=O)CS/C=C\\\\C#N)[C@H]2SC1', 'CO/N=C(\\\\C(=O)N[C@@H]1C(=O)N2C(C(=O)O)=C(CSc3nnnn3C)CS[C@H]12)c1csc(N)n1', 'CO/N=C(/C(=O)N[C@@H]1C(=O)N2C(C(=O)O)=C(CSc3nc(C)c(CC(=O)O)s3)CS[C@H]12)c1csc(N)n1', 'O=C(O)C1=C(CSc2nnnn2CS(=O)(=O)O)CS[C@@H]2[C@H](NC(=O)C(O)c3ccccc3)C(=O)N12', 'NCc1ccccc1CC(=O)N[C@@H]1C(=O)N2C(C(=O)O)=C(CSc3nnnn3CC(=O)O)CS[C@H]12', 'CO[C@@]1(NC(=O)C2SC(=C(C(N)=O)C(=O)O)S2)C(=O)N2C(C(=O)O)=C(CSc3nnnn3C)CS[C@@H]21', 'CN(C)CCn1nnnc1SCC1=C(C(=O)O)N2C(=O)[C@@H](NC(=O)Cc3csc(N)n3)[C@H]2SC1', 'CC(=O)OCC1=C(C(=O)O)N2C(=O)[C@@H](NC(=O)c3c(-c4ccccc4Cl)noc3C)[C@H]2SC1', 'Cc1cc(=O)c(C(=O)N[C@@H](C(=O)NC2C(=O)N3C(C(=O)O)=C(CSc4nnnn4C)CS[C@H]23)c2ccc(O)cc2)c[nH]1', 'COCC1=C(C(=O)[O-])N2C(=O)[C@@H](NC(=O)/C(=N\\\\OC)c3csc(N)n3)[C@H]2SC1.[Na+]', 'C/C=C/C1=C(C(=O)O)N2C(=O)[C@@H](NC(=O)[C@H](N)c3ccc(O)cc3)[C@H]2SC1.O', 'CC1=C(C(=O)O)N2C(=O)[C@@H](NC(=O)Cc3ccc(C4=NCCCN4)cc3)[C@H]2SC1', 'COC1=C(C(=O)O)N2C(=O)C(NC(=O)C(N)C3C=CCC=C3)C2SC1', 'CC1=C(C(=O)O)N2C(=O)[C@@H](NC(=O)[C@H](N)c3cccc(NS(C)(=O)=O)c3)[C@H]2SC1', 'Nc1nc(/C(=C/CC(=O)O)C(=O)N[C@@H]2C(=O)N3C(C(=O)O)=CCS[C@H]23)cs1.O.O', 'CO/N=C(\\\\C(=O)N[C@@H]1C(=O)N2C(C(=O)O)=C(CSC(=O)c3ccco3)CS[C@H]12)c1csc(N)n1', 'CO/N=C(\\\\C(=O)N[C@@H]1C(=O)N2C(C(=O)O)=C(COC(C)=O)CS(=O)[C@H]12)c1csc(N)n1', 'CO/N=C(\\\\C(=O)N[C@@H]1C(=O)N2C(C(=O)O)=CCS[C@H]12)c1csc(N)n1', 'CO/N=C(\\\\C(=O)N[C@@H]1C(=O)N2C(C(=O)OC(C)OC(C)=O)=C(COC(N)=O)CS[C@H]12)c1ccco1', 'COCCCC(=O)OC(C)OC(=O)C1=C(COC(N)=O)CS[C@@H]2[C@H](NC(=O)/C(=N\\\\OC)c3ccco3)C(=O)N12', 'CC(=O)OCC1=C(C(=O)[O-])N2C(=O)[C@H](NC(=O)CC#N)[C@@H]2SC1.[Na+]', 'CC(=O)OCC1=C(C(=O)O)N2C(=O)[C@@H](NC(=O)[C@H](N)c3ccccc3)[C@H]2SC1.O.O', 'CC(=O)OCC1=C(C(=O)O)N2C(=O)[C@@H](NC(=O)CCC[C@@H](N)C(=O)O)[C@H]2SC1', 'CC(=O)C1=C(O)[C@@]2(O)C(=O)c3c(c(C)c4ccc(C)c(O)c4c3O)C[C@H]2[C@@H](N)C1=O', 'CC[C@H]1OC(=O)[C@H](C)[C@@H](O[C@H]2C[C@@](C)(OC)[C@@H](O)[C@H](C)O2)[C@H](C)[C@@H](O[C@@H]2O[C@H](C)C[C@H](N(C)C)[C@H]2O)[C@](C)(OC)C[C@@H](C)C(=O)[C@H](C)[C@@H](O)[C@]1(C)O', 'COC(C(=O)N[C@@H]1C(=O)N2[C@@H](C(=O)O)C(C)(C)S[C@H]12)c1ccc(Cl)c(Cl)c1', 'CN(C)[C@@H]1C(=O)/C(=C(/O)NCO)C(=O)[C@@]2(O)C(=O)C3=C(O)c4c(O)ccc(Cl)c4[C@@](C)(O)[C@H]3C[C@@H]12', 'Cc1c2oc3c(C)ccc(C(=O)NC4C(=O)NC(C(C)C)C(=O)N5CCCC5C(=O)N(C)CC(=O)N(C)C(C(C)C)C(=O)OC4C)c3nc-2c(C(=O)NC2C(=O)NC(C(C)C)C(=O)N3CCCC3C(=O)N(C)CC(=O)N(C)C(C(C)C)C(=O)OC2C)c(N)c1=O', 'CN(C)[C@@H]1C(=O)/C(=C(\\\\N)O)C(=O)[C@@]2(O)C(=O)C3=C(O)c4c(O)cccc4[C@@H](O)[C@H]3C[C@@H]12', 'CCOC(OCC)C(=O)OCC(=O)C1(O)Cc2c(O)c3c(c(O)c2C(OC2CC(N)C(O)C(C)O2)C1)C(=O)c1c(OC)cccc1C3=O', 'NCC1CCC(N)C(OC2C(N)CC(N)C(OC3OC(CO)C(O)C(N)C3O)C2O)O1', 'CN[C@@H]1[C@H](O[C@H]2[C@H](O[C@@H]3[C@@H](O)[C@H](O)[C@@H](N=C(N)N)[C@H](O)[C@H]3N=C(N)N)O[C@@H](C)[C@]2(O)CO)O[C@@H](CO)[C@H](O)[C@H]1O', 'COc1ccc(-c2cc(=O)c3c(O)cc(O[C@@H]4O[C@H](CO[C@@H]5O[C@@H](C)[C@H](O)[C@@H](O)[C@H]5O)[C@@H](O)[C@H](O)[C@H]4O)cc3o2)cc1O', 'CNCC(O)c1ccc(OC(=O)C(C)(C)C)c(OC(=O)C(C)(C)C)c1', 'CCC(=O)O[C@H]1[C@H](C)O[C@@H](O[C@@H]2C(C)C(=O)O[C@H](C)[C@H](C)[C@H](OC(=O)CC)[C@@H](C)C(=O)[C@]3(CO3)CC(C)[C@H](O[C@@H]3O[C@H](C)C[C@H](N(C)C)[C@H]3O)[C@H]2C)C[C@@H]1OC', 'CC[C@H]1OC(=O)[C@H](C)[C@@H](O[C@H]2C[C@@](C)(OC)[C@@H](O)[C@H](C)O2)[C@H](C)[C@@H](O[C@@H]2O[C@H](C)C[C@H](N(C)C)[C@H]2O)[C@](C)(O)C[C@@H](C)[C@@H]2N[C@@H](COCCOC)O[C@H]([C@H]2C)[C@]1(C)O', 'CC(=O)O[C@@]12CO[C@@H]1C[C@H](O)[C@@]1(C)C(=O)[C@H](O)C3=C(C)[C@@H](OC(=O)[C@H](O)[C@@H](NC(=O)OC(C)(C)C)c4ccccc4)C[C@@](O)([C@@H](OC(=O)c4ccccc4)[C@@H]12)C3(C)C', 'C/C=C/C=C/C1OC(O)(C(CC)C(=O)NC/C=C/C=C(\\\\C)C(OC)C(C)C2OC(/C=C/C=C/C=C(\\\\C)C(=O)c3c(O)n(C)ccc3=O)C(O)C2O)C(O)C(OC2OC(C)C(OC3OC(C)C(OC)C(O)C3OC)C(OC)C2O)C1(C)C', 'CC1(C)S[C@@H]2[C@H](NC(=O)[C@H](N)C3=CCC=CC3)C(=O)N2[C@H]1C(=O)O', 'CCOC(=O)C1=C(C)NC(C)=C(C(=O)OC)C1c1cccc(Cl)c1Cl', 'CC1(C)S[C@@H]2[C@H](NC(=O)C(Oc3ccccc3)c3ccccc3)C(=O)N2[C@H]1C(=O)O', 'CC(C)c1ccccc1OCC1=NCCN1', 'CC(C)(C(=O)O)c1ccc(C(O)CCCN2CCC(C(O)(c3ccccc3)c3ccccc3)CC2)cc1', 'CC(C)(Oc1ccc(Cl)cc1)C(=O)N[C@@H](C(=O)N[C@@H]1C(=O)N2[C@@H](C(=O)O)C(C)(C)S[C@H]12)c1ccccc1', 'CC(C)CC(OC(=O)c1ccco1)C(=O)N[C@@H]1C(=O)N2[C@@H](C(=O)O)C(C)(C)S[C@H]12', 'CC(=O)O[C@H]1C[C@@]2(C)[C@@H](C[C@@H](O)[C@H]3[C@@]4(C)CC[C@@H](O)[C@@H](C)[C@@H]4CC[C@@]32C)/C1=C(\\\\CCC=C(C)C)C(=O)O', 'CNC(C)C1CCC(N)C(OC2C(N)CC(N)C(OC3OCC(C)(O)C(NC)C3O)C2O)O1', 'Cc1c(F)c(N2CCNC(C)C2)cc2c1c(=O)c(C(=O)O)cn2C1CC1', 'CN(C)C1C(=O)/C(=C(/O)NCN2CCN(C(=N)N=C(N)N)CC2)C(=O)C2(O)C(=O)C3=C(O)c4c(O)cccc4C(C)(O)C3CC12', 'CC1(C)S[C@@H]2[C@H](N3C(=O)[C@@H](c4ccccc4)NC3(C)C)C(=O)N2[C@H]1C(=O)O', 'CC(Cc1ccccc1)NO', 'CNC(C)C(O)c1ccc(O)cc1', 'Cc1cc(=O)oc2cc(O)ccc12', 'CC(=O)[C@]1(O)Cc2c(O)c3c(c(O)c2[C@@H](O[C@H]2C[C@H](N)[C@H](O)[C@H](C)O2)C1)C(=O)c1ccccc1C3=O', 'Cc1oc(=O)oc1COC(=O)[C@@H]1N2C(=O)[C@@H](NC(=O)[C@H](N)c3ccccc3)[C@H]2SC1(C)C', 'COc1cccc2c1C(=O)c1c(O)c3c(c(O)c1C2=O)C[C@@](O)(C(=O)CO)C[C@@H]3O[C@H]1C[C@H](NC(=O)[C@@H](N)CC(C)C)[C@H](O)[C@H](C)O1', 'CC[C@H]1OC(=O)[C@H](C)[C@@H](OC2CC(C)(OC)C(O)C(C)O2)C(C)[C@@H](OC2OC(C)CC(N(C)C)C2O)[C@](C)(O)C[C@@H](C)/C(=N\\\\OC)[C@H](C)[C@@H](O)[C@]1(C)O', 'CCCC1CC(C(=O)NC(C(C)O)C2OC(SC)C(O)C(O)C2O)N(C)C1', 'CCCCc1nc(Cl)c(CO)n1Cc1ccc(-c2ccccc2-c2nn[nH]n2)cc1', 'CN(C)[C@@H]1C(=O)/C(=C(/N)O)C(=O)[C@@]2(O)C(=O)C3=C(O)c4c(O)ccc(Cl)c4[C@@](C)(O)[C@H]3C[C@@H]12.[Cl-].[H+]', 'CC1(C)S[C@@H]2[C@H](N=CN3CCCCCC3)C(=O)N2[C@H]1C(=O)O', 'CC(CN(C)C)OC(C)(c1ccccc1)c1ccc(Cl)cc1', 'CC1OC(OC2CC(O)(C(=O)CO)Cc3c(O)c4c(c(O)c32)C(=O)c2ccccc2C4=O)CC(N)C1O', 'C[C@H](O)C1C(=O)N2C(C(=O)O)=C(S[C@@H]3CN[C@H](C(=O)N(C)C)C3)[C@H](C)C12.O.O.O', 'C=NC(C(=O)NC1C(=O)N2C1SC(C)(C)C2C(=O)O)c1ccccc1', 'C=C1c2cccc(O)c2C(O)=C2C(=O)[C@]3(O)C(=O)/C(=C(/N)O)C(=O)[C@@H](N(C)C)[C@@H]3[C@@H](O)[C@H]12', 'CNC(C)C(=O)c1ccc(OC)cc1', 'COc1cccc(OC)c1C(=O)N[C@@H]1C(=O)N2[C@@H](C(=O)O)C(C)(C)S[C@H]12', 'CC1(C)S[C@@H]2[C@H](NC(=O)[C@H](NC(=O)N3CCN(S(C)(=O)=O)C3=O)c3ccccc3)C(=O)N2[C@H]1C(=O)O', 'COCC(=O)O[C@]1(CCN(C)CCCc2nc3ccccc3[nH]2)CCc2cc(F)ccc2[C@@H]1C(C)C', 'CCC(=O)OC1CC(=O)OC(C)C/C=C/C=C\\\\C(O)C(C)CC(CC=O)C(O[C@@H]2O[C@H](C)[C@@H](O[C@H]3C[C@@](C)(O)[C@H](OC(=O)CC)[C@@H](C)O3)[C@H](N(C)C)[C@H]2O)C1OC', 'CO[C@@]12[C@H](COC(N)=O)C3=C(C(=O)C(C)=C(N)C3=O)N1C[C@@H]1N[C@@H]12', 'COC(=O)C1=C(C)NC(C)=C(C(=O)OC)C1c1ccccc1[N+](=O)[O-]', 'CCOC(=O)C1=C(C)NC(C)=C(C(=O)OC)C1c1cccc([N+](=O)[O-])c1', 'CN(C)[C@@H]1C(=O)/C(=C(\\\\N)O)C(=O)[C@@]2(O)C(=O)C3=C(O)c4c(O)ccc([N+](=O)[O-])c4C[C@H]3C[C@@H]12', 'CO[C@@H]1[C@@H](OC(N)=O)[C@@H](O)[C@H](Oc2ccc3c(=O)c(NC(=O)c4ccc(O)c(CC=C(C)C)c4)c(O)oc3c2C)OC1(C)C', 'COC1CC(O[C@@H]2[C@@H](C)C(=O)O[C@H](C)[C@H](C)[C@H](O)[C@@H](C)C(=O)[C@@]3(CO3)C[C@H](C)[C@H](OC3OC(C)CC(N(C)C)C3O)[C@H]2C)OC(C)C1O', 'CC1(C)S[C@@H]2[C@H]([NH+]3C(=O)C(c4ccc(O)cc4)NC3(C)C)C(=O)N2[C@H]1C(=O)O', 'CC(=O)O[C@H]1C(=O)[C@@]2(C)C([C@H](OC(=O)c3ccccc3)[C@]3(O)C[C@H](OC(=O)[C@H](O)[C@@H](NC(=O)c4ccccc4)c4ccccc4)C(C)=C1C3(C)C)[C@]1(OC(C)=O)CO[C@@H]1C[C@@H]2O', 'CC(=O)OCOC(=O)C1N2C(=O)C(NC(=O)Cc3ccccc3)C2SC1(C)C', 'CN(C)[C@@H]1C(=O)/C(=C(/O)NCNC(C(=O)NC2C(=O)N3C2SC(C)(C)C3C(=O)O)c2ccccc2)C(=O)[C@@]2(O)C(=O)C3=C(O)c4c(O)cccc4[C@@](C)(O)[C@H]3C[C@@H]12', 'CC(Oc1ccccc1)C(=O)NC1C(=O)N2C1SC(C)(C)C2C(=O)O', 'CN(C)C1C(=O)/C(=C(/O)NCN2CCN(CCO)CC2)C(=O)C2(O)C(=O)C3=C(O)c4c(O)cccc4C(C)(O)C3CC12', 'COc1cccc2c1C(=O)c1c(O)c3c(c(O)c1C2=O)C[C@@](O)(C(=O)CO)C[C@@H]3O[C@H]1C[C@H](N)[C@H](O[C@H]2CCCCO2)[C@H](C)O1', 'CC1(C)SC2C(N(C(=N)c3ccncc3)[C@H](C(=O)NC(=O)CN)c3ccccc3)C(=O)N2C1C(=O)O', 'CNCC(O)c1cccc(OC(=O)C(C)(C)C)c1', 'Cc1cnn(-c2c(Cl)cccc2Cl)c1C(=O)N[C@@H]1C(=O)N2[C@@H](C(=O)O)C(C)(C)S[C@H]12', 'CC1NC(=O)C(NC(=O)c2ncccc2O)C(C)OC(=O)C(c2ccccc2)NC(=O)C2CC(=O)CCN2C(=O)C(Cc2ccc(N(C)C)cc2)N(C)C(=O)C2CCCN2C1=O', 'CCCNCC(O)COc1ccccc1C(=O)CCc1ccccc1', 'CCC(Oc1ccccc1)C(=O)NC1C(=O)N2C1SC(C)(C)C2C(=O)O', 'CC1(C)S[C@@H]2[C@H](NC(=O)c3nc4ccccc4nc3C(=O)O)C(=O)N2[C@H]1C(=O)O', 'CO[C@H]1/C=C/O[C@@]2(C)Oc3c(C)c(O)c4c(c3C2=O)C2=NC3(CCN(CC(C)C)CC3)NC2=C(NC(=O)/C(C)=C\\\\C=C\\\\[C@H](C)[C@H](O)[C@@H](C)[C@@H](O)[C@@H](C)[C@H](OC(C)=O)[C@@H]1C)C4=O', 'CCN(CC)C(C)=NN=Cc1c2c(O)c3c(O)c(C)c4c(c3c1O)C(=O)C(C)(OC=CC(OC)C(C)C(OC(C)=O)C(C)C(O)C(C)C(O)C(C)C=CC=C(C)C(=O)N2)O4', 'COC1C=COC2(C)Oc3c(C)c(O)c4c(O)c(c(C=NN5CCN(C)CC5)c(O)c4c3C2=O)NC(=O)C(C)=CC=CC(C)C(O)C(C)C(O)C(C)C(OC(C)=O)C1C', 'CO[C@H]1/C=C/O[C@@]2(C)Oc3c(C)c(O)c4c(O)c(cc(O)c4c3C2=O)NC(=O)/C(C)=C\\\\C=C\\\\[C@H](C)[C@H](O)[C@@H](C)[C@@H](O)[C@@H](C)[C@H](OC(C)=O)[C@@H]1C', 'CO[C@H]1/C=C/O[C@@]2(C)Oc3c(C)c(O)c4c(c3C2=O)C(=O)/C(=C/NN2CCN(C3CCCC3)CC2)C(=C4O)NC(=O)/C(C)=C\\\\C=C\\\\[C@H](C)[C@H](O)[C@@H](C)[C@@H](O)[C@@H](C)[C@H](OC(C)=O)[C@@H]1C', 'CO[C@H]1/C=C/O[C@@]2(C)Oc3c(C)c(O)c4c(O)c(c5c(nc6cc(C)ccn65)c4c3C2=O)NC(=O)/C(C)=C\\\\C=C\\\\[C@H](C)[C@H](O)[C@@H](C)[C@@H](O)[C@@H](C)[C@H](OC(C)=O)[C@@H]1C', 'C[C@@H](O)[C@H]1C(=O)N2C(C(=O)[O-])=C(COC(N)=O)S[C@H]12.[Na+]', 'CC[C@@]1(O)C[C@H](O[C@H]2C[C@H](N(C)C)[C@H](O[C@H]3C[C@@H]4O[C@H]5CC(=O)[C@H](C)O[C@H]5O[C@@H]4[C@H](C)O3)[C@H](C)O2)c2c(O)c3c(c(O)c2[C@H]1O[C@H]1C[C@H](N(C)C)[C@H](O)[C@H](C)O1)C(=O)c1cccc(O)c1C3=O', 'CC1(C)S[C@@H]2[C@H](NC(=O)[C@H](NC(=O)Cc3ccc(C4=NCCCN4)cc3)c3ccccc3)C(=O)N2[C@H]1C(=O)O', 'COC1CCCC2C1=C(C(=O)[O-])N1C(=O)C(C(C)O)C21', 'COCOC(=O)C1N2C(=O)C(N3C(=O)C(c4ccc(O)cc4)NC3(C)C)C2SC1(C)C', 'COC1C(O)CC(=O)OC(C)C/C=C/C=C/C(OC2CCC(N(C)C)C(C)O2)C(C)CC(CC=O)C1OC1OC(C)C(OC2CC(C)(O)C(O)C(C)O2)C(N(C)C)C1O', 'C[C@@H](O)[C@H]1C(=O)N2C(C(=O)O)=C(SC3CCS(=O)C3)S[C@H]12', 'CC1(C)S[C@@H]2[C@H](NC(=O)[C@H](N)c3ccccc3)C(=O)N2[C@H]1C(=O)O.CC1(C)[C@H](C(=O)O)N2C(=O)C[C@H]2S1(=O)=O', 'CC1(C)S[C@@H]2[C@H](NC(=O)[C@H](NS(=O)(=O)[O-])c3ccccc3)C(=O)N2[C@H]1C(=O)[O-].[Na+].[Na+]', 'C=CC[C@@H]1/C=C(\\\\C)C[C@H](C)C[C@H](OC)[C@H]2O[C@@](O)(C(=O)C(=O)N3CCCC[C@H]3C(=O)O[C@H](/C(C)=C/[C@@H]3CC[C@@H](O)[C@H](OC)C3)[C@H](C)[C@@H](O)CC1=O)[C@H](C)C[C@@H]2OC', 'CC1(C)S[C@@H]2[C@H](NC(=O)[C@H](N)c3ccccc3)C(=O)N2[C@H]1C(=O)OC1OC(=O)c2ccccc21', 'C[C@]1(Cn2ccnn2)[C@H](C(=O)O)N2C(=O)C[C@H]2S1(=O)=O', 'CCCCCCCCCC(=O)N[C@H]1[C@H](Oc2c3cc4cc2Oc2ccc(cc2Cl)[C@@H](O[C@@H]2O[C@H](CO)[C@@H](O)[C@H](O)[C@H]2NC(C)=O)[C@@H]2NC(=O)[C@H](NC(=O)[C@@H]4NC(=O)[C@H]4NC(=O)[C@@H](Cc5ccc(c(Cl)c5)O3)NC(=O)[C@H](N)c3ccc(O)c(c3)Oc3cc(O)cc4c3)c3ccc(O)c(c3)-c3c(O[C@H]4O[C@H](CO)[C@@H](O)[C@H](O)[C@@H]4O)cc(O)cc3[C@H](C(=O)O)NC2=O)O[C@H](CO)[C@@H](O)[C@@H]1O', 'CO[C@@]1(NC(=O)C(C(=O)O)c2ccsc2)C(=O)N2[C@@H](C(=O)O)C(C)(C)S[C@@H]21', 'Cn1c(=O)c2c(ncn2CCNCC(O)c2ccc(O)c(O)c2)n(C)c1=O', 'CC1(C)SC2C(NC(=O)CSc3ccccc3)C(=O)N2C1C(=O)O', 'CC1(C)[C@H](NC(=O)/C(=N\\\\OCC(=O)O)c2csc(N)n2)C(=O)N1OS(=O)(=O)O', 'CC(C)C(=O)OCc1cccc(OC(=O)[C@@H]2N3C(=O)[C@@H](NC(=O)Cc4ccccc4)[C@H]3SC2(C)C)c1', 'NC[C@H]1O[C@H](O[C@@H]2[C@@H](N)C[C@@H](N)[C@H](O[C@H]3O[C@H](CO)[C@@H](O)[C@H](N)[C@H]3O)[C@H]2O)[C@H](N)C[C@@H]1O', 'Cc1ccc(C(=O)c2cc(O)c(O)c([N+](=O)[O-])c2)cc1', 'CO[C@H]1C[C@H](O[C@@H]2[C@@H](C)C(=O)O[C@H](C)[C@H](C)[C@H](OC(C)=O)[C@@H](C)C(=O)[C@]3(CO3)C[C@H](C)[C@H](O[C@@H]3O[C@H](C)C[C@H](N(C)C)[C@H]3OC(C)=O)[C@H]2C)O[C@@H](C)[C@@H]1OC(C)=O', 'Cc1ccc(C(C)C)c(OCC2=NCCN2)c1', 'CC1=C/C(O)CC(=O)Cc2nc(co2)C(=O)N2CCC=C2C(=O)OC(C(C)C)C(C)/C=C\\\\C(=O)NC/C=C\\\\1', '[C-]#[N+]C(=C\\\\c1ccc(O)cc1)/C(=C/c1ccc(O)cc1)[N+]#[C-]', 'COc1cccc2c1C(=O)c1c(O)c3c(c(O)c1C2=O)C[C@@](O)(/C(C)=N/NC(=O)c1ccccc1)C[C@@H]3O[C@H]1C[C@H](N)[C@H](O)[C@H](C)O1.[Cl-].[H+]', 'FC(F)(Cl)C(F)(F)Cl', 'CC(=O)NCCCN1CCN(c2cc(Cl)ccc2Cl)CC1', 'CC(=O)OC1CC[C@@]2(C)C([C@@H]1Br)[C@H](Br)C[C@@H]1[C@@H]2CC[C@@]2(C)[C@H]1CC[C@@H]2[C@H](C)CCCC(C)C', 'CCC(Br)(CC)C(=O)NC(=O)NC(C)=O', 'CC(=O)OCC(=O)OCC/C(SC(=O)c1ccco1)=C(/C)N(C=O)Cc1cnc(C)nc1N', 'CC(=O)NC(CCC(N)=O)C(=O)O', 'CC(=O)Nc1ccc(OC(=O)c2ccccc2O)cc1', 'CC(=O)OCC/C(SC(C)=O)=C(/C)N(C=O)Cc1cnc(C)nc1N', 'CC(=O)SCC(Cc1ccccc1)C(=O)NCC(=O)OCc1ccccc1', 'CCC[C@@](C)(O)[C@H]1CC23C=CC1(OC)[C@H]1Oc4c(OC(C)=O)ccc5c4C12CCN(C)C3C5', 'CCC(OC(C)=O)C(CC(C)N(C)C)(c1ccccc1)c1ccccc1', 'CC(=O)OCC1=CO[C@@H](OC(=O)CC(C)C)[C@H]2C1=C[C@H](OC(=O)CC(C)(C)OC(C)=O)[C@]21CO1', 'C=CC1O[C@@H]2CC3C4CCC5=CC(=O)C=CC5(C)C4(F)C(O)CC3(C)[C@]2(C(=O)CO)O1', 'Nc1nc(=O)c2ncn(COCCO)c2[nH]1', 'O=C(COc1ccc(Cl)cc1)OCCNC12CC3CC(CC(C3)C1)C2', 'CC(N)C(=O)OC(C)(C)Cc1ccc(Cl)cc1', 'CCC(=O)OCC(=O)[C@@]1(OC(=O)CC)[C@H](C)C[C@H]2[C@H]3[C@H]([C@@H](O)C[C@@]21C)[C@@]1(C)C=CC(=O)C=C1C[C@H]3Cl', 'CCCN(CCC)C1Cc2cccc3cc(O)cc(c23)C1', 'CC12CC(=O)[C@H]3C(CC[C@H]4C[C@H](O)CCC43C)[C@@H]1CCC2C(=O)CO', 'CC(=O)[C@H]1CC[C@H]2[C@@H]3CC[C@H]4C[C@H](O)CC[C@]4(C)[C@H]3C(=O)C[C@]12C', 'CC(=O)C12OC(C)(C)OC1CC1C3CCC4=CC(=O)CCC4(C)C3CCC12C', 'COC1(F)C(F)(F)C1(F)Cl', 'C=CCN1CCC23c4c5ccc(O)c4OC2C2(OC)C=CC3(CC2[C@](C)(O)CCC)C1C5', 'C=CCN1C(=O)OC(C)C1=O', 'CNC[C@@H]1CN(c2ccc(OCc3cccc(Cl)c3)cc2)C(=O)O1', 'CCCN(CCCCN1C(=O)CC2(CCCC2)CC1=O)C1COc2cccc(OC)c2C1.[Cl-].[H+]', 'CC(=O)NCCn1c(C)cc(C=O)c1C', 'CC(CC#N)N(C)CC(=O)N(C)c1ccc(Cl)cc1C(=O)c1ccccc1F', 'CCC(=O)O[C@]1(c2ccccc2)CCN(C)C[C@@H]1CC', 'CC[C@@H](O)C(C[C@@H](C)N(C)C)(c1ccccc1)c1ccccc1', 'O=C(O)CN1C(=O)c2cccc3cccc(c23)C1=O', 'CCC1(CC)O[C@@H]2C[C@H]3C4CCC5=CC(=O)C=CC5(C)[C@@]4(F)[C@@H](O)CC3(C)[C@]2(C(=O)CO)O1', 'CC12C[C@H](O)[C@@]3(F)C(CCC4=CC(=O)C=CC43C)[C@@H]1C[C@H]1O[C@@](C)(c3ccccc3)O[C@]12C(=O)CO', 'CC(=O)OCC(=O)[C@@]12OC3(CCCC3)O[C@@H]1C[C@H]1[C@@H]3CCC4=CC(=O)C=C[C@]4(C)[C@@]3(F)[C@@H](O)C[C@@]12C', 'CCC(=O)O[C@]1(C(=O)COC)[C@@H](C)C[C@H]2[C@@H]3CCC4=CC(=O)C=C[C@]4(C)[C@@]3(F)[C@@H](O)C[C@@]21C', 'Cc1cccc(C)c1NC(=O)c1ccc(N)cc1', 'CC(C)n1cc2c3c(cccc31)C1C[C@@H](C(=O)NC3CCCCC3)CN(C)C1C2', 'CC(Cc1ccccc1)NC(C#N)c1ccccc1', 'CCN1CCCC1CNC(=O)c1cc(S(=O)(=O)CC)c(N)cc1OC', 'CC(C)CCOC(CN1CCCC1)c1ccccc1', 'CN(C)c1cnccn1', 'CCC(C)(C)O', 'C=CCC1(C(C)C)C(=O)NC(=O)NC1=O', 'O=C1CCc2ccc(OCCCCN3CCN(c4cccc(Cl)c4Cl)CC3)cc2N1', 'O=C1C(O)=C(O)OC1C(O)CO', 'CC(=O)Oc1ccccc1C(=O)O', 'CN1C2CCC1CC(OC(=O)C(C)(CO)c1ccccc1)C2', 'CN(C(=O)CNC(=O)[C@@H](N)CCCCN)c1ccc(Cl)cc1C(=O)c1ccccc1', 'O=c1[nH]c2cc(Cl)ccc2n1C1CCN(CC2COc3ccccc3O2)CC1', 'Nc1ccc(S(=O)(=O)N2CC3CCC(CC3)C2)cc1', 'O=C(CCCN1CCN2CCCC2C1)c1ccc(F)cc1', 'OC(c1ccccc1)(c1ccccc1)C1CCNCC1', 'c1ccc2c(c1)CCN1CCNCC21', 'CN(CCc1cc2cccc3c2n1-c1ccccc1CC3)Cc1ccccc1', 'CCN(CCO)CCn1c(Cc2ccccc2)nc2c1c(=O)n(C)c(=O)n2C', 'CCC1(CC)C(=O)NC(=O)NC1=O', 'Cc1nc2n(n1)C(N1CCN(C)CC1)=Nc1ccccc1C2', 'C[C@H]1C[C@H]2[C@@H]3CCC4=CC(=O)C=C[C@]4(C)[C@@]3(Cl)[C@@H](O)C[C@]2(C)[C@@]1(O)C(=O)CO', 'COC[C@H]1CN(c2ccc(OCC[C@@H](O)C(F)(F)F)cc2)C(=O)O1', 'CCC1(C)CC(=O)NC(=O)C1', 'CC(=O)Nc1ccc(OC(=O)c2ccccc2OC(C)=O)cc1', 'O=C1CNC(c2ccccc2)=c2c3c(sc2=N1)CCCC3', 'C[N+](C)([O-])CC/C=C1/c2ccccc2C=Cc2c(Cl)cccc21', '[Cl].c1ccc(Cn2cc(CCc3ccncc3)c3ccccc32)cc1', 'OCc1ccccc1', 'CN1CCc2cc(Cl)c(O)cc2[C@@H](c2cc(Br)cc3c2OCC3)C1', 'C[C@H]1C[C@H]2[C@@H]3CCC4=CC(=O)C=C[C@]4(C)[C@@]3(F)[C@@H](O)C[C@]2(C)[C@@]1(OC(=O)c1ccccc1)C(=O)CO', 'CCCCC(=O)O[C@]1(C(=O)CO)[C@@H](C)C[C@H]2[C@@H]3CCC4=CC(=O)C=C[C@]4(C)[C@@]3(F)[C@@H](O)C[C@@]21C', 'O=C1CC2(CCCC2)CC(=O)N1CCNCC1COc2ccccc2O1', 'O=C1C[C@H]2SC(C3(O)CN4C(=O)C[C@H]4S3)CN12', 'O=C(CCCN1CCN2Cc3[nH]c4ccccc4c3CC2C1)c1ccc(F)cc1', 'C/C(=C(/CCOC(=O)c1ccccc1)SS/C(CCOC(=O)c1ccccc1)=C(\\\\C)N(C=O)Cc1cnc(C)nc1N)N(C=O)Cc1cnc(C)nc1N', 'CC(=O)NCCC[C@H](NC(C)=O)C(=O)O', 'CCN1CCN(c2cc(-c3ccc(F)cc3)c3c(n2)CCCCCC3)CC1', 'CC[C@]12CCN(CC3(O)CC3)[C@H](Cc3ccc(O)cc31)C2(C)C', 'CC(C)C(Br)C(=O)NC(N)=O', 'BrC(Br)Br', 'Cc1cc(Br)cc(C(N)=O)c1O', 'Nc1nc(=O)c2ncn(CC[C@@H](O)CO)c2[nH]1', 'CC(C)(C)[C@]1(O)CCN2C[C@H]3c4ccccc4CCc4cccc(c43)[C@@H]2C1.[Cl-].[H+]', 'CCCC(=O)c1ccc2c(c1)N(CCCN1CCN(C)CC1)c1ccccc1S2', 'CCCCC(CC)CNC(=O)CC(C)O', 'CC(NCCn1cnc2c1c(=O)n(C)c(=O)n2C)C(O)c1ccccc1', 'CN(C)C(=O)OC1N=C(c2ccccc2)c2cc(Cl)ccc2N(C)C1=O', 'CC12CCC(CC1=O)C2(C)C', 'CCCCC/C(=N/OCCN)c1ccc(C)c(N)c1', 'CCCCSc1ccc(C(SCCN(C)C)c2ccccc2)cc1', 'CN1C(=O)CN(C(N)=O)C(c2ccccc2)c2cc(Cl)ccc21', 'C#CC(OC(N)=O)c1ccccc1', 'NC(=O)CN1Cc2ccccc2OC1=O', 'CC(C)NC(=O)OC1CCN(CCCC(=O)c2ccc(F)cc2)CC1', 'CCC(=O)c1ccc2c(c1)N(CCCN1CCN(CCO)CC1)c1ccccc1S2', 'NS(=O)(=O)c1ccc(C(=O)O)cc1', 'O=C1CN(C(=O)CN2CC(c3ccc(Cl)cc3)CC2=O)CCN1', 'OC1OC(COCCOC(O)C(Cl)(Cl)Cl)C(OC2OC(COCCOCCOC(O)C(Cl)(Cl)Cl)CC(OC(O)C(Cl)(Cl)Cl)C2O)C(OCCOCCOC(O)C(Cl)(Cl)Cl)C1O', 'COCc1c(C(C)C)nc(C(C)C)c(/C=C/[C@@H](O)C[C@@H](O)CC(=O)O)c1-c1ccc(F)cc1', 'Cc1cc(C)c(=O)[nH]n1', 'CC(=O)c1ccc(C(O)C(CO)NC(=O)C(Cl)Cl)cc1', 'CCOC(=O)OCC/C(SC(=O)OCC)=C(\\\\C)N(C=O)Cc1cnc(C)nc1N', 'OC[C@@H](O)[C@H]1OC2O[C@H](C(Cl)(Cl)Cl)O[C@@H]2[C@H]1O', 'CC(CC(C)(C)O)OC(O)C(Cl)(Cl)Cl', 'ClC(Cl)Cl', 'O=C(O)c1cc(=O)c2ccccc2o1', 'CC(C)C(=O)OCC(=O)[C@@]12O[C@H](C3CCCCC3)O[C@@H]1C[C@H]1[C@@H]3CCC4=CC(=O)C=C[C@]4(C)[C@H]3[C@@H](O)C[C@@]12C', 'Clc1ccccc1C1=NCc2nnc(C3CCCCC3)n2-c2sc(Br)cc21', 'CC(=O)OCC(=O)[C@@]12OC(C)(C)O[C@@H]1C[C@H]1C3CC(C#N)=C4C=C(OCCCl)CCC4(C)[C@@]3(F)C(O)CC12C', 'CC(C)N[C@H]1C2CCC(CC2)[C@]1(O)c1ccc(Cl)c(Cl)c1', 'NNCC1CCCCC1', 'CC(C)C(O)C1CCCCC1', 'COCC1CN(c2ccc(OCc3cccc(C#N)c3)cc2)C(=O)O1', 'N#CCCN1C(=O)C(O)N=C(c2ccccc2F)c2cc(Cl)ccc21', 'CN(C(=O)CNC1CC1)c1ccc(Cl)cc1C(=O)c1ccccc1Cl', 'CC1(C)O[C@@H]2C[C@H]3C4C[C@H](F)C5=CC(=O)C=C[C@]5(C)[C@@]4(F)[C@@H](O)C[C@]3(C)[C@]2(C(=O)COC(=O)C2CC2)O1', 'COc1cc(N)c(Cl)cc1C(=O)NC1CCN(Cc2ccccc2)CC1', 'C[C@H]1C[C@H]2[C@@H]3CCC4=CC(=O)C=C[C@]4(C)[C@@]3(F)C(=O)C[C@]2(C)[C@@]1(O)C(=O)CCl', 'CCCC(=O)O[C@]1(C(=O)CCl)[C@@H](C)C[C@H]2[C@@H]3CCC4=CC(=O)C=C[C@]4(C)[C@@]3(F)C(=O)C[C@@]21C', 'NC(=O)C1(N2CCCCC2)CCN(CCCN2c3ccccc3CCc3ccc(Cl)cc32)CC1', 'C[C@@H]1CC2C3C[C@H](F)C4=CC(=O)C=CC4(C)[C@@]3(Cl)C(O)CC2(C)C1C(=O)CO', 'CC(=O)OCC(=O)[C@H]1[C@H](C)C[C@H]2[C@@H]3C[C@H](F)C4=CC(=O)C=C[C@]4(C)C3(Cl)[C@@H](O)C[C@@]21C', 'C[C@@H]1CC2C3C[C@H](F)C4=CC(=O)C=CC4(C)[C@@]3(Cl)C(O)CC2(C)C1C(=O)COC(=O)C(C)(C)C', 'CN(C)CCCn1c(=O)n(-c2ccccc2)c2cc(Cl)ccc21', 'CCN(CC)CCOC1(c2ccc(Cl)cc2)CCCCC1', 'O=C(OCC(Cl)(Cl)Cl)OCC(Cl)(Cl)Cl', 'C#CCN(C)CCCOc1ccc(Cl)cc1Cl', 'CN1CCN(C2Cc3ccccc3Sc3ccc(Cl)cc32)CC1', 'CCc1cc2c(s1)N(C)C(=O)CN=C2c1ccccc1Cl', 'CNC(=O)CCN1CCN(CCC=C2c3ccccc3Sc3ccc(Cl)cc32)CC1', 'CCC12CCN(CC3CCC3)C(Cc3ccc(O)cc31)C2(C)C', 'CC[C@H]1CC(=O)[C@@H]2Oc3c(OC)ccc4c3[C@@]23CCN(CC2CC2)C(C4)[C@H]13', 'CC1CC2C3CC(F)(F)C4=CC(=O)C=C[C@]4(C)C3(F)C(O)CC2(C)C1(O)C(=O)CO', 'CC(=O)OCC(=O)[C@@]1(O)CC[C@H]2[C@@H]3CCC4=CC(=O)CC[C@]4(C)[C@H]3C(=O)C[C@@]21C', 'CC1=C[C@H]2[C@@H]3C[C@@H](C)[C@](O)(C(=O)COC(=O)c4cccc(S(=O)(=O)O)c4)[C@@]3(C)C[C@H](O)[C@@H]2[C@@]2(C)Cc3cnn(-c4ccccc4)c3C=C12', 'CN1C(=O)CCC1c1cccnc1', 'CN(C)CC(=O)C=C1c2ccccc2CCc2ccccc21', 'CC1CC(OC(=O)C2CCC(=O)N2)CC(C)(C)C1', 'CCC1(C2=CCCCC2)C(=O)NC(=O)NC1=O', 'CN(C)CCC=C1c2ccccc2C=Cc2ccccc21', 'CC(=O)[C@H]1CC[C@H]2[C@@H]3C[C@@H](O)C45CC4CC[C@]5(C)[C@H]3CC[C@]12C', 'C/C(=C1/CCOC(=O)S1)N(C=O)Cc1cnc(C)nc1N', 'NC(=O)C1c2ccccc2CCc2ccccc21', 'COC12C=CC3(CC1C(C)(C)O)[C@@H]1Cc4ccc(O)c5c4[C@]3(CCN1CC1CC1)[C@@H]2O5', 'CN(C)CCOC(=O)CCC1CCCCC1', 'OC(c1ccccc1)(c1ccccc1)C1CC1c1ccncc1', 'O=C1NC(=O)C2(c3ccc(Cl)cc3)CC12', 'CN(C)CC(=O)N1c2ccccc2Sc2ccccc21', 'OC(C1=NCCN1)(c1ccc(Cl)cc1)c1ccccn1', 'O=C1CN(O)C(c2ccccc2)=c2cc(Cl)ccc2=N1', 'CC(=O)C1(O)CCC2C3CCC4=CC(=O)C=CC4(C)C3C(O)CC21C', 'Nc1ncc2ncn(COCCO)c2n1', 'CC(=O)[C@@]1(O)[C@H](O)C[C@H]2[C@@H]3CCC4=CC(=O)C=C[C@]4(C)[C@@]3(F)[C@@H](O)C[C@@]21C', 'CC1(C)O[C@@H]2C[C@H]3C4CCC5=CC(=O)C=CC5(C)[C@H]4C(O)CC3(C)[C@]2(C(=O)CO)O1', 'C[C@@H]1C[C@H]2[C@@H]3CCC4=CC(=O)C=C[C@]4(C)[C@@]3(F)[C@@H](O)C[C@]2(C)[C@H]1C(=O)CO', 'CC(=O)OCC(=O)[C@@]1(OC(=O)c2ccco2)[C@H](C)C[C@H]2[C@@H]3CCC4=CC(=O)C=C[C@]4(C)[C@@]3(F)[C@@H](O)C[C@@]21C', 'c1ccc([C@@H]2CN3CCSC3=N2)cc1', 'c1ccc(C2CN=C3NCCN32)cc1', 'CC12CC(Cl)[C@@]3(Cl)C(CCC4=CC(=O)C=CC43C)C1CC[C@]2(O)C(=O)CO', 'CC(=O)OCC(=O)[C@@]1(O)CCC2C3CCC4=CC(=O)C=CC4(C)[C@@]3(Cl)C(Cl)CC21C', 'CCN(CC)CCNC(=O)c1cc(Cl)cc(Cl)c1OC', 'CC(=O)O[C@H]1C[C@@H]2C(COC(=O)CC(C)C)=CO[C@@H](OC(=O)CC(C)C)[C@@H]2[C@@]12CO2', 'CCCCOCC(CN1C(=O)N(CC(COCCCC)OC(N)=O)C(=O)C(CC)(c2ccccc2)C1=O)OC(N)=O', 'Fc1ccc(C(CCCN2CCN(CCNc3ccccc3)CC2)c2ccc(F)cc2)cc1', 'C[C@@H]1C[C@H]2[C@@H]3C[C@H](F)C4=CC(=O)C=C[C@]4(C)[C@@]3(F)[C@@H](O)C[C@]2(C)[C@H]1C(=O)COC(=O)C(C)(C)C', 'CN1CCC(C)(CN2c3ccccc3Sc3ccccc32)C1', 'CC1(C)OC(=O)NC1=O', 'CN(C)CCn1cnc2c1c(=O)n(C)c(=O)n2C', 'CC(Cc1ccccc1)N(C)C', 'O=C1CN2C(=O)CCC2N1', 'CC(=O)NNC(=O)CC(O)(c1ccccc1)c1ccccc1', 'CO[C@]12CC[C@@]3(C[C@@H]1C(C)(C)O)[C@H]1Cc4ccc(O)c5c4[C@@]3(CCN1CC1CC1)[C@H]2O5', 'CC12NC(Cc3ccccc31)c1ccccc12', 'CCCC(=O)O[C@]1(C(C)=O)CCC[C@H]2[C@@H]3CCC4=CC(=O)C=C[C@]4(C)[C@H]3[C@@H](O)C[C@@]21C', 'COc1cc2c(cc1OC)C(=O)C(CC1CCN(Cc3ccccc3)CC1)C2.[Cl-].[H+]', 'O=C(NCCc1ccc(O)c(O)c1)C12CC3CC(CC(C3)C1)C2', 'CCN1CC(CCN2CCOCC2)C(c2ccccc2)(c2ccccc2)C1=O', 'COc1ccc2c(c1OC)[C@]13CCN(C)[C@H](C2)[C@]1(O)CC[C@@H](O)C3', 'CNCCC(Oc1cccc2ccccc12)c1cccs1', 'O=C(c1ccc(F)cc1)C1CCN(CCCN2c3ccccc3Sc3ccc(C(F)(F)F)cc32)CC1', 'O=C(CN1CCCC1=O)NNC(=O)CN1CCCC1=O', 'CC1=NN(c2ccccc2)C(=O)C1', 'Cc1nccn1C(C)c1ccccc1', 'CCN(CC)C/C=C1/c2ccccc2Nc2cc(Cl)ccc21', 'Fc1ccc(-c2ccc(CN3CCN(c4cccc5ccoc45)CC3)[nH]2)cc1', 'c1cc2c(c(N3CCNCC3)c1)OCCO2', 'CCC(CC)(CNC(=O)CCCO)c1cccc(OC)c1', 'COc1ccccc1N1CCN(CC(O)COc2cc(OC)c(OC)c(OC)c2)CC1', 'CCOC(=O)N(Cc1ccccc1)C1CC1', 'OC1CCN(c2ccc(-c3ccc(Cl)cc3Cl)nn2)CC1', 'CCN(CC)C(=O)[C@@H]1[C@@H]2C=C[C@@H](C2)[C@H]1C(=O)N(CC)CC', 'CC(=O)C1CCC2C3CC(C)C4=CC(=O)C=CC4(C)C3C(O)CC12C', 'CC1OC2(CCCCC2Oc2cccc(Cl)c2)NC1=O', 'CCCCCCCNC(=O)Oc1ccc2c(c1)[C@]1(C)CCN(C)[C@@H]1N2C', 'CN1CCC2=C(CC1)c1ccccc1N(C)c1ccccc12', 'CCN1CCCC1CNC(=O)c1cc(C(C)=O)ccc1OC', 'CCOC1c2ccccc2C(=O)N(C)c2ccccc21', 'CCCCNCC1COc2cccc(OCC)c2O1.[Cl-].[H+]', 'C=C', 'CCC1(CC)C(=O)NC=C(C)C1=O', 'CCNC1(c2ccccc2)CCCCC1', 'CCNC1=Nc2ccc(Cl)cc2C(C)(c2ccccc2)O1.[Cl-].[H+]', 'CCN(CC)S(=O)(=O)N[C@H]1C[C@@H]2c3cccc4[nH]cc(c34)C[C@H]2N(C)C1', 'O=C(O)/C=C/C(=O)O.OCCOCCOCCN1CCN(C(c2ccccc2)c2ccc(Cl)cc2)CC1', 'CCc1nn(CCCN2CCN(c3cccc(Cl)c3)CC2)c(=O)n1CC', 'CCCC(C)(O)C1CC23C=CC1(OC)C1Oc4c(O)ccc5c4C12CCN(C)C3C5', 'CCC1(c2ccccc2)OCC(C2CCCCN2)O1', 'CC(=O)OCC(CCn1cnc2cnc(N)nc21)COC(C)=O', 'CN(C)CCCn1c(=O)c2ccccc2c2ccccc21', 'O=C1CC[C@H](C(=O)N2CCCCC2)N1', 'CCCCOCC(CN1C(=O)NC(=O)C(CC)(c2ccccc2)C1=O)OC(N)=O', 'COc1ccc(OCC2CN(C)CCC2c2ccccc2)cc1', 'O=C(CCCN1CCN(C(=O)OC2CCCCC2)CC1)c1ccc(F)cc1', 'CCC(C(=O)OCCN1CCOC(c2ccccc2)C1C)c1ccccc1', 'CCNC1C2CCC(C2)C1c1ccccc1', 'CCCCN/C(=C1/C=C(Cl)C=CC1=O)c1ccccc1Cl', 'c1ccc(CC2NCCc3c2[nH]c2ccccc32)cc1', 'CCC1C(=O)NC(=O)C1(C)c1ccccc1', 'Clc1ccc(OCC2=NCCN2)cc1Cl', 'CN1CC(=O)N=C1NC(=O)Nc1cccc(Cl)c1', 'CC(C)(O)CC(C)(O)c1ccc(Cl)cc1', 'Cn1nc(-c2cccnc2)nc1-c1ccccc1CO', 'O=C(COc1ccc(Cl)cc1)N1CCN(Cc2ccc3c(c2)OCO3)CC1', 'CS(=O)(=O)c1ccc([C@@H](O)[C@@H](CF)NC(=O)C(Cl)Cl)cc1', 'CCN(CC)CCC(=O)N1c2ccccc2Sc2ccc(C(F)(F)F)cc21', 'CC(=O)OCC(=O)C12N=C(C)OC1CC1C3CCC4=CC(=O)C=CC4(C)[C@@]3(F)C(O)CC12C', 'CC1(C)O[C@@H]2CC3C4C[C@H](F)C5=CC(=O)C=CC5(C)[C@@]4(Cl)C(Cl)CC3(C)[C@]2(C(=O)CO)O1', 'C[C@]12C[C@H](O)[C@@]3(F)[C@@H](CCC4=CC(=O)CC[C@@]43C)[C@@H]1CC[C@]2(O)C(=O)CO', 'CC(=O)OCC(=O)[C@@]1(O)CC[C@H]2[C@@H]3CCC4=CC(=O)CC[C@]4(C)[C@@]3(F)[C@@H](O)C[C@@]21C', 'Cc1cc2c(s1)=Nc1ccc(F)cc1NC=2N1CCN(C)CC1', 'COC(OC)C(=O)[C@@]12OC(C)(C)O[C@@H]1CC1C3C[C@H](F)C4=CC(=O)C=CC4(C)[C@@]3(F)C(O)CC12C', 'CC(=O)OCC(=O)[C@@]12OC(C)(C)O[C@@H]1C[C@H]1[C@@H]3C[C@H](F)C4=CC(=O)C=C[C@]4(C)[C@@]3(F)[C@@H](O)C[C@@]12C', 'CCS(=O)(=O)c1ccc(F)cc1', 'CC(=O)O[C@]1(C(C)=O)CC[C@H]2[C@@H]3C[C@H](C)C4=CC(=O)C=C[C@]4(C)[C@@]3(F)[C@@H](O)C[C@@]21C', 'CNCCC(Oc1ccc(C(F)(F)F)cc1)c1ccccc1', 'CCCCCCC(=O)OCCN1CCN(CCCN2c3ccccc3Sc3ccc(C(F)(F)F)cc32)CC1', 'NC(=O)NCCN1CCN(c2cccc(C(F)(F)F)c2)CC1', 'O=C1CN2CCOC2(c2ccccc2F)c2cc(Cl)ccc2N1CCO', 'CC1CC2C3CC(F)C4=CC(=O)C=CC4(C)C3(F)C(O)CC2(C)C1(O)C(=O)SCF', 'CCC(=O)O[C@]1(C(=O)SCF)[C@H](C)C[C@H]2[C@@H]3C[C@H](F)C4=CC(=O)C=C[C@]4(C)[C@@]3(F)[C@@H](O)C[C@@]21C', 'CC(C)n1c(/C=C/[C@@H](O)C[C@H](O)CC(=O)O)c(-c2ccc(F)cc2)c2ccccc21', 'COCCCC/C(=N\\\\OCCN)c1ccc(C(F)(F)F)cc1.O=C(O)/C=C\\\\C(=O)O', 'CNC(=O)N1CC(Oc2cccc(C(F)(F)F)c2)C1', 'Nc1nc(=O)c2nc(CNc3ccc(C(=O)N[C@@H](CCC(=O)O)C(=O)O)cc3)cnc2[nH]1', 'CP(C)(=O)CN1C(=O)CN=C(c2ccccc2)c2cc(Cl)ccc21', 'NNC(=O)CP(=O)(c1ccccc1)c1ccccc1', 'C[C@@H]1O[C@@H]1P(=O)(O)O', 'O=C1NC(c2ccccc2)(c2ccccc2)C(=O)N1COP(=O)(O)O', 'CN1CCN(CCC(=O)N2c3ccccc3Sc3ccc(C(F)(F)F)cc32)CC1', 'O=C(CCN1CCN(CCO)CC1)N1c2ccccc2Sc2ccc(C(F)(F)F)cc21', 'O=C1OCCC1C1(O)CCN(CCCN2c3ccccc3Sc3ccc(Cl)cc32)CC1', 'C/C(=C(/CCO)SSCC1CCCO1)N(C=O)Cc1cnc(C)nc1N', 'COCc1c(C(=O)OC(C)C)ncc2[nH]c3cccc(Oc4ccc(Cl)cc4)c3c12', 'CCC12CCN(CC3CC3)C(Cc3ccc(O)cc31)C2(C)C', 'CC1(C)CC(=O)N(CCCCN2CCN(c3ncccn3)CC2)C(=O)C1.[Cl-].[H+]', 'Fc1ccc2[nH]c3c(c2c1)CN(CCCc1cccnc1)CC3', 'COc1cc2c(cc1OC)C(c1cccc(Cl)c1)=NN=C(C)C2', 'CC1(C)O[C@@H]2C[C@H]3[C@@H]4CCC5=CC(=O)CC[C@]5(C)[C@@]4(F)[C@@H](O)C[C@]3(C)[C@]2(C(=O)CCl)O1', 'C[C@@H]1C[C@H]2[C@@H]3C[C@H](F)C4=CC(=O)C=C[C@]4(C)C3(Cl)[C@@H](F)C[C@]2(C)[C@H]1C(=O)CO', 'CCCCCCCCCC(=O)OC1(c2ccc(Cl)cc2)CCN(CCCC(=O)c2ccc(F)cc2)CC1', 'O=C1CN2CCOC2(c2ccccc2F)c2cc(Br)ccc2N1', 'CCC(C)(O)C1CC23C=CC1(OC)C1Oc4c(OC)ccc5c4C12CCN(CC1CC1)C3C5', 'CCC(=O)O[C@]1(C(=O)COC(C)=O)CC[C@H]2[C@@H]3CCC4=CC(=O)CC[C@]4(C)[C@H]3[C@@H](O)C[C@@]21C', 'C[C@]12C[C@H](O)[C@H]3[C@@H](CCC4=CC(=O)CC[C@@]43C)[C@@H]1CC[C@]2(O)C(=O)COC(=O)CCC(=O)O.O', 'CCCCC(=O)O[C@]1(C(=O)CO)CCC2C3CCC4=CC(=O)CCC4(C)C3C(O)CC21C', 'CC12CCC(=O)C=C1CCC1C2C(O)CC2(C)C1CCC2(O)C(=O)COC(=O)CCC1CCCC1', 'CN1CC[C@]23c4c5ccc(O)c4O[C@H]2[C@@H](O)CC[C@@]3(O)[C@H]1C5', 'Cc1cccc(O[C@H]2CCNC[C@H]2O)c1C', 'O=C(/C=C/c1ccc2c(c1)OCO2)N1CCCCC1', 'COc1cc(C(C)=O)ccc1OCCCN1CCC(c2noc3cc(F)ccc23)CC1', 'CN1CCN(CCN2CCN(CCCN3c4ccccc4Sc4ccc(Cl)cc43)CC2)C1=O', 'CN(C)CCN1CCN(c2cccc(Cl)c2)C1=O', 'C[N+](C)([O-])CCCN1c2ccccc2CCc2ccccc21', 'CN[C@@H]1C[C@@H](c2ccc(Cl)c(Cl)c2)c2ccccc21.[Cl-].[H+]', 'C1=Cc2cccc(OCC3CNCCO3)c2C1', 'CC(C)NNC(=O)COc1ccc(Cl)cc1', 'CSc1c(Cl)nc(NC(C)C)nc1N1CCN(C)CC1', 'O=C1c2ccccc2S(=O)(=O)N1CCCCN1CCN(c2ncccn2)CC1.[Cl-].[H+]', 'Cc1cc(C(=O)NNCc2ccccc2)no1', 'CC12C=CC(=O)C=C1CCC1C3CCC(O)(C(=O)CO)C3(C)CC(O)C12F', 'CC(=O)OCC(=O)[C@@]1(O)CC[C@H]2[C@@H]3CCC4=CC(=O)C=C[C@]4(C)[C@@]3(F)[C@@H](O)C[C@@]21C', 'CCC[C@@H]1O[C@@H]2C[C@H]3[C@@H]4C[C@H](F)C5=CC(=O)C=C[C@]5(C)C4(F)[C@@H](O)C[C@]3(C)[C@]2(C(=O)O[C@H](C)OC(=O)OCC)O1', 'CC1[C@H]2C(=O)c3ccc(O)cc3[C@]1(C)CCN2CC1CC1', 'CC1=CC(=O)N2CC(=O)N(C)c3ccc(Cl)cc3C2(c2ccccc2)O1', 'CCC(=O)C1(c2cccc(O)c2)CCN(C)CC1', 'Clc1cnn(CCCCN2CCN(c3ncccn3)CC2)c1', 'O=C(CN1CCC23CCCCC2C1Cc1ccc(O)cc13)c1ccccc1', 'CCN(CC)C(=O)N[C@H]1C=C2c3cccc4[nH]cc(c34)C[C@H]2N(C)C1', 'CCC(=O)N(c1ccccc1)[C@]1(C(=O)OC)CCN(CCc2ccccc2)C[C@@H]1C', 'CN(CCCN1c2ccccc2CCc2ccccc21)CC(=O)c1ccc(Cl)cc1.[Cl-].[H+]', 'O=C1Nc2ccc(Cl)nc2C(c2ccccc2Cl)=NC1O', 'CN1CCN(/C=C2\\\\N=C3CN=C(c4ccccc4Cl)c4cc([N+](=O)[O-])ccc4N3C2=O)CC1', 'FC(F)(F)c1cccc(N2CCN(CCc3nnc4n3C[C@H]3CCC[C@@H]43)CC2)c1', 'CN(C(=O)CNC(=O)CN)c1ccc(Cl)cc1C(=O)c1ccccc1Cl.O', 'CCOC(=O)OC1(C(=O)OCCl)CCC2C3CCC4=CC(=O)C=CC4(C)C3C(O)CC21C', 'CN1CCN(C2=Nc3ccccc3Oc3ccc(Cl)cc32)CC1', 'CN1c2cc(F)ccc2C(c2ccccc2)=NCC1CNC(=O)c1ccoc1', 'OC1(c2ccc(Cl)cc2)c2ccccc2C2=NCCN21', 'CC(NN)c1ccccc1', 'CCC(C)C(C)(COC(N)=O)COC(N)=O', 'CC(=O)[C@H]1CC[C@H]2[C@@H]3C[C@H](C)C4=CC(=O)CC[C@]4(C)[C@H]3[C@@H](O)C[C@]12C', 'CN(C)CCC=C1c2ccccc2C(C)(C)c2ccccc21', 'CC1CCN(CCCC(=O)c2ccc(F)cc2)CC1', 'CC12CC3CC(C)(C1)CC(N)(C3)C2', 'COc1ccccc1OCC1CNC(=O)O1', 'CC(=O)Nc1cccc(O)c1', 'CCC(=O)O[C@]1(C(=O)COC(C)=O)CC[C@H]2[C@@H]3C[C@H](C)C4=CC(=O)C=C[C@]4(C)[C@H]3[C@@H](O)C[C@@]21C', 'Cc1ccc2c(c1)C(N1CCN(C)CC1)=Nc1ccccc1S2', 'COc1cc(C(=O)OCCN2CCN(CCCN3c4ccccc4Sc4ccc(Cl)cc43)CC2)cc(OC)c1OC', 'COc1ccc2c(c1)C(N1CCN(C)CC1)=Cc1ccccc1O2', 'COc1ccc2c(c1)c1c3n2CCN(C)C3=NCC1', 'CC1COC2(c3ccccc3Cl)c3cc(Cl)ccc3NC(=O)CN12', 'CNc1nc(Cl)c(SC)c(N2CCN(C)CC2)n1', 'Clc1ccc(COC(Cn2ccnc2)c2ccc(Cl)cc2Cl)c(Cl)c1', 'CCCCCNCC(N)=O', 'CO/N=C/C1=CCCN(C)C1', 'Cc1cc(-c2ccccc2)nnc1NCCN1CCOCC1', 'CN1[C@H]2CC[C@@H]1CC(NC(=O)c1cn(C3CCCCC3)c3ccccc3c1=O)C2', 'C[C@@H]1C[C@H]2[C@@H]3CCC4=CC(=O)C=C[C@]4(C)[C@@]3(Cl)[C@@H](O)C[C@]2(C)[C@@]1(O)C(=O)CCl', 'CNCCCN1c2ccccc2C(C)(C)c2ccccc21', 'COCN1C(=O)CN=C(c2ccccc2)c2cc([N+](=O)[O-])ccc21', 'CNC(=O)O[C@H]1OC(=O)[C@]2(C)[C@@H]3C=C[C@@H](C3)[C@H]12', 'CC1=CC(=C2C=CC(=O)C=C2)NN=C1NCCN1CCOCC1', 'CCCCCCCCCCCCCC(=O)O[C@H]1C=C[C@H]2[C@H]3Cc4ccc(OCc5ccccc5)c5c4[C@@]2(CCN3C)[C@H]1O5', 'CCCCCCC(C)(C)c1cc(O)c2c(c1)OC(C)(C)[C@@H]1CCC(=O)C[C@@H]21', 'O=C(Cn1ccnc1)c1ccc2ccccc2c1', 'C[C@]12C[C@H](O)[C@@]3(F)[C@@H](CCC4=CC(=O)C=C[C@@]43C)[C@@H]1C[C@H]1Cc3ccccc3C[C@]12C(=O)CO.O', 'Oc1ccc2c3c1OC1C(O)CCC4(O)C(C2)N(CC2CCC2)CCC314', 'C=C1CC[C@@]2(O)[C@H]3Cc4ccc(O)c5c4[C@@]2(CCN3CC2CC2)[C@H]1O5', 'CC(C)=CCN1CC[C@]23c4c5ccc(O)c4O[C@H]2C(=O)CC[C@@]3(O)[C@H]1C5', 'Cc1cccc(C)c1NC(=O)CN1CCCC1=O', 'O=c1[nH]c2ccccc2n1C1CCN(CCCc2noc3cc(F)ccc23)CC1', 'O=C(CCNNC(=O)c1ccncc1)NCc1ccccc1', 'C/C=C\\\\C1O[C@]2(C(=O)COC(=O)c3ccncc3)CC[C@@]3(O1)[C@@H]1CCC4=CC(=O)CC[C@]4(C)[C@H]1[C@@H](O)C[C@]23C', 'O=C(c1cccnc1)N1CCOCC1', 'NC(=O)c1cccnc1', 'CCN(CC)C(=O)c1cccnc1', 'CN1C(=O)CN=C(c2ccccc2)c2cc([N+](=O)[O-])ccc21', 'CCC(C)C(C)(COC(N)=O)COC(=O)NC(C)C', 'N=C(N)c1ccc(-c2ccccc2[N+](=O)[O-])o1', 'C#C[C@]1(O)CC[C@H]2C3CCC4=Cc5c(cnn5-c5ccc(F)cc5)CC4(C)[C@H]3CCC21C', 'CCCCCCCCCNc1ncnc2[nH]ccc12', 'FCC(F)(F)F', 'COc1ccc2c(c1OC)C(=O)O[C@@H]2[C@H]1c2c(cc3c(c2OC)OCO3)CCN1C', 'CN(C)CCON=C1c2ccccc2CCc2ccccc21', 'Clc1ccc2c(c1)/C(=C/C1CN3CCC1CC3)c1ccccc1S2', 'Cc1nc2c(C)cccn2c(=O)c1CCN1CCC(c2noc3cc(F)ccc23)CC1', 'O=C(c1ccccn1)c1cnn2c(-c3ccncc3)ccnc12', 'CCCCCCC(C)NN', 'O=C(CN1CC[C@H](c2ccc(F)cc2)[C@@H](COc2ccc3c(c2)OCO3)C1)c1ccc(F)cc1', 'CC(Cc1ccccc1)[N+](C)([O-])Cc1ccccc1', 'NC(=O)CN1CC(O)CC1=O', 'COC(=O)[C@@]1(O)CC[C@H]2C3CCC(=O)C4C(=O)C=CC4(C)[C@H]3C(O)CC21C', 'CN(C)C(=O)COC1c2ccccc2CCc2ccccc21', 'CC(C)CCC(=O)CC1c2ccccc2C(=O)N1c1ccc2ccc(Cl)nc2n1', 'CC(C)n1c(=O)c2c(-c3noc(C4CC4)n3)ncn2c2ccccc21', 'Nc1cc(OCC2CC2)c(C(=O)NC2CN3CCC2CC3)cc1Cl', 'CC1OC(C)OC(C)O1', 'CC(=O)OCC(=O)[C@@]1(O)[C@H](C)C[C@H]2[C@@H]3C[C@H](F)C4=CC(=O)C=C[C@]4(C)[C@H]3[C@@H](O)C[C@@]21C', 'C#CCN(C)Cc1ccccc1', 'O=C(CC1c2ccccc2C(=O)N1c1ccc2ccc(Cl)nc2n1)N1CCC2(CC1)OCCO2', 'CC(OC(N)=O)C(C)C(C)OC(N)=O', 'CN1CCN(C2=Nc3ccccc3Sc3nccn32)CC1', 'c1ccc(-c2nc(N3CCNCC3)cc3ccccc23)cc1', 'O=C1[C@H]2CCCC[C@H]2C(=O)N1CCCCN1CCN(c2nsc3ccccc23)CC1', 'OCCN1CCN(CCCN2c3ccccc3Sc3ccc(Cl)cc32)CC1', 'OC(OCC(COC(O)C(Cl)(Cl)Cl)(COC(O)C(Cl)(Cl)Cl)COC(O)C(Cl)(Cl)Cl)C(Cl)(Cl)Cl', 'NC(=O)NC(=O)Cc1ccccc1', 'CC1C2Cc3ccc(O)cc3C1(C)CCN2CCc1ccccc1', 'CCC(C(=O)NC(N)=O)c1ccccc1', 'CC1NCCOC1c1ccccc1', 'CN1C(=O)CC(c2ccccc2)C1=O', 'O=C([O-])c1ccccc1Oc1ccccc1', 'O=C(c1ccccn1)N1CCN(Cc2ccccc2)CC1', 'CCC[C@]1(c2cccc(O)c2)CCN(C)C[C@@H]1C', 'CC(=O)c1ccc2c(c1)N(CCCN1CCC(CCO)CC1)c1ccccc1S2', 'CN1CCN(c2cc3c(nn2)Oc2ccccc2N3C)CC1', 'CCCCCCCCCCCCCCCC(=O)OCCC1CCN(CCCN2c3ccccc3Sc3ccc(S(=O)(=O)N(C)C)cc32)CC1', 'CCc1c(C)[nH]c2c1C(=O)[C@@H]1CN(C)CC[C@H]1C2', 'NC(=O)CN1CCCC1=O', 'CN(C)CCC1(C)OCCC2=C1c1ccccc1C2', 'Cc1ccccc1-n1c(/C=C/c2ccccn2)nc2ccccc2c1=O', 'Cc1ccc2c(c1)c1c3n2CCNC3CCC1.[Cl-].[H+]', 'CC(C)(C)C(=O)NCCCC(=O)O', 'CC(C)(C)C(=O)OC1N=C(c2ccccc2)c2cc(Cl)ccc2NC1=O', 'CC(C)N(CCNC(=O)CN1CCCC1=O)C(C)C', 'CCN(CC)CC(=O)OCC(=O)C1(O)CCC2C3CCC4=CC(=O)C=CC4(C)C3C(O)CC21C', 'CCCCCCCCCCCCCCCCCC(=O)OCC(=O)OCC(=O)[C@@]1(O)CC[C@H]2[C@@H]3CCC4=CC(=O)C=C[C@]4(C)[C@H]3[C@@H](O)C[C@@]21C', 'CC(C)C[C@H](CN)CC(=O)O', 'CC(=O)C1CCC2C3CC=C4CC(OC(=O)CCC(=O)O)CCC4(C)C3CCC12C', 'CCN1CCC(=C(c2ccccc2)c2ccccc2)C1.[Cl-].[H+]', 'CNNCc1ccc(C(=O)NC(C)C)cc1', 'CCC(OC(N)=O)C1CCCCC1', 'O=C1CN=C(c2ccccc2F)c2cc(Cl)ccc2N1CC(O)CO', 'CCCC(Cc1ccccc1)N1CCCC1', 'CC(C)C1(C(C)C)OCC(CO)O1', 'CCN(CC)CC(=O)Oc1ccc(NC(C)=O)cc1', '[CH2-][CH-]C', 'CC(CN1C(=O)c2cccnc2Nc2ccccc21)N(C)C', 'CCC(=O)C1(N2CCCCC2)CCN(CCCC(=O)c2ccc(F)cc2)CC1', 'CN(C)CCC=C1c2ccccc2Sc2ccccc21', 'C=CCC1(CC(C)O)C(=O)NC(=O)NC1=O', 'Oc1ccc2c(c1)C13CCN(CC4CC4)C(C2)C1CCOC3', 'CC(O)Cn1cnc2c1c(=O)n(C)c(=O)n2C', 'CN(C)CCc1c[nH]c2cccc(OP(=O)(O)O)c12', 'c1ccc2oc(-c3ccncc3)cc2c1', 'OCCOCCN1CCN(C2=Nc3ccccc3Sc3ccccc32)CC1', 'CN1CC[C@@]2(C)c3cc(OC(=O)N4CCc5ccccc5C4)ccc3N(C)[C@@H]12', 'CCCN1CC(NS(=O)(=O)N(CC)CC)CC2Cc3c(O)cccc3CC21', 'CN(C)CCOC1(Cc2ccccc2)CC2CCC1(C)C2(C)C', 'C#CCN[C@@H]1CCc2ccccc21', 'O=C1COC(N2CCN=C(c3ccccc3Cl)c3cc(Cl)ccc32)=N1', 'CC(Cc1ccccc1)(NC(=O)CN)c1ccccc1', 'CCC(=O)N(c1ccccc1)C1(C(=O)OC)CCN(CCC(=O)OC)CC1', 'CCC(=O)C1(O)CCC2C3CCC4=CC(=O)CCC4(C)C3C(O)CC21C', 'CCOC(=O)Nc1ccc(NCc2ccc(F)cc2)cc1N', 'CN1[C@H]2CC[C@@H]1CC(NC(=O)N1CC(C)(C)c3ccccc31)C2', 'CN(C)C(=O)c1nc(CNC(=O)CN)n(-c2ccc(Cl)cc2C(=O)c2ccccc2Cl)n1', 'CC1CN(CCCn2c3ccccc3c3ccccc32)CC(C)N1', 'CCn1nc(C)c2c1C(c1ccccc1)=NCC(=O)N2', 'CCN(C)C(=O)Oc1cccc([C@H](C)N(C)C)c1', 'CC(C)OCC(COC(C)C)OCn1cnc2cnc(N)nc21', 'O=C1CCN=C2CC(c3ccccc3)CN12', 'CCC[C@@H]1O[C@@H]2C[C@H]3[C@@H]4C[C@H](F)C5=CC(=O)CC[C@]5(C)[C@@]4(F)[C@@H](O)C[C@]3(C)[C@]2(C(=O)CO)O1', 'O=C1CCC(C(=O)NC2CC2c2ccccc2)N1', 'COc1ccc(C2CNC(=O)C2)cc1OC1CCCC1', 'Fc1cccc(Br)c1NC1=NCCN1', 'CN1C(=O)CC2(CCN(CCCC(=O)c3ccc(F)cc3)CC2)C1=O', 'CON=C(C#N)C1CN2CCC1CC2', 'OCc1ccccc1O[C@@H]1O[C@H](CO)[C@@H](O)[C@H](O)[C@H]1O', 'NC(=O)c1ccccc1O', 'O=C(Oc1ccccc1C(=O)O)c1ccccc1O', 'CCCCCCN1CCC(C(=O)N(C)CC)(c2ccccc2)CC1', 'N#Cc1ccc2c(c1)C1=C(CCN(CC3CCCC3)CC1)c1ccccc1O2', 'C#CCN(C)[C@H](C)Cc1ccccc1', 'O=C1NCCN1CCN1CCC(c2cn(-c3ccc(F)cc3)c3ccc(Cl)cc23)CC1', 'CN1CCC2=C(C1)c1ccccc1Cc1ccccc12', 'CC(C)CC(N(C)C)C1(c2ccc(Cl)cc2)CCC1', 'CN1CCN(c2ccccc2Cc2ccccc2)CC1', 'CCC(C)(C)C(=O)O[C@H]1C[C@@H](C)C=C2C=C[C@H](C)[C@H](CC[C@@H]3C[C@@H](O)CC(=O)O3)[C@H]21', 'Cc1cc(NC(=O)c2c(C)cccc2C)no1', 'CN(C(=O)Cc1ccc(Cl)c(Cl)c1)[C@H]1CC[C@@]2(CCCO2)C[C@@H]1N1CCCC1', 'O=C1NCN(c2ccccc2)C12CCN(CCCOc1ccc(F)cc1)CC2', 'C/C(=C/CCN1CCC2(CC1)C(=O)NCN2c1ccccc1)c1ccc(F)cc1', 'CC(C)(C)C(O)/C=C/c1ccc2c(c1)OCO2', 'NS(=O)(=O)c1ccc(N2C(=O)CC(c3ccccc3)C2=O)c(Cl)c1', 'Cc1cc(NS(=O)(=O)c2ccc(N)cc2)no1', 'CCS(=O)(=O)C(C)(C)S(=O)(=O)CC', 'COc1ccc(S(N)(=O)=O)cc1C(=O)NCC1CCCN1C', 'NS(=O)(=O)c1ccc(N2CCCCS2(=O)=O)cc1', 'CCN1CCCC1CNC(=O)c1cc(S(=O)(=O)CC)ccc1OC', 'CCC(=O)N1CCN(C(=O)OC2C3=C(SCCS3)C(=O)N2c2ccc3ccc(Cl)nc3n2)CC1', 'CN1CCN(C(=O)OC2C3=C(SCCS3)C(=O)N2c2ccc3ccc(Cl)nc3n2)CC1', 'CC(C)NS(=O)(=O)CCN1C(=O)c2ccccc2C1=O', 'Cn1c(=O)c2c(ncn2CCN2CCC(c3c[nH]c4ccccc34)CC2)n(C)c1=O', 'CN(C)CCCN1c2ccccc2C(c2ccccc2)=Nc2cccnc21', 'CCn1c2c(c3ccccc31)CCSC2(C)CCN(C)C', 'O=C(O)CC(O)(CC(=O)O)C(=O)O.O=C1[C@H]2[C@@H]3CC[C@@H](C3)[C@H]2C(=O)N1CCCCN1CCN(c2ncccn2)CC1', 'Cc1nc(C)c2c(n1)N(Cc1ccc(-c3ccccc3-c3nn[nH]n3)cc1)C(=O)CC2', 'OCCN1CCN(CCCC2c3ccc(F)cc3Sc3ccc(C(F)(F)F)cc32)CC1', 'O=C1NCCNC1c1cccs1', 'CCCN1CC=C(c2c[nH]c3ccc(Cl)cc23)CC1', 'CCCC(CC)C1(CC)C(=O)NC(=O)NC1=O', 'O=C1CCC(N2C(=O)c3ccccc3C2=O)C(=O)N1', 'CN(C)CCN1C(=O)CC(c2ccccc2)Sc2ccccc21', 'CC(=O)OCCN1CCN(CCCN2c3ccccc3Sc3ccc(Cl)cc32)CC1', 'CN(C)C1=NC(=O)C(c2ccccc2)O1', 'CN1c2ccccc2C(NCCCCCCC(=O)O)c2ccc(Cl)cc2S1(=O)=O', 'Cc1csc2ccc3[nH]c4c(c3c12)CN(C)CC4', 'S=C1NCCC(COc2ccccc2)O1', 'CN1CCN2c3cc(F)ccc3C(c3cccs3)=NCC2C1', 'N=C1SCCN1c1ccc(Cl)cc1N', 'CSC(=O)C1(OC(C)=O)[C@@H](C)C[C@H]2[C@@H]3CCC4=CC(=O)C=C[C@]4(C)C3(F)[C@@H](O)C[C@@]21C', 'CCS(=O)(=O)CCn1c([N+](=O)[O-])cnc1C', 'CN1CC(CSc2ccccn2)C=C2c3cccc4[nH]cc(c34)CC21', 'CCCSc1ccccc1N1CCN(CCCCn2c(=O)[nH]c3ccccc3c2=O)CC1', 'O=C1CC2(CCCC2)CC(=O)N1CCCCN1CCN(c2nsc3ccccc23)CC1', 'COc1cc2c(cc1OC)S(=O)(=O)OC(C(=O)NC(C)CC(C)(C)N(C)C)C2', 'CC(Cc1ccccc1)NCCC1c2ccccc2Sc2ccccc21', 'C[C@]12C[C@H](O)[C@H]3[C@@H](CCC4=CC(=O)CC[C@@]43C)[C@@H]1CC[C@]2(O)C(=O)CS', 'CC(C)(C)C(=O)SCC(=O)[C@@]1(O)CC[C@H]2[C@@H]3CCC4=CC(=O)CC[C@]4(C)[C@H]3[C@@H](O)C[C@@]21C', 'Cc1ccccc1OCC(COC(O)C(Cl)(Cl)Cl)OC(O)C(Cl)(Cl)Cl', 'Cc1cccc(N2CCN(CCc3cc(C)[nH]n3)CC2)c1', 'CCC1(O)CCN2CCc3ccc(C)cc3C2C1', 'Cc1ccc(S(=O)(=O)CCN2C(=O)CN=C(c3ccccc3Cl)c3cc(Cl)ccc32)cc1', 'CCCCCC(=O)CC[C@]1(C)[C@@H]2Cc3ccc(O)cc3[C@@]1(C)CCN2C', 'CC1(C)O[C@@H]2CO[C@@]3(COS(N)(=O)=O)OC(C)(C)O[C@H]3[C@@H]2O1', 'CC(CNC(=O)c1ccccc1)C(=O)OCC(=O)[C@@]12OC(C)(C)O[C@@H]1C[C@H]1[C@@H]3CCC4=CC(=O)C=C[C@]4(C)[C@@]3(F)[C@@H](O)C[C@@]12C', 'CC1(C)O[C@@H]2C[C@H]3[C@@H]4CCC5=CC(=O)C=C[C@]5(C)[C@@]4(F)[C@@H](O)C[C@]3(C)[C@]2(C(=O)COC(=O)c2cc3ccccc3o2)O1', 'OC(Br)(Br)CBr', 'O=P(O)(O)OCC(Cl)(Cl)Cl', 'COc1cc(NCc2ccc3nc(N)nc(N)c3c2C)cc(OC)c1OC', 'N/C(N=O)=C1\\\\NNc2ccccc2N(Cc2ccccc2)C1=O', 'N[C@@H](Cc1c[nH]c2ccccc12)C(=O)O', 'C=CCONC1=Nc2ccc(Cl)cc2C(c2ccccc2Cl)=NC1', 'CCCCN1C(=O)C2C(=O)N(CCCCN3CCN(c4ccccc4OC)CC3)C(=O)C(C1=O)C2(C)C', 'CCOC(N)=O', 'CC(C)[C@H](N)C(=O)OCCOCn1cnc2c(=O)nc(N)[nH]c21', 'CCCC(CCC)(CCC)C(N)=O', 'CCCC(CCC)C(=O)OCOC(=O)C(C)(C)C', 'Nc1c2c(nc3ccccc13)CCCC2O', 'COc1ccc(C(CN(C)C)C2(O)CCCCC2)cc1', 'C=CCN1CCCC1CNC(=O)c1cc(S(N)(=O)=O)cc(OC)c1OC', 'C=CC(N)CCC(=O)O', 'C=COC=C', 'Cc1c(C)c2c(c(C)c1O)CC[C@@](C)(CCC[C@H](C)CCC[C@H](C)CCCC(C)C)O2', 'FC(F)(F)c1cccc(C2=CCN(CCc3ccc4ccccc4c3)CC2)c1', 'C=C1C[C@H](C)[C@H]2[C@H]3Cc4ccc(O)cc4[C@@]2(CCN3CC2CCC2)C1', 'Cc1cccc(C)c1NC1=NCCCS1', 'CC(C)C(CCCCCC(=O)O)NCc1ccc(F)cc1', 'O=C1[C@H]2[C@H]3C=C[C@H]([C@@H]4C=C[C@@H]43)[C@H]2C(=O)N1CCCCN1CCN(c2ncccn2)CC1', 'Cc1nn(C)c2c1C(c1ccccc1F)=NCC(=O)N2C', 'COc1ccccc1N1CCN(CCc2oc(=O)[nH]c2-c2ccc(F)cc2)CC1', 'CC(c1noc2ccc(Cl)cc12)n1ccnc1', 'CN(C)CCOC1=Cc2ccccc2Sc2ccc(Cl)cc21', 'CCN[C@H](Cc1ccccc1)[C@H]1CCCO1', 'CN(C)Cc1nnc2n1-c1ccc(Cl)cc1C(c1ccccc1)=NC2', 'C=CCN1C(=O)C(CC(C)C)NC1=S', 'CC(=O)[C@@]1(O)[C@H](O)C[C@H]2[C@@H]3CCC4=CC(=O)CC[C@]4(C)[C@H]3CC[C@@]21C', 'CC(CN(C)C)CN1c2ccccc2Sc2ccccc21', 'CCOC(=O)c1[nH]c2cc(OC)c(OC)cc2c1CCN1CCN(c2ccccc2)CC1', 'CCC(=O)OC1(c2ccccc2)CCN(C)CC1C', 'CCCN(CCC)C(=O)Cc1c(-c2ccc(Cl)cc2)nc2ccc(Cl)cn12', 'CNCCCC1(C)C(=O)N(c2ccccc2)c2ccccc21', 'CCn1cc(C(=O)O)c(=O)c2ccc(Cc3ccccc3)nc21', 'Cc1cc(N(C)C)ccc1C[C@H](C)N.O=C(O)[C@H](O)[C@@H](O)C(=O)O', 'CN(C)C(=O)C1(c2ccc(Cl)cc2)CCN(CCCC(=O)c2ccc(F)cc2)CC1', 'COc1ccccc1N1CCN(CCCC(O)c2ccc(F)cc2)CC1', 'CCOC(=O)N1CCC(=O)N(c2ccccc2)c2cc(Cl)ccc21', 'N#Cc1cc(-c2ccccc2)nnc1NCCN1CCOCC1', 'CCC(=O)OCC(=O)[C@@]1(OC(=O)CC)[C@@H](C)C[C@H]2[C@@H]3CCC4=CC(=O)C=C[C@]4(C)[C@@]3(Cl)[C@@H](O)C[C@@]21C', 'O=C(c1cc2ccccc2o1)N1CCN(Cc2ccccc2)CC1', 'Cc1cccc2c1Oc1ccccc1[C@@]1(O)CCN(C)C[C@@H]21', 'CC(NNC(=O)c1ccccc1)c1ccccc1', 'CCC1(c2ccccc2)C(=O)NC(=O)N(C(=O)c2ccccc2)C1=O', 'CNCC12CCC(c3ccccc31)c1ccccc12', 'CC(Cc1ccccc1)N(C)Cc1ccccc1', 'CCCN(c1ccncc1)n1ccc2ccccc21.[Cl-].[H+]', 'CCC(O)C(CC(C)N(C)C)(c1ccccc1)c1ccccc1', 'CC(=O)OCC(=O)[C@@]1(OC(=O)C(C)C)[C@@H](C)C[C@H]2[C@@H]3CCC4=CC(=O)C=C[C@]4(C)[C@@]3(F)[C@@H](O)C[C@@]21C', 'CC(=O)OCC(=O)[C@@]1(O)[C@@H](C)C[C@H]2[C@@H]3CCC4=CC(=O)C=C[C@]4(C)[C@@]3(F)[C@@H](O)C[C@@]21C', 'CNCCCCOc1ccccc1Cc1ccccc1.[Cl-].[H+]', 'CCn1nnn(CCN2CC[C@H](N(C(=O)COC)c3ccccc3F)[C@H](C)C2)c1=O', 'COc1cc(Br)c2oc(C3CCNCC3)cc2c1', 'CN(C)CCOC(c1ccccc1)c1ccc(Br)cc1', 'CCN(CC)CCNC(=O)c1cc(Br)c(N)cc1OC', 'CCCCCCCCCC(=O)OC1(c2ccc(Br)cc2)CCN(CCCC(=O)c2ccc(F)cc2)CC1', 'CCCC1O[C@@H]2C[C@H]3[C@@H]4CCC5=CC(=O)C=C[C@]5(C)[C@H]4[C@@H](O)C[C@]3(C)[C@]2(C(=O)CO)O1', 'CC(C)(C)N1CCC(c2ccccc2)(c2ccccc2)CC1', 'C=CCC1(CC(C)C)C(=O)NC(=O)NC1=O', 'CCCCNCC1COc2ccccc2O1', 'CC(CC1c2ccccc2CCc2ccccc21)CN(C)C', 'NC(=O)C1(N2CCCCC2)CCN(CCCN2c3ccccc3CCc3ccccc32)CC1', 'Fc1ccc2[nH]c3c(c2c1)CN(CCc1ccncc1)CC3', 'CN(C)C(C)(CO)Cc1ccc(Cl)c(Cl)c1.[Cl-].[H+]', 'CN1CCN(C(c2ccccc2)c2ccc(Cl)cc2)CC1', 'CC(=O)OCC(=O)[C@@]1(O)CC[C@H]2[C@@H]3C[C@H](Cl)C4=CC(=O)C=C[C@]4(C)[C@H]3C(=O)C[C@@]21C', 'COC(=O)[C@H]1[C@H]2C[C@@H]3c4[nH]c5ccc(Cl)cc5c4CCN3C[C@H]2C[C@@H](OC(=O)c2cc(OC)c(OC)c(OC)c2)[C@@H]1OC', 'CN(C)CCCN1c2ccccc2CCc2ccc(C#N)cc21', 'OC1(c2cccc(Cl)c2)C2=NCCCN2c2ccccc21', 'CNC1CCN2c3ccccc3CCc3cccc1c32', 'CN(C)CCC=C1c2ccccc2COc2ccccc21', 'COc1ccc([C@H](O)CN2CCN(c3cccccc3=O)CC2)cc1OC', 'CN(C/C=C/c1ccccc1)CCOC(c1ccccc1)c1ccccc1', 'CCOc1cc(N)c([N+](=O)[O-])cc1C(=O)NC1CCN(CC2CC=CCC2)CC1', 'CCNC(=O)/C=C/c1cccc(Br)c1', 'COc1cc(/C=C/C(N)=O)cc(OC)c1OC', 'CN(C)CCCC1(c2ccc(F)cc2)OCc2cc(C#N)ccc21', 'NC(=O)C1c2ccccc2C=Cc2ccccc21', 'CN(C)CC(O)C(c1ccccc1)c1ccc(Cl)cc1', 'Cc1ncc2n1-c1ccc(Cl)cc1C(c1ccccc1Cl)=NC2', 'CCC(=O)O[C@]1(C(=O)CCl)[C@@H](C)C[C@H]2[C@@H]3CCC4=CC(=O)C=C[C@]4(C)[C@@]3(F)[C@@H](O)C[C@@]21C', 'CCN(CC)CCNC(=O)COc1ccc(Cl)cc1', 'CN(C)CCCC1c2ccccc2Nc2ccc(Cl)cc21', 'CN1CCC(=C2c3ccccc3Oc3ccc(Cl)cc32)CC1', 'CN1CCN(C2=Nc3ccccc3Sc3ccc(Cl)cc32)CC1', 'O=C1CN2CCOC2(c2ccccc2Cl)c2cc(Cl)ccc2N1', 'OCCN1CCN(CCCN2c3ccccc3Sc3cc(Cl)cnc32)CC1', 'C/C=C/C(=O)N(CCC)C(CC)C(=O)N(C)C', 'CC(CN(C)C)CN1c2ccccc2Sc2ccc(C#N)cc21', 'O=C1N=C(NC2CC2)OC1c1ccccc1', 'NC1CCCC1c1ccccc1', 'ON1CC(=NCC2CC2)N=c2ccc(Cl)cc2=C1c1ccccc1', 'CN1CCCc2cccc(OCC3CNCCO3)c21', 'CN(C)CC1=Cc2ccccc2Sc2ccccc21', 'CN(C)[C@@H](CCOc1cccc2ccccc12)c1ccccc1', 'CCC(=O)O[C@](Cc1ccccc1)(c1ccccc1)[C@H](C)CN(C)C.[Cl-].[H+]', 'CC1=Nc2ccccc2CC(c2ccccc2)N1C', 'O=C(c1ccc(F)cc1)C1CCN(CCCn2c(=O)[nH]c3ccccc32)CC1', 'CC(=O)OCC(=O)[C@@]12N=C(C)O[C@@H]1C[C@H]1[C@@H]3CCC4=CC(=O)C=C[C@]4(C)[C@H]3[C@@H](O)C[C@@]12C', 'CN1C[C@@H](CC#N)CC2c3cccc4[nH]cc(c34)C[C@H]21', 'O=C1CN=C(c2ccccc2Cl)c2cc(Cl)ccc2N1', 'CNCCON=c1c2ccccc2ccc2ccccc12', 'CN(C)CCCN1c2ccccc2C=Cc2ccccc21', 'FC(F)OC(F)C(F)(F)F', 'CN1CCC23c4c5ccc(O)c4OC2CCCC3C1C5', 'CC(C)[C@@]1(O)CCN2C[C@@H]3c4ccccc4CCc4cccc(c43)[C@H]2C1', 'CC(CN1CCOCC1)C(C(=O)N1CCCC1)(c1ccccc1)c1ccccc1', 'C=CCN1CCC23c4c5ccc(OC(C)=O)c4OC2C(OC(C)=O)C=CC3C1C5', 'CN(C)CCN1C(=O)c2ccccc2N(C)c2ccccc21', 'Cc1ccc2c(c1)C1CN(C)CCC1N2', 'CN1C(=O)CCS(=O)(=O)C1c1ccc(Cl)c(Cl)c1', 'COc1ccc2c(c1)CN(C)CC2c1ccc(Cl)c(Cl)c1', 'CCN(CC)CCN1c2ccccc2Sc2ccccc21', 'Clc1ccc(C(OCCN2CCOCC2)c2ccccc2)cc1', 'CC(=O)OCC(=O)[C@@]1(OC(C)=O)[C@@H](C)C[C@H]2[C@@H]3C[C@H](F)C4=CC(=O)C=C[C@]4(C)[C@@]3(F)[C@@H](O)C[C@@]21C', 'CN(C)CCCN1c2ccccc2C(C)(C)c2ccccc21', 'CN(C)CC/C=C1/c2ccccc2CSc2ccccc21.[Cl-].[H+]', 'O=C1C(O)N=C(c2ccccc2F)c2cc(Cl)ccc2N1CCO', 'O=C1NCNC1(c1ccccc1)c1ccccc1', 'CC(=O)[C@@]1(O)[C@@H](C)C[C@H]2[C@@H]3CCC4=CC(=O)C=C[C@]4(C)[C@@]3(F)[C@@H](O)C[C@@]21C', 'CC1(C)O[C@@H]2C[C@H]3C4CCC5CC(=O)CCC5(C)[C@@]4(F)[C@@H](O)CC3(C)[C@]2(C(=O)CO)O1', 'Cn1cc(CCN2CCN(c3ccccc3Cl)CC2)cn1', 'O=C(NCCCN1CCOCC1)c1ccc(Cl)cc1', 'CN1CCC2(C)CC(Cc3ccc(O)cc32)C1', 'CCC1(c2ccccc2)C(=O)N(COC)C(=O)N(COC)C1=O', 'CCN1C(=O)NC(c2ccccc2)C1=O', 'CCOC(=O)C1N=C(c2ccccc2F)c2cc(Cl)ccc2NC1=O', 'CNC1CCc2ncsc2C1', 'O=C(CCCl)NCCc1ccccc1', 'O=C1C=CC=C/C1=C1/NN=CO1', 'Fc1ccccc1C1=NCCN(CC(F)(F)F)c2ccc(Cl)cc21', 'CN(C)C1CCc2[nH]c3c(F)cc(F)cc3c2C1', 'C[C@@H]1C[C@H]2[C@@H]3C[C@H](F)C4=CC(=O)C=C[C@]4(C)[C@@]3(F)[C@@H](O)C[C@]2(C)[C@@]1(O)C(=O)CO', 'C[C@@H]1C[C@H]2C3C[C@H](F)C4=CC(=O)C=CC4(C)[C@@]3(F)[C@@H](O)CC2(C)[C@@]1(O)C(=O)COC(=O)C(C)(C)C', 'CC1(C)O[C@@H]2CC3[C@@H]4C[C@H](F)C5=CC(=O)C=CC5(C)[C@H]4[C@@H](O)C[C@]3(C)[C@]2(C(=O)CO)O1.CC1(C)O[C@@H]2CC3[C@@H]4C[C@H](F)C5=CC(=O)C=CC5(C)[C@H]4[C@@H](O)C[C@]3(C)[C@]2(C(=O)CO)O1.O', 'CC1(C)O[C@@H]2C[C@H]3[C@@H]4C[C@H](F)C5=CC(=O)C=C[C@]5(C)[C@@]4(F)[C@@H](O)C[C@]3(C)[C@]2(C(=O)CO)O1', 'CCCCOC(=O)C(=O)[C@H]1[C@H](C)C[C@H]2[C@@H]3C[C@H](F)C4=CC(=O)C=C[C@]4(C)[C@H]3[C@@H](O)C[C@@]21C', 'C[C@@H]1C[C@H]2[C@@H]3C[C@H](F)C4=CC(=O)C=C[C@]4(C)[C@H]3[C@@H](O)C[C@]2(C)[C@H]1C(=O)CO', 'CC(=O)[C@@]1(O)CC[C@H]2[C@@H]3C[C@H](C)C4=CC(=O)C=C[C@]4(C)[C@@]3(F)[C@@H](O)C[C@@]21C', 'CN1CCN(C2=Nc3cc(F)ccc3Cc3ccccc32)CC1', 'CC(=O)O[C@@H](C)C(=O)[C@@]1(O)CC[C@H]2[C@@H]3CCC4=CC(=O)C=C[C@]4(C)[C@@]3(F)[C@@H](O)C[C@@]21C', 'C=C1C[C@H]2[C@@H]3CCC4=CC(=O)C=C[C@]4(C)[C@@]3(F)C(O)C[C@]2(C)[C@@]1(O)C(=O)CO', 'CNCCSC1=Cc2cc(F)ccc2Oc2ccccc21', 'O=C1CN=C(c2ccccc2F)c2cc(Cl)ccc2N1CC1CC1', 'COc1ccc2c3c1O[C@H]1C[C@@H](O)C=C[C@@]31CCN(C)C2', 'N=C(N)NCCCOc1ccccc1', 'C[C@@H]1CC2[C@@H]3C[C@H](F)C4=CC(=O)C(Cl)=C[C@]4(C)[C@@]3(F)[C@@H](O)C[C@]2(C)[C@@]1(O)C(=O)CO', 'CCC1(C2=CCCCCC2)C(=O)NC(=O)NC1=O', 'CN1CCC(OC2c3ccccc3CCc3ccccc32)CC1', 'CN1CCCN(C(c2ccccc2)c2ccc(Cl)cc2)CC1', 'CC(=O)OCC(=O)[C@@]1(O)CC[C@H]2[C@@H]3CCC4=CC(=O)CC[C@]4(C)[C@H]3[C@@H](O)C[C@@]21C', 'CCCC(=O)O[C@]1(C(=O)COC(=O)CC)CC[C@H]2[C@@H]3CCC4=CC(=O)CC[C@]4(C)[C@H]3[C@@H](O)C[C@@]21C', 'CCCC(=O)O[C@]1(C(=O)CO)CC[C@H]2[C@@H]3CCC4=CC(=O)CC[C@]4(C)[C@H]3[C@@H](O)C[C@@]21C', 'CCOC(=O)C1(c2cccc(O)c2)CCN(C)CC1', 'c1ccc2c(CCC3CCNCC3)c[nH]c2c1', 'CN(C)CC#CC=C1c2ccccc2C=Cc2ccccc21', 'CN(C)CCCn1c2c(c3ccccc31)CCCCCC2', 'CC(C)NNC(=O)c1ccncc1', 'CCC(=O)C(c1ccccc1)(c1ccccc1)C(C)CN(C)C', 'C=C1CC2C3C=CC4=CC(=O)CCC4(C)C3C(O)CC2(C)[C@@]1(O)C(=O)CO', 'CCN(CC)C(C)CN1c2ccccc2Sc2ccccc21', 'CN(C)CCCN1c2ccccc2CC(=O)c2ccccc21', 'N[C@@H](Cc1ccc(O)c(O)c1)C(=O)O', 'COc1ccc2c(c1)N(C[C@H](C)CN(C)C)c1ccccc1S2', 'CCO[C@H]1CCN(C(=O)c2cc(-c3ccccc3)c(=O)n3c2-c2cc(Cl)ccc2CC3)C1', 'c1ccc2cc(COC3CCNCC3)ccc2c1', 'CN1C(CC(=O)c2ccccc2)CCCC1CC(O)c1ccccc1', 'Clc1ccc(N2CCN(C/C=C/c3ccccc3)CC2)nn1', 'Cl/C(=C\\\\n1cncn1)c1ccc(Cl)cc1Cl', 'CN1C[C@@H]2[C@@H](Cc3ccc(Cl)cc3[C@H]2c2ccccc2)C1', 'CN1CCC2=C(CC1)c1ccccc1Oc1ccccc12', 'CC(C)Oc1ccccc1N1CCN(Cc2cccc(C(=O)N3CCCCC3)c2)CC1.O=C(O)CCC(=O)O', 'CN(C)CC(Oc1ccccc1)Oc1ccccc1', 'CN1C(=O)CN=C(C2=CCCCC2)c2cc([N+](=O)[O-])ccc21', 'CCC1(c2ccccc2)NC(=O)N(C)C1=O', 'Cc1cc(CCN2CCN(c3cccc(Cl)c3)CC2)n[nH]1', 'C[C@H]1C[C@H]2[C@@H]3CCC4=CC(=O)C=C[C@]4(C)[C@H]3C(=O)C[C@]2(C)[C@@]1(O)C(=O)CO', 'CC(C(=O)c1ccccc1)N(C)C', 'CNC1Cc2ccccc2N(C)c2ccccc21', 'CC1C2Cc3ccc(O)cc3C1(C)CCN2C', 'CCC1(c2ccccc2)C(=O)NC(=O)N1C', 'CC1(C)NC(=O)C(/C=C/c2ccccc2)O1', 'CSc1ccc2c(c1)N(CC(C)CN(C)C)c1ccccc1S2', 'CN1C(=O)CC(C)(c2ccccc2)C1=O', 'C[C@H]1C[C@H]2[C@@H]3CC[C@](O)(C(=O)CO)[C@@]3(C)C[C@H](O)[C@@H]2[C@@]2(C)C=CC(=O)C=C12', 'CC(=O)OCC(=O)[C@@]1(O)CC[C@H]2[C@@H]3C[C@H](C)C4=CC(=O)C=C[C@]4(C)[C@H]3[C@@H](O)C[C@@]21C', 'CSc1ccc2c(c1)C(N1CCN(C)CC1)Cc1ccccc1S2', 'COC(=O)c1cncn1C(C)c1ccccc1', 'Cc1ncc2n1-c1ccc(Cl)cc1C(c1ccccc1F)=NC2', 'O=C(c1ccc(F)cc1)C1CCN(CCCn2c(=O)[nH]c3cc(Cl)ccc32)CC1', 'COc1cc2[nH]c(C)c(CCN3CCN(c4ccccc4OC)CC3)c2cc1OC', 'CCN(CC)C(=O)[C@]1(c2ccccc2)C[C@@H]1CN.[Cl-].[H+]', 'COc1ccc2c(C3CCN(CCCC(=O)c4ccc(F)cc4)CC3)c(C)[nH]c2c1', 'O=C(c1ccco1)N(c1cnccn1)C1CCN(CCc2ccccc2)CC1', 'Cc1nccnc1N1CCCCC1', 'CCc1c(C)[nH]c2c1C(=O)C(CN1CCOCC1)CC2', 'CN(C)CC[C@]1(c2ccccc2)CCc2ccccc2C1=O', 'c1ccc(C2CCN(CC3CCCc4c3ccc3c4OCO3)C2)cc1', 'CC1CN(C)CC2Cc3c(ccc4ccccc34)OC12O', 'C=CCC1(CC(C)(C)C)C(=O)NC(=O)NC1=O', 'NCC1CC(=O)N(Cc2ccccc2)C1', 'CN1CCOC(c2ccccc2)c2ccccc2C1', 'CNc1cc(OC)c(C(=O)N[C@@H]2CCN(Cc3ccccc3)[C@@H]2C)cc1Cl', 'COc1cc2c(cc1OC)C(c1ccc(N)cc1)=NN=C(C)C2', 'COc1ccc2c3c1OC1C(OC(=O)c4cccnc4)CCC4C(C2)N(C)CCC341', 'O=C(CCCN1CC2CCC(CC2)C1)c1ccc(F)cc1', 'COc1ccc2c3c1OC1C(O)C=CC4C(C2)NCCC341', 'CCC(=O)C(CCN(C)C)(c1ccccc1)c1ccccc1', 'COCC(=O)N(c1ccccc1F)C1CCN(CCc2ccccc2)CC1', 'Cc1cc2c(s1)=Nc1ccccc1NC=2N1CCN(C)CC1', 'OCCN1CCN(CCCN2c3ccccc3C=Cc3ccccc32)CC1', 'C[C@@H]1CN2CC(=O)Nc3ccc(Cl)cc3[C@]2(c2ccccc2)O1', 'Oc1ccc2c(c1)[C@@]13CCCC[C@@]1(O)[C@@H](C2)N(CC1CC1)CC3', 'COc1cc2[nH]c(C)c(CCN3CCN(c4ccccc4)CC3)c2cc1OC', 'COc1ccc2c(c1)N(CCC1CCCCN1C)c1ccccc1S2', 'CCC1(C)OC(=O)N(C)C1=O', 'NC(=O)CN1C(=O)COc2ccccc21', 'Nc1nc(=O)c2ncn(CCC(CO)CO)c2[nH]1', 'CC(C)CCNCC1COc2ccccc2O1', 'C1CCc2nnnn2CC1', 'COc1ccc2c(c1)N(CC(C)CN1CCC(O)CC1)c1ccccc1S2', 'OC(CN1CCCCC1)c1cc(-c2ccccc2)on1', 'CC(=O)OC(c1ccccc1)C1CCCCN1', 'CC(C)(O)C(C)(O)c1ccc(Cl)cc1', 'C[C@H]1[C@H](c2ccccc2)OCCN1C', 'NNCCc1ccccc1.[Cl]', 'CC(Cc1ccccc1)NN', 'Oc1ccc2c(c1)C13CCCCC1C(C2)N(CCc1ccccc1)CC3', 'CN1CCC(=C2c3ccccc3Sc3ccccc32)CC1', 'OC(c1ccccc1)(c1ccccc1)C1CCCCN1', 'c1cnc(N2CCN(Cc3ccc4c(c3)OCO4)CC2)nc1', 'CN(C)CCCN1c2ccccc2CCc2ccccc21', 'CC(=O)OCC(=O)[C@@]1(O)CC[C@H]2[C@@H]3CCC4=CC(=O)C=C[C@]4(C)[C@H]3[C@@H](O)C[C@@]21C', 'Cc1c2c(cn1C)NC(=O)CN=C2c1ccccc1', 'COc1ccc(C#N)cc1C(=O)NCCN1CCC(C(=O)c2ccc(F)cc2)CC1', 'CCC(=O)OCC(=O)[C@@]12OC(C)(C)O[C@@H]1CC1C3C[C@H](F)C4=CC(=O)C=CC4(C)[C@@]3(F)C(O)CC12C', 'CC(CN1c2ccccc2Sc2ccccc21)N(C)C', 'CCCOC(=O)c1cncn1C(C)c1ccccc1', 'CN(C)CCCN1c2ccccc2Sc2cccnc21', 'Cc1[nH]nc2c1N(c1ccccc1)C(=O)CC(=O)N2C', 'O=C1c2ccccc2S(=O)(=O)N1CCCN1CCN(c2ncccn2)CC1', 'O=C1CCC2CCC(=O)N12', 'Cc1cccc(/C=N/N2CCN(C(c3ccccc3)c3ccccc3)CC2)n1', 'NC(=O)c1cn(Cc2c(F)cccc2F)nn1', 'CN(c1nc2ccccc2s1)C1CCN(CC(O)COc2ccc(F)cc2)CC1', 'NCCC(Oc1ccc(C(F)(F)F)cc1)c1ccccc1', 'CN1CCN(c2ncc(-c3cc(Cl)cc(Cl)c3Cl)c(N)n2)CC1', 'Clc1ccc([C@@H]2[C@H]3CC[C@@H](C3)C23CCC(N2CCOCC2)=N3)cc1', 'O=C1NCN(c2ccccc2)C12CCN(CC1COc3ccccc3O1)CC2', 'CN1C(=S)CN=C(c2ccccc2)c2cc(Cl)ccc21', 'CCC(C)(S(=O)(=O)CC)S(=O)(=O)CC', 'CCN1CCCC1CNC(=O)c1cc(S(N)(=O)=O)ccc1OC', 'O=C1NCCCC1N1C(=O)c2ccccc2S1(=O)=O', 'C=CCC1(C(C)CC)C(=O)NC(=O)NC1=O', 'CN1CCN(C2=Nc3cscc3/C(=C/C#N)c3cscc32)CC1', 'CCCC(CC)C1(CC)C(=O)NC(=S)NC1=O', 'CCN(CC)CCNC(=O)c1cc(S(C)(=O)=O)ccc1OC', 'CCC(=O)O[C@]1(C(=O)SC)[C@H](C)CC2C3C[C@H](F)C4=CC(=O)C=CC4(C)[C@@]3(F)[C@@H](O)C[C@@]21C', 'CCN1CCc2[nH]c3cc(F)c4scc(C)c4c3c2C1', 'CCNC1(c2cccs2)CCCCC1=O', 'Cc1cccc(N2CC(CO)OC2=O)c1', 'CNCC[C@@H](Oc1ccccc1C)c1ccccc1', 'Cc1ccccc1N1CCN(CCCOc2ccccn2)CC1', 'COc1cc2c(cc1OC)[C@@H](c1ccccc1)CN(C)CC2', 'CC1(C)O[C@@H]2C[C@H]3[C@@H]4CCC5=CC(=O)C=C[C@]5(C)[C@@]4(F)[C@@H](O)C[C@]3(C)[C@]2(C(=O)CO)O1', 'CC(=O)OCC(=O)[C@@]1(O)[C@H](OC(C)=O)C[C@H]2[C@@H]3CCC4=CC(=O)C=C[C@]4(C)[C@@]3(F)[C@@H](O)C[C@@]21C', 'CC(C)(C)CC(=O)OCC(=O)[C@@]12OC(C)(C)O[C@@H]1C[C@H]1[C@@H]3CCC4=CC(=O)C=C[C@]4(C)[C@@]3(F)[C@@H](O)C[C@@]12C', 'O=C(Nc1ccc(O)cc1)C(Cl)(Cl)Cl', 'CN1C(=O)CC(=O)N(c2ccccc2)c2cc(C(F)(F)F)ccc21', 'CC(CN(C)C)CN1c2ccccc2Sc2ccc(C(F)(F)F)cc21', 'COc1cccc(C(=O)NC2C[C@@H]3CC[C@H](C2)N3Cc2ccccc2)c1OC', 'CN1c2ccccc2C(c2ccccc2Cl)=NCC1(Cl)CO', 'CC1CC2C3CC(F)C4=CC(=O)C=CC4(C)C3(F)C(O)CC2(C)C1(O)C(=O)CCl', 'C=CCC(CC)(CC)C(N)=O', 'CCC(C)C(CC)C(N)=O', 'CO[C@@H]1O[C@H]2O[C@]3(CN4CCCCC4)[C@@H](O)C[C@@H]([C@H]13)[C@H]2C', 'CCCC(CCC)C(N)=O', 'CC/C=C(\\\\C)C1(CC)C(=O)NC(=O)NC1=O', 'C=CC1CNCCC1CCCc1ccnc2ccc(OC)cc12', 'CCCCCCOc1nsnc1C1=CCCN(C)C1', 'CN(C)C/C=C(/c1ccc(Br)cc1)c1cccnc1', 'CC1=C2C(c3cccc(Cl)c3)=NCCN=C2N(C)N1', '[N-]=[N+]=O', 'O=c1[nH]c2cc(Cl)c(Cl)c([N+](=O)[O-])c2[nH]c1=O', 'C[S+](CC[C@H](N)C(=O)[O-])C[C@H]1O[C@@H](n2cnc3c(N)ncnc32)[C@H](O)[C@@H]1O', 'CC(Cc1ccccc1)n1cc([N-]C(=O)Nc2ccccc2)[o+]n1', 'CCc1c(C)[n+]([NH-])c(-c2ccc(OC)c(OC)c2)c2cc(OC)c(OC)cc12', '[N-]=[N+]=NCC(=O)N[C@H](CO)[C@H](O)c1ccc([N+](=O)[O-])cc1', 'O=C(CCCN1CCC(n2c(=S)[nH]c3ccccc32)CC1)c1ccc(F)cc1', 'O=[N+]([O-])C1=CC=NC1NCCSCc1ccccn1', 'O=C1CC[C@H]2[C@H]3Cc4cccc(O)c4[C@@]2(CCN3CC2CC2)C1', 'O=C1NC(=O)C(c2ccccc2)(c2ccccc2)N1', 'CCCCOC(=O)C(=O)C1C(C)CC2C3CC(F)C4=CC(=O)C=CC4(C)C3C(O)CC21C', 'CCC(Br)(CC)C(=O)NC(N)=O', 'NC1=NC(C(F)(F)F)(C(F)(F)F)NC1(C(F)(F)F)C(F)(F)F', 'COC1=CC(=O)OC1C(O)c1ccccc1Cl', 'Oc1ccc2c3c1OC1C(O)C=CC4C(C2)NCCC341', 'NC12CC3CC(CC(C3)C1)C2.[Cl-].[H+]', 'CC(C)=CCN1CC[C@@]2(C)c3cc(O)ccc3C[C@@H]1[C@H]2C', 'CN(C)C(=O)C(CCN1CCC(O)(c2ccc(Cl)cc2)CC1)(c1ccccc1)c1ccccc1', 'C[C@H]1C[C@H]2[C@@H]3CC[C@](O)(C(=O)COC(=O)CCC(=O)O)[C@@]3(C)C[C@H](O)[C@@H]2[C@@]2(C)C=CC(=O)C=C12', 'CC1=C(C(=O)O)N2C(=O)[C@@H](NC(=O)[C@H](N)C3=CCC=CC3)[C@H]2SC1', 'Cc1nnc2n1-c1ccc(Cl)cc1C(c1ccccc1Cl)=NC2', 'CN(C)CCCN1c2ccccc2C=Cc2sccc21', 'C=C1CC2C3CCC4=CC(=O)C=CC4(C)C3C(O)CC2(C)C1(O)C(=O)CO', 'FC(F)(F)CCl', 'O=C1CC(c2cccc(Br)c2)C(=O)N1', 'CCOC(=O)c1cncn1C(C)c1ccc(F)cc1', 'O=C(CCCN1CCC(O)(c2ccc(Cl)cc2)CC1)c1ccc(F)cc1', 'O=C1NC2CCCCN2C12CCN(CCCN1c3ccccc3CCc3ccc(Cl)cc31)CC2', 'OC(CCCN1CCc2c(c3cc(F)ccc3n2-c2ccc(F)cc2)C1)c1ccc(F)cc1', 'O=c1[nH]cc(F)c(=O)[nH]1', 'CCC(Br)(C(N)=O)C(C)C', 'CCO[C@H]1C[C@@]2(C)[C@@H](CC[C@H]3[C@@H]4CC[C@H](C(C)=O)[C@@]4(C)C[C@@H](N(C)C)[C@@H]32)C[C@@H]1O', 'CO[C@H]1CC[C@H]2[C@H]3Cc4ccc(O)c5c4[C@@]2(CCN3C)[C@H]1O5', 'Cc1ccnc2c1NC(=O)c1cccnc1N2C1CC1', 'CCC1(c2ccccc2)C(=O)NC(=O)NC1=O', 'COc1cc2c(c(OC)c1OC)-c1ccc(OC)c(=O)cc1[C@@H](NC(C)=O)CC2', 'CN1CCN(C2=Nc3ccccc3Cc3ccccc32)CC1', 'COc1ccc(C(=O)N2CCCC2=O)cc1', 'C[C@H]1c2cccc(O)c2C(O)=C2C(=O)[C@]3(O)C(=O)/C(=C(/N)O)C(=O)[C@@H](N(C)C)[C@@H]3[C@@H](O)[C@@H]21.O', 'NC(=O)c1ncn([C@@H]2O[C@H](CO)[C@@H](O)[C@H]2O)n1', 'CN(C)CCOC(C)(c1ccccc1)c1ccc(Cl)cc1', 'CCNCC(O)c1cccc(O)c1', 'CC(CCN1CCN(c2ccc(F)cc2)CC1)NC(=O)c1cccnc1', 'CN1CCC23c4c5ccc(O)c4OC2C(O)CCC3C1C5', 'O=C(CCCN1CCN(c2ccccn2)CC1)c1ccc(F)cc1', 'NC/C(=C/F)CCc1ccc(F)cc1', 'Cn1nnnc1SCC1=C(C(=O)[O-])N2C(=O)[C@@H](NC(=O)CSC(F)(F)F)[C@H]2SC1.[Na+]', 'COc1ccc2c(c1)C(O)(CCCN(C)C)c1ccccc1S2', 'CN[C@@H](C)Cc1ccccc1', 'O=C(OC1CN2CCC1CC2)c1ccccc1', 'CC(C)c1nc(-c2ncn3c2CN(C)C(=O)c2c(Cl)cccc2-3)no1', 'CC(Cc1ccccc1)NCCn1cnc2c1c(=O)n(C)c(=O)n2C.[Cl-].[H+]', 'CC(=O)N1CCN(C(=O)Cc2cc(F)cc(F)c2)[C@@H](CN2CC[C@@H](O)C2)C1', 'O=C(CCCN1CCC2(CC1)C(=O)NCN2c1ccc(F)cc1)c1ccc(F)cc1', 'CCc1nn(CCCN2CCN(c3cccc(Cl)c3)CC2)c(=O)n1CCOc1ccccc1.[Cl-].[H+]', 'CCS(=O)(=O)CCN1C(=O)CN=C(c2ccccc2F)c2cc(Cl)ccc21', 'C=CCC1(C(C)CCC)C(=O)NC(=O)NC1=O', 'COc1ccc([C@@H]2Sc3ccccc3N(CCN(C)C)C(=O)[C@@H]2OC(C)=O)cc1', 'CO/N=C(\\\\C(=O)N[C@@H]1C(=O)N2C(C(=O)O)=C(Cn3nnc(C)n3)CS[C@H]12)c1csc(N)n1', 'CN(C)[C@@H]1C(=O)/C(=C(/O)NCN2CCCC(C(=O)O)C2)C(=O)[C@@]2(O)C(=O)C3=C(O)c4c(O)cccc4[C@@](C)(O)[C@H]3C[C@@H]12', 'CC(=O)N1CCN(C(=O)Cc2ccc(Cl)c(Cl)c2)[C@@H](CN2CCCC2)C1', 'CCCCn1c(=O)c2c(ncn2CC(C)=O)n(CCCC)c1=O', 'Cn1c(=O)c2[nH]cnc2n(C)c1=O', 'COCCN1CC[C@]23c4c5ccc(O)c4O[C@H]2C(=O)CC[C@@]3(O)[C@H]1C5', 'CC(C)CC1NC(=O)C(CCCN)NC(=O)C(C(C)C)NC(=O)C2CCCN2C(=O)C(Cc2ccccc2)NC(=O)C(CC(C)C)NC(=O)C(CCCN)NC(=O)C(C(C)C)NC(=O)C2CCCN2C(=O)C(Cc2ccccc2)NC1=O', 'C=CC1=C(C(=O)O)N2C(=O)[C@@H](NC(=O)/C(=N\\\\OCC(=O)O)c3csc(N)n3)[C@H]2SC1', 'C[C@]12C[C@H](O)[C@H]3[C@@H](C=C(Cl)C4=CC(=O)C=C[C@@]43C)[C@@H]1CC[C@]2(O)C(=O)CO', 'CC1=CCC2C3Cc4ccc(O)c5c4C2(CCN3C)C1O5', 'CC(=O)O.CN1CCc2cc(Cl)c(O)cc2[C@@H](c2cccc3c2OCC3)C1', 'O=C(CCCN1CCC(C(=O)c2ccc(Cl)cc2)CC1)c1ccc(F)cc1', 'CN(C)CCN(Cc1cccs1)c1ccccn1', 'CC1(C)O[C@@H]2CC3C4C[C@H](F)C5=CC(=O)C=CC5(C)[C@@]4(Cl)[C@@H](Cl)CC3(C)[C@]2(C(=O)CF)O1', 'CN1CCN(C(=O)Cc2ccc(Cl)c(Cl)c2)[C@@H](CN2CCCC2)C1', 'CCOC(=O)C1(c2ccccc2)CCN(C)CC1', 'O=C1CCC(N2C(=O)C3C4CCC(C4)C3C2=O)C(=O)N1', 'NC(N)=NCC1COC2(CCCCC2)O1', 'CNCCCN1c2ccccc2Sc2ccccc21', 'CN(C)CC1COC2(O1)c1ccccc1COc1ccccc12', 'C[N+]1([O-])C2CCC1CC(OC(=O)C(CO)c1ccccc1)C2', 'CC=CCC(C)C(O)C1C(=O)NC(CC)C(=O)N(C)CC(=O)N(C)C(CC(C)C)C(=O)NC(C(C)C)C(=O)N(C)C(CC(C)C)C(=O)NC(C)C(=O)NC(C)C(=O)N(C)C(CC(C)C)C(=O)N(C)C(CC(C)C)C(=O)N(C)C(C(C)C)C(=O)N1C', 'CN(C)CCCn1cc(-c2ccccc2)c(-c2ccccc2)n1', 'NCCn1ncc2cc(Cl)c(Cl)cc21', 'CN(C)C1CCc2[nH]c3ccccc3c2C1', 'COc1cc(Cc2cnc(N)nc2N)cc(OC)c1OC', 'CC1(C)OC(=O)Nc2ccc(Br)cc21', 'CC(C)N1CCOC(c2ccc(C(F)(F)F)cc2)C1', 'COc1ccc(S(N)(=O)=O)cc1C(=O)NCC1CCCN1Cc1ccc(F)cc1', 'CC12CCC(=O)C=C1CCC1C2CCC2(C)C1CCC2(O)C(=O)CO', 'CCCC(C)(COC(N)=O)COC(N)=O', 'CC(C)(C)c1ccc(CN2CCN(C(c3ccccc3)c3ccc(Cl)cc3)CC2)cc1', 'Cc1c[nH+][o+]c(C([NH])CC(C)C(C)(C)N(C(C)(C)C)C(C)(N)N)c1[O-]', 'CN1CCN(c2cc3c(cc2F)c(=O)c(C(=O)O)cn3-c2ccc(F)cc2)CC1', 'CCC(=O)O[C@]1(C(=O)SCCl)[C@H](C)C[C@H]2C3C[C@H](F)C4=CC(=O)C=C[C@]4(C)[C@@]3(F)[C@@H](O)C[C@@]21C', 'CCC[C@@H]1C[C@@H](C(=O)NC(C(C)Cl)[C@H]2O[C@H](SC)[C@H](O)[C@@H](O)[C@H]2O)N(C)C1', 'C[C@]12C[C@H](O)[C@@]3(F)[C@@H](C[C@H](F)C4=CC(=O)C=C[C@@]43C)[C@@H]1C[C@@H](O)[C@]2(O)C(=O)CO', 'CCc1c(OC)nc2nc(-c3noc(C)n3)cn2c1C', 'O=C(OCCN1CCCCC1)C(O)(c1ccccc1)c1ccccc1', 'Cc1nc2n(c(=O)c1CCN1CCC(c3noc4cc(F)ccc34)CC1)CCCC2', 'CN(C)CCC=C1c2ccccc2CCc2ccccc21', 'OC1CCN(c2ccc(-c3ccccc3Cl)nn2)CC1', 'CO[C@H]1[C@@H](O)[C@H](N)[C@@H](O[C@H]2O[C@H](C(C)N)CC[C@H]2N)[C@H](O)[C@@H]1N(C)C(=O)CN', 'COC(=O)[C@@H]1C2CCC(C[C@@H]1OC(=O)c1ccccc1)N2C', 'N[C@@H](C(=O)NC1C(=O)N2C(C(=O)O)=C(Cl)CCC12)c1ccccc1.O', 'CSCC[C@H](NC(C)=O)C(=O)Oc1ccc(NC(C)=O)cc1', 'O=C1N(C(O)C(Cl)(Cl)Cl)CNC1(c1ccccc1)c1ccccc1', 'CC1(C)S[C@@H]2[C@H](NC(=O)[C@@H](N=Cc3ccco3)c3ccc(O)cc3)C(=O)N2[C@H]1C(=O)O', 'CN1/C(=C(/O)Nc2ccccn2)C(=O)c2ccccc2S1(=O)=O', 'CN1C[C@@H](NS(=O)(=O)N(C)C)C[C@@H]2c3cccc4c3c(cn4C)C[C@H]21', 'CC(=O)NCCCOc1cccc(CN2CCCCC2)c1', 'Cc1ncc2n1-c1ccc(Cl)cc1C(c1ccccc1F)=NC2', 'CCOC(=O)NC(O)C(Cl)(Cl)Cl', 'C[C@H](O)[C@H]1C(=O)N2C(C(=O)O)=C(SCCN=CN)C[C@H]12.O', 'CNCCCC12CCC(c3ccccc31)c1ccccc12', 'NC(=O)OCC(COC(N)=O)c1ccccc1', 'O=C1NC(=O)[C@@]2(CCN(C(=O)Cc3ccc(Cl)c(Cl)c3)[C@@H](CN3CCCC3)C2)N1', 'CCN(CC)c1nc2c(s1)c1c(O)c3c(O)c(C)c4c(c32)C(=O)[C@@](C)(O/C=C/[C@H](OC)[C@@H](C)[C@@H](OC(C)=O)[C@H](C)[C@H](O)[C@H](C)[C@@H](O)[C@@H](C)/C=C/C=C(/C)C(=O)N1)O4', 'CC[C@H](NC(=O)c1c(OCCCC(=O)O)c(-c2ccccc2)nc2ccccc12)c1ccccc1', 'CCNC1=NC(=O)C(c2ccccc2)O1', 'C[N+]1(C)CCCC(OC(=O)C(O)(c2ccccc2)c2ccccc2)C1.[Br-]', 'Cc1nnc(SCC2=C(C(=O)O)N3C(=O)[C@@H](NC(=O)[C@H](O)c4ccccc4)[C@H]3SC2)s1', 'Clc1ccccc1C(c1ccccc1)(c1ccccc1)n1ccnc1', 'CCC1(CC)C(=O)C=CNC1=O', 'OC(Cn1ccnc1)c1ccc(CCc2ccccc2)cc1', 'CN(C(=O)C(c1ccccc1)c1ccccc1)[C@H](CN1CC[C@H](O)C1)c1ccccc1', 'NC(Cc1c[nH]c2ccc(O)cc12)C(=O)O', 'O=c1[nH]c2ccccc2c(=O)n1CCN1C[C@H]2C[C@H](c3ccc(F)cc3)[C@H]2C1', 'NC(=O)OCC(O)COc1ccc(Cl)cc1', 'C=C1c2ccccc2CN(CCCN(C)C)c2ccccc21', 'CNC1C(O)C(OC2C(NC(=O)C(O)CN)CC(N)C(OC3OC(CN)C(O)C(O)C3O)C2O)OCC1(C)O', 'NCC1OC(OC2C(N)CC(NC(CO)CO)C(OC3OC(CO)C(O)C(N)C3O)C2O)C(N)C(O)C1O', 'CNC(=NC#N)Nc1cccc(-c2csc(N=C(N)N)n2)c1', 'CN(C)C(=O)CCNc1ccc(Br)cc1', 'CC(C)NCC(O)COc1cccc2ccccc12.[Cl]', 'CC(=O)OCC(=O)[C@@]12OC(C)(C)O[C@@H]1CC1C3CC(C=O)=C4C=C(OCCCl)CCC4(C)[C@@]3(F)C(O)CC12C', 'COc1nc2nc(-c3noc(C)n3)cn2c2c1CCCC2', 'CCC1NC(=O)C(NC(=O)c2ncccc2O)C(C)OC(=O)C(c2ccccc2)NC(=O)C2CC(=O)CCN2C(=O)C(Cc2ccc(N(C)C)cc2)N(C)C(=O)C2CCCN2C1=O', 'CN(CCN(C)CN/C(O)=C1\\\\C(=O)[C@@H](N(C)C)[C@@H]2C[C@H]3C(=C(O)c4c(O)cccc4[C@@]3(C)O)C(=O)[C@]2(O)C1=O)CN/C(O)=C1\\\\C(=O)[C@@H](N(C)C)[C@@H]2C[C@H]3C(=C(O)c4c(O)cccc4[C@@]3(C)O)C(=O)[C@]2(O)C1=O', 'COc1ccc2nc(S(=O)Cc3ncc(C)c(OC)c3C)[nH]c2c1', 'Cn1c(=O)c2c(ncn2C)n(C)c1=O', 'CCC(C)C(N)C1=NC(C(=O)N[C@@H](CC(C)C)C(=O)N[C@H](CCC(=O)O)C(=O)N[C@H](C(=O)NCCCC[C@@H]2NC(=O)[C@H](CC(N)=O)NC(=O)[C@@H](CC(=O)O)NC(=O)[C@H](Cc3cnc[nH]3)NC(=O)[C@@H](Cc3ccccc3)NC(=O)[C@H]([C@@H](C)CC)NC(=O)[C@@H](CCCN)NC2=O)[C@@H](C)CC)CS1', 'Cc1ccsc1C(=CCCN1CCC[C@@H](C(=O)O)C1)c1sccc1C', 'CCC(=O)Nc1ccc(O)cc1', 'CCC(=O)N(c1ccccc1)C1CCN(CCc2ccccc2)CC1', 'NC(=O)C1CCCCO1', 'CCC(=O)N(c1ccccc1)C1(C(=O)OC)CCN(CCc2ccccc2)CC1', 'CC(C)N=c1cc2n(-c3ccc(Cl)cc3)c3ccccc3nc-2cc1Nc1ccc(Cl)cc1', 'Cc1ccc2c(c1)[C@]13CCCC[C@@H]1[C@H](C2)N(C)CC3', 'CN1CCN(CCCN2c3ccccc3Sc3ccc(C(F)(F)F)cc32)CC1', 'Cc1onc(-c2c(Cl)cccc2Cl)c1C(=O)N[C@@H]1C(=O)N2[C@@H](C(=O)O)C(C)(C)S[C@H]12', 'NC(N)=Nc1nc(-c2ccccc2)cs1', 'CCOC(=O)N1CCC(=C2c3ccc(Cl)cc3CCc3cccnc32)CC1', 'CC1(C)S[C@@H]2[C@H](NC(=O)[C@H](NC(=O)c3ccc(-c4ccc(S(=O)(=O)N(CCO)CCO)cc4)[nH]c3=O)c3ccc(O)cc3)C(=O)N2[C@H]1C(=O)[O-].[Na+]', 'O=C1CN=C(c2ccccc2)c2cc(Cl)ccc2N1CC(F)(F)F', 'CN1C[C@@H]2c3cc(Cl)ccc3Oc3ccccc3[C@@H]2C1', 'O=C1NCN(c2ccccc2)C12CCN(CCCC(c1ccc(F)cc1)c1ccc(F)cc1)CC2', 'CN1C(=O)CCS(=O)(=O)C1c1ccc(Cl)cc1', 'CC(=O)Nc1ccc(OC(C)(C)C)cc1', 'CC(=O)c1ccc2c(c1)N(CC(C)N(C)C)c1ccccc1S2', 'OCCN1CCCN(CCCN2c3ccccc3Sc3ccc(C(F)(F)F)cc32)CC1', 'Cc1ccc(C)cc1', 'CCOC(=O)OC(C)OC(=O)[C@@H]1N2C(=O)[C@@H](N=CN3CCCCCC3)[C@H]2SC1(C)C', 'CN1C(=O)CN=C(C2=CCCCC2)c2cc(Cl)ccc21', 'O=C1CCC(c2ccccc2)(C2CCN(C/C=C/c3ccccc3)CC2)C(=O)N1', 'CC1(C)S[C@@H]2[C@H](NC(=O)[C@H](NC(=O)Nc3cnc(Nc4ccc(S(N)(=O)=O)cc4)[nH]c3=O)c3ccc(O)cc3)C(=O)N2[C@H]1C(=O)O', 'Clc1cccc(Cl)c1NC1=NCCN1', 'O=c1c(O[C@@H]2O[C@H](CO)[C@@H](O)[C@H](O)[C@H]2O)c(-c2ccc(O)c(O)c2)oc2cc(O)cc(O)c12', 'CNCCC=C1c2ccccc2C(C)(C)c2ccccc21', 'CC(=O)Oc1ccccc1C(=O)O', 'CCOC(=O)C1(c2ccccc2)CCN(C)CC1.[Cl-].[H+]', 'OC1(c2ccc(Cl)c(C(F)(F)F)c2)CCN(CCCC(c2ccc(F)cc2)c2ccc(F)cc2)CC1', 'CC1(C)S[C@@H]2[C@H](NC(=O)C(C(=O)O)c3ccccc3)C(=O)N2[C@H]1C(=O)O', 'OCCCN1CCN(CCCC2c3ccccc3Sc3ccc(Cl)cc32)CC1', 'C[C@@H]1C[C@H]2[C@@H]3CCC4=CC(=O)C=C[C@]4(C)[C@@]3(F)[C@@H](O)C[C@]2(C)[C@@]1(C)C(=O)CO', 'CC1(c2ccccc2)CC(=O)N(CN2CCOCC2)C1=O', 'CC1(C)S[C@@H]2[C@H](NC(=O)C3(N)CCCCC3)C(=O)N2[C@H]1C(=O)O', 'NC[C@H]1O[C@H](O[C@@H]2[C@@H](N)C[C@@H](N)[C@H](O)[C@H]2O)[C@H](N)[C@@H](O)[C@@H]1O', 'CCCCNc1c(C(=O)OCC)cnc2c1cnn2CC', 'CC(C)(C)NCC(O)COc1cccc2c1CCC(=O)N2', 'CN(C(=O)CN(CCO)CCO)c1ccc(Cl)cc1C(=O)c1ccccc1Cl', 'C=CCC(N)Cc1ccccc1', 'CCN(CC)CC(=O)OCC(=O)[C@@]1(O)CC[C@H]2[C@@H]3CCC4=CC(=O)CC[C@]4(C)[C@H]3[C@@H](O)C[C@@]21C', 'CNCCC(Oc1ccccc1OC)c1ccccc1', 'N#Cc1ccc2c(c1)N(CCCN1CCC(O)CC1)c1ccccc1S2', 'Cc1ccc(Cc2cnc(NCCCCc3ncc(Br)cc3C)[nH]c2=O)cn1', 'CN1C(=O)C(O)N=C(c2ccccc2Cl)c2cc(Cl)ccc21', 'NC(=O)CS(=O)C(c1ccccc1)c1ccccc1', 'CSc1ccc2c(c1)N(CCC1CCCCN1C)c1ccccc1S2', 'CC(=O)OCC1=C(C(=O)O)N2C(=O)[C@@H](NC(=O)Cc3cccs3)[C@H]2SC1', 'Cc1nnc2n1-c1sc(Br)cc1C(c1ccccc1Cl)=NC2', 'COc1cc(/C=C/C(=O)N2CCCCCCC2)cc(OC)c1OC', 'CCc1c(OC)nc2nc(C(=O)c3ccccc3)cn2c1C', 'O=C1NC(=O)C2(CCc3ccccc3C2)N1', 'O=C1CN=C(C2=CCCCC2)c2cc(Cl)ccc2N1', 'CC(CN(C)C)CN1c2ccccc2S(=O)(=O)c2ccccc21', 'O=C1CCC2(CCC(=O)c3ccccc32)C(=O)N1', 'c1cc(CN2CCCCC2)cc(OCCCNc2nc3ccccc3o2)c1', 'COc1ccc(CCN(C)CCCC(C#N)(c2ccc(OC)c(OC)c2)C(C)C)cc1OC', 'O=C(NCCN1CCC(n2c(=O)[nH]c3cc(Cl)ccc32)CC1)c1ccc(F)cc1', 'C[C@H]1c2ccccc2[C@@H](CCCN(C)C)c2cc(C(F)(F)F)ccc21', 'CCC(N)Cc1c[nH]c2ccccc12', 'NC(=O)N1CC(Oc2cccc(C(F)(F)F)c2)C1', 'CC(C)(Oc1ccccc1)C(=O)N[C@@H]1C(=O)N2[C@@H](C(=O)O)C(C)(C)S[C@H]12', 'Cc1cc(C(C)(C)SC(C)(C)CNc2[nH]ccc2[N+](=O)[O-])nc(C)c1C', 'COc1ccc2c(c1)/C(=C/CCN(C)C)c1ccccc1O2', 'O.c1cncc(CC2(Cc3ccncc3)c3cccnc3-c3ncccc32)c1', 'Nc1ccc(S(=O)(=O)Nc2ncccn2)cc1', 'CC(C)CO', 'C=CCC1(C2C=CCCC2)C(=O)NC(=S)NC1=O', 'COc1ccc(Cn2c(C)c(CCN)c3cc(O)ccc32)cc1', 'CC[C@H](C)C(=O)O[C@H]1CCC=C2C=C[C@H](C)[C@H](CC[C@@H]3C[C@@H](O)CC(=O)O3)[C@H]21', 'COc1cc2oc(=O)c(C)c(C)c2cc1OCCCN1CCN(c2ccccc2OC)CC1', 'CO[C@@]1(NC(=O)C(C(=O)O)c2ccc(O)cc2)C(=O)N2C(C(=O)O)=C(CSc3nnnn3C)CO[C@@H]21', 'c1ccc2c(c1)CCc1cccc3c1C2CN1CCCCC31', 'CN(C)CCC1(c2ccccc2)C=Cc2ccccc21', 'CCOC(=O)O[C@]1(C(=O)COC(=O)CC)CC[C@H]2[C@@H]3CCC4=CC(=O)C=C[C@]4(C)[C@H]3[C@@H](O)C[C@@]21C', 'CC1NC(=O)COC1c1ccccc1', 'CN(N=O)C(=O)N[C@H]1[C@@H](O)O[C@H](CO)[C@@H](O)[C@@H]1O', 'CN(C)CCOC(c1ccccc1)c1ccccc1C(C)(C)C', 'CN=C(Cc1ccc2ccccc2c1)[NH2+]C.[Cl-]', 'C=C(C)CNCC(=O)N(C)c1ccc(Cl)cc1C(=O)c1ccccc1', 'O=C(O)c1cc(=O)c2cc(OCC(O)COc3cccc4oc(C(=O)O)cc(=O)c34)ccc2o1', 'CCN(CC)CCOC(=O)C(O)(c1ccccc1)c1ccccc1.[Cl-].[H+]', 'OCc1ncc2n1-c1ccc(Cl)cc1C(c1ccccc1F)=NC2', 'C=CC1(C(C)CCC)C(=O)NC(=O)NC1=O', 'CC[C@H](NC(=O)c1c(OCCNC(=O)Cc2ccccn2)c(-c2ccccc2)nc2ccccc12)c1ccccc1', 'O=c1[nH]c2ccccc2c(=O)n1CCCN1CCN(c2cccc(Cl)c2)CC1', 'CN1Cc2c(N)cccc2C(c2ccccc2)C1', 'c1ccc(C2(c3ccccc3)OC[C@H]([C@@H]3CCCCN3)O2)cc1', 'CNCCOC(c1ccccc1)c1ccccc1C', 'CC(C)Nc1cccnc1N1CCN(C(=O)c2cc3cc(NS(C)(=O)=O)ccc3[nH]2)CC1', 'CC[C@]1(O)C[C@H]2CN(CCc3c([nH]c4ccccc34)[C@@](C(=O)OC)(c3cc4c(cc3OC)N(C)[C@H]3[C@@](O)(C(N)=O)[C@H](O)[C@]5(CC)C=CCN6CC[C@]43[C@@H]65)C2)C1', 'c1cc(CN2CCCCC2)cc(OCCCNc2nccs2)c1', 'CCCC[C@@H]1CC(=O)[C@]2(O)O[C@@H]3[C@@H](NC)[C@@H](O)[C@@H](NC)[C@H](O)[C@H]3O[C@@H]2O1', 'C[C@H]1C[C@H]2[C@@H]3CC[C@](O)(C(=O)CO)[C@@]3(C)C[C@H](O)[C@@H]2[C@@]2(C)C=CC(=O)C=C12', 'CN1C(CCl)Nc2cc(Cl)c(S(N)(=O)=O)cc2S1(=O)=O', 'CCN(CC)C(=O)N1CCN(CCCc2nc3c(c(=O)n(C)c(=O)n3C)n2C)CC1', 'CN1CC[C@@]23CCCC[C@@H]2[C@@H]1Cc1ccc(O)cc13', 'CNC/C=C(/c1ccc(Br)cc1)c1cccnc1', 'C=COC=C', 'Cc1ccc(C2(O)CCN(CCCC(=O)c3ccc(F)cc3)CC2)cc1', 'CCCC(=O)O[C@]1(C(=O)COC(C)=O)CC[C@H]2[C@@H]3C[C@H](C)C4=CC(=O)CC[C@]4(C)[C@H]3[C@@H](O)C[C@@]21C', 'CN1CCCC(CN2c3ccccc3Sc3ccccc32)C1', 'O=C(O)CCCCC1SCC2NC(=O)NC21', 'CCN1CCN(C(=O)N[C@@H](C(=O)N[C@@H]2C(=O)N3[C@@H](C(=O)O)C(C)(C)S[C@H]23)c2ccccc2)C(=O)C1=O.O', 'CCC(=O)C(CC(C)N(C)C)(c1ccccc1)c1ccccc1', 'CC(Cl)(Cl)Cl', 'CC(C)(C)CC(=O)OCC(=O)[C@@]1(O)CC[C@H]2[C@@H]3CCC4=CC(=O)C=C[C@]4(C)[C@H]3[C@@H](O)C[C@@]21C', 'CCC1(c2ccccc2)C(=O)NC(=O)N(C)C1=O', 'C[C@](N)(Cc1ccc(O)c(O)c1)C(=O)O', 'CN(C)Cc1ccc(CSCCNc2[nH]cc(Cc3ccccc3)c2[N+](=O)[O-])o1', 'O=C(Cn1cnnn1)N[C@@H]1C(=O)N2C(C(=O)O)=C(CSc3nncs3)CS[C@H]12', 'CO/N=C(\\\\C(=O)N[C@@H]1C(=O)N2C(C(=O)O)=C(COC(C)=O)CS[C@H]12)c1ccco1', 'CN(C)CCN(C)n1cc(-c2ccccc2)c2ccccc21', 'CCCCCC(N)C(O)(c1ccccc1)c1ccccc1', 'COc1ccc2c3c1OC1C(OC(C)=O)=CCC4C(C2)N(C)CCC314', 'CCCCNC(=O)NS(=O)(=O)c1ccc(C)cc1', 'C[C@@H](O)[C@H]1C(=O)N2C(C(=O)O)=C([C@H]3CCCO3)S[C@H]12', 'NC(=O)c1ccc(F)c2c1C[C@@H](N(C1CCC1)C1CCC1)CO2', 'CCNC1=Nc2ccc(Cl)cc2C(c2ccccc2)S1', 'O=C(NCc1ccccc1)OCCO', 'CCOC(=O)C(c1c(O)oc2ccccc2c1=O)c1c(O)oc2ccccc2c1=O', 'OCC1(CO)COC(C(Cl)(Cl)Cl)OC1', 'Cc1cccc(Cc2cnc[nH]2)c1C', 'COc1ccccc1OCC(O)COC(N)=O', 'COCOC(=O)[C@@H]1N2C(=O)[C@@H](N3C(=O)C(c4ccccc4)NC3(C)C)[C@H]2SC1(C)C', 'O=C(NCCN1CCOCC1)c1ccc(Cl)cc1', 'CCCCCCCCCC1(C)OCC(COC(N)=O)O1', 'CNCCCC1(c2ccccc2)OC(C)(C)c2ccccc21', 'CCOc1ccc(NC(C)=O)cc1', 'CCCN(CCC)CCc1cccc2c1CC(=O)N2', 'N#CC(CCN1CCC(C(N)=O)(N2CCCCC2)CC1)(c1ccccc1)c1ccccc1', 'CC[C@H]1OC(=O)[C@H](C)[C@@H](O[C@H]2C[C@@](C)(OC)[C@@H](O)[C@H](C)O2)[C@H](C)[C@@H](O[C@@H]2O[C@H](C)C[C@H](N(C)C)[C@H]2O)[C@](C)(O)C[C@](C)(F)C(=O)[C@H](C)[C@@H](O)[C@]1(C)O', 'CC[C@H](NC(=O)c1c(OCCCN(C)C)c(-c2ccccc2)nc2ccccc12)c1ccccc1', 'Cc1csc(N=C(N)N)n1', 'CC(N)Cc1ccccc1', 'O=C1N(c2ccccc2)c2ccccc2C1(Cc1ccncc1)Cc1ccncc1', 'C=CCC1(C(C)CCC)C(=O)NC(=S)NC1=O', 'C[C@]12C[C@H](O)[C@H]3[C@@H](CCC4=CC(=O)C=C[C@@]43C)[C@@H]1CC[C@]2(O)C(=O)COC(=O)CCC(=O)[O-].[Na+]', 'CCCl', 'CO/N=C(\\\\C(=O)NC1C(=O)N(OCC(=O)O)[C@H]1C)c1csc(N)n1', 'CN(C)CCC(c1ccccc1)c1ccccn1', 'O=C1NC(=O)C(CC2CCCCN2)(c2ccccc2)C(=O)N1', 'O=C(O)CCCCCC[NH2+]C1c2ccccc2CCc2ccccc21.[Cl-]', 'c1ccc2c(c1)Sc1ccccc1N2CC1CN2CCC1CC2', 'O=C1CCC(=O)N1CC1CCC2CN(c3ncccn3)CCN2C1', 'CN1C2CCC1CC(OC(=O)C(CO)c1ccccc1)C2', 'CNC[C@H](O)c1ccc(O)c(O)c1', 'O=C(NCCN1CCN(c2ncccn2)CC1)C12CC3CC(CC(C3)C1)C2', 'CN1CCC2=C(CC1)c1cc(C#N)ccc1Sc1ccccc12', 'CC1(C)CN(CCN2CCN(c3cccc(Cl)c3)C2=O)C1', 'Cc1ncc(CSSCc2cnc(C)c(O)c2CO)c(CO)c1O', 'O=C(Nc1ccccc1)OCC1(COC(=O)Nc2ccccc2)CCCC1', 'CC(C)(C)c1ccc(C(=O)CCCN2CCC(OC(c3ccccc3)c3ccccc3)CC2)cc1', 'CCN(CC)CCNC(=O)COc1ccc(OC)cc1.[Cl-].[H+]', 'Nc1ccc(N=Nc2ccccc2)c(N)n1', 'C=CCN1C[C@H](C(=O)N(CCCN(C)C)C(=O)NCC)C[C@@H]2c3cccc4[nH]cc(c34)C[C@H]21', 'CNCCCC1(C)CN(c2ccccc2)c2ccccc21', 'CCCCCCSc1nsnc1C1=CCCN(C)C1', 'CN=C1CN(O)C(c2ccccc2)=c2cc(Cl)ccc2=N1', 'C1CCCCC1', 'CN1CCN(CCCN2c3ccccc3Sc3ccc(C(F)(F)F)cc32)CC1', 'CC(C)[C@H](N)C(=O)OCC(CO)OCn1cnc2c(=O)nc(N)[nH]c21', 'Clc1cccc(Cl)c1NC1=NCCO1', 'COc1ccc(C(O)CN2CCN(C(c3ccccc3)c3ccccc3)CC2)cc1OC', 'C/C(=C(\\\\CCOC(=O)c1ccccc1)SC(=O)c1ccccc1)N(C=O)Cc1cnc(C)nc1N', 'CN(C)CCC(c1ccccc1)C1CCCCC1', 'CC[C@H]1OC(=O)[C@H](C)[C@@H](O[C@H]2C[C@@](C)(OC)[C@@H](O)[C@H](C)O2)[C@H](C)[C@@H](O[C@@H]2O[C@H](C)C[C@H](N(C)C)[C@H]2O)[C@](C)(O)C[C@@H](C)C(=O)[C@H](C)[C@@H](O)[C@]1(C)O', 'C/C(=C(\\\\CCOP(=O)(O)O)SC(=O)c1ccccc1)N(C=O)Cc1cnc(C)nc1N', 'OCCN1CCN([C@@H]2C[C@@H](c3ccc(F)cc3)c3ccc(C(F)(F)F)cc32)CC1', 'O=c1ncnc2[nH][nH]cc1-2', 'O=C1CCNc2ccc(Cl)cc2N1c1ccccc1', 'NCCC(O)CNC1CC(N)C(OC2OC(CN)C(O)C(O)C2O)C(O)C1OC1OC(CO)C(O)C(N)C1O', 'CCCC(C)C1(CC)C(=O)NC(=S)NC1=O', 'NC(Cc1ccc(N(CCCl)CCCl)cc1)C(=O)O', 'CCOC(=O)C[C@@H](O)C[C@@H](O)/C=C/C1=C(c2ccc(F)cc2)c2ccccc2OC12CCCC2', 'CNC(=O)NC(O)C(Cl)(Cl)Cl', 'COc1cccc2c1C(=O)c1c(O)c3c(c(O)c1C2=O)CC(O)(C(=O)CO)CC3O', 'C[C@@H]1N=C(c2ccccc2Cl)c2cc([N+](=O)[O-])ccc2NC1=O', 'OCCCOc1cccc(CN2CCCCC2)c1', 'O=C(CCCN1CCC(O)(c2cccc(C(F)(F)F)c2)CC1)c1ccc(F)cc1', 'c1ccc2c(c1)CCc1ccccc1N2C1CN2CCC1CC2', 'O=C1NC(CCCl)Oc2ccccc21', 'CCCC(=O)O[C@]1(C(=O)COC(C)=O)[C@H](C)C[C@H]2[C@@H]3CCC4=CC(=O)C=C[C@]4(C)[C@@]3(Cl)[C@@H](O)C[C@@]21C', 'COCC1CN=C(c2ccccc2Cl)c2cc(Br)ccc2N1C', 'CC(=O)S[C@@H]1CC2=CC(=O)CC[C@]2(C)[C@H]2CC[C@@]3(C)[C@@H](CC[C@@]34CCC(=O)O4)[C@@H]21', 'COC(=O)C1C2CC3c4[nH]c5cc(OC)ccc5c4CCN3CC2CC(OC)C1OC', 'CCCCCC(=O)OCC(=O)C1C(C)CC2C3CC(F)C4=CC(=O)C=CC4(C)C3C(O)CC21C', 'CCCC(O)Cl', 'C[C@@H]1CC2C3C[C@H](F)C4=CC(=O)C=CC4(C)[C@@]3(F)C(O)CC2(C)C1C(=O)CO', 'CC1(C)O[C@@H]2C[C@H]3C4C[C@H](F)C5=CC(=O)C=CC5(C)[C@@]4(Cl)[C@@H](Cl)CC3(C)[C@]2(C(=O)CCl)O1', 'OCCN(CCO)c1nc(N2CCCCC2)c2nc(N(CCO)CCO)nc(N3CCCCC3)c2n1', 'C[C@@](Cc1ccc(O)c(O)c1)(NN)C(=O)O', 'COC(=O)C1=C(C)NC(C)=C(C(=O)OCCN(C)Cc2ccccc2)C1c1cccc([N+](=O)[O-])c1', 'NNC(=O)c1ccncc1', 'CC(=O)N1CCN(C(=O)Cc2ccc([S@@](C)=O)cc2)[C@@H](CN2CC[C@H](O)C2)C1', 'C[C@H](N)C(=O)c1ccccc1', 'COc1ccc(N2C[C@H](CN3CCC(O)(c4ccc5c(c4)OCO5)CC3)OC2=O)cc1', 'CCCCCC(C)C(C)c1cc(OC(=O)CCCN2CCCCCC2)c2c(c1)OC(C)(C)C1=C2CC(C)CC1', 'CCCC(C)C1(CCSC)C(=O)NC(=S)NC1=O', 'CN1CCCCC1CCN1c2ccccc2Sc2ccc(S(C)(=O)=O)cc21', 'CCn1cc(C(=O)O)c(=O)c2cc(F)c(N3CCNCC3)nc21', 'COc1ccccc1N1CCN(CCCC(=O)c2ccc(F)cc2)CC1', 'COc1cc(C(=O)/C=C/N2CC=CC2)cc(OC)c1OC', 'CNCCCN1Cc2ccccc2Cc2ccccc21', 'CNC1CCC(c2ccccc2)c2ccccc21', 'CCCCNc1c(C(=O)OCC)c(C)nc2c1cnn2CC', 'CN1C(=O)CN=C(c2ccccc2F)c2cc(Cl)ccc21', 'CCC(C(N)=O)N1CCCC1=O', 'FC(Br)C(F)(F)F', 'OCCOC1CCN(CCCN2c3ccccc3Sc3ccc(C(F)(F)F)cc32)CC1', 'Cc1ccccc1', 'CC[C@H]1OC(=O)[C@H](C)[C@@H](O[C@H]2C[C@@](C)(OC)[C@@H](O)[C@H](C)O2)[C@H](C)[C@@H](O[C@@H]2O[C@H](C)C[C@H](N(C)C)[C@H]2O)[C@](C)(O)C[C@@H](C)/C(=N/OCOCCOC)[C@H](C)[C@@H](O)[C@]1(C)O', 'COc1ccc(CCN2CCN(c3cccc(Cl)c3)CC2)cc1OC', 'O=c1[nH]oc2c1CCNC2', 'CO[C@@]1(NC(=O)CSC(F)(F)F)C(=O)N2C(C(=O)O)=C(CSc3nnnn3CCO)CO[C@@H]21.[Na]', 'CC1(C)S[C@@H]2[C@H](NC(=O)C(c3ccccc3)S(=O)(=O)O)C(=O)N2[C@H]1C(=O)O', 'Oc1ccc2c(c1)[C@@]13CCCC[C@@]1(O)[C@@H](C2)N(CC1CCC1)CC3', 'CC(=O)Nc1ccc(OC(=O)[C@@H]2CCC(=O)N2)cc1', 'COc1ccc2c(c1)N(CCCN(C)C)c1ccccc1S2', 'CCC(=O)N(c1ccc(Cl)c(Cl)c1)[C@@H]1CCC[C@H]1N(C)C', 'O=C(CCCN1CCC2(CC1)C(=O)NCN2c1ccccc1)c1ccc(F)cc1', 'COc1cc([C@@H]2c3cc4c(cc3[C@@H](O[C@@H]3O[C@@H]5CO[C@@H](C)O[C@H]5[C@H](O)[C@H]3O)C3COC(=O)[C@@H]32)OCO4)cc(OC)c1O', 'C=CCN1CCCC1CNC(=O)c1cc(S(=O)(=O)NC)c(N)cc1OC', 'CC1(C)S[C@@H]2[C@H](NC(=O)[C@H](C(=O)[O-])c3ccsc3)C(=O)N2[C@H]1C(=O)[O-].[Na+].[Na+]', 'CCC(=O)OCC(=O)[C@@]1(OC(=O)CC)[C@@H](C)C[C@H]2[C@@H]3CCC4=CC(=O)C=C[C@]4(C)[C@@]3(F)[C@@H](O)C[C@@]21C', 'CCOC(=O)C1(c2ccccc2)CCN(CCCNc2ccccc2)CC1', 'CCCC1(C)COB(c2ccc(C)cc2)OC1', 'CC(C)[N+]1(C)C2CCC1CC(OC(=O)C(CO)c1ccccc1)C2.[Br-]', 'CCCCC(=O)O[C@]1(C(=O)CO)CCC2C3CC(F)C4=CC(=O)C=CC4(C)C3C(O)CC21C', 'CC(Cc1ccccc1)N(C)Cc1ccco1', 'CCCCC(=O)OC1(C(=O)CO)CCC2C3CCC4=CC(=O)C=CC4(C)C3C(O)CC21C', 'OCCN1CCN(CC/C=C2/c3ccccc3Sc3ccc(Cl)cc32)CC1', 'CC(C)(CO)[C@@H](O)C(=O)NCCCC(=O)O', 'CCOc1ccc2ccccc2c1C(=O)N[C@@H]1C(=O)N2[C@@H](C(=O)[O-])C(C)(C)S[C@H]12.[Na+]', 'CN(C)S(=O)(=O)c1ccc2c(c1)N(CCCN1CCC(CCO)CC1)c1ccccc1S2', 'CC(C)O', 'C=C[C@@H]1CNCC[C@H]1CCCc1ccnc2ccc(OC)cc12', 'NC(N)=NCCN1CCCCCCC1', 'CCC(C)[C@H]1O[C@]2(CC[C@@H]1C)CC1C[C@@H](C/C=C(\\\\C)[C@@H](O[C@H]3C[C@H](OC)[C@@H](OC4C[C@H](OC)[C@@H](O)[C@H](C)O4)[C@H](C)O3)[C@@H](C)/C=C/C=C3\\\\CO[C@@H]4[C@H](O)C(C)=C[C@@H](C(=O)O1)[C@]34O)O2.CO[C@H]1CC(O[C@H]2[C@H](C)O[C@@H](O[C@@H]3/C(C)=C/C[C@@H]4CC(C[C@]5(CC[C@H](C)[C@@H](C(C)C)O5)O4)OC(=O)[C@@H]4C=C(C)[C@@H](O)[C@H]5OC/C(=C\\\\C=C\\\\[C@@H]3C)[C@@]45O)C[C@@H]2OC)O[C@@H](C)[C@@H]1O', 'OCCN1CCN(CCCN2c3ccccc3Sc3ccc(Cl)cc32)CC1', 'C/C=C/C(=O)N(CC)C(CC)C(=O)N(C)C', 'CN1CCN(CCCN2c3ccccc3Sc3ccc(S(=O)(=O)N(C)C)cc32)CC1', 'CC(=O)Nc1nnc(S(N)(=O)=O)s1', 'Cc1c(O)c(=O)ccn1CCCO', 'O=C(O)c1cn(C2CC2)c2cc(N3CCNCC3)c(F)cc2c1=O', 'CCC1(CC)C(=O)NC(=O)N(C)C1=O', 'CCCCC1(CCOC(N)=O)C(=O)NC(=O)NC1=O', 'C[C@H]1CCCC[C@@]1(c1cccs1)N1CCCCC1', 'COc1ccc2c3c1O[C@H]1C(=O)CC[C@@]4(O)[C@@H](C2)N(C)CC[C@]314', 'C#C[C@]1(O)CC[C@H]2[C@H]3[C@H](CC[C@@]21C)C1=C(CC(=O)CC1)C[C@H]3C', 'CC1(C)S[C@@H]2[C@H](NC(=O)Cc3ccccc3)C(=O)N2[C@H]1C(=O)O', 'CC(=O)OCC1=CO[C@@H](OC(=O)CC(C)C)[C@H]2C1=C[C@H](OC(=O)CC(C)C)[C@]21CO1', 'CN1CCC(=C2c3ccccc3C(O)c3ccccc32)CC1', 'CC[C@H](NC(=O)c1c(Cn2ccnc2)c(-c2ccccc2)nc2ccccc12)c1ccccc1', 'O=c1[nH]c(=O)n([C@H]2C[C@H](O)[C@@H](CO)O2)cc1F', 'CCCC(=O)N(C)Cc1c(-c2ccc(Cl)cc2)nc2ccccn12', 'O=C(NC(=O)c1ccccc1)NC1CCN(Cc2ccc3ccccc3c2)CC1', 'C[C@@H](CN1CC(=O)NC(=O)C1)N1CC(=O)NC(=O)C1', 'C[C@@H]1C[C@H]2[C@@H]3C[C@H](F)C4=CC(=O)C=C[C@]4(C)[C@H]3[C@@H](O)C[C@]2(C)[C@@]1(O)C(=O)CO', 'CCC[C@@H]1C[C@@H](C(=O)NC(C(C)Cl)[C@H]2O[C@H](SC)[C@H](OP(=O)(O)O)[C@@H](O)[C@H]2O)N(C)C1', 'CC(C)(O)C(C)(O)c1cccc(Cl)c1', 'CC(C)(C)C(=O)OCOC(=O)[C@@H]1N2C(=O)[C@@H](NC(=O)[C@H](N)c3ccccc3)[C@H]2SC1(C)C', 'CO[C@@]1(NC(=O)CSCC#N)C(=O)N2C(C(=O)O)=C(CSc3nnnn3C)CS[C@@H]21', 'FC(F)OC(Cl)C(F)(F)F', 'ClC=C(Cl)Cl', 'CCCC(CCC)C(=O)O', 'COCCCC/C(=N\\\\OCCN)c1ccc(Cl)cc1', 'Nc1ccn([C@H]2CC[C@@H](CO)O2)c(=O)n1', 'CNC[C@H](O)CC12CCC(c3ccccc31)c1ccccc12', 'CS(=O)(=O)O.Oc1ccc2[nH]cc(CCCCN3CC=C(c4ccccc4)CC3)c2c1', 'CN1C(=O)CN=C(c2ccccc2)c2cc(Cl)ccc21', 'COc1cccnc1CCCCNc1ncc(Cc2ccc(C)nc2)c(=O)[nH]1.[Cl-].[Cl-].[Cl-].[H+].[H+].[H+]', 'CCCC(=O)O[C@]1(C(=O)COC(C)=O)CC[C@H]2[C@@H]3C[C@H](F)C4=CC(=O)C=C[C@]4(C)[C@@]3(F)[C@@H](O)C[C@@]21C', 'C[C@]12CC[C@@H]3c4ccc(O)cc4CC[C@H]3[C@@H]1CC[C@@H]2O', 'CCN(C(C)=O)c1cccc(-c2ccnc3c(C#N)cnn23)c1', 'CC(=O)OC1/C=C/C(C)=C/CC(O)/C=C/C(C)=C/C(NC(=O)C(C)=O)C2(C)C(=O)OC(C1)C(C)C2=O', 'C#C[C@]1(O)CC[C@H]2[C@@H]3CCc4cc(O)ccc4[C@H]3CC[C@@]21C', 'O=C(Cc1ccc(Cl)c(Cl)c1)N1CCc2ccccc2[C@H]1CN1CCCC1', 'CS(=O)(=O)c1ccc2c(c1)N(CCCN1CCC(C(N)=O)CC1)c1ccccc1S2', 'OCC(O)C(O)C(O)C(O)CO', 'CN1CCN(C2=Cc3cc(Cl)ccc3/C(=C\\\\C#N)c3ccccc32)CC1', 'CN1C(=O)C(O)N=C(c2ccccc2F)c2cc(Cl)ccc21', 'FC(F)OC(F)(F)C(F)Cl', 'O=C1CCCN1CCCCN1CCN(c2cc(C(F)(F)F)ccn2)CC1', 'C=C[C@H]1CN2CC[C@@H]1C[C@H]2[C@H](O)c1ccnc2ccc(OC)cc12', 'Cc1nn(C)c2c1N(c1ccccc1)C(=O)CC(=O)N2C', 'CC1CCCC1', 'O=C1Nc2ccc(Cl)cc2[C@@](C#CC2CC2)(C(F)(F)F)O1', 'CO/N=C(\\\\C(=O)N[C@@H]1C(=O)N2C(C(=O)O)=C(/C=C/Sc3n[nH]c(=O)c(=O)n3CC=O)CS[C@H]12)c1csc(N)n1', 'Cc1ccc(Cc2ccccc2)c(N2CCNCC2)c1', 'CCCCCCCCCCOc1c(OC)cc(C(N)=O)cc1OC', 'CN1CC[C@]23c4c5ccc(O)c4O[C@@]2(C)C(=O)CC[C@H]3[C@H]1C5', 'NC(CO)(CO)CO', 'COc1cccc2c1C(=O)c1c(O)c3c(c(O)c1C2=O)C[C@](O)(C(=O)CO)C[C@H]3OC1CC(N)CC(C)O1', 'NCCCN1c2ccccc2CCc2ccccc21', 'CCC(C)C1(CC)C(=O)NC(=O)NC1=O', 'CN1C(=O)CN2CCc3ccccc3C2c2cc(Cl)ccc21', 'Nc1nc(=O)c2ncn(COC(CO)CO)c2[nH]1', 'CC(=O)OCC(=O)C1(O)C(C)CC2C3CC(F)(F)C4=CC(=O)C=CC4(C)C3(F)C(O)CC21C', 'O=C1CN=C(c2ccccc2Cl)c2cc([N+](=O)[O-])ccc2N1', 'CC(C)(C)NCC(O)COc1cccc2c1C[C@H](O)[C@H](O)C2', 'CN(C)CC(CN1c2ccccc2Sc2ccccc21)N(C)C', 'CN(C)Cc1ccnc(-c2cccc(NC3N=CC=C3[N+](=O)[O-])c2)c1', 'Cc1[nH]ccc2c1[nH]c1cc(=O)ccc12', 'CNCCCC1c2ccccc2C=Cc2ccccc21', 'Cc1cc(C)cc(OCC2CNC(=O)O2)c1', 'CCN[C@@H]1C[C@H](N)[C@@H](O[C@H]2OC(CN)=CC[C@H]2N)[C@H](O)[C@H]1O[C@H]1OC[C@](C)(O)[C@H](NC)[C@H]1O', 'CN1C2CCC1CC(OC(=O)C(CO)c1ccccc1)C2', 'COc1cc([C@@H]2c3cc4c(cc3[C@@H](OC3OC5COC(c6cccs6)OC5C(O)C3O)[C@H]3COC(=O)[C@H]23)OCO4)cc(OC)c1O', 'CCC(C)n1ncn(-c2ccc(N3CCN(c4ccc(OC[C@H]5CO[C@](Cn6cncn6)(c6ccc(Cl)cc6Cl)O5)cc4)CC3)cc2)c1=O', 'CCN(CC)C(=O)CNC(=O)c1cc(OC)c(OC)c(OC)c1', 'CC1(C)SC2C(NC(=O)Cc3ccccc3)C(=O)N2C1C(=O)O.[Na]', 'O=C(O)CCCCCCCC(=O)O', 'CN(C)CCOC(C)(c1ccccc1)c1ccccn1', 'CC(C)(C)NCC(O)c1ccccc1F', 'C[C@]12C=C(Br)C(=O)C=C1[C@H](F)C[C@H]1[C@@H]3CCC(O)(C(=O)CO)[C@@]3(C)C[C@H](O)C12F', 'OCCN1C=CN(CCCN2c3ccccc3C=Cc3ccccc32)C=CC1', 'COc1ccc(Cl)c2c1CCCC2N(C)C', 'CCCCC[C@H](O)/C=C/[C@H]1[C@H](O)CC(=O)[C@@H]1CCCCCCC(=O)O', 'CC1(C)O[C@@H]2C[C@H]3[C@@H]4C[C@H](F)C5=CC(=O)CC[C@]5(C)[C@H]4[C@@H](O)C[C@]3(C)[C@]2(C(=O)CO)O1', 'CCOC(=O)C1(c2ccccc2)CCC=CC1N(C)C.[Cl-].[H+]', 'Nc1nc2ccc(OC(F)(F)F)cc2s1.[Cl-].[H+]', 'CN1CCN(CC/C=C2\\\\c3ccccc3Sc3ccc(S(=O)(=O)N(C)C)cc32)CC1', 'CN(C)CCc1ccccn1', 'CN1CCN2c3ccccc3Cn3cccc3C2C1.O=C(O)/C=C\\\\C(=O)O', 'C=CCC1(C(C)C#CCC)C(=O)NC(=O)N(C)C1=O', 'Cc1c(C)c2ccc(OCc3nnc(C(C)C)s3)cc2oc1=O', 'CC(COc1ccccc1)NN', 'CC1(C)S[C@@H]2[C@H](NC(=O)C(C(=O)Oc3ccc4c(c3)CCC4)c3ccccc3)C(=O)N2[C@H]1C(=O)O', 'CO[C@@]1(NC(=O)CSC[C@@H](N)C(=O)O)C(=O)N2C(C(=O)O)=C(CSc3nnnn3C)CS[C@@H]21', 'Nc1cccc(-n2ccccc2=O)c1', 'Clc1ccc2c(c1)[C@H]1CCNC[C@@H]1c1ccccc1O2', 'O=C(O)/C=C\\\\C(=O)O.c1csc(Cc2ccccc2OCC2CNCCO2)c1', 'CCCCCC1CNC(C(=O)NC(C(C)Cl)C2OC(SC)C(O)C(O)C2O)C1', 'CC(C)NCC(O)c1ccc(NS(C)(=O)=O)cc1', 'CN(C)CCOC(C)(c1ccccc1)c1ccccn1.O=C(O)CCC(=O)O', 'C#CCN1C(=O)CN=C(c2ccccc2)c2cc(Cl)ccc21', 'CCC(=O)[C@@]1(C)[C@H](C)C[C@H]2[C@@H]3CCC4=CC(=O)C=C[C@]4(C)[C@H]3[C@@H](O)C[C@@]21C', 'OCCN1CCN(CCCN2c3cc(C(F)(F)F)ccc3Sc3sccc32)CC1', 'O=C1CN=C(c2ccccc2)c2cc(Cl)ccc2N1CCOCC1CC1', 'CCCSc1ccc2[nH]c(NC(=O)OC)nc2c1', 'CNCC[C@@H](O)[C@@H]1C[C@H](SC2=C(C(=O)O)N3C(=O)[C@H]([C@@H](C)O)[C@H]3[C@H]2C)CN1', 'O=C(NCCCOc1cccc(CN2CCCCC2)c1)c1ccccc1', 'CCCCCn1ccc(=O)c(O)c1C', 'CC/C=C(\\\\C(=O)N[C@@H]1C(=O)N2C(C(=O)O)=C(COC(N)=O)CS[C@H]12)c1csc(N)n1', 'CCC1(c2ccccc2)NCC(=O)NC1=O', 'Nc1nc(N)c2nc(-c3ccccc3)c(N)nc2n1', 'CCC1(c2ccccc2)C(=O)NCNC1=O', 'NCCc1ccc(O)c(O)c1', 'CNCCC=C1c2ccccc2C2CC2c2ccccc21', 'Cc1ncc([N+](=O)[O-])n1CCO', 'CC(=O)NCC1(c2ccccc2)CCN(CCCC(=O)c2ccc(F)cc2)CC1', 'CO/N=C(\\\\C(=O)N[C@@H]1C(=O)N2C(C(=O)O)=C(CSc3cnns3)CS[C@H]12)c1csc(N)n1', 'Cc1cc(N/C(O)=C2\\\\C(=O)c3ccccc3S(=O)(=O)N2C)no1', 'CSC(=O)C1(O)C(C)CC2C3CCC4=CC(=O)C=CC4(C)C3(F)C(O)CC21C', 'CN1C(=O)OC(C)(C)C1=O', 'C#CC1(OCC(O)CN2CCN(c3ccc(F)cc3)CC2)CCCCC1', 'c1ccc(-c2cc(CCC3CCNCC3)c3ccccc3n2)cc1', 'CN1CC[C@]23c4c5ccc(OC(=O)c6cccnc6)c4O[C@H]2[C@@H](OC(=O)c2cccnc2)C=C[C@H]3[C@H]1C5', 'CCSc1ccc2c(c1)N(CCCN1CCN(C)CC1)c1ccccc1S2', 'CCCC(C(=O)c1ccc(C)cc1)N1CCCC1', 'CCC1(c2ccc(N)cc2)CCC(=O)NC1=O', 'CN1CCN(CC(=O)[C@@]2(O)CC[C@H]3[C@@H]4CCC5=CC(=O)C=C[C@]5(C)[C@H]4[C@@H](O)C[C@@]32C)CC1', 'O=C1CCCN1CCCCN1CCN(c2cc(C(F)(F)F)cc(Cl)n2)CC1', 'NCC[C@H](O)C(=O)N[C@@H]1C[C@H](N)[C@@H](O[C@H]2O[C@H](CN)CC[C@H]2N)[C@H](O)[C@H]1O[C@H]1O[C@H](CO)[C@@H](O)[C@H](N)[C@H]1O', 'CN[C@H]1CC[C@@H](c2ccc(Cl)c(Cl)c2)c2ccccc21.[Cl-].[H+]', 'CCOC(=O)NNC(C)c1ccccc1', 'Oc1ccc2c(c1)C13CCCCC1C(C2)NCC3', 'CN(C)Cc1ccc(CSCCNC2N=CC=C2[N+](=O)[O-])o1', 'CC(=O)[C@H]1CC[C@H]2[C@@H]3CC[C@@H]4C[C@H](O)CC[C@]4(C)[C@H]3CC[C@]12C', 'O=S(=O)([O-])CCS.[Na+]', 'CC(=O)N1CCN(C(=O)Cc2cccc([N+](=O)[O-])c2)[C@@H](CN2CC[C@H](O)C2)C1', 'Cc1cnc(N/C(O)=C2/C(=O)c3ccccc3S(=O)(=O)N2C)s1', 'C[C@]12C[C@H](O)[C@H]3[C@@H](C[C@H](F)C4=CC(=O)C=C[C@@]43C)[C@@H]1CC[C@]2(O)C(=O)CO', 'CCOC(=O)c1cnc2c(cnn2CC)c1NN=C(C)C', 'CCOc1ccccc1O[C@@H](c1ccccc1)[C@@H]1CNCCO1', 'CNCCCN1c2ccccc2Sc2ccc(Cl)cc21', 'CCNC(=O)N1CCN(CCCC(c2ccc(F)cc2)c2ccc(F)cc2)CC1', 'O=C1OC(c2ccc(O)cc2)(c2ccc(O)cc2)c2ccccc21', 'O=C1Cc2cc(CCN3CCN(c4nsc5ccccc45)CC3)c(Cl)cc2N1', 'c1ccc2c(c1)cc1n2CCCNC1', 'Cc1cccc2c1Oc1ccccc1C1(O)CCN(C)CC21', 'CN1CCC(=C2c3ccccc3CCc3sccc32)CC1', 'NC(=O)CN1C(=O)C(c2ccccc2)c2ccccc21', 'COc1ccc2c(c1)N(C[C@H](C)CN(C)C)c1ccccc1S2', 'C[C@@H]1CC2C3CCC4=CC(=O)C=CC4(C)[C@@]3(Cl)C(Cl)CC2(C)[C@@]1(O)C(=O)CO', 'CCOC(=O)C1(c2ccccc2)CCN(CCc2ccc(N)cc2)CC1', 'CN1[C@H]2CC(OC(=O)[C@H](CO)c3ccccc3)C[C@@H]1[C@H]1O[C@@H]21', 'CO[C@@H]1[C@@H](O[C@@H]2O[C@H](C)[C@@H](O[C@H]3C[C@@](C)(O)[C@@H](OC(=O)CC(C)C)[C@H](C)O3)[C@H](N(C)C)[C@H]2O)[C@@H](CC=O)C[C@@H](C)[C@@H](O)/C=C/C=C/C[C@@H](C)OC(=O)C[C@H]1OC(C)=O', 'CCCC(C)C1(CC)C(=O)NC(=O)NC1=O', 'CC(=O)OCC(=O)[C@@]1(O)[C@H](C)C[C@H]2[C@@H]3C=C(C)C4=Cc5c(cnn5-c5ccccc5)C[C@]4(C)[C@H]3[C@@H](O)C[C@@]21C', 'COc1cccc([C@@]2(O)CCCC[C@@H]2CN(C)C)c1.[Cl-].[H+]', 'CC(C)(C)C(=O)OCOC(=O)C1N2C(=O)[C@@H](N=CN3CCCCCC3)[C@H]2SC1(C)C', 'C[N+](C)([O-])CCC=C1c2ccccc2CCc2ccccc21', 'CNCCCC1(c2ccccc2)SC(C)(C)c2ccccc21', 'CO/N=C(\\\\C(=O)N[C@@H]1C(=O)N(OCC(=O)OCC(=O)OC(C)(C)C)[C@H]1C)c1csc(N)n1', 'CCCN1CCCC1CNC(=O)c1cc(S(N)(=O)=O)ccc1OC', 'COc1cc2c(cc1OC)C1CC(=O)C(CC(C)C)CN1CC2', 'Cc1nc2n(c(=O)c1CCN1CCC(C(=O)c3ccc(F)cc3)CC1)CCS2', 'CCCN(CCC)S(=O)(=O)c1ccc(C(=O)O)cc1', 'CCS[C@]1(SC)CC[C@H]2[C@@H]3CCC4=CC(=O)C=C[C@]4(C)[C@@]3(F)[C@@H](O)C[C@@]21C', 'CCC(=O)O[C@](Cc1ccccc1)(c1ccccc1)[C@H](C)CN(C)C', 'C=CCC1(CC(=C)Br)C(=O)NC(=O)NC1=O', 'CO[C@H](C(=O)[C@@H](O)[C@@H](C)O)[C@@H]1Cc2cc3cc(O[C@H]4C[C@@H](O[C@H]5C[C@@H](O)[C@H](O)[C@@H](C)O5)[C@H](O)[C@@H](C)O4)c(C)c(O)c3c(O)c2C(=O)[C@H]1O[C@H]1C[C@@H](O[C@H]2C[C@@H](O[C@H]3C[C@](C)(O)[C@H](O)[C@@H](C)O3)[C@H](O)[C@@H](C)O2)[C@H](O)[C@@H](C)O1', 'CC[N+](C)(CC)CCOC(=O)C1c2ccccc2Oc2ccccc21', 'CCN1CCC[C@H]1CNC(=O)c1c(OC)ccc(Br)c1OC', 'CCC(=O)N(c1ccccc1F)C1(c2ccccc2)CCN(CCn2nnn(CC)c2=O)CC1.[Cl-].[H+]', 'CCCNC(=O)N1CC(c2ccccc2)OC1=O', 'CC[C@H](NC(=O)c1c(OCCNC(=O)[C@@H]2CCCN2)c(-c2ccccc2)nc2ccccc12)c1ccccc1', 'CCCCCN[C@@]12C=CC(=O)[C@@H]3Oc4c(O)ccc5c4[C@@]31CCN(C)[C@@H]2C5', 'CN[C@@H]1[C@@H](O[C@H]2O[C@H](CO)[C@@H](N)[C@H](O)[C@H]2O)O[C@H]2C[C@@H](N)[C@H](O[C@@H]3[C@@H](N)C[C@@H](N)[C@H](O)[C@H]3O)O[C@@H]2[C@@H]1O', 'CC12CCCCCC(Cc3ccc(O)cc31)C2N', 'CN1CC[C@]23NC(=O)CC(c4cc(Cl)ccc4O2)C3C1', 'O=C(Cc1ccc(Cl)c(Cl)c1)N1CCn2ncnc2[C@H]1CN1CCCC1', 'COC(F)(F)C(F)Br', 'COc1ccc2c(c1)c(CC(=O)O)c(C)n2C(=O)c1ccc(Cl)cc1', 'CC1Oc2ccccc2CC1N(C)C', 'O=C(CCCN1CCC(O)(c2ccc(Cl)c(C(F)(F)F)c2)CC1)c1ccc(F)cc1', 'O=C(Cc1ccc(Cl)c(Cl)c1)N1CCc2occc2[C@H]1CN1CC[C@@H](O)C1', 'CC(CN1c2ccccc2Sc2ccccc21)N(C)C', 'c1ccc(NCCCOc2cccc(CN3CCCCC3)c2)nc1', 'CCC(C)=O', 'CN1CCN(c2c(F)cc3c(=O)c(C(=O)O)cn(CCF)c3c2F)CC1', 'CCOC(=O)N(CCN(C)C)c1cccc(C(F)(F)F)c1', 'COc1ccc(CN(CCN(C)C)c2ccccn2)cc1', 'O=C(O)C1CCN1C12CC3CC(CC(C3)C1)C2', 'NC(C(=O)N[C@@H]1C(=O)N2C(C(=O)O)=C(CSc3cn[nH]n3)CS[C@H]12)c1ccc(O)cc1', 'CNCCc1ccccn1', 'COc1cc(C(=O)N2CCCCCCC2)cc(OC)c1OC', 'Clc1ccc2c(c1)C(N1CCNCC1)=Nc1ccccc1O2', 'Cc1cccc(Cl)c1NC(=O)/C=C1\\\\SCC(=O)N1C', 'C1=C(CC2=NCNC2)CCc2ccccc21', 'O=C1NCCN1C1CCN(CCC2COc3ccccc3O2)CC1', 'NC(N)=O', 'CC[C@H](NC(=O)c1c(C)c(-c2ccccc2)nc2ccccc12)c1ccccc1', 'NC(=O)CCCN/C(=C1\\\\C=C(F)C=CC1=O)c1ccc(Cl)cc1', 'O=C(CCCN1CCN(c2cc3ccccc3cn2)CC1)c1ccc(F)cc1', 'COc1ccc(CCN2CCC(Nc3nc4ccccc4n3Cc3ccc(F)cc3)CC2)cc1', 'CCOC(=O)c1ncn2c1CN(C)C(=O)c1cc(F)ccc1-2', 'CN1c2ccccc2C(c2ccccc2F)=NCC1CNC(=O)c1ccsc1', 'O=C(CCCl)NCc1ccccc1', 'CC(=O)Nc1cccc(-c2csc(N=C(N)N)n2)c1', 'CC[C@H]1CN2CCc3cc(OC)c(OC)cc3[C@@H]2C[C@@H]1C[C@H]1NCCc2cc(OC)c(OC)cc21.[Cl]', 'CC(=O)Nc1ccc(O)cc1', 'CN1CCN2c3ncccc3Cc3ccccc3C2C1', 'CN1CCN(C(=O)OC2c3nccnc3C(=O)N2c2ccc(Cl)cn2)CC1', 'O=C1CSC2(CCN(CCCN3c4ccccc4Sc4ccc(Cl)cc43)CC2)N1.[Cl-].[H+]', 'CC(=O)N1CCN(C(=O)Cc2ccc(S(C)(=O)=O)cc2)[C@@H](CN2CC[C@H](O)C2)C1', 'CCN(CC)C(=O)N[C@H]1C[C@@H]2c3cccc4[nH]cc(c34)C[C@H]2N(C)C1', 'CC1CC2C3CCC4=CC(=O)C=CC4(C)[C@@]3(F)C(O)CC2(C)[C@@]1(O)C(=O)CCl', 'Clc1ccc(COC(Cn2ccnc2)c2ccc(Cl)cc2Cl)c(Cl)c1', 'CC(Oc1cccc2ccccc12)/C(N)=N/O', 'C=C1Cc2c(CCN(CCC)CCC)ccc(O)c2N1', 'CCCC(=O)Nc1ccc(OCC(O)CNC(C)C)c(C(C)=O)c1', 'CCC1(CC)C(=O)NC(=O)N(c2ccccc2)C1=O', 'CO/N=C(\\\\C(=O)N[C@H]1C(=O)N2C(C(=O)[O-])=C(COC(C)=O)CS[C@@H]12)c1csc(N)n1.[Na+]', 'CC(=O)[C@H]1CC[C@H]2[C@@H]3CC[C@H]4C[C@](C)(O)CC[C@]4(C)[C@H]3CC[C@]12C', 'CC1C2Cc3ccc(O)cc3C1(C)CCN2CC1CC1', 'CCc1cc2c(s1)-n1c(C)nnc1CN=C2c1ccccc1Cl', 'CCCNC(=O)c1ccc2c(c1)N([C@H](C)CN1CCCC1)c1ccccc1S2', 'NC(=O)N1c2ccccc2CC(=O)c2ccccc21', 'O=C1CC2(CCCC2)CC(=O)N1CCCCN1CCN(c2ncccn2)CC1', 'Fc1ccc([C@@H]2CCNC[C@H]2COc2ccc3c(c2)OCO3)cc1', 'CCOc1ccccc1OCC1CNCCO1', 'CC(=O)OCC(=O)[C@@]12OC(C)(C)O[C@@H]1CC1C3C[C@H](F)C4=CC(=O)C=CC4(C)[C@H]3C(O)CC12C', 'CN[C@@H]1[C@@H](O)[C@@H](O[C@@H]2[C@@H](O)[C@H](O[C@H]3OC(CN)=CC[C@H]3N)[C@@H](N)C[C@H]2N)OC[C@]1(C)O', 'CCN(CC)CCn1cnc2c1c(=O)n(C)c(=O)n2C', 'C[C@@H]1C[C@H]2[C@H]3[C@H]([C@@H](O)C[C@]2(C)[C@@]1(O)C(=O)CO)[C@@]1(C)C=CC(=O)C=C1C[C@H]3Cl', 'CCN(CC)c1ccc(NC(=O)c2ccccc2N)c(C)c1', 'CN1C[C@H](CN2CC(=O)NC(=O)C2)C=C2c3cccc4[nH]cc(c34)C[C@H]21', 'CCN(CC)C(=O)COc1cc2c(O)c3c(O)c(C)c4c(c13)C(=O)[C@@](C)(O/C=C/[C@H](OC)[C@@H](C)[C@@H](OC(C)=O)[C@H](C)[C@H](O)[C@H](C)[C@@H](O)[C@@H](C)/C=C/C=C(/C)C(=O)N2)O4', 'O=C(Cc1ccc(Cl)c(Cl)c1)N1CCc2sccc2[C@H]1CN1CCCC1', 'CN1CC[C@]23c4c5ccc(O)c4O[C@H]2C(=O)CC[C@H]3[C@H]1C5', 'Cn1nc(-c2cccc(F)c2)n(C)c1=S', 'CCC1C(C)=NN=C(c2ccc(OC)c(OC)c2)c2cc(OC)c(OC)cc21']\n",
            "2030\n"
          ]
        }
      ]
    },
    {
      "cell_type": "code",
      "source": [
        "import numpy as np\n",
        "print(trainLabel[0])\n",
        "arrTrainLabel = np.array(trainLabel)\n",
        "arrTestLabel = np.array(testLabel)\n",
        "arrValidationLabel = np.array(validationLabel)\n",
        "print(arrTrainLabel.shape)\n",
        "print(arrTrainLabel[0])\n",
        "arrTrainLabel = arrTrainLabel.astype(float)\n",
        "print(arrTestLabel.shape)\n",
        "print(arrTestLabel[0])\n",
        "arrTestLabel = arrTestLabel.astype(float)\n",
        "print(arrValidationLabel.shape)\n",
        "print(arrValidationLabel[0])\n",
        "arrValidationLabel = arrValidationLabel.astype(float)"
      ],
      "metadata": {
        "colab": {
          "base_uri": "https://localhost:8080/"
        },
        "id": "n6Ie-bNptp8g",
        "outputId": "69f4ad46-6815-4a17-acb0-affb2ac7f96a"
      },
      "execution_count": null,
      "outputs": [
        {
          "output_type": "stream",
          "name": "stdout",
          "text": [
            "1\n",
            "(1421,)\n",
            "1\n",
            "(406,)\n",
            "1\n",
            "(203,)\n",
            "1\n"
          ]
        }
      ]
    },
    {
      "cell_type": "code",
      "source": [
        "import numpy as np\n",
        "\n",
        "stringArray = np.array([\"1.000\", \"1.235\", \"0.000125\", \"2\", \"55\", \"-12.35\", \"0\", \"-0.00025\"])\n",
        "floatArray = stringArray.astype(float)\n",
        "print(stringArray)\n",
        "print(floatArray)"
      ],
      "metadata": {
        "colab": {
          "base_uri": "https://localhost:8080/"
        },
        "id": "jcZy9uVlviB5",
        "outputId": "78455e5b-8a6c-466f-ee36-5006d4958509"
      },
      "execution_count": null,
      "outputs": [
        {
          "output_type": "stream",
          "name": "stdout",
          "text": [
            "['1.000' '1.235' '0.000125' '2' '55' '-12.35' '0' '-0.00025']\n",
            "[ 1.000e+00  1.235e+00  1.250e-04  2.000e+00  5.500e+01 -1.235e+01\n",
            "  0.000e+00 -2.500e-04]\n"
          ]
        }
      ]
    },
    {
      "cell_type": "markdown",
      "source": [
        "Count Vecrorizer"
      ],
      "metadata": {
        "id": "YVI6gAEfrLZr"
      }
    },
    {
      "cell_type": "code",
      "source": [
        "#count vectorizer\n",
        "from sklearn.feature_extraction.text import CountVectorizer\n",
        "\n",
        "vectorizer = CountVectorizer()\n",
        "#vectorizer.fit(trainDrug)\n",
        "\n",
        "vectorizer.fit(stringVectorArray)\n",
        "\n",
        "\n",
        "X_train = vectorizer.transform(trainDrug)\n",
        "X_validation = vectorizer.transform(validationDrug)\n",
        "X_test  = vectorizer.transform(testDrug)\n",
        "print(X_train.shape)\n",
        "print(X_test.shape)\n",
        "print(X_validation.shape)\n",
        "print(trainDrug[0])\n",
        "print(X_train[0])\n",
        "print(trainDrug[1])\n",
        "print(X_train[1])"
      ],
      "metadata": {
        "id": "Uog0Q_f1fUcg",
        "colab": {
          "base_uri": "https://localhost:8080/"
        },
        "outputId": "9c56b326-560c-4bca-e127-9fa52a08c1c4"
      },
      "execution_count": null,
      "outputs": [
        {
          "output_type": "stream",
          "name": "stdout",
          "text": [
            "(1421, 1603)\n",
            "(406, 1603)\n",
            "(203, 1603)\n",
            "CC(C)(C)OC(=O)CCCc1ccc(N(CCCl)CCCl)cc1\n",
            "  (0, 527)\t1\n",
            "  (0, 528)\t1\n",
            "  (0, 803)\t1\n",
            "  (0, 869)\t2\n",
            "  (0, 1467)\t1\n",
            "CC1COc2c(N3CCN(C)CC3)c(F)cc3c(=O)c(C(=O)O)cn1c23\n",
            "  (0, 580)\t1\n",
            "  (0, 654)\t1\n",
            "  (0, 657)\t1\n",
            "  (0, 1006)\t1\n",
            "  (0, 1276)\t1\n"
          ]
        }
      ]
    },
    {
      "cell_type": "code",
      "source": [
        "#count vectorizer\n",
        "from sklearn.linear_model import LogisticRegression\n",
        "\n",
        "classifier = LogisticRegression()\n",
        "classifier.fit(X_train, trainLabel)\n",
        "score = classifier.score(X_test, testLabel)\n",
        "\n",
        "print(\"Accuracy:\", score)"
      ],
      "metadata": {
        "colab": {
          "base_uri": "https://localhost:8080/"
        },
        "id": "_LCfV_XBfDie",
        "outputId": "671d8f07-f01c-404a-8feb-8a82e3870dce"
      },
      "execution_count": null,
      "outputs": [
        {
          "output_type": "stream",
          "name": "stdout",
          "text": [
            "Accuracy: 0.8349753694581281\n"
          ]
        }
      ]
    },
    {
      "cell_type": "code",
      "source": [
        "#random forest\n",
        "from sklearn.ensemble import RandomForestClassifier\n",
        "classifier = RandomForestClassifier(n_estimators=1000, random_state=0)\n",
        "classifier.fit(X_train, trainLabel) "
      ],
      "metadata": {
        "colab": {
          "base_uri": "https://localhost:8080/"
        },
        "id": "sOadd_af6rwc",
        "outputId": "ac027ec9-5b0a-4869-eb70-e2ea3c7f409a"
      },
      "execution_count": null,
      "outputs": [
        {
          "output_type": "execute_result",
          "data": {
            "text/plain": [
              "RandomForestClassifier(n_estimators=1000, random_state=0)"
            ]
          },
          "metadata": {},
          "execution_count": 145
        }
      ]
    },
    {
      "cell_type": "code",
      "source": [
        "y_pred = classifier.predict(X_test)"
      ],
      "metadata": {
        "id": "GVeOU5RR7Jsj"
      },
      "execution_count": null,
      "outputs": []
    },
    {
      "cell_type": "code",
      "source": [
        "from sklearn.metrics import classification_report, confusion_matrix, accuracy_score\n",
        "\n",
        "print(confusion_matrix(testLabel,y_pred))\n",
        "print(classification_report(testLabel,y_pred))\n",
        "print(accuracy_score(testLabel, y_pred))"
      ],
      "metadata": {
        "colab": {
          "base_uri": "https://localhost:8080/"
        },
        "id": "J-N4JSfq7Rku",
        "outputId": "3ee59514-e1b5-4514-e405-ba6a0f45027d"
      },
      "execution_count": null,
      "outputs": [
        {
          "output_type": "stream",
          "name": "stdout",
          "text": [
            "[[ 36  67]\n",
            " [  8 295]]\n",
            "              precision    recall  f1-score   support\n",
            "\n",
            "           0       0.82      0.35      0.49       103\n",
            "           1       0.81      0.97      0.89       303\n",
            "\n",
            "    accuracy                           0.82       406\n",
            "   macro avg       0.82      0.66      0.69       406\n",
            "weighted avg       0.82      0.82      0.79       406\n",
            "\n",
            "0.8152709359605911\n"
          ]
        }
      ]
    },
    {
      "cell_type": "code",
      "source": [
        "#Multinominal naive bayes\n",
        "from sklearn.model_selection import train_test_split\n",
        "from sklearn.feature_extraction.text import CountVectorizer\n",
        "from sklearn.feature_extraction.text import TfidfTransformer\n",
        "from sklearn.naive_bayes import MultinomialNB\n",
        "\n",
        "\n",
        "tfidf_transformer = TfidfTransformer()\n",
        "X_train_tfidf = tfidf_transformer.fit_transform(X_train)\n",
        "clf = MultinomialNB().fit(X_train_tfidf, trainLabel)"
      ],
      "metadata": {
        "id": "YzczE6zx8Ayj"
      },
      "execution_count": null,
      "outputs": []
    },
    {
      "cell_type": "code",
      "source": [
        "prediction = clf.predict(X_test)"
      ],
      "metadata": {
        "id": "wJwsZh-Z8bA6"
      },
      "execution_count": null,
      "outputs": []
    },
    {
      "cell_type": "code",
      "source": [
        "from sklearn.metrics import classification_report, confusion_matrix, accuracy_score\n",
        "\n",
        "print(confusion_matrix(testLabel,prediction))\n",
        "print(classification_report(testLabel,prediction))\n",
        "print(accuracy_score(testLabel, prediction))"
      ],
      "metadata": {
        "colab": {
          "base_uri": "https://localhost:8080/"
        },
        "id": "nMMJFfxM8mnG",
        "outputId": "7ed2c894-e95b-40f9-c88b-f11d394d01b9"
      },
      "execution_count": null,
      "outputs": [
        {
          "output_type": "stream",
          "name": "stdout",
          "text": [
            "[[ 35  68]\n",
            " [  6 297]]\n",
            "              precision    recall  f1-score   support\n",
            "\n",
            "           0       0.85      0.34      0.49       103\n",
            "           1       0.81      0.98      0.89       303\n",
            "\n",
            "    accuracy                           0.82       406\n",
            "   macro avg       0.83      0.66      0.69       406\n",
            "weighted avg       0.82      0.82      0.79       406\n",
            "\n",
            "0.8177339901477833\n"
          ]
        }
      ]
    },
    {
      "cell_type": "code",
      "source": [
        "#linear Support Vector machine\n",
        "from sklearn.svm import LinearSVC\n",
        "model = LinearSVC()\n",
        "model.fit(X_train, trainLabel)\n",
        "y_pred = model.predict(X_test)"
      ],
      "metadata": {
        "id": "GaPReU0D83ia"
      },
      "execution_count": null,
      "outputs": []
    },
    {
      "cell_type": "code",
      "source": [
        "from sklearn.metrics import classification_report, confusion_matrix, accuracy_score\n",
        "\n",
        "print(confusion_matrix(testLabel,y_pred))\n",
        "print(classification_report(testLabel,y_pred))\n",
        "print(accuracy_score(testLabel, y_pred))"
      ],
      "metadata": {
        "colab": {
          "base_uri": "https://localhost:8080/"
        },
        "id": "h-rN07bJ9Jx2",
        "outputId": "ebbf42e1-44af-49de-e39e-37a3b0eae96b"
      },
      "execution_count": null,
      "outputs": [
        {
          "output_type": "stream",
          "name": "stdout",
          "text": [
            "[[ 50  53]\n",
            " [ 17 286]]\n",
            "              precision    recall  f1-score   support\n",
            "\n",
            "           0       0.75      0.49      0.59       103\n",
            "           1       0.84      0.94      0.89       303\n",
            "\n",
            "    accuracy                           0.83       406\n",
            "   macro avg       0.79      0.71      0.74       406\n",
            "weighted avg       0.82      0.83      0.81       406\n",
            "\n",
            "0.8275862068965517\n"
          ]
        }
      ]
    },
    {
      "cell_type": "markdown",
      "source": [
        "Hashing vectorizer"
      ],
      "metadata": {
        "id": "JKNBnkjbrHsd"
      }
    },
    {
      "cell_type": "code",
      "source": [
        "#hash vectorizer\n",
        "from sklearn.feature_extraction.text import HashingVectorizer\n",
        "\n",
        "vectorizer = HashingVectorizer(n_features=100000,norm=None,alternate_sign=False) \n",
        "\n",
        "#vectorizer.fit(trainDrug)\n",
        "\n",
        "vectorizer.fit(stringVectorArray)\n",
        "\n",
        "\n",
        "X_train = vectorizer.transform(trainDrug)\n",
        "X_validation = vectorizer.transform(validationDrug)\n",
        "X_test  = vectorizer.transform(testDrug)\n",
        "print(X_train.shape)\n",
        "print(X_test.shape)\n",
        "print(X_validation.shape)\n",
        "print(trainDrug[0])\n",
        "print(X_train[0])\n",
        "print(trainDrug[1])\n",
        "print(X_train[1])\n"
      ],
      "metadata": {
        "colab": {
          "base_uri": "https://localhost:8080/"
        },
        "id": "c2hiSWbNXZoP",
        "outputId": "feb2bde2-f3f0-4927-905e-c2c1b5815f44"
      },
      "execution_count": null,
      "outputs": [
        {
          "output_type": "stream",
          "name": "stdout",
          "text": [
            "(1421, 100000)\n",
            "(406, 100000)\n",
            "(203, 100000)\n",
            "CC(C)(C)OC(=O)CCCc1ccc(N(CCCl)CCCl)cc1\n",
            "  (0, 2856)\t1.0\n",
            "  (0, 23264)\t2.0\n",
            "  (0, 39953)\t1.0\n",
            "  (0, 43958)\t1.0\n",
            "  (0, 80009)\t1.0\n",
            "CC1COc2c(N3CCN(C)CC3)c(F)cc3c(=O)c(C(=O)O)cn1c23\n",
            "  (0, 1458)\t1.0\n",
            "  (0, 16893)\t1.0\n",
            "  (0, 21553)\t1.0\n",
            "  (0, 35052)\t1.0\n",
            "  (0, 89116)\t1.0\n"
          ]
        }
      ]
    },
    {
      "cell_type": "code",
      "source": [
        "#hash vectorizer\n",
        "from sklearn.linear_model import LogisticRegression\n",
        "\n",
        "classifier = LogisticRegression()\n",
        "classifier.fit(X_train, trainLabel)\n",
        "score = classifier.score(X_test, testLabel)\n",
        "\n",
        "print(\"Accuracy:\", score)"
      ],
      "metadata": {
        "colab": {
          "base_uri": "https://localhost:8080/"
        },
        "id": "gvGeHEGxXcHF",
        "outputId": "f7b9dd66-b2c1-418a-9fce-24014b430bb6"
      },
      "execution_count": null,
      "outputs": [
        {
          "output_type": "stream",
          "name": "stdout",
          "text": [
            "Accuracy: 0.8349753694581281\n"
          ]
        }
      ]
    },
    {
      "cell_type": "code",
      "source": [
        "from keras.models import Sequential\n",
        "from keras import layers\n",
        "input_dim = X_train.shape[1]\n",
        "\n",
        "model = Sequential()\n",
        "model.add(layers.Dense(10,  input_dim=input_dim, activation='relu'))\n",
        "model.add(layers.Dense(1, activation='sigmoid'))"
      ],
      "metadata": {
        "id": "tez4heiDeAw9"
      },
      "execution_count": null,
      "outputs": []
    },
    {
      "cell_type": "code",
      "source": [
        "model.compile(loss='binary_crossentropy',optimizer='adam',metrics=['accuracy'])\n",
        "model.summary()"
      ],
      "metadata": {
        "colab": {
          "base_uri": "https://localhost:8080/"
        },
        "id": "f_8zoiLSeGxd",
        "outputId": "d9c8aff1-80e0-4d88-c9fc-a98d70fa56d0"
      },
      "execution_count": null,
      "outputs": [
        {
          "output_type": "stream",
          "name": "stdout",
          "text": [
            "Model: \"sequential_2\"\n",
            "_________________________________________________________________\n",
            " Layer (type)                Output Shape              Param #   \n",
            "=================================================================\n",
            " dense_4 (Dense)             (None, 10)                1000010   \n",
            "                                                                 \n",
            " dense_5 (Dense)             (None, 1)                 11        \n",
            "                                                                 \n",
            "=================================================================\n",
            "Total params: 1,000,021\n",
            "Trainable params: 1,000,021\n",
            "Non-trainable params: 0\n",
            "_________________________________________________________________\n"
          ]
        }
      ]
    },
    {
      "cell_type": "code",
      "source": [
        "history = model.fit(X_train, arrTrainLabel,epochs=100,verbose=True,validation_data=(X_validation, arrValidationLabel),batch_size=10)"
      ],
      "metadata": {
        "id": "GU9thvq9eZ5d",
        "colab": {
          "base_uri": "https://localhost:8080/"
        },
        "outputId": "88acf984-b9ec-4a24-e058-328fc145e2d2"
      },
      "execution_count": null,
      "outputs": [
        {
          "output_type": "stream",
          "name": "stdout",
          "text": [
            "Epoch 1/100\n",
            "143/143 [==============================] - 5s 24ms/step - loss: 0.5870 - accuracy: 0.7741 - val_loss: 0.5177 - val_accuracy: 0.7833\n",
            "Epoch 2/100\n",
            "143/143 [==============================] - 3s 23ms/step - loss: 0.4496 - accuracy: 0.8311 - val_loss: 0.4334 - val_accuracy: 0.8374\n",
            "Epoch 3/100\n",
            "143/143 [==============================] - 3s 20ms/step - loss: 0.3664 - accuracy: 0.8649 - val_loss: 0.3876 - val_accuracy: 0.8818\n",
            "Epoch 4/100\n",
            "143/143 [==============================] - 2s 13ms/step - loss: 0.3095 - accuracy: 0.8860 - val_loss: 0.3618 - val_accuracy: 0.8818\n",
            "Epoch 5/100\n",
            "143/143 [==============================] - 2s 14ms/step - loss: 0.2682 - accuracy: 0.9043 - val_loss: 0.3472 - val_accuracy: 0.8818\n",
            "Epoch 6/100\n",
            "143/143 [==============================] - 2s 14ms/step - loss: 0.2384 - accuracy: 0.9141 - val_loss: 0.3499 - val_accuracy: 0.8768\n",
            "Epoch 7/100\n",
            "143/143 [==============================] - 2s 14ms/step - loss: 0.2128 - accuracy: 0.9233 - val_loss: 0.3488 - val_accuracy: 0.8719\n",
            "Epoch 8/100\n",
            "143/143 [==============================] - 2s 14ms/step - loss: 0.1907 - accuracy: 0.9296 - val_loss: 0.3556 - val_accuracy: 0.8719\n",
            "Epoch 9/100\n",
            "143/143 [==============================] - 2s 14ms/step - loss: 0.1735 - accuracy: 0.9367 - val_loss: 0.3686 - val_accuracy: 0.8719\n",
            "Epoch 10/100\n",
            "143/143 [==============================] - 2s 14ms/step - loss: 0.1588 - accuracy: 0.9444 - val_loss: 0.3821 - val_accuracy: 0.8719\n",
            "Epoch 11/100\n",
            "143/143 [==============================] - 2s 15ms/step - loss: 0.1457 - accuracy: 0.9416 - val_loss: 0.3913 - val_accuracy: 0.8768\n",
            "Epoch 12/100\n",
            "143/143 [==============================] - 2s 14ms/step - loss: 0.1347 - accuracy: 0.9465 - val_loss: 0.4052 - val_accuracy: 0.8768\n",
            "Epoch 13/100\n",
            "143/143 [==============================] - 2s 15ms/step - loss: 0.1250 - accuracy: 0.9493 - val_loss: 0.4139 - val_accuracy: 0.8768\n",
            "Epoch 14/100\n",
            "143/143 [==============================] - 2s 14ms/step - loss: 0.1177 - accuracy: 0.9599 - val_loss: 0.4239 - val_accuracy: 0.8768\n",
            "Epoch 15/100\n",
            "143/143 [==============================] - 2s 15ms/step - loss: 0.1094 - accuracy: 0.9620 - val_loss: 0.4375 - val_accuracy: 0.8768\n",
            "Epoch 16/100\n",
            "143/143 [==============================] - 2s 15ms/step - loss: 0.1026 - accuracy: 0.9634 - val_loss: 0.4419 - val_accuracy: 0.8768\n",
            "Epoch 17/100\n",
            "143/143 [==============================] - 2s 13ms/step - loss: 0.1005 - accuracy: 0.9676 - val_loss: 0.4542 - val_accuracy: 0.8768\n",
            "Epoch 18/100\n",
            "143/143 [==============================] - 2s 13ms/step - loss: 0.0930 - accuracy: 0.9711 - val_loss: 0.4616 - val_accuracy: 0.8768\n",
            "Epoch 19/100\n",
            "143/143 [==============================] - 2s 13ms/step - loss: 0.0881 - accuracy: 0.9726 - val_loss: 0.4738 - val_accuracy: 0.8768\n",
            "Epoch 20/100\n",
            "143/143 [==============================] - 2s 14ms/step - loss: 0.0845 - accuracy: 0.9740 - val_loss: 0.4863 - val_accuracy: 0.8768\n",
            "Epoch 21/100\n",
            "143/143 [==============================] - 2s 15ms/step - loss: 0.0804 - accuracy: 0.9740 - val_loss: 0.5051 - val_accuracy: 0.8621\n",
            "Epoch 22/100\n",
            "143/143 [==============================] - 2s 14ms/step - loss: 0.0772 - accuracy: 0.9754 - val_loss: 0.5168 - val_accuracy: 0.8621\n",
            "Epoch 23/100\n",
            "143/143 [==============================] - 2s 14ms/step - loss: 0.0745 - accuracy: 0.9775 - val_loss: 0.5209 - val_accuracy: 0.8621\n",
            "Epoch 24/100\n",
            "143/143 [==============================] - 2s 14ms/step - loss: 0.0719 - accuracy: 0.9775 - val_loss: 0.5415 - val_accuracy: 0.8621\n",
            "Epoch 25/100\n",
            "143/143 [==============================] - 2s 13ms/step - loss: 0.0696 - accuracy: 0.9768 - val_loss: 0.5462 - val_accuracy: 0.8571\n",
            "Epoch 26/100\n",
            "143/143 [==============================] - 2s 15ms/step - loss: 0.0672 - accuracy: 0.9782 - val_loss: 0.5571 - val_accuracy: 0.8621\n",
            "Epoch 27/100\n",
            "143/143 [==============================] - 2s 14ms/step - loss: 0.0651 - accuracy: 0.9796 - val_loss: 0.5597 - val_accuracy: 0.8571\n",
            "Epoch 28/100\n",
            "143/143 [==============================] - 2s 14ms/step - loss: 0.0645 - accuracy: 0.9789 - val_loss: 0.5672 - val_accuracy: 0.8571\n",
            "Epoch 29/100\n",
            "143/143 [==============================] - 2s 14ms/step - loss: 0.0611 - accuracy: 0.9810 - val_loss: 0.5798 - val_accuracy: 0.8571\n",
            "Epoch 30/100\n",
            "143/143 [==============================] - 2s 15ms/step - loss: 0.0603 - accuracy: 0.9817 - val_loss: 0.5933 - val_accuracy: 0.8621\n",
            "Epoch 31/100\n",
            "143/143 [==============================] - 2s 14ms/step - loss: 0.0587 - accuracy: 0.9831 - val_loss: 0.5957 - val_accuracy: 0.8522\n",
            "Epoch 32/100\n",
            "143/143 [==============================] - 2s 13ms/step - loss: 0.0571 - accuracy: 0.9817 - val_loss: 0.6075 - val_accuracy: 0.8571\n",
            "Epoch 33/100\n",
            "143/143 [==============================] - 2s 14ms/step - loss: 0.0559 - accuracy: 0.9824 - val_loss: 0.6143 - val_accuracy: 0.8473\n",
            "Epoch 34/100\n",
            "143/143 [==============================] - 2s 15ms/step - loss: 0.0546 - accuracy: 0.9831 - val_loss: 0.6217 - val_accuracy: 0.8424\n",
            "Epoch 35/100\n",
            "143/143 [==============================] - 2s 14ms/step - loss: 0.0541 - accuracy: 0.9817 - val_loss: 0.6320 - val_accuracy: 0.8522\n",
            "Epoch 36/100\n",
            "143/143 [==============================] - 2s 14ms/step - loss: 0.0532 - accuracy: 0.9831 - val_loss: 0.6296 - val_accuracy: 0.8424\n",
            "Epoch 37/100\n",
            "143/143 [==============================] - 2s 15ms/step - loss: 0.0514 - accuracy: 0.9824 - val_loss: 0.6521 - val_accuracy: 0.8424\n",
            "Epoch 38/100\n",
            "143/143 [==============================] - 2s 15ms/step - loss: 0.0509 - accuracy: 0.9810 - val_loss: 0.6542 - val_accuracy: 0.8374\n",
            "Epoch 39/100\n",
            "143/143 [==============================] - 2s 14ms/step - loss: 0.0506 - accuracy: 0.9852 - val_loss: 0.6623 - val_accuracy: 0.8424\n",
            "Epoch 40/100\n",
            "143/143 [==============================] - 2s 14ms/step - loss: 0.0493 - accuracy: 0.9838 - val_loss: 0.6673 - val_accuracy: 0.8424\n",
            "Epoch 41/100\n",
            "143/143 [==============================] - 2s 14ms/step - loss: 0.0497 - accuracy: 0.9824 - val_loss: 0.6947 - val_accuracy: 0.8424\n",
            "Epoch 42/100\n",
            "143/143 [==============================] - 2s 14ms/step - loss: 0.0490 - accuracy: 0.9817 - val_loss: 0.6923 - val_accuracy: 0.8374\n",
            "Epoch 43/100\n",
            "143/143 [==============================] - 2s 14ms/step - loss: 0.0477 - accuracy: 0.9810 - val_loss: 0.7072 - val_accuracy: 0.8424\n",
            "Epoch 44/100\n",
            "143/143 [==============================] - 2s 13ms/step - loss: 0.0471 - accuracy: 0.9831 - val_loss: 0.7073 - val_accuracy: 0.8522\n",
            "Epoch 45/100\n",
            "143/143 [==============================] - 2s 15ms/step - loss: 0.0460 - accuracy: 0.9838 - val_loss: 0.7093 - val_accuracy: 0.8473\n",
            "Epoch 46/100\n",
            "143/143 [==============================] - 2s 14ms/step - loss: 0.0460 - accuracy: 0.9824 - val_loss: 0.7296 - val_accuracy: 0.8522\n",
            "Epoch 47/100\n",
            "143/143 [==============================] - 2s 14ms/step - loss: 0.0452 - accuracy: 0.9838 - val_loss: 0.7237 - val_accuracy: 0.8473\n",
            "Epoch 48/100\n",
            "143/143 [==============================] - 2s 14ms/step - loss: 0.0450 - accuracy: 0.9838 - val_loss: 0.7382 - val_accuracy: 0.8473\n",
            "Epoch 49/100\n",
            "143/143 [==============================] - 2s 15ms/step - loss: 0.0441 - accuracy: 0.9845 - val_loss: 0.7477 - val_accuracy: 0.8473\n",
            "Epoch 50/100\n",
            "143/143 [==============================] - 2s 13ms/step - loss: 0.0437 - accuracy: 0.9817 - val_loss: 0.7542 - val_accuracy: 0.8522\n",
            "Epoch 51/100\n",
            "143/143 [==============================] - 2s 14ms/step - loss: 0.0434 - accuracy: 0.9831 - val_loss: 0.7607 - val_accuracy: 0.8522\n",
            "Epoch 52/100\n",
            "143/143 [==============================] - 2s 13ms/step - loss: 0.0429 - accuracy: 0.9845 - val_loss: 0.7598 - val_accuracy: 0.8473\n",
            "Epoch 53/100\n",
            "143/143 [==============================] - 2s 13ms/step - loss: 0.0427 - accuracy: 0.9859 - val_loss: 0.7688 - val_accuracy: 0.8522\n",
            "Epoch 54/100\n",
            "143/143 [==============================] - 2s 14ms/step - loss: 0.0426 - accuracy: 0.9831 - val_loss: 0.7846 - val_accuracy: 0.8571\n",
            "Epoch 55/100\n",
            "143/143 [==============================] - 2s 14ms/step - loss: 0.0420 - accuracy: 0.9838 - val_loss: 0.7758 - val_accuracy: 0.8473\n",
            "Epoch 56/100\n",
            "143/143 [==============================] - 2s 15ms/step - loss: 0.0417 - accuracy: 0.9845 - val_loss: 0.8063 - val_accuracy: 0.8522\n",
            "Epoch 57/100\n",
            "143/143 [==============================] - 2s 14ms/step - loss: 0.0416 - accuracy: 0.9859 - val_loss: 0.7978 - val_accuracy: 0.8473\n",
            "Epoch 58/100\n",
            "143/143 [==============================] - 2s 15ms/step - loss: 0.0409 - accuracy: 0.9852 - val_loss: 0.8163 - val_accuracy: 0.8473\n",
            "Epoch 59/100\n",
            "143/143 [==============================] - 2s 15ms/step - loss: 0.0407 - accuracy: 0.9831 - val_loss: 0.8153 - val_accuracy: 0.8473\n",
            "Epoch 60/100\n",
            "143/143 [==============================] - 2s 15ms/step - loss: 0.0402 - accuracy: 0.9831 - val_loss: 0.8110 - val_accuracy: 0.8473\n",
            "Epoch 61/100\n",
            "143/143 [==============================] - 2s 14ms/step - loss: 0.0402 - accuracy: 0.9845 - val_loss: 0.8265 - val_accuracy: 0.8473\n",
            "Epoch 62/100\n",
            "143/143 [==============================] - 2s 14ms/step - loss: 0.0397 - accuracy: 0.9845 - val_loss: 0.8529 - val_accuracy: 0.8473\n",
            "Epoch 63/100\n",
            "143/143 [==============================] - 2s 16ms/step - loss: 0.0396 - accuracy: 0.9838 - val_loss: 0.8533 - val_accuracy: 0.8473\n",
            "Epoch 64/100\n",
            "143/143 [==============================] - 2s 15ms/step - loss: 0.0395 - accuracy: 0.9845 - val_loss: 0.8655 - val_accuracy: 0.8522\n",
            "Epoch 65/100\n",
            "143/143 [==============================] - 2s 16ms/step - loss: 0.0389 - accuracy: 0.9845 - val_loss: 0.8636 - val_accuracy: 0.8473\n",
            "Epoch 66/100\n",
            "143/143 [==============================] - 2s 16ms/step - loss: 0.0394 - accuracy: 0.9831 - val_loss: 0.8826 - val_accuracy: 0.8473\n",
            "Epoch 67/100\n",
            "143/143 [==============================] - 2s 15ms/step - loss: 0.0385 - accuracy: 0.9866 - val_loss: 0.8735 - val_accuracy: 0.8374\n",
            "Epoch 68/100\n",
            "143/143 [==============================] - 2s 15ms/step - loss: 0.0388 - accuracy: 0.9852 - val_loss: 0.8808 - val_accuracy: 0.8473\n",
            "Epoch 69/100\n",
            "143/143 [==============================] - 2s 16ms/step - loss: 0.0380 - accuracy: 0.9866 - val_loss: 0.8990 - val_accuracy: 0.8424\n",
            "Epoch 70/100\n",
            "143/143 [==============================] - 2s 16ms/step - loss: 0.0381 - accuracy: 0.9866 - val_loss: 0.9095 - val_accuracy: 0.8325\n",
            "Epoch 71/100\n",
            "143/143 [==============================] - 2s 15ms/step - loss: 0.0377 - accuracy: 0.9859 - val_loss: 0.9150 - val_accuracy: 0.8374\n",
            "Epoch 72/100\n",
            "143/143 [==============================] - 2s 15ms/step - loss: 0.0390 - accuracy: 0.9859 - val_loss: 0.9042 - val_accuracy: 0.8571\n",
            "Epoch 73/100\n",
            "143/143 [==============================] - 2s 16ms/step - loss: 0.0380 - accuracy: 0.9852 - val_loss: 0.9142 - val_accuracy: 0.8424\n",
            "Epoch 74/100\n",
            "143/143 [==============================] - 2s 15ms/step - loss: 0.0371 - accuracy: 0.9859 - val_loss: 0.9324 - val_accuracy: 0.8571\n",
            "Epoch 75/100\n",
            "143/143 [==============================] - 2s 17ms/step - loss: 0.0366 - accuracy: 0.9866 - val_loss: 0.9409 - val_accuracy: 0.8473\n",
            "Epoch 76/100\n",
            "143/143 [==============================] - 3s 19ms/step - loss: 0.0365 - accuracy: 0.9859 - val_loss: 0.9402 - val_accuracy: 0.8473\n",
            "Epoch 77/100\n",
            "143/143 [==============================] - 3s 20ms/step - loss: 0.0368 - accuracy: 0.9866 - val_loss: 0.9652 - val_accuracy: 0.8325\n",
            "Epoch 78/100\n",
            "143/143 [==============================] - 2s 14ms/step - loss: 0.0357 - accuracy: 0.9873 - val_loss: 0.9675 - val_accuracy: 0.8473\n",
            "Epoch 79/100\n",
            "143/143 [==============================] - 3s 18ms/step - loss: 0.0360 - accuracy: 0.9880 - val_loss: 0.9814 - val_accuracy: 0.8473\n",
            "Epoch 80/100\n",
            "143/143 [==============================] - 3s 18ms/step - loss: 0.0358 - accuracy: 0.9866 - val_loss: 0.9908 - val_accuracy: 0.8473\n",
            "Epoch 81/100\n",
            "143/143 [==============================] - 2s 14ms/step - loss: 0.0359 - accuracy: 0.9880 - val_loss: 0.9918 - val_accuracy: 0.8325\n",
            "Epoch 82/100\n",
            "143/143 [==============================] - 2s 14ms/step - loss: 0.0362 - accuracy: 0.9873 - val_loss: 1.0008 - val_accuracy: 0.8424\n",
            "Epoch 83/100\n",
            "143/143 [==============================] - 2s 14ms/step - loss: 0.0354 - accuracy: 0.9873 - val_loss: 1.0112 - val_accuracy: 0.8473\n",
            "Epoch 84/100\n",
            "143/143 [==============================] - 2s 14ms/step - loss: 0.0349 - accuracy: 0.9873 - val_loss: 1.0198 - val_accuracy: 0.8473\n",
            "Epoch 85/100\n",
            "143/143 [==============================] - 2s 15ms/step - loss: 0.0348 - accuracy: 0.9866 - val_loss: 1.0304 - val_accuracy: 0.8424\n",
            "Epoch 86/100\n",
            "143/143 [==============================] - 2s 15ms/step - loss: 0.0348 - accuracy: 0.9880 - val_loss: 1.0318 - val_accuracy: 0.8325\n",
            "Epoch 87/100\n",
            "143/143 [==============================] - 2s 15ms/step - loss: 0.0346 - accuracy: 0.9880 - val_loss: 1.0344 - val_accuracy: 0.8325\n",
            "Epoch 88/100\n",
            "143/143 [==============================] - 3s 20ms/step - loss: 0.0350 - accuracy: 0.9873 - val_loss: 1.0467 - val_accuracy: 0.8325\n",
            "Epoch 89/100\n",
            "143/143 [==============================] - 2s 14ms/step - loss: 0.0344 - accuracy: 0.9880 - val_loss: 1.0496 - val_accuracy: 0.8473\n",
            "Epoch 90/100\n",
            "143/143 [==============================] - 2s 14ms/step - loss: 0.0347 - accuracy: 0.9866 - val_loss: 1.0595 - val_accuracy: 0.8374\n",
            "Epoch 91/100\n",
            "143/143 [==============================] - 2s 15ms/step - loss: 0.0344 - accuracy: 0.9873 - val_loss: 1.0730 - val_accuracy: 0.8424\n",
            "Epoch 92/100\n",
            "143/143 [==============================] - 2s 14ms/step - loss: 0.0340 - accuracy: 0.9873 - val_loss: 1.0785 - val_accuracy: 0.8424\n",
            "Epoch 93/100\n",
            "143/143 [==============================] - 2s 14ms/step - loss: 0.0341 - accuracy: 0.9873 - val_loss: 1.0847 - val_accuracy: 0.8325\n",
            "Epoch 94/100\n",
            "143/143 [==============================] - 2s 14ms/step - loss: 0.0340 - accuracy: 0.9866 - val_loss: 1.1001 - val_accuracy: 0.8374\n",
            "Epoch 95/100\n",
            "143/143 [==============================] - 2s 14ms/step - loss: 0.0337 - accuracy: 0.9866 - val_loss: 1.1083 - val_accuracy: 0.8276\n",
            "Epoch 96/100\n",
            "143/143 [==============================] - 2s 14ms/step - loss: 0.0335 - accuracy: 0.9873 - val_loss: 1.1123 - val_accuracy: 0.8325\n",
            "Epoch 97/100\n",
            "143/143 [==============================] - 2s 14ms/step - loss: 0.0334 - accuracy: 0.9880 - val_loss: 1.1271 - val_accuracy: 0.8276\n",
            "Epoch 98/100\n",
            "143/143 [==============================] - 2s 14ms/step - loss: 0.0336 - accuracy: 0.9887 - val_loss: 1.1438 - val_accuracy: 0.8276\n",
            "Epoch 99/100\n",
            "143/143 [==============================] - 2s 14ms/step - loss: 0.0326 - accuracy: 0.9887 - val_loss: 1.1402 - val_accuracy: 0.8276\n",
            "Epoch 100/100\n",
            "143/143 [==============================] - 2s 15ms/step - loss: 0.0335 - accuracy: 0.9880 - val_loss: 1.1514 - val_accuracy: 0.8325\n"
          ]
        }
      ]
    },
    {
      "cell_type": "code",
      "source": [
        "loss, accuracy = model.evaluate(X_test, arrTestLabel, verbose=False)\n",
        "print(\"Testing Accuracy:  {:.4f}\".format(accuracy))"
      ],
      "metadata": {
        "colab": {
          "base_uri": "https://localhost:8080/"
        },
        "id": "ciuWUEruv6Mg",
        "outputId": "72c181b2-d02b-4c51-ecba-7f8f66779cc2"
      },
      "execution_count": null,
      "outputs": [
        {
          "output_type": "stream",
          "name": "stdout",
          "text": [
            "Testing Accuracy:  0.8030\n"
          ]
        }
      ]
    },
    {
      "cell_type": "markdown",
      "source": [
        "TF-IDF vectorizer"
      ],
      "metadata": {
        "id": "XG5BxPQWrT8j"
      }
    },
    {
      "cell_type": "code",
      "source": [
        "#tfidf vectorizer\n",
        "from sklearn.feature_extraction.text import TfidfVectorizer\n",
        "\n",
        "vectorizer = TfidfVectorizer();\n",
        "\n",
        "#vectorizer.fit(trainDrug)\n",
        "\n",
        "vectorizer.fit(stringVectorArray)\n",
        "\n",
        "\n",
        "X_train = vectorizer.transform(trainDrug)\n",
        "X_validation = vectorizer.transform(validationDrug)\n",
        "X_test  = vectorizer.transform(testDrug)\n",
        "print(X_train.shape)\n",
        "print(X_test.shape)\n",
        "print(X_validation.shape)\n",
        "print(trainDrug[0])\n",
        "print(X_train[0])\n",
        "print(trainDrug[1])\n",
        "print(X_train[1])"
      ],
      "metadata": {
        "colab": {
          "base_uri": "https://localhost:8080/"
        },
        "id": "OCHiWfffrW_m",
        "outputId": "db3dd103-c5e9-412f-9c48-d358aa678b65"
      },
      "execution_count": null,
      "outputs": [
        {
          "output_type": "stream",
          "name": "stdout",
          "text": [
            "(1421, 1603)\n",
            "(406, 1603)\n",
            "(203, 1603)\n",
            "CC(C)(C)OC(=O)CCCc1ccc(N(CCCl)CCCl)cc1\n",
            "  (0, 1467)\t0.21795148352146537\n",
            "  (0, 869)\t0.8187307220740757\n",
            "  (0, 803)\t0.48271492389385406\n",
            "  (0, 528)\t0.17010939208775505\n",
            "  (0, 527)\t0.14221903014906354\n",
            "CC1COc2c(N3CCN(C)CC3)c(F)cc3c(=O)c(C(=O)O)cn1c23\n",
            "  (0, 1276)\t0.4574687567481384\n",
            "  (0, 1006)\t0.4958484280095313\n",
            "  (0, 657)\t0.4330072111830159\n",
            "  (0, 654)\t0.30255652851685927\n",
            "  (0, 580)\t0.5155782919742872\n"
          ]
        }
      ]
    },
    {
      "cell_type": "code",
      "source": [
        "#tfidf vectorizer\n",
        "from sklearn.linear_model import LogisticRegression\n",
        "\n",
        "classifier = LogisticRegression()\n",
        "classifier.fit(X_train, trainLabel)\n",
        "score = classifier.score(X_test, testLabel)\n",
        "\n",
        "print(\"Accuracy:\", score)"
      ],
      "metadata": {
        "colab": {
          "base_uri": "https://localhost:8080/"
        },
        "id": "SPncUSUOsKN-",
        "outputId": "a1f614df-ce9c-4abf-f4d4-d79785c07a1b"
      },
      "execution_count": null,
      "outputs": [
        {
          "output_type": "stream",
          "name": "stdout",
          "text": [
            "Accuracy: 0.8054187192118226\n"
          ]
        }
      ]
    },
    {
      "cell_type": "markdown",
      "source": [
        "GNN"
      ],
      "metadata": {
        "id": "oSQpSU0s-3BJ"
      }
    },
    {
      "cell_type": "code",
      "source": [
        "!pip install jupyter-book matplotlib numpy tensorflow pydot seaborn Pillow rdkit-pypi"
      ],
      "metadata": {
        "colab": {
          "base_uri": "https://localhost:8080/",
          "height": 1000
        },
        "id": "Kkroe_6Y-9Gd",
        "outputId": "80553829-0bb5-4d13-95da-86a56d9c26ac"
      },
      "execution_count": null,
      "outputs": [
        {
          "output_type": "stream",
          "name": "stdout",
          "text": [
            "Collecting jupyter-book\n",
            "  Downloading jupyter_book-0.12.3-py3-none-any.whl (43 kB)\n",
            "\u001b[?25l\r\u001b[K     |███████▌                        | 10 kB 16.1 MB/s eta 0:00:01\r\u001b[K     |███████████████                 | 20 kB 8.5 MB/s eta 0:00:01\r\u001b[K     |██████████████████████▋         | 30 kB 9.0 MB/s eta 0:00:01\r\u001b[K     |██████████████████████████████  | 40 kB 7.4 MB/s eta 0:00:01\r\u001b[K     |████████████████████████████████| 43 kB 1.1 MB/s \n",
            "\u001b[?25hRequirement already satisfied: matplotlib in /usr/local/lib/python3.7/dist-packages (3.2.2)\n",
            "Requirement already satisfied: numpy in /usr/local/lib/python3.7/dist-packages (1.21.6)\n",
            "Requirement already satisfied: tensorflow in /usr/local/lib/python3.7/dist-packages (2.8.0)\n",
            "Requirement already satisfied: pydot in /usr/local/lib/python3.7/dist-packages (1.3.0)\n",
            "Requirement already satisfied: seaborn in /usr/local/lib/python3.7/dist-packages (0.11.2)\n",
            "Requirement already satisfied: Pillow in /usr/local/lib/python3.7/dist-packages (7.1.2)\n",
            "Collecting rdkit-pypi\n",
            "  Downloading rdkit_pypi-2022.3.2.1-cp37-cp37m-manylinux_2_17_x86_64.manylinux2014_x86_64.whl (22.7 MB)\n",
            "\u001b[K     |████████████████████████████████| 22.7 MB 5.7 MB/s \n",
            "\u001b[?25hCollecting linkify-it-py~=1.0.1\n",
            "  Downloading linkify_it_py-1.0.3-py3-none-any.whl (19 kB)\n",
            "Collecting sphinx-copybutton\n",
            "  Downloading sphinx_copybutton-0.5.0-py3-none-any.whl (12 kB)\n",
            "Collecting sphinx<5,>=3\n",
            "  Downloading Sphinx-4.5.0-py3-none-any.whl (3.1 MB)\n",
            "\u001b[K     |████████████████████████████████| 3.1 MB 40.7 MB/s \n",
            "\u001b[?25hRequirement already satisfied: Jinja2<3.1 in /usr/local/lib/python3.7/dist-packages (from jupyter-book) (2.11.3)\n",
            "Collecting sphinx-multitoc-numbering~=0.1.3\n",
            "  Downloading sphinx_multitoc_numbering-0.1.3-py3-none-any.whl (4.6 kB)\n",
            "Collecting myst-nb~=0.13.1\n",
            "  Downloading myst_nb-0.13.2-py3-none-any.whl (41 kB)\n",
            "\u001b[K     |████████████████████████████████| 41 kB 37 kB/s \n",
            "\u001b[?25hRequirement already satisfied: pyyaml in /usr/local/lib/python3.7/dist-packages (from jupyter-book) (3.13)\n",
            "Collecting sphinx-panels~=0.6.0\n",
            "  Downloading sphinx_panels-0.6.0-py3-none-any.whl (87 kB)\n",
            "\u001b[K     |████████████████████████████████| 87 kB 6.3 MB/s \n",
            "\u001b[?25hCollecting sphinx-external-toc~=0.2.3\n",
            "  Downloading sphinx_external_toc-0.2.4-py3-none-any.whl (25 kB)\n",
            "Collecting sphinx-jupyterbook-latex~=0.4.6\n",
            "  Downloading sphinx_jupyterbook_latex-0.4.6-py3-none-any.whl (13 kB)\n",
            "Collecting sphinx_togglebutton\n",
            "  Downloading sphinx_togglebutton-0.3.1-py3-none-any.whl (8.0 kB)\n",
            "Collecting jsonschema<4\n",
            "  Downloading jsonschema-3.2.0-py2.py3-none-any.whl (56 kB)\n",
            "\u001b[K     |████████████████████████████████| 56 kB 3.5 MB/s \n",
            "\u001b[?25hCollecting sphinxcontrib-bibtex<=2.5.0,>=2.2.0\n",
            "  Downloading sphinxcontrib_bibtex-2.4.2-py3-none-any.whl (39 kB)\n",
            "Requirement already satisfied: click<9,>=7.1 in /usr/local/lib/python3.7/dist-packages (from jupyter-book) (7.1.2)\n",
            "Collecting sphinx_book_theme~=0.1.4\n",
            "  Downloading sphinx_book_theme-0.1.10-py3-none-any.whl (94 kB)\n",
            "\u001b[K     |████████████████████████████████| 94 kB 2.8 MB/s \n",
            "\u001b[?25hCollecting sphinx-thebe~=0.1.1\n",
            "  Downloading sphinx_thebe-0.1.2-py3-none-any.whl (8.3 kB)\n",
            "Requirement already satisfied: docutils<0.18,>=0.15 in /usr/local/lib/python3.7/dist-packages (from jupyter-book) (0.17.1)\n",
            "Collecting sphinx-comments\n",
            "  Downloading sphinx_comments-0.0.3-py3-none-any.whl (4.6 kB)\n",
            "Requirement already satisfied: MarkupSafe>=0.23 in /usr/local/lib/python3.7/dist-packages (from Jinja2<3.1->jupyter-book) (2.0.1)\n",
            "Requirement already satisfied: six>=1.11.0 in /usr/local/lib/python3.7/dist-packages (from jsonschema<4->jupyter-book) (1.15.0)\n",
            "Requirement already satisfied: setuptools in /usr/local/lib/python3.7/dist-packages (from jsonschema<4->jupyter-book) (57.4.0)\n",
            "Requirement already satisfied: pyrsistent>=0.14.0 in /usr/local/lib/python3.7/dist-packages (from jsonschema<4->jupyter-book) (0.18.1)\n",
            "Requirement already satisfied: attrs>=17.4.0 in /usr/local/lib/python3.7/dist-packages (from jsonschema<4->jupyter-book) (21.4.0)\n",
            "Requirement already satisfied: importlib-metadata in /usr/local/lib/python3.7/dist-packages (from jsonschema<4->jupyter-book) (4.11.3)\n",
            "Collecting uc-micro-py\n",
            "  Downloading uc_micro_py-1.0.1-py3-none-any.whl (6.2 kB)\n",
            "Requirement already satisfied: nbconvert<7,>=5.6 in /usr/local/lib/python3.7/dist-packages (from myst-nb~=0.13.1->jupyter-book) (5.6.1)\n",
            "Requirement already satisfied: ipython in /usr/local/lib/python3.7/dist-packages (from myst-nb~=0.13.1->jupyter-book) (5.5.0)\n",
            "Requirement already satisfied: ipywidgets<8,>=7.0.0 in /usr/local/lib/python3.7/dist-packages (from myst-nb~=0.13.1->jupyter-book) (7.7.0)\n",
            "Collecting jupyter-cache~=0.4.1\n",
            "  Downloading jupyter_cache-0.4.3-py3-none-any.whl (31 kB)\n",
            "Collecting jupyter-sphinx~=0.3.2\n",
            "  Downloading jupyter_sphinx-0.3.2-py3-none-any.whl (20 kB)\n",
            "Requirement already satisfied: nbformat~=5.0 in /usr/local/lib/python3.7/dist-packages (from myst-nb~=0.13.1->jupyter-book) (5.3.0)\n",
            "Collecting myst-parser~=0.15.2\n",
            "  Downloading myst_parser-0.15.2-py3-none-any.whl (46 kB)\n",
            "\u001b[K     |████████████████████████████████| 46 kB 3.6 MB/s \n",
            "\u001b[?25hRequirement already satisfied: ipykernel>=4.5.1 in /usr/local/lib/python3.7/dist-packages (from ipywidgets<8,>=7.0.0->myst-nb~=0.13.1->jupyter-book) (4.10.1)\n",
            "Requirement already satisfied: ipython-genutils~=0.2.0 in /usr/local/lib/python3.7/dist-packages (from ipywidgets<8,>=7.0.0->myst-nb~=0.13.1->jupyter-book) (0.2.0)\n",
            "Requirement already satisfied: widgetsnbextension~=3.6.0 in /usr/local/lib/python3.7/dist-packages (from ipywidgets<8,>=7.0.0->myst-nb~=0.13.1->jupyter-book) (3.6.0)\n",
            "Requirement already satisfied: jupyterlab-widgets>=1.0.0 in /usr/local/lib/python3.7/dist-packages (from ipywidgets<8,>=7.0.0->myst-nb~=0.13.1->jupyter-book) (1.1.0)\n",
            "Requirement already satisfied: traitlets>=4.3.1 in /usr/local/lib/python3.7/dist-packages (from ipywidgets<8,>=7.0.0->myst-nb~=0.13.1->jupyter-book) (5.1.1)\n",
            "Requirement already satisfied: jupyter-client in /usr/local/lib/python3.7/dist-packages (from ipykernel>=4.5.1->ipywidgets<8,>=7.0.0->myst-nb~=0.13.1->jupyter-book) (5.3.5)\n",
            "Requirement already satisfied: tornado>=4.0 in /usr/local/lib/python3.7/dist-packages (from ipykernel>=4.5.1->ipywidgets<8,>=7.0.0->myst-nb~=0.13.1->jupyter-book) (5.1.1)\n",
            "Requirement already satisfied: simplegeneric>0.8 in /usr/local/lib/python3.7/dist-packages (from ipython->myst-nb~=0.13.1->jupyter-book) (0.8.1)\n",
            "Requirement already satisfied: pygments in /usr/local/lib/python3.7/dist-packages (from ipython->myst-nb~=0.13.1->jupyter-book) (2.6.1)\n",
            "Requirement already satisfied: pexpect in /usr/local/lib/python3.7/dist-packages (from ipython->myst-nb~=0.13.1->jupyter-book) (4.8.0)\n",
            "Requirement already satisfied: prompt-toolkit<2.0.0,>=1.0.4 in /usr/local/lib/python3.7/dist-packages (from ipython->myst-nb~=0.13.1->jupyter-book) (1.0.18)\n",
            "Requirement already satisfied: decorator in /usr/local/lib/python3.7/dist-packages (from ipython->myst-nb~=0.13.1->jupyter-book) (4.4.2)\n",
            "Requirement already satisfied: pickleshare in /usr/local/lib/python3.7/dist-packages (from ipython->myst-nb~=0.13.1->jupyter-book) (0.7.5)\n",
            "Collecting nbclient<0.6,>=0.2\n",
            "  Downloading nbclient-0.5.13-py3-none-any.whl (70 kB)\n",
            "\u001b[K     |████████████████████████████████| 70 kB 7.4 MB/s \n",
            "\u001b[?25hRequirement already satisfied: sqlalchemy<1.5,>=1.3.12 in /usr/local/lib/python3.7/dist-packages (from jupyter-cache~=0.4.1->myst-nb~=0.13.1->jupyter-book) (1.4.36)\n",
            "Collecting nbdime\n",
            "  Downloading nbdime-3.1.1-py2.py3-none-any.whl (5.3 MB)\n",
            "\u001b[K     |████████████████████████████████| 5.3 MB 17.8 MB/s \n",
            "\u001b[?25hCollecting mdit-py-plugins~=0.2.8\n",
            "  Downloading mdit_py_plugins-0.2.8-py3-none-any.whl (41 kB)\n",
            "\u001b[K     |████████████████████████████████| 41 kB 33 kB/s \n",
            "\u001b[?25hCollecting markdown-it-py<2.0.0,>=1.0.0\n",
            "  Downloading markdown_it_py-1.1.0-py3-none-any.whl (83 kB)\n",
            "\u001b[K     |████████████████████████████████| 83 kB 2.0 MB/s \n",
            "\u001b[?25hRequirement already satisfied: typing-extensions>=3.7.4 in /usr/local/lib/python3.7/dist-packages (from markdown-it-py<2.0.0,>=1.0.0->myst-parser~=0.15.2->myst-nb~=0.13.1->jupyter-book) (4.2.0)\n",
            "Requirement already satisfied: nest-asyncio in /usr/local/lib/python3.7/dist-packages (from nbclient<0.6,>=0.2->jupyter-cache~=0.4.1->myst-nb~=0.13.1->jupyter-book) (1.5.5)\n",
            "Collecting jupyter-client\n",
            "  Downloading jupyter_client-7.3.1-py3-none-any.whl (130 kB)\n",
            "\u001b[K     |████████████████████████████████| 130 kB 59.6 MB/s \n",
            "\u001b[?25hRequirement already satisfied: pyzmq>=22.3 in /usr/local/lib/python3.7/dist-packages (from jupyter-client->ipykernel>=4.5.1->ipywidgets<8,>=7.0.0->myst-nb~=0.13.1->jupyter-book) (22.3.0)\n",
            "Requirement already satisfied: python-dateutil>=2.8.2 in /usr/local/lib/python3.7/dist-packages (from jupyter-client->ipykernel>=4.5.1->ipywidgets<8,>=7.0.0->myst-nb~=0.13.1->jupyter-book) (2.8.2)\n",
            "Requirement already satisfied: entrypoints in /usr/local/lib/python3.7/dist-packages (from jupyter-client->ipykernel>=4.5.1->ipywidgets<8,>=7.0.0->myst-nb~=0.13.1->jupyter-book) (0.4)\n",
            "Requirement already satisfied: jupyter-core>=4.9.2 in /usr/local/lib/python3.7/dist-packages (from jupyter-client->ipykernel>=4.5.1->ipywidgets<8,>=7.0.0->myst-nb~=0.13.1->jupyter-book) (4.10.0)\n",
            "Collecting tornado>=4.0\n",
            "  Downloading tornado-6.1-cp37-cp37m-manylinux2010_x86_64.whl (428 kB)\n",
            "\u001b[K     |████████████████████████████████| 428 kB 38.6 MB/s \n",
            "\u001b[?25hRequirement already satisfied: bleach in /usr/local/lib/python3.7/dist-packages (from nbconvert<7,>=5.6->myst-nb~=0.13.1->jupyter-book) (5.0.0)\n",
            "Requirement already satisfied: testpath in /usr/local/lib/python3.7/dist-packages (from nbconvert<7,>=5.6->myst-nb~=0.13.1->jupyter-book) (0.6.0)\n",
            "Requirement already satisfied: defusedxml in /usr/local/lib/python3.7/dist-packages (from nbconvert<7,>=5.6->myst-nb~=0.13.1->jupyter-book) (0.7.1)\n",
            "Requirement already satisfied: pandocfilters>=1.4.1 in /usr/local/lib/python3.7/dist-packages (from nbconvert<7,>=5.6->myst-nb~=0.13.1->jupyter-book) (1.5.0)\n",
            "Requirement already satisfied: mistune<2,>=0.8.1 in /usr/local/lib/python3.7/dist-packages (from nbconvert<7,>=5.6->myst-nb~=0.13.1->jupyter-book) (0.8.4)\n",
            "Requirement already satisfied: fastjsonschema in /usr/local/lib/python3.7/dist-packages (from nbformat~=5.0->myst-nb~=0.13.1->jupyter-book) (2.15.3)\n",
            "Requirement already satisfied: wcwidth in /usr/local/lib/python3.7/dist-packages (from prompt-toolkit<2.0.0,>=1.0.4->ipython->myst-nb~=0.13.1->jupyter-book) (0.2.5)\n",
            "Requirement already satisfied: imagesize in /usr/local/lib/python3.7/dist-packages (from sphinx<5,>=3->jupyter-book) (1.3.0)\n",
            "Collecting sphinxcontrib-jsmath\n",
            "  Downloading sphinxcontrib_jsmath-1.0.1-py2.py3-none-any.whl (5.1 kB)\n",
            "Requirement already satisfied: snowballstemmer>=1.1 in /usr/local/lib/python3.7/dist-packages (from sphinx<5,>=3->jupyter-book) (2.2.0)\n",
            "Collecting sphinxcontrib-qthelp\n",
            "  Downloading sphinxcontrib_qthelp-1.0.3-py2.py3-none-any.whl (90 kB)\n",
            "\u001b[K     |████████████████████████████████| 90 kB 9.6 MB/s \n",
            "\u001b[?25hRequirement already satisfied: babel>=1.3 in /usr/local/lib/python3.7/dist-packages (from sphinx<5,>=3->jupyter-book) (2.10.1)\n",
            "Collecting sphinxcontrib-applehelp\n",
            "  Downloading sphinxcontrib_applehelp-1.0.2-py2.py3-none-any.whl (121 kB)\n",
            "\u001b[K     |████████████████████████████████| 121 kB 57.6 MB/s \n",
            "\u001b[?25hRequirement already satisfied: alabaster<0.8,>=0.7 in /usr/local/lib/python3.7/dist-packages (from sphinx<5,>=3->jupyter-book) (0.7.12)\n",
            "Requirement already satisfied: packaging in /usr/local/lib/python3.7/dist-packages (from sphinx<5,>=3->jupyter-book) (21.3)\n",
            "Requirement already satisfied: requests>=2.5.0 in /usr/local/lib/python3.7/dist-packages (from sphinx<5,>=3->jupyter-book) (2.23.0)\n",
            "Collecting sphinxcontrib-devhelp\n",
            "  Downloading sphinxcontrib_devhelp-1.0.2-py2.py3-none-any.whl (84 kB)\n",
            "\u001b[K     |████████████████████████████████| 84 kB 3.1 MB/s \n",
            "\u001b[?25hCollecting sphinxcontrib-htmlhelp>=2.0.0\n",
            "  Downloading sphinxcontrib_htmlhelp-2.0.0-py2.py3-none-any.whl (100 kB)\n",
            "\u001b[K     |████████████████████████████████| 100 kB 9.8 MB/s \n",
            "\u001b[?25hRequirement already satisfied: sphinxcontrib-serializinghtml>=1.1.5 in /usr/local/lib/python3.7/dist-packages (from sphinx<5,>=3->jupyter-book) (1.1.5)\n",
            "Requirement already satisfied: pytz>=2015.7 in /usr/local/lib/python3.7/dist-packages (from babel>=1.3->sphinx<5,>=3->jupyter-book) (2022.1)\n",
            "Requirement already satisfied: zipp>=0.5 in /usr/local/lib/python3.7/dist-packages (from importlib-metadata->jsonschema<4->jupyter-book) (3.8.0)\n",
            "Requirement already satisfied: certifi>=2017.4.17 in /usr/local/lib/python3.7/dist-packages (from requests>=2.5.0->sphinx<5,>=3->jupyter-book) (2021.10.8)\n",
            "Requirement already satisfied: urllib3!=1.25.0,!=1.25.1,<1.26,>=1.21.1 in /usr/local/lib/python3.7/dist-packages (from requests>=2.5.0->sphinx<5,>=3->jupyter-book) (1.24.3)\n",
            "Requirement already satisfied: chardet<4,>=3.0.2 in /usr/local/lib/python3.7/dist-packages (from requests>=2.5.0->sphinx<5,>=3->jupyter-book) (3.0.4)\n",
            "Requirement already satisfied: idna<3,>=2.5 in /usr/local/lib/python3.7/dist-packages (from requests>=2.5.0->sphinx<5,>=3->jupyter-book) (2.10)\n",
            "Requirement already satisfied: beautifulsoup4<5,>=4.6.1 in /usr/local/lib/python3.7/dist-packages (from sphinx_book_theme~=0.1.4->jupyter-book) (4.6.3)\n",
            "Collecting docutils<0.18,>=0.15\n",
            "  Downloading docutils-0.16-py2.py3-none-any.whl (548 kB)\n",
            "\u001b[K     |████████████████████████████████| 548 kB 55.1 MB/s \n",
            "\u001b[?25hCollecting pydata-sphinx-theme~=0.7.2\n",
            "  Downloading pydata_sphinx_theme-0.7.2-py3-none-any.whl (1.4 MB)\n",
            "\u001b[K     |████████████████████████████████| 1.4 MB 58.7 MB/s \n",
            "\u001b[?25hRequirement already satisfied: importlib-resources in /usr/local/lib/python3.7/dist-packages (from sphinx-jupyterbook-latex~=0.4.6->jupyter-book) (5.7.1)\n",
            "Requirement already satisfied: wheel in /usr/local/lib/python3.7/dist-packages (from sphinx_togglebutton->jupyter-book) (0.37.1)\n",
            "Collecting pybtex-docutils>=1.0.0\n",
            "  Downloading pybtex_docutils-1.0.1-py3-none-any.whl (4.8 kB)\n",
            "Collecting pybtex>=0.24\n",
            "  Downloading pybtex-0.24.0-py2.py3-none-any.whl (561 kB)\n",
            "\u001b[K     |████████████████████████████████| 561 kB 50.1 MB/s \n",
            "\u001b[?25hCollecting latexcodec>=1.0.4\n",
            "  Downloading latexcodec-2.0.1-py2.py3-none-any.whl (18 kB)\n",
            "Requirement already satisfied: greenlet!=0.4.17 in /usr/local/lib/python3.7/dist-packages (from sqlalchemy<1.5,>=1.3.12->jupyter-cache~=0.4.1->myst-nb~=0.13.1->jupyter-book) (1.1.2)\n",
            "Requirement already satisfied: notebook>=4.4.1 in /usr/local/lib/python3.7/dist-packages (from widgetsnbextension~=3.6.0->ipywidgets<8,>=7.0.0->myst-nb~=0.13.1->jupyter-book) (5.3.1)\n",
            "Requirement already satisfied: Send2Trash in /usr/local/lib/python3.7/dist-packages (from notebook>=4.4.1->widgetsnbextension~=3.6.0->ipywidgets<8,>=7.0.0->myst-nb~=0.13.1->jupyter-book) (1.8.0)\n",
            "Requirement already satisfied: terminado>=0.8.1 in /usr/local/lib/python3.7/dist-packages (from notebook>=4.4.1->widgetsnbextension~=3.6.0->ipywidgets<8,>=7.0.0->myst-nb~=0.13.1->jupyter-book) (0.13.3)\n",
            "Requirement already satisfied: ptyprocess in /usr/local/lib/python3.7/dist-packages (from terminado>=0.8.1->notebook>=4.4.1->widgetsnbextension~=3.6.0->ipywidgets<8,>=7.0.0->myst-nb~=0.13.1->jupyter-book) (0.7.0)\n",
            "Requirement already satisfied: cycler>=0.10 in /usr/local/lib/python3.7/dist-packages (from matplotlib) (0.11.0)\n",
            "Requirement already satisfied: pyparsing!=2.0.4,!=2.1.2,!=2.1.6,>=2.0.1 in /usr/local/lib/python3.7/dist-packages (from matplotlib) (3.0.8)\n",
            "Requirement already satisfied: kiwisolver>=1.0.1 in /usr/local/lib/python3.7/dist-packages (from matplotlib) (1.4.2)\n",
            "Requirement already satisfied: absl-py>=0.4.0 in /usr/local/lib/python3.7/dist-packages (from tensorflow) (1.0.0)\n",
            "Requirement already satisfied: h5py>=2.9.0 in /usr/local/lib/python3.7/dist-packages (from tensorflow) (3.1.0)\n",
            "Requirement already satisfied: keras-preprocessing>=1.1.1 in /usr/local/lib/python3.7/dist-packages (from tensorflow) (1.1.2)\n",
            "Requirement already satisfied: wrapt>=1.11.0 in /usr/local/lib/python3.7/dist-packages (from tensorflow) (1.14.0)\n",
            "Requirement already satisfied: grpcio<2.0,>=1.24.3 in /usr/local/lib/python3.7/dist-packages (from tensorflow) (1.44.0)\n",
            "Collecting tf-estimator-nightly==2.8.0.dev2021122109\n",
            "  Downloading tf_estimator_nightly-2.8.0.dev2021122109-py2.py3-none-any.whl (462 kB)\n",
            "\u001b[K     |████████████████████████████████| 462 kB 48.2 MB/s \n",
            "\u001b[?25hRequirement already satisfied: gast>=0.2.1 in /usr/local/lib/python3.7/dist-packages (from tensorflow) (0.5.3)\n",
            "Requirement already satisfied: tensorflow-io-gcs-filesystem>=0.23.1 in /usr/local/lib/python3.7/dist-packages (from tensorflow) (0.25.0)\n",
            "Requirement already satisfied: keras<2.9,>=2.8.0rc0 in /usr/local/lib/python3.7/dist-packages (from tensorflow) (2.8.0)\n",
            "Requirement already satisfied: flatbuffers>=1.12 in /usr/local/lib/python3.7/dist-packages (from tensorflow) (2.0)\n",
            "Requirement already satisfied: astunparse>=1.6.0 in /usr/local/lib/python3.7/dist-packages (from tensorflow) (1.6.3)\n",
            "Requirement already satisfied: tensorboard<2.9,>=2.8 in /usr/local/lib/python3.7/dist-packages (from tensorflow) (2.8.0)\n",
            "Requirement already satisfied: libclang>=9.0.1 in /usr/local/lib/python3.7/dist-packages (from tensorflow) (14.0.1)\n",
            "Requirement already satisfied: opt-einsum>=2.3.2 in /usr/local/lib/python3.7/dist-packages (from tensorflow) (3.3.0)\n",
            "Requirement already satisfied: protobuf>=3.9.2 in /usr/local/lib/python3.7/dist-packages (from tensorflow) (3.17.3)\n",
            "Requirement already satisfied: termcolor>=1.1.0 in /usr/local/lib/python3.7/dist-packages (from tensorflow) (1.1.0)\n",
            "Requirement already satisfied: google-pasta>=0.1.1 in /usr/local/lib/python3.7/dist-packages (from tensorflow) (0.2.0)\n",
            "Requirement already satisfied: cached-property in /usr/local/lib/python3.7/dist-packages (from h5py>=2.9.0->tensorflow) (1.5.2)\n",
            "Requirement already satisfied: google-auth-oauthlib<0.5,>=0.4.1 in /usr/local/lib/python3.7/dist-packages (from tensorboard<2.9,>=2.8->tensorflow) (0.4.6)\n",
            "Requirement already satisfied: google-auth<3,>=1.6.3 in /usr/local/lib/python3.7/dist-packages (from tensorboard<2.9,>=2.8->tensorflow) (1.35.0)\n",
            "Requirement already satisfied: werkzeug>=0.11.15 in /usr/local/lib/python3.7/dist-packages (from tensorboard<2.9,>=2.8->tensorflow) (1.0.1)\n",
            "Requirement already satisfied: markdown>=2.6.8 in /usr/local/lib/python3.7/dist-packages (from tensorboard<2.9,>=2.8->tensorflow) (3.3.6)\n",
            "Requirement already satisfied: tensorboard-data-server<0.7.0,>=0.6.0 in /usr/local/lib/python3.7/dist-packages (from tensorboard<2.9,>=2.8->tensorflow) (0.6.1)\n",
            "Requirement already satisfied: tensorboard-plugin-wit>=1.6.0 in /usr/local/lib/python3.7/dist-packages (from tensorboard<2.9,>=2.8->tensorflow) (1.8.1)\n",
            "Requirement already satisfied: pyasn1-modules>=0.2.1 in /usr/local/lib/python3.7/dist-packages (from google-auth<3,>=1.6.3->tensorboard<2.9,>=2.8->tensorflow) (0.2.8)\n",
            "Requirement already satisfied: cachetools<5.0,>=2.0.0 in /usr/local/lib/python3.7/dist-packages (from google-auth<3,>=1.6.3->tensorboard<2.9,>=2.8->tensorflow) (4.2.4)\n",
            "Requirement already satisfied: rsa<5,>=3.1.4 in /usr/local/lib/python3.7/dist-packages (from google-auth<3,>=1.6.3->tensorboard<2.9,>=2.8->tensorflow) (4.8)\n",
            "Requirement already satisfied: requests-oauthlib>=0.7.0 in /usr/local/lib/python3.7/dist-packages (from google-auth-oauthlib<0.5,>=0.4.1->tensorboard<2.9,>=2.8->tensorflow) (1.3.1)\n",
            "Requirement already satisfied: pyasn1<0.5.0,>=0.4.6 in /usr/local/lib/python3.7/dist-packages (from pyasn1-modules>=0.2.1->google-auth<3,>=1.6.3->tensorboard<2.9,>=2.8->tensorflow) (0.4.8)\n",
            "Requirement already satisfied: oauthlib>=3.0.0 in /usr/local/lib/python3.7/dist-packages (from requests-oauthlib>=0.7.0->google-auth-oauthlib<0.5,>=0.4.1->tensorboard<2.9,>=2.8->tensorflow) (3.2.0)\n",
            "Requirement already satisfied: scipy>=1.0 in /usr/local/lib/python3.7/dist-packages (from seaborn) (1.4.1)\n",
            "Requirement already satisfied: pandas>=0.23 in /usr/local/lib/python3.7/dist-packages (from seaborn) (1.3.5)\n",
            "Requirement already satisfied: webencodings in /usr/local/lib/python3.7/dist-packages (from bleach->nbconvert<7,>=5.6->myst-nb~=0.13.1->jupyter-book) (0.5.1)\n",
            "Collecting GitPython!=2.1.4,!=2.1.5,!=2.1.6\n",
            "  Downloading GitPython-3.1.27-py3-none-any.whl (181 kB)\n",
            "\u001b[K     |████████████████████████████████| 181 kB 55.9 MB/s \n",
            "\u001b[?25hCollecting colorama\n",
            "  Downloading colorama-0.4.4-py2.py3-none-any.whl (16 kB)\n",
            "Collecting jupyter-server\n",
            "  Downloading jupyter_server-1.17.0-py3-none-any.whl (342 kB)\n",
            "\u001b[K     |████████████████████████████████| 342 kB 49.8 MB/s \n",
            "\u001b[?25hCollecting jupyter-server-mathjax>=0.2.2\n",
            "  Downloading jupyter_server_mathjax-0.2.5-py3-none-any.whl (3.1 MB)\n",
            "\u001b[K     |████████████████████████████████| 3.1 MB 38.0 MB/s \n",
            "\u001b[?25hCollecting gitdb<5,>=4.0.1\n",
            "  Downloading gitdb-4.0.9-py3-none-any.whl (63 kB)\n",
            "\u001b[K     |████████████████████████████████| 63 kB 1.6 MB/s \n",
            "\u001b[?25hCollecting smmap<6,>=3.0.1\n",
            "  Downloading smmap-5.0.0-py3-none-any.whl (24 kB)\n",
            "Collecting nbconvert<7,>=5.6\n",
            "  Downloading nbconvert-6.5.0-py3-none-any.whl (561 kB)\n",
            "\u001b[K     |████████████████████████████████| 561 kB 57.5 MB/s \n",
            "\u001b[?25hCollecting websocket-client\n",
            "  Downloading websocket_client-1.3.2-py3-none-any.whl (54 kB)\n",
            "\u001b[K     |████████████████████████████████| 54 kB 2.2 MB/s \n",
            "\u001b[?25hRequirement already satisfied: argon2-cffi in /usr/local/lib/python3.7/dist-packages (from jupyter-server->nbdime->jupyter-cache~=0.4.1->myst-nb~=0.13.1->jupyter-book) (21.3.0)\n",
            "Requirement already satisfied: prometheus-client in /usr/local/lib/python3.7/dist-packages (from jupyter-server->nbdime->jupyter-cache~=0.4.1->myst-nb~=0.13.1->jupyter-book) (0.14.1)\n",
            "Collecting anyio<4,>=3.1.0\n",
            "  Downloading anyio-3.6.1-py3-none-any.whl (80 kB)\n",
            "\u001b[K     |████████████████████████████████| 80 kB 7.4 MB/s \n",
            "\u001b[?25hCollecting sniffio>=1.1\n",
            "  Downloading sniffio-1.2.0-py3-none-any.whl (10 kB)\n",
            "Requirement already satisfied: tinycss2 in /usr/local/lib/python3.7/dist-packages (from nbconvert<7,>=5.6->myst-nb~=0.13.1->jupyter-book) (1.1.1)\n",
            "Collecting Jinja2<3.1\n",
            "  Downloading Jinja2-3.0.3-py3-none-any.whl (133 kB)\n",
            "\u001b[K     |████████████████████████████████| 133 kB 42.1 MB/s \n",
            "\u001b[?25hRequirement already satisfied: jupyterlab-pygments in /usr/local/lib/python3.7/dist-packages (from nbconvert<7,>=5.6->myst-nb~=0.13.1->jupyter-book) (0.2.2)\n",
            "Requirement already satisfied: argon2-cffi-bindings in /usr/local/lib/python3.7/dist-packages (from argon2-cffi->jupyter-server->nbdime->jupyter-cache~=0.4.1->myst-nb~=0.13.1->jupyter-book) (21.2.0)\n",
            "Requirement already satisfied: cffi>=1.0.1 in /usr/local/lib/python3.7/dist-packages (from argon2-cffi-bindings->argon2-cffi->jupyter-server->nbdime->jupyter-cache~=0.4.1->myst-nb~=0.13.1->jupyter-book) (1.15.0)\n",
            "Requirement already satisfied: pycparser in /usr/local/lib/python3.7/dist-packages (from cffi>=1.0.1->argon2-cffi-bindings->argon2-cffi->jupyter-server->nbdime->jupyter-cache~=0.4.1->myst-nb~=0.13.1->jupyter-book) (2.21)\n",
            "Installing collected packages: tornado, jsonschema, jupyter-client, sniffio, nbclient, Jinja2, websocket-client, smmap, nbconvert, anyio, jupyter-server, gitdb, sphinxcontrib-qthelp, sphinxcontrib-jsmath, sphinxcontrib-htmlhelp, sphinxcontrib-devhelp, sphinxcontrib-applehelp, markdown-it-py, latexcodec, jupyter-server-mathjax, GitPython, docutils, colorama, sphinx, pybtex, nbdime, mdit-py-plugins, uc-micro-py, sphinx-togglebutton, pydata-sphinx-theme, pybtex-docutils, myst-parser, jupyter-sphinx, jupyter-cache, tf-estimator-nightly, sphinxcontrib-bibtex, sphinx-thebe, sphinx-panels, sphinx-multitoc-numbering, sphinx-jupyterbook-latex, sphinx-external-toc, sphinx-copybutton, sphinx-comments, sphinx-book-theme, myst-nb, linkify-it-py, rdkit-pypi, jupyter-book\n",
            "  Attempting uninstall: tornado\n",
            "    Found existing installation: tornado 5.1.1\n",
            "    Uninstalling tornado-5.1.1:\n",
            "      Successfully uninstalled tornado-5.1.1\n",
            "  Attempting uninstall: jsonschema\n",
            "    Found existing installation: jsonschema 4.3.3\n",
            "    Uninstalling jsonschema-4.3.3:\n",
            "      Successfully uninstalled jsonschema-4.3.3\n",
            "  Attempting uninstall: jupyter-client\n",
            "    Found existing installation: jupyter-client 5.3.5\n",
            "    Uninstalling jupyter-client-5.3.5:\n",
            "      Successfully uninstalled jupyter-client-5.3.5\n",
            "  Attempting uninstall: nbclient\n",
            "    Found existing installation: nbclient 0.6.2\n",
            "    Uninstalling nbclient-0.6.2:\n",
            "      Successfully uninstalled nbclient-0.6.2\n",
            "  Attempting uninstall: Jinja2\n",
            "    Found existing installation: Jinja2 2.11.3\n",
            "    Uninstalling Jinja2-2.11.3:\n",
            "      Successfully uninstalled Jinja2-2.11.3\n",
            "  Attempting uninstall: nbconvert\n",
            "    Found existing installation: nbconvert 5.6.1\n",
            "    Uninstalling nbconvert-5.6.1:\n",
            "      Successfully uninstalled nbconvert-5.6.1\n",
            "  Attempting uninstall: docutils\n",
            "    Found existing installation: docutils 0.17.1\n",
            "    Uninstalling docutils-0.17.1:\n",
            "      Successfully uninstalled docutils-0.17.1\n",
            "  Attempting uninstall: sphinx\n",
            "    Found existing installation: Sphinx 1.8.6\n",
            "    Uninstalling Sphinx-1.8.6:\n",
            "      Successfully uninstalled Sphinx-1.8.6\n",
            "\u001b[31mERROR: pip's dependency resolver does not currently take into account all the packages that are installed. This behaviour is the source of the following dependency conflicts.\n",
            "google-colab 1.0.0 requires tornado~=5.1.0; python_version >= \"3.0\", but you have tornado 6.1 which is incompatible.\n",
            "flask 1.1.4 requires Jinja2<3.0,>=2.10.1, but you have jinja2 3.0.3 which is incompatible.\n",
            "datascience 0.10.6 requires folium==0.2.1, but you have folium 0.8.3 which is incompatible.\u001b[0m\n",
            "Successfully installed GitPython-3.1.27 Jinja2-3.0.3 anyio-3.6.1 colorama-0.4.4 docutils-0.16 gitdb-4.0.9 jsonschema-3.2.0 jupyter-book-0.12.3 jupyter-cache-0.4.3 jupyter-client-7.3.1 jupyter-server-1.17.0 jupyter-server-mathjax-0.2.5 jupyter-sphinx-0.3.2 latexcodec-2.0.1 linkify-it-py-1.0.3 markdown-it-py-1.1.0 mdit-py-plugins-0.2.8 myst-nb-0.13.2 myst-parser-0.15.2 nbclient-0.5.13 nbconvert-6.5.0 nbdime-3.1.1 pybtex-0.24.0 pybtex-docutils-1.0.1 pydata-sphinx-theme-0.7.2 rdkit-pypi-2022.3.2.1 smmap-5.0.0 sniffio-1.2.0 sphinx-4.5.0 sphinx-book-theme-0.1.10 sphinx-comments-0.0.3 sphinx-copybutton-0.5.0 sphinx-external-toc-0.2.4 sphinx-jupyterbook-latex-0.4.6 sphinx-multitoc-numbering-0.1.3 sphinx-panels-0.6.0 sphinx-thebe-0.1.2 sphinx-togglebutton-0.3.1 sphinxcontrib-applehelp-1.0.2 sphinxcontrib-bibtex-2.4.2 sphinxcontrib-devhelp-1.0.2 sphinxcontrib-htmlhelp-2.0.0 sphinxcontrib-jsmath-1.0.1 sphinxcontrib-qthelp-1.0.3 tf-estimator-nightly-2.8.0.dev2021122109 tornado-6.1 uc-micro-py-1.0.1 websocket-client-1.3.2\n"
          ]
        },
        {
          "output_type": "display_data",
          "data": {
            "application/vnd.colab-display-data+json": {
              "pip_warning": {
                "packages": [
                  "jupyter_client",
                  "sphinxcontrib",
                  "tornado"
                ]
              }
            }
          },
          "metadata": {}
        }
      ]
    },
    {
      "cell_type": "code",
      "source": [
        "import matplotlib.pyplot as plt\n",
        "import seaborn as sns\n",
        "import matplotlib as mpl\n",
        "import numpy as np\n",
        "import tensorflow as tf\n",
        "import warnings\n",
        "import pandas as pd\n",
        "import rdkit, rdkit.Chem, rdkit.Chem.rdDepictor, rdkit.Chem.Draw\n",
        "import networkx as nx\n",
        "\n",
        "warnings.filterwarnings(\"ignore\")\n",
        "sns.set_context(\"notebook\")\n",
        "sns.set_style(\n",
        "    \"dark\",\n",
        "    {\n",
        "        \"xtick.bottom\": True,\n",
        "        \"ytick.left\": True,\n",
        "        \"xtick.color\": \"#666666\",\n",
        "        \"ytick.color\": \"#666666\",\n",
        "        \"axes.edgecolor\": \"#666666\",\n",
        "        \"axes.linewidth\": 0.8,\n",
        "        \"figure.dpi\": 300,\n",
        "    },\n",
        ")\n",
        "color_cycle = [\"#1BBC9B\", \"#F06060\", \"#5C4B51\", \"#F3B562\", \"#6e5687\"]\n",
        "mpl.rcParams[\"axes.prop_cycle\"] = mpl.cycler(color=color_cycle)\n",
        "# soldata = pd.read_csv('https://dataverse.harvard.edu/api/access/datafile/3407241?format=original&gbrecs=true')\n",
        "# had to rehost because dataverse isn't reliable\n",
        "soldata = pd.read_csv(\n",
        "    \"https://github.com/whitead/dmol-book/raw/master/data/curated-solubility-dataset.csv\"\n",
        ")\n",
        "np.random.seed(0)\n",
        "my_elements = {6: \"C\", 8: \"O\", 1: \"H\"}"
      ],
      "metadata": {
        "id": "cTkSGBi_-355"
      },
      "execution_count": null,
      "outputs": []
    },
    {
      "cell_type": "code",
      "source": [
        "def smiles2graph(sml):\n",
        "    \"\"\"Argument for the RD2NX function should be a valid SMILES sequence\n",
        "    returns: the graph\n",
        "    \"\"\"\n",
        "    m = rdkit.Chem.MolFromSmiles(sml)\n",
        "    m = rdkit.Chem.AddHs(m)\n",
        "    order_string = {\n",
        "        rdkit.Chem.rdchem.BondType.SINGLE: 1,\n",
        "        rdkit.Chem.rdchem.BondType.DOUBLE: 2,\n",
        "        rdkit.Chem.rdchem.BondType.TRIPLE: 3,\n",
        "        rdkit.Chem.rdchem.BondType.AROMATIC: 4,\n",
        "    }\n",
        "    N = len(list(m.GetAtoms()))\n",
        "    nodes = np.zeros((N, len(my_elements)))\n",
        "    lookup = list(my_elements.keys())\n",
        "    for i in m.GetAtoms():\n",
        "        nodes[i.GetIdx(), lookup.index(i.GetAtomicNum())] = 1\n",
        "\n",
        "    adj = np.zeros((N, N, 5))\n",
        "    for j in m.GetBonds():\n",
        "        u = min(j.GetBeginAtomIdx(), j.GetEndAtomIdx())\n",
        "        v = max(j.GetBeginAtomIdx(), j.GetEndAtomIdx())\n",
        "        order = j.GetBondType()\n",
        "        if order in order_string:\n",
        "            order = order_string[order]\n",
        "        else:\n",
        "            raise Warning(\"Ignoring bond order\" + order)\n",
        "        adj[u, v, order] = 1\n",
        "        adj[v, u, order] = 1\n",
        "    return nodes, adj"
      ],
      "metadata": {
        "id": "07FkkCQ1_KMv"
      },
      "execution_count": null,
      "outputs": []
    },
    {
      "cell_type": "code",
      "source": [
        "nodes, adj = smiles2graph(\"CO\")\n",
        "print(nodes)\n",
        "#print(adj)"
      ],
      "metadata": {
        "colab": {
          "base_uri": "https://localhost:8080/"
        },
        "id": "94dvYkjA_NJx",
        "outputId": "466aa2ac-9ac4-4a76-c429-8738bda1cdc5"
      },
      "execution_count": null,
      "outputs": [
        {
          "output_type": "stream",
          "name": "stdout",
          "text": [
            "[[1. 0. 0.]\n",
            " [0. 1. 0.]\n",
            " [0. 0. 1.]\n",
            " [0. 0. 1.]\n",
            " [0. 0. 1.]\n",
            " [0. 0. 1.]]\n"
          ]
        }
      ]
    },
    {
      "cell_type": "code",
      "source": [
        "nodes, adj = smiles2graph(\"CO\")\n",
        "adj_mat = np.sum(adj, axis=-1) + np.eye(adj.shape[0])\n",
        "adj_mat"
      ],
      "metadata": {
        "colab": {
          "base_uri": "https://localhost:8080/"
        },
        "id": "tej9A8aD_c6o",
        "outputId": "0bd96016-3c7a-4b9a-a262-e40109a5de70"
      },
      "execution_count": null,
      "outputs": [
        {
          "output_type": "execute_result",
          "data": {
            "text/plain": [
              "array([[1., 1., 1., 1., 1., 0.],\n",
              "       [1., 1., 0., 0., 0., 1.],\n",
              "       [1., 0., 1., 0., 0., 0.],\n",
              "       [1., 0., 0., 1., 0., 0.],\n",
              "       [1., 0., 0., 0., 1., 0.],\n",
              "       [0., 1., 0., 0., 0., 1.]])"
            ]
          },
          "metadata": {},
          "execution_count": 161
        }
      ]
    },
    {
      "cell_type": "code",
      "source": [
        "degree = np.sum(adj_mat, axis=-1)\n",
        "degree"
      ],
      "metadata": {
        "colab": {
          "base_uri": "https://localhost:8080/"
        },
        "id": "GbbL3F-x_hIa",
        "outputId": "1de6fc3a-0eaa-4862-8192-ac6a265fd15a"
      },
      "execution_count": null,
      "outputs": [
        {
          "output_type": "execute_result",
          "data": {
            "text/plain": [
              "array([5., 3., 2., 2., 2., 2.])"
            ]
          },
          "metadata": {},
          "execution_count": 162
        }
      ]
    },
    {
      "cell_type": "code",
      "source": [
        "print(nodes[0])\n",
        "# note to divide by degree, make the input 1 / degree\n",
        "new_nodes = np.einsum(\"i,ij,jk->ik\", 1 / degree, adj_mat, nodes)\n",
        "print(new_nodes[0])"
      ],
      "metadata": {
        "colab": {
          "base_uri": "https://localhost:8080/"
        },
        "id": "DbnXvc5o_ktD",
        "outputId": "265f7d39-20e2-4aec-dc04-ae86538b1b81"
      },
      "execution_count": null,
      "outputs": [
        {
          "output_type": "stream",
          "name": "stdout",
          "text": [
            "[1. 0. 0.]\n",
            "[0.2 0.2 0.6]\n"
          ]
        }
      ]
    },
    {
      "cell_type": "code",
      "source": [
        "class GCNLayer(tf.keras.layers.Layer):\n",
        "    \"\"\"Implementation of GCN as layer\"\"\"\n",
        "\n",
        "    def __init__(self, activation=None, **kwargs):\n",
        "        # constructor, which just calls super constructor\n",
        "        # and turns requested activation into a callable function\n",
        "        super(GCNLayer, self).__init__(**kwargs)\n",
        "        self.activation = tf.keras.activations.get(activation)\n",
        "\n",
        "    def build(self, input_shape):\n",
        "        # create trainable weights\n",
        "        node_shape, adj_shape = input_shape\n",
        "        print(str(node_shape)+\" \"+str(adj_shape))\n",
        "        self.w = self.add_weight(shape=(node_shape[2], node_shape[2]), name=\"w\")\n",
        "\n",
        "    def call(self, inputs):\n",
        "        # split input into nodes, adj\n",
        "        nodes, adj = inputs\n",
        "        print(\"asd:\"+str(inputs))\n",
        "        # compute degree\n",
        "        degree = tf.reduce_sum(adj, axis=-1)\n",
        "        # GCN equation\n",
        "        new_nodes = tf.einsum(\"bi,bij,bjk,kl->bil\", 1 / degree, adj, nodes, self.w)\n",
        "        out = self.activation(new_nodes)\n",
        "        return out, adj"
      ],
      "metadata": {
        "id": "JoGckoK6_noj"
      },
      "execution_count": null,
      "outputs": []
    },
    {
      "cell_type": "code",
      "source": [
        "gcnlayer = GCNLayer(\"relu\")\n",
        "# we insert a batch axis here\n",
        "gcnlayer((nodes[np.newaxis, ...], adj_mat[np.newaxis, ...]))"
      ],
      "metadata": {
        "id": "OHKcMI_w_qXi"
      },
      "execution_count": null,
      "outputs": []
    },
    {
      "cell_type": "code",
      "source": [
        "x = (nodes[np.newaxis, ...], adj_mat[np.newaxis, ...])\n",
        "for i in range(2):\n",
        "    x = gcnlayer(x)\n",
        "x"
      ],
      "metadata": {
        "colab": {
          "base_uri": "https://localhost:8080/"
        },
        "id": "B-KpOr6nDSZm",
        "outputId": "01e3714e-b638-4f4c-b8d6-4f973ac48741"
      },
      "execution_count": null,
      "outputs": [
        {
          "output_type": "execute_result",
          "data": {
            "text/plain": [
              "(<tf.Tensor: shape=(1, 6, 3), dtype=float32, numpy=\n",
              " array([[[0.22404619, 0.22070594, 0.        ],\n",
              "         [0.33421993, 0.1975489 , 0.        ],\n",
              "         [0.25181377, 0.22065544, 0.        ],\n",
              "         [0.25181377, 0.22065544, 0.        ],\n",
              "         [0.25181377, 0.22065544, 0.        ],\n",
              "         [0.32795066, 0.198504  , 0.        ]]], dtype=float32)>,\n",
              " <tf.Tensor: shape=(1, 6, 6), dtype=float32, numpy=\n",
              " array([[[1., 1., 1., 1., 1., 0.],\n",
              "         [1., 1., 0., 0., 0., 1.],\n",
              "         [1., 0., 1., 0., 0., 0.],\n",
              "         [1., 0., 0., 1., 0., 0.],\n",
              "         [1., 0., 0., 0., 1., 0.],\n",
              "         [0., 1., 0., 0., 0., 1.]]], dtype=float32)>)"
            ]
          },
          "metadata": {},
          "execution_count": 171
        }
      ]
    },
    {
      "cell_type": "code",
      "source": [
        "#solubility example \n",
        "class GRLayer(tf.keras.layers.Layer):\n",
        "    \"\"\"A GNN layer that computes average over all node features\"\"\"\n",
        "\n",
        "    def __init__(self, name=\"GRLayer\", **kwargs):\n",
        "        super(GRLayer, self).__init__(name=name, **kwargs)\n",
        "\n",
        "    def call(self, inputs):\n",
        "        nodes, adj = inputs\n",
        "        reduction = tf.reduce_mean(nodes, axis=1)\n",
        "        return reduction\n",
        "\n"
      ],
      "metadata": {
        "id": "n3xwpyxeDXRT"
      },
      "execution_count": null,
      "outputs": []
    },
    {
      "cell_type": "code",
      "source": [
        "ninput = tf.keras.Input(\n",
        "    (\n",
        "        None,\n",
        "        100,\n",
        "    )\n",
        ")\n",
        "ainput = tf.keras.Input(\n",
        "    (\n",
        "        None,\n",
        "        None,\n",
        "    )\n",
        ")\n",
        "# GCN block\n",
        "x = GCNLayer(\"relu\")([ainput])\n",
        "x = GCNLayer(\"relu\")(x)\n",
        "x = GCNLayer(\"relu\")(x)\n",
        "x = GCNLayer(\"relu\")(x)\n",
        "# reduce to graph features\n",
        "x = GRLayer()(x)\n",
        "# standard layers (the readout)\n",
        "x = tf.keras.layers.Dense(16, \"tanh\")(x)\n",
        "x = tf.keras.layers.Dense(1)(x)\n",
        "model = tf.keras.Model(inputs=ainput, outputs=x)\n",
        "model.summary()"
      ],
      "metadata": {
        "colab": {
          "base_uri": "https://localhost:8080/",
          "height": 381
        },
        "id": "95cXdsEqDb7f",
        "outputId": "7ceb05d8-9c5b-4bc8-a8f8-3fece1002fbc"
      },
      "execution_count": null,
      "outputs": [
        {
          "output_type": "error",
          "ename": "ValueError",
          "evalue": "ignored",
          "traceback": [
            "\u001b[0;31m---------------------------------------------------------------------------\u001b[0m",
            "\u001b[0;31mValueError\u001b[0m                                Traceback (most recent call last)",
            "\u001b[0;32m<ipython-input-275-b50c5b832db1>\u001b[0m in \u001b[0;36m<module>\u001b[0;34m()\u001b[0m\n\u001b[1;32m     12\u001b[0m )\n\u001b[1;32m     13\u001b[0m \u001b[0;31m# GCN block\u001b[0m\u001b[0;34m\u001b[0m\u001b[0;34m\u001b[0m\u001b[0;34m\u001b[0m\u001b[0m\n\u001b[0;32m---> 14\u001b[0;31m \u001b[0mx\u001b[0m \u001b[0;34m=\u001b[0m \u001b[0mGCNLayer\u001b[0m\u001b[0;34m(\u001b[0m\u001b[0;34m\"relu\"\u001b[0m\u001b[0;34m)\u001b[0m\u001b[0;34m(\u001b[0m\u001b[0;34m[\u001b[0m\u001b[0mainput\u001b[0m\u001b[0;34m]\u001b[0m\u001b[0;34m)\u001b[0m\u001b[0;34m\u001b[0m\u001b[0;34m\u001b[0m\u001b[0m\n\u001b[0m\u001b[1;32m     15\u001b[0m \u001b[0mx\u001b[0m \u001b[0;34m=\u001b[0m \u001b[0mGCNLayer\u001b[0m\u001b[0;34m(\u001b[0m\u001b[0;34m\"relu\"\u001b[0m\u001b[0;34m)\u001b[0m\u001b[0;34m(\u001b[0m\u001b[0mx\u001b[0m\u001b[0;34m)\u001b[0m\u001b[0;34m\u001b[0m\u001b[0;34m\u001b[0m\u001b[0m\n\u001b[1;32m     16\u001b[0m \u001b[0mx\u001b[0m \u001b[0;34m=\u001b[0m \u001b[0mGCNLayer\u001b[0m\u001b[0;34m(\u001b[0m\u001b[0;34m\"relu\"\u001b[0m\u001b[0;34m)\u001b[0m\u001b[0;34m(\u001b[0m\u001b[0mx\u001b[0m\u001b[0;34m)\u001b[0m\u001b[0;34m\u001b[0m\u001b[0;34m\u001b[0m\u001b[0m\n",
            "\u001b[0;32m/usr/local/lib/python3.7/dist-packages/keras/utils/traceback_utils.py\u001b[0m in \u001b[0;36merror_handler\u001b[0;34m(*args, **kwargs)\u001b[0m\n\u001b[1;32m     65\u001b[0m     \u001b[0;32mexcept\u001b[0m \u001b[0mException\u001b[0m \u001b[0;32mas\u001b[0m \u001b[0me\u001b[0m\u001b[0;34m:\u001b[0m  \u001b[0;31m# pylint: disable=broad-except\u001b[0m\u001b[0;34m\u001b[0m\u001b[0;34m\u001b[0m\u001b[0m\n\u001b[1;32m     66\u001b[0m       \u001b[0mfiltered_tb\u001b[0m \u001b[0;34m=\u001b[0m \u001b[0m_process_traceback_frames\u001b[0m\u001b[0;34m(\u001b[0m\u001b[0me\u001b[0m\u001b[0;34m.\u001b[0m\u001b[0m__traceback__\u001b[0m\u001b[0;34m)\u001b[0m\u001b[0;34m\u001b[0m\u001b[0;34m\u001b[0m\u001b[0m\n\u001b[0;32m---> 67\u001b[0;31m       \u001b[0;32mraise\u001b[0m \u001b[0me\u001b[0m\u001b[0;34m.\u001b[0m\u001b[0mwith_traceback\u001b[0m\u001b[0;34m(\u001b[0m\u001b[0mfiltered_tb\u001b[0m\u001b[0;34m)\u001b[0m \u001b[0;32mfrom\u001b[0m \u001b[0;32mNone\u001b[0m\u001b[0;34m\u001b[0m\u001b[0;34m\u001b[0m\u001b[0m\n\u001b[0m\u001b[1;32m     68\u001b[0m     \u001b[0;32mfinally\u001b[0m\u001b[0;34m:\u001b[0m\u001b[0;34m\u001b[0m\u001b[0;34m\u001b[0m\u001b[0m\n\u001b[1;32m     69\u001b[0m       \u001b[0;32mdel\u001b[0m \u001b[0mfiltered_tb\u001b[0m\u001b[0;34m\u001b[0m\u001b[0;34m\u001b[0m\u001b[0m\n",
            "\u001b[0;32m<ipython-input-204-873468bd8200>\u001b[0m in \u001b[0;36mbuild\u001b[0;34m(self, input_shape)\u001b[0m\n\u001b[1;32m     10\u001b[0m     \u001b[0;32mdef\u001b[0m \u001b[0mbuild\u001b[0m\u001b[0;34m(\u001b[0m\u001b[0mself\u001b[0m\u001b[0;34m,\u001b[0m \u001b[0minput_shape\u001b[0m\u001b[0;34m)\u001b[0m\u001b[0;34m:\u001b[0m\u001b[0;34m\u001b[0m\u001b[0;34m\u001b[0m\u001b[0m\n\u001b[1;32m     11\u001b[0m         \u001b[0;31m# create trainable weights\u001b[0m\u001b[0;34m\u001b[0m\u001b[0;34m\u001b[0m\u001b[0;34m\u001b[0m\u001b[0m\n\u001b[0;32m---> 12\u001b[0;31m         \u001b[0mnode_shape\u001b[0m\u001b[0;34m,\u001b[0m \u001b[0madj_shape\u001b[0m \u001b[0;34m=\u001b[0m \u001b[0minput_shape\u001b[0m\u001b[0;34m\u001b[0m\u001b[0;34m\u001b[0m\u001b[0m\n\u001b[0m\u001b[1;32m     13\u001b[0m         \u001b[0mprint\u001b[0m\u001b[0;34m(\u001b[0m\u001b[0mstr\u001b[0m\u001b[0;34m(\u001b[0m\u001b[0mnode_shape\u001b[0m\u001b[0;34m)\u001b[0m\u001b[0;34m+\u001b[0m\u001b[0;34m\" \"\u001b[0m\u001b[0;34m+\u001b[0m\u001b[0mstr\u001b[0m\u001b[0;34m(\u001b[0m\u001b[0madj_shape\u001b[0m\u001b[0;34m)\u001b[0m\u001b[0;34m)\u001b[0m\u001b[0;34m\u001b[0m\u001b[0;34m\u001b[0m\u001b[0m\n\u001b[1;32m     14\u001b[0m         \u001b[0mself\u001b[0m\u001b[0;34m.\u001b[0m\u001b[0mw\u001b[0m \u001b[0;34m=\u001b[0m \u001b[0mself\u001b[0m\u001b[0;34m.\u001b[0m\u001b[0madd_weight\u001b[0m\u001b[0;34m(\u001b[0m\u001b[0mshape\u001b[0m\u001b[0;34m=\u001b[0m\u001b[0;34m(\u001b[0m\u001b[0mnode_shape\u001b[0m\u001b[0;34m[\u001b[0m\u001b[0;36m2\u001b[0m\u001b[0;34m]\u001b[0m\u001b[0;34m,\u001b[0m \u001b[0mnode_shape\u001b[0m\u001b[0;34m[\u001b[0m\u001b[0;36m2\u001b[0m\u001b[0;34m]\u001b[0m\u001b[0;34m)\u001b[0m\u001b[0;34m,\u001b[0m \u001b[0mname\u001b[0m\u001b[0;34m=\u001b[0m\u001b[0;34m\"w\"\u001b[0m\u001b[0;34m)\u001b[0m\u001b[0;34m\u001b[0m\u001b[0;34m\u001b[0m\u001b[0m\n",
            "\u001b[0;31mValueError\u001b[0m: not enough values to unpack (expected 2, got 1)"
          ]
        }
      ]
    },
    {
      "cell_type": "code",
      "source": [
        "def gen_smiles2graph(sml):\n",
        "    \"\"\"Argument for the RD2NX function should be a valid SMILES sequence\n",
        "    returns: the graph\n",
        "    \"\"\"\n",
        "    m = rdkit.Chem.MolFromSmiles(sml)\n",
        "    m = rdkit.Chem.AddHs(m)\n",
        "    order_string = {\n",
        "        rdkit.Chem.rdchem.BondType.SINGLE: 1,\n",
        "        rdkit.Chem.rdchem.BondType.DOUBLE: 2,\n",
        "        rdkit.Chem.rdchem.BondType.TRIPLE: 3,\n",
        "        rdkit.Chem.rdchem.BondType.AROMATIC: 4,\n",
        "    }\n",
        "    N = len(list(m.GetAtoms()))\n",
        "    nodes = np.zeros((N, 100))\n",
        "    for i in m.GetAtoms():\n",
        "        nodes[i.GetIdx(), i.GetAtomicNum()] = 1\n",
        "\n",
        "    adj = np.zeros((N, N))\n",
        "    for j in m.GetBonds():\n",
        "        u = min(j.GetBeginAtomIdx(), j.GetEndAtomIdx())\n",
        "        v = max(j.GetBeginAtomIdx(), j.GetEndAtomIdx())\n",
        "        order = j.GetBondType()\n",
        "        if order in order_string:\n",
        "            order = order_string[order]\n",
        "        else:\n",
        "            raise Warning(\"Ignoring bond order\" + order)\n",
        "        adj[u, v] = 1\n",
        "        adj[v, u] = 1\n",
        "    adj += np.eye(N)\n",
        "    return nodes, adj"
      ],
      "metadata": {
        "id": "yNDGs4zkDkaM"
      },
      "execution_count": null,
      "outputs": []
    },
    {
      "cell_type": "code",
      "source": [
        "nodes, adj = gen_smiles2graph(\"CO\")\n",
        "print(nodes.shape)\n",
        "print(adj.shape)\n",
        "model((nodes[np.newaxis, ...], adj_mat[np.newaxis, ...]))"
      ],
      "metadata": {
        "colab": {
          "base_uri": "https://localhost:8080/"
        },
        "id": "LMXfsqWUDmyA",
        "outputId": "5f1d6ce8-55bb-4203-bb83-98c61bca7b20"
      },
      "execution_count": null,
      "outputs": [
        {
          "output_type": "stream",
          "name": "stdout",
          "text": [
            "(6, 100)\n",
            "(6, 6)\n"
          ]
        },
        {
          "output_type": "execute_result",
          "data": {
            "text/plain": [
              "<tf.Tensor: shape=(1, 1), dtype=float32, numpy=array([[0.05328837]], dtype=float32)>"
            ]
          },
          "metadata": {},
          "execution_count": 196
        }
      ]
    },
    {
      "cell_type": "code",
      "source": [
        "graph = gen_smiles2graph(\"CC(C)(C)OC(=O)CCCc1ccc(N(CCCl)CCCl)cc1\")\n",
        "print(graph[0].shape)\n",
        "print(graph[1].shape)\n",
        "graph[0]"
      ],
      "metadata": {
        "colab": {
          "base_uri": "https://localhost:8080/"
        },
        "id": "6VMFih-_f_iP",
        "outputId": "37c27cee-7797-4222-f1d2-3269fe946abb"
      },
      "execution_count": null,
      "outputs": [
        {
          "output_type": "stream",
          "name": "stdout",
          "text": [
            "(50, 100)\n",
            "(50, 50)\n"
          ]
        },
        {
          "output_type": "execute_result",
          "data": {
            "text/plain": [
              "array([[0., 0., 0., ..., 0., 0., 0.],\n",
              "       [0., 0., 0., ..., 0., 0., 0.],\n",
              "       [0., 0., 0., ..., 0., 0., 0.],\n",
              "       ...,\n",
              "       [0., 1., 0., ..., 0., 0., 0.],\n",
              "       [0., 1., 0., ..., 0., 0., 0.],\n",
              "       [0., 1., 0., ..., 0., 0., 0.]])"
            ]
          },
          "metadata": {},
          "execution_count": 265
        }
      ]
    },
    {
      "cell_type": "code",
      "source": [
        "nodes, adj = gen_smiles2graph(\"CC(C)(C)OC(=O)CCCc1ccc(N(CCCl)CCCl)cc1\")\n",
        "print(nodes.shape)\n",
        "print(adj.shape)\n",
        "model((nodes[np.newaxis, ...], adj[np.newaxis, ...]))"
      ],
      "metadata": {
        "colab": {
          "base_uri": "https://localhost:8080/"
        },
        "id": "Rke6IeokLG_p",
        "outputId": "16584afb-cf89-4ee9-8377-e37ba2e6c4a9"
      },
      "execution_count": null,
      "outputs": [
        {
          "output_type": "stream",
          "name": "stdout",
          "text": [
            "(50, 100)\n",
            "(50, 50)\n",
            "asd:[<tf.Tensor: shape=(1, 50, 100), dtype=float32, numpy=\n",
            "array([[[0., 0., 0., ..., 0., 0., 0.],\n",
            "        [0., 0., 0., ..., 0., 0., 0.],\n",
            "        [0., 0., 0., ..., 0., 0., 0.],\n",
            "        ...,\n",
            "        [0., 1., 0., ..., 0., 0., 0.],\n",
            "        [0., 1., 0., ..., 0., 0., 0.],\n",
            "        [0., 1., 0., ..., 0., 0., 0.]]], dtype=float32)>, <tf.Tensor: shape=(1, 50, 50), dtype=float32, numpy=\n",
            "array([[[1., 1., 0., ..., 0., 0., 0.],\n",
            "        [1., 1., 1., ..., 0., 0., 0.],\n",
            "        [0., 1., 1., ..., 0., 0., 0.],\n",
            "        ...,\n",
            "        [0., 0., 0., ..., 1., 0., 0.],\n",
            "        [0., 0., 0., ..., 0., 1., 0.],\n",
            "        [0., 0., 0., ..., 0., 0., 1.]]], dtype=float32)>]\n",
            "asd:(<tf.Tensor: shape=(1, 50, 100), dtype=float32, numpy=\n",
            "array([[[0.        , 0.11192513, 0.        , ..., 0.        ,\n",
            "         0.        , 0.        ],\n",
            "        [0.        , 0.        , 0.        , ..., 0.        ,\n",
            "         0.        , 0.        ],\n",
            "        [0.        , 0.11192513, 0.        , ..., 0.        ,\n",
            "         0.        , 0.        ],\n",
            "        ...,\n",
            "        [0.        , 0.07540788, 0.        , ..., 0.        ,\n",
            "         0.        , 0.        ],\n",
            "        [0.        , 0.07540788, 0.        , ..., 0.        ,\n",
            "         0.        , 0.        ],\n",
            "        [0.        , 0.07540788, 0.        , ..., 0.        ,\n",
            "         0.        , 0.        ]]], dtype=float32)>, <tf.Tensor: shape=(1, 50, 50), dtype=float32, numpy=\n",
            "array([[[1., 1., 0., ..., 0., 0., 0.],\n",
            "        [1., 1., 1., ..., 0., 0., 0.],\n",
            "        [0., 1., 1., ..., 0., 0., 0.],\n",
            "        ...,\n",
            "        [0., 0., 0., ..., 1., 0., 0.],\n",
            "        [0., 0., 0., ..., 0., 1., 0.],\n",
            "        [0., 0., 0., ..., 0., 0., 1.]]], dtype=float32)>)\n",
            "asd:(<tf.Tensor: shape=(1, 50, 100), dtype=float32, numpy=\n",
            "array([[[0.        , 0.        , 0.14903265, ..., 0.        ,\n",
            "         0.01330671, 0.        ],\n",
            "        [0.        , 0.        , 0.06980765, ..., 0.        ,\n",
            "         0.        , 0.        ],\n",
            "        [0.        , 0.        , 0.14903265, ..., 0.        ,\n",
            "         0.01330671, 0.        ],\n",
            "        ...,\n",
            "        [0.        , 0.        , 0.28358287, ..., 0.        ,\n",
            "         0.06979188, 0.        ],\n",
            "        [0.        , 0.        , 0.1256302 , ..., 0.        ,\n",
            "         0.01920111, 0.        ],\n",
            "        [0.        , 0.        , 0.1256302 , ..., 0.        ,\n",
            "         0.01920111, 0.        ]]], dtype=float32)>, <tf.Tensor: shape=(1, 50, 50), dtype=float32, numpy=\n",
            "array([[[1., 1., 0., ..., 0., 0., 0.],\n",
            "        [1., 1., 1., ..., 0., 0., 0.],\n",
            "        [0., 1., 1., ..., 0., 0., 0.],\n",
            "        ...,\n",
            "        [0., 0., 0., ..., 1., 0., 0.],\n",
            "        [0., 0., 0., ..., 0., 1., 0.],\n",
            "        [0., 0., 0., ..., 0., 0., 1.]]], dtype=float32)>)\n",
            "asd:(<tf.Tensor: shape=(1, 50, 100), dtype=float32, numpy=\n",
            "array([[[0.        , 0.        , 0.        , ..., 0.        ,\n",
            "         0.        , 0.        ],\n",
            "        [0.        , 0.        , 0.        , ..., 0.        ,\n",
            "         0.        , 0.        ],\n",
            "        [0.        , 0.        , 0.        , ..., 0.        ,\n",
            "         0.        , 0.        ],\n",
            "        ...,\n",
            "        [0.        , 0.        , 0.        , ..., 0.        ,\n",
            "         0.        , 0.        ],\n",
            "        [0.        , 0.        , 0.        , ..., 0.        ,\n",
            "         0.        , 0.        ],\n",
            "        [0.        , 0.        , 0.        , ..., 0.        ,\n",
            "         0.00615612, 0.        ]]], dtype=float32)>, <tf.Tensor: shape=(1, 50, 50), dtype=float32, numpy=\n",
            "array([[[1., 1., 0., ..., 0., 0., 0.],\n",
            "        [1., 1., 1., ..., 0., 0., 0.],\n",
            "        [0., 1., 1., ..., 0., 0., 0.],\n",
            "        ...,\n",
            "        [0., 0., 0., ..., 1., 0., 0.],\n",
            "        [0., 0., 0., ..., 0., 1., 0.],\n",
            "        [0., 0., 0., ..., 0., 0., 1.]]], dtype=float32)>)\n"
          ]
        },
        {
          "output_type": "execute_result",
          "data": {
            "text/plain": [
              "<tf.Tensor: shape=(1, 1), dtype=float32, numpy=array([[0.96991897]], dtype=float32)>"
            ]
          },
          "metadata": {},
          "execution_count": 254
        }
      ]
    },
    {
      "cell_type": "code",
      "source": [
        "def example():\n",
        "    for i in range(len(soldata)):\n",
        "        graph = gen_smiles2graph(soldata.SMILES[i])\n",
        "        #sol = soldata.Solubility[i]\n",
        "        yield graph#, sol\n",
        "\n",
        "\n",
        "data = tf.data.Dataset.from_generator(\n",
        "    example,\n",
        "    output_types=(tf.float32, tf.float32),\n",
        "    output_shapes=(\n",
        "        (tf.TensorShape([None, 100]), tf.TensorShape([None, None])),\n",
        "        \n",
        "    ),\n",
        ")"
      ],
      "metadata": {
        "colab": {
          "base_uri": "https://localhost:8080/",
          "height": 381
        },
        "id": "W6DkYGMqDqiX",
        "outputId": "a9726ff3-cc40-42c8-b8ad-fad61ba3f0ca"
      },
      "execution_count": null,
      "outputs": [
        {
          "output_type": "error",
          "ename": "ValueError",
          "evalue": "ignored",
          "traceback": [
            "\u001b[0;31m---------------------------------------------------------------------------\u001b[0m",
            "\u001b[0;31mValueError\u001b[0m                                Traceback (most recent call last)",
            "\u001b[0;32m<ipython-input-257-2222a32ddb0c>\u001b[0m in \u001b[0;36m<module>\u001b[0;34m()\u001b[0m\n\u001b[1;32m     10\u001b[0m     \u001b[0moutput_types\u001b[0m\u001b[0;34m=\u001b[0m\u001b[0;34m(\u001b[0m\u001b[0mtf\u001b[0m\u001b[0;34m.\u001b[0m\u001b[0mfloat32\u001b[0m\u001b[0;34m,\u001b[0m \u001b[0mtf\u001b[0m\u001b[0;34m.\u001b[0m\u001b[0mfloat32\u001b[0m\u001b[0;34m)\u001b[0m\u001b[0;34m,\u001b[0m\u001b[0;34m\u001b[0m\u001b[0;34m\u001b[0m\u001b[0m\n\u001b[1;32m     11\u001b[0m     output_shapes=(\n\u001b[0;32m---> 12\u001b[0;31m         \u001b[0;34m(\u001b[0m\u001b[0mtf\u001b[0m\u001b[0;34m.\u001b[0m\u001b[0mTensorShape\u001b[0m\u001b[0;34m(\u001b[0m\u001b[0;34m[\u001b[0m\u001b[0;32mNone\u001b[0m\u001b[0;34m,\u001b[0m \u001b[0;36m100\u001b[0m\u001b[0;34m]\u001b[0m\u001b[0;34m)\u001b[0m\u001b[0;34m,\u001b[0m \u001b[0mtf\u001b[0m\u001b[0;34m.\u001b[0m\u001b[0mTensorShape\u001b[0m\u001b[0;34m(\u001b[0m\u001b[0;34m[\u001b[0m\u001b[0;32mNone\u001b[0m\u001b[0;34m,\u001b[0m \u001b[0;32mNone\u001b[0m\u001b[0;34m]\u001b[0m\u001b[0;34m)\u001b[0m\u001b[0;34m)\u001b[0m\u001b[0;34m,\u001b[0m\u001b[0;34m\u001b[0m\u001b[0;34m\u001b[0m\u001b[0m\n\u001b[0m\u001b[1;32m     13\u001b[0m \u001b[0;34m\u001b[0m\u001b[0m\n\u001b[1;32m     14\u001b[0m     ),\n",
            "\u001b[0;32m/usr/local/lib/python3.7/dist-packages/tensorflow/python/util/deprecation.py\u001b[0m in \u001b[0;36mnew_func\u001b[0;34m(*args, **kwargs)\u001b[0m\n\u001b[1;32m    546\u001b[0m                 \u001b[0;34m'in a future version'\u001b[0m \u001b[0;32mif\u001b[0m \u001b[0mdate\u001b[0m \u001b[0;32mis\u001b[0m \u001b[0;32mNone\u001b[0m \u001b[0;32melse\u001b[0m \u001b[0;34m(\u001b[0m\u001b[0;34m'after %s'\u001b[0m \u001b[0;34m%\u001b[0m \u001b[0mdate\u001b[0m\u001b[0;34m)\u001b[0m\u001b[0;34m,\u001b[0m\u001b[0;34m\u001b[0m\u001b[0;34m\u001b[0m\u001b[0m\n\u001b[1;32m    547\u001b[0m                 instructions)\n\u001b[0;32m--> 548\u001b[0;31m       \u001b[0;32mreturn\u001b[0m \u001b[0mfunc\u001b[0m\u001b[0;34m(\u001b[0m\u001b[0;34m*\u001b[0m\u001b[0margs\u001b[0m\u001b[0;34m,\u001b[0m \u001b[0;34m**\u001b[0m\u001b[0mkwargs\u001b[0m\u001b[0;34m)\u001b[0m\u001b[0;34m\u001b[0m\u001b[0;34m\u001b[0m\u001b[0m\n\u001b[0m\u001b[1;32m    549\u001b[0m \u001b[0;34m\u001b[0m\u001b[0m\n\u001b[1;32m    550\u001b[0m     doc = _add_deprecated_arg_notice_to_docstring(\n",
            "\u001b[0;32m/usr/local/lib/python3.7/dist-packages/tensorflow/python/data/ops/dataset_ops.py\u001b[0m in \u001b[0;36mfrom_generator\u001b[0;34m(generator, output_types, output_shapes, args, output_signature, name)\u001b[0m\n\u001b[1;32m    944\u001b[0m         output_shapes = nest.map_structure_up_to(output_types,\n\u001b[1;32m    945\u001b[0m                                                  \u001b[0mtensor_shape\u001b[0m\u001b[0;34m.\u001b[0m\u001b[0mas_shape\u001b[0m\u001b[0;34m,\u001b[0m\u001b[0;34m\u001b[0m\u001b[0;34m\u001b[0m\u001b[0m\n\u001b[0;32m--> 946\u001b[0;31m                                                  output_shapes)\n\u001b[0m\u001b[1;32m    947\u001b[0m       output_signature = nest.map_structure_up_to(output_types,\n\u001b[1;32m    948\u001b[0m                                                   \u001b[0mtensor_spec\u001b[0m\u001b[0;34m.\u001b[0m\u001b[0mTensorSpec\u001b[0m\u001b[0;34m,\u001b[0m\u001b[0;34m\u001b[0m\u001b[0;34m\u001b[0m\u001b[0m\n",
            "\u001b[0;32m/usr/local/lib/python3.7/dist-packages/tensorflow/python/data/util/nest.py\u001b[0m in \u001b[0;36mmap_structure_up_to\u001b[0;34m(shallow_tree, func, *inputs)\u001b[0m\n\u001b[1;32m    446\u001b[0m                      \"sequences.\")\n\u001b[1;32m    447\u001b[0m   \u001b[0;32mfor\u001b[0m \u001b[0minput_tree\u001b[0m \u001b[0;32min\u001b[0m \u001b[0minputs\u001b[0m\u001b[0;34m:\u001b[0m\u001b[0;34m\u001b[0m\u001b[0;34m\u001b[0m\u001b[0m\n\u001b[0;32m--> 448\u001b[0;31m     \u001b[0massert_shallow_structure\u001b[0m\u001b[0;34m(\u001b[0m\u001b[0mshallow_tree\u001b[0m\u001b[0;34m,\u001b[0m \u001b[0minput_tree\u001b[0m\u001b[0;34m)\u001b[0m\u001b[0;34m\u001b[0m\u001b[0;34m\u001b[0m\u001b[0m\n\u001b[0m\u001b[1;32m    449\u001b[0m \u001b[0;34m\u001b[0m\u001b[0m\n\u001b[1;32m    450\u001b[0m   \u001b[0;31m# Flatten each input separately, apply the function to corresponding elements,\u001b[0m\u001b[0;34m\u001b[0m\u001b[0;34m\u001b[0m\u001b[0;34m\u001b[0m\u001b[0m\n",
            "\u001b[0;32m/usr/local/lib/python3.7/dist-packages/tensorflow/python/data/util/nest.py\u001b[0m in \u001b[0;36massert_shallow_structure\u001b[0;34m(shallow_tree, input_tree, check_types)\u001b[0m\n\u001b[1;32m    290\u001b[0m     \u001b[0;32mif\u001b[0m \u001b[0mlen\u001b[0m\u001b[0;34m(\u001b[0m\u001b[0minput_tree\u001b[0m\u001b[0;34m)\u001b[0m \u001b[0;34m!=\u001b[0m \u001b[0mlen\u001b[0m\u001b[0;34m(\u001b[0m\u001b[0mshallow_tree\u001b[0m\u001b[0;34m)\u001b[0m\u001b[0;34m:\u001b[0m\u001b[0;34m\u001b[0m\u001b[0;34m\u001b[0m\u001b[0m\n\u001b[1;32m    291\u001b[0m       raise ValueError(\n\u001b[0;32m--> 292\u001b[0;31m           \u001b[0;34m\"The two structures don't have the same sequence length. Input \"\u001b[0m\u001b[0;34m\u001b[0m\u001b[0;34m\u001b[0m\u001b[0m\n\u001b[0m\u001b[1;32m    293\u001b[0m           \u001b[0;34mf\"structure has length {len(input_tree)}, while shallow structure \"\u001b[0m\u001b[0;34m\u001b[0m\u001b[0;34m\u001b[0m\u001b[0m\n\u001b[1;32m    294\u001b[0m           f\"has length {len(shallow_tree)}.\")\n",
            "\u001b[0;31mValueError\u001b[0m: The two structures don't have the same sequence length. Input structure has length 1, while shallow structure has length 2."
          ]
        }
      ]
    },
    {
      "cell_type": "code",
      "source": [
        "def exampleTrain():\n",
        "    for i in range(len(trainDrug)):\n",
        "        graph = gen_smiles2graph(trainDrug[i])\n",
        "        sol = trainLabel[i]\n",
        "        yield graph, sol\n",
        "\n",
        "\n",
        "dataTrain = tf.data.Dataset.from_generator(\n",
        "    exampleTrain,\n",
        "    output_types=((tf.float32, tf.float32), tf.float32),\n",
        "    output_shapes=(\n",
        "        (tf.TensorShape([None, 100]), tf.TensorShape([None, None])),\n",
        "        tf.TensorShape([]),\n",
        "    ),\n",
        ")"
      ],
      "metadata": {
        "id": "FVm10dYMXeNc"
      },
      "execution_count": null,
      "outputs": []
    },
    {
      "cell_type": "code",
      "source": [
        "for i in range(len(trainDrug)):\n",
        "        graph[i] = gen_smiles2graph(trainDrug[i])"
      ],
      "metadata": {
        "colab": {
          "base_uri": "https://localhost:8080/",
          "height": 184
        },
        "id": "4HfLlUSegh3Y",
        "outputId": "7a5fbacf-06d3-4175-b289-69ad46ec70b5"
      },
      "execution_count": null,
      "outputs": [
        {
          "output_type": "error",
          "ename": "TypeError",
          "evalue": "ignored",
          "traceback": [
            "\u001b[0;31m---------------------------------------------------------------------------\u001b[0m",
            "\u001b[0;31mTypeError\u001b[0m                                 Traceback (most recent call last)",
            "\u001b[0;32m<ipython-input-268-0030b89c7ba9>\u001b[0m in \u001b[0;36m<module>\u001b[0;34m()\u001b[0m\n\u001b[1;32m      1\u001b[0m \u001b[0;32mfor\u001b[0m \u001b[0mi\u001b[0m \u001b[0;32min\u001b[0m \u001b[0mrange\u001b[0m\u001b[0;34m(\u001b[0m\u001b[0mlen\u001b[0m\u001b[0;34m(\u001b[0m\u001b[0mtrainDrug\u001b[0m\u001b[0;34m)\u001b[0m\u001b[0;34m)\u001b[0m\u001b[0;34m:\u001b[0m\u001b[0;34m\u001b[0m\u001b[0;34m\u001b[0m\u001b[0m\n\u001b[0;32m----> 2\u001b[0;31m         \u001b[0mgraph\u001b[0m\u001b[0;34m[\u001b[0m\u001b[0mi\u001b[0m\u001b[0;34m]\u001b[0m \u001b[0;34m=\u001b[0m \u001b[0mgen_smiles2graph\u001b[0m\u001b[0;34m(\u001b[0m\u001b[0mtrainDrug\u001b[0m\u001b[0;34m[\u001b[0m\u001b[0mi\u001b[0m\u001b[0;34m]\u001b[0m\u001b[0;34m)\u001b[0m\u001b[0;34m\u001b[0m\u001b[0;34m\u001b[0m\u001b[0m\n\u001b[0m",
            "\u001b[0;31mTypeError\u001b[0m: 'tuple' object does not support item assignment"
          ]
        }
      ]
    },
    {
      "cell_type": "code",
      "source": [
        "graph"
      ],
      "metadata": {
        "colab": {
          "base_uri": "https://localhost:8080/"
        },
        "id": "rRF9P_XpgvHh",
        "outputId": "c0300e4d-03ea-408d-f1cc-88553533bc98"
      },
      "execution_count": null,
      "outputs": [
        {
          "output_type": "execute_result",
          "data": {
            "text/plain": [
              "(array([[0., 0., 0., ..., 0., 0., 0.],\n",
              "        [0., 0., 0., ..., 0., 0., 0.],\n",
              "        [0., 0., 0., ..., 0., 0., 0.],\n",
              "        ...,\n",
              "        [0., 1., 0., ..., 0., 0., 0.],\n",
              "        [0., 1., 0., ..., 0., 0., 0.],\n",
              "        [0., 1., 0., ..., 0., 0., 0.]]), array([[1., 1., 0., ..., 0., 0., 0.],\n",
              "        [1., 1., 1., ..., 0., 0., 0.],\n",
              "        [0., 1., 1., ..., 0., 0., 0.],\n",
              "        ...,\n",
              "        [0., 0., 0., ..., 1., 0., 0.],\n",
              "        [0., 0., 0., ..., 0., 1., 0.],\n",
              "        [0., 0., 0., ..., 0., 0., 1.]]))"
            ]
          },
          "metadata": {},
          "execution_count": 267
        }
      ]
    },
    {
      "cell_type": "code",
      "source": [
        "trainData = dataTrain.take(len(trainDrug))"
      ],
      "metadata": {
        "id": "vpYtsgaoXriT"
      },
      "execution_count": null,
      "outputs": []
    },
    {
      "cell_type": "code",
      "source": [
        "def exampleTest():\n",
        "    for i in range(len(testDrug)):\n",
        "        graph = gen_smiles2graph(testDrug[i])\n",
        "        sol = testLabel[i]\n",
        "        yield graph, sol\n",
        "\n",
        "\n",
        "dataTest = tf.data.Dataset.from_generator(\n",
        "    exampleTest,\n",
        "    output_types=((tf.float32, tf.float32), tf.float32),\n",
        "    output_shapes=(\n",
        "        (tf.TensorShape([None, 100]), tf.TensorShape([None, None])),\n",
        "        tf.TensorShape([]),\n",
        "    ),\n",
        ")"
      ],
      "metadata": {
        "id": "OpM6qi8MYJgP"
      },
      "execution_count": null,
      "outputs": []
    },
    {
      "cell_type": "code",
      "source": [
        "testData = dataTest.take(len(testDrug))"
      ],
      "metadata": {
        "id": "QtjtlBWQYbXu"
      },
      "execution_count": null,
      "outputs": []
    },
    {
      "cell_type": "code",
      "source": [
        "def exampleValidation():\n",
        "    for i in range(len(validationDrug)):\n",
        "        graph = gen_smiles2graph(validationDrug[i])\n",
        "        sol = validationLabel[i]\n",
        "        yield graph, sol\n",
        "\n",
        "\n",
        "dataValidation = tf.data.Dataset.from_generator(\n",
        "    exampleValidation,\n",
        "    output_types=((tf.float32, tf.float32), tf.float32),\n",
        "    output_shapes=(\n",
        "        (tf.TensorShape([None, 100]), tf.TensorShape([None, None])),\n",
        "        tf.TensorShape([]),\n",
        "    ),\n",
        ")"
      ],
      "metadata": {
        "id": "y5W6mAsnYRUf"
      },
      "execution_count": null,
      "outputs": []
    },
    {
      "cell_type": "code",
      "source": [
        "validationData = dataValidation.take(len(validationDrug))"
      ],
      "metadata": {
        "id": "kSAeABemYhAH"
      },
      "execution_count": null,
      "outputs": []
    },
    {
      "cell_type": "code",
      "source": [
        "test_data = data.take(200)\n",
        "val_data = data.skip(200).take(200)\n",
        "train_data = data.skip(400)"
      ],
      "metadata": {
        "id": "FmNij0SGDsyI"
      },
      "execution_count": null,
      "outputs": []
    },
    {
      "cell_type": "code",
      "source": [
        "trainDrug"
      ],
      "metadata": {
        "id": "XytYwH41U24g"
      },
      "execution_count": null,
      "outputs": []
    },
    {
      "cell_type": "code",
      "source": [
        "print(train_data)"
      ],
      "metadata": {
        "colab": {
          "base_uri": "https://localhost:8080/"
        },
        "id": "Q9FJhT_xTczO",
        "outputId": "81bf1142-4968-425b-affb-601aec99a4bb"
      },
      "execution_count": null,
      "outputs": [
        {
          "output_type": "stream",
          "name": "stdout",
          "text": [
            "<TakeDataset element_spec=((TensorSpec(shape=(None, 100), dtype=tf.float32, name=None), TensorSpec(shape=(None, None), dtype=tf.float32, name=None)), TensorSpec(shape=(), dtype=tf.float32, name=None))>\n"
          ]
        }
      ]
    },
    {
      "cell_type": "code",
      "source": [
        "model.compile(\"adam\", loss=\"mean_squared_error\",metrics=[\"accuracy\"])\n",
        "result = model.fit(\n",
        "    train_data.batch(1), validation_data=val_data.batch(1), epochs=20, verbose=0\n",
        ")\n"
      ],
      "metadata": {
        "colab": {
          "base_uri": "https://localhost:8080/"
        },
        "id": "Sr-tqD3WDuoI",
        "outputId": "67e42523-c4b6-42e8-c2c2-50bab9a37c98"
      },
      "execution_count": null,
      "outputs": [
        {
          "output_type": "stream",
          "name": "stdout",
          "text": [
            "asd:[<tf.Tensor 'IteratorGetNext:0' shape=(None, None, 100) dtype=float32>, <tf.Tensor 'IteratorGetNext:1' shape=(None, None, None) dtype=float32>]\n",
            "asd:(<tf.Tensor 'model_5/gcn_layer_31/Relu:0' shape=(None, None, 100) dtype=float32>, <tf.Tensor 'IteratorGetNext:1' shape=(None, None, None) dtype=float32>)\n",
            "asd:(<tf.Tensor 'model_5/gcn_layer_32/Relu:0' shape=(None, None, 100) dtype=float32>, <tf.Tensor 'IteratorGetNext:1' shape=(None, None, None) dtype=float32>)\n",
            "asd:(<tf.Tensor 'model_5/gcn_layer_33/Relu:0' shape=(None, None, 100) dtype=float32>, <tf.Tensor 'IteratorGetNext:1' shape=(None, None, None) dtype=float32>)\n",
            "asd:[<tf.Tensor 'IteratorGetNext:0' shape=(None, None, 100) dtype=float32>, <tf.Tensor 'IteratorGetNext:1' shape=(None, None, None) dtype=float32>]\n",
            "asd:(<tf.Tensor 'model_5/gcn_layer_31/Relu:0' shape=(None, None, 100) dtype=float32>, <tf.Tensor 'IteratorGetNext:1' shape=(None, None, None) dtype=float32>)\n",
            "asd:(<tf.Tensor 'model_5/gcn_layer_32/Relu:0' shape=(None, None, 100) dtype=float32>, <tf.Tensor 'IteratorGetNext:1' shape=(None, None, None) dtype=float32>)\n",
            "asd:(<tf.Tensor 'model_5/gcn_layer_33/Relu:0' shape=(None, None, 100) dtype=float32>, <tf.Tensor 'IteratorGetNext:1' shape=(None, None, None) dtype=float32>)\n",
            "asd:[<tf.Tensor 'IteratorGetNext:0' shape=(None, None, 100) dtype=float32>, <tf.Tensor 'IteratorGetNext:1' shape=(None, None, None) dtype=float32>]\n",
            "asd:(<tf.Tensor 'model_5/gcn_layer_31/Relu:0' shape=(None, None, 100) dtype=float32>, <tf.Tensor 'IteratorGetNext:1' shape=(None, None, None) dtype=float32>)\n",
            "asd:(<tf.Tensor 'model_5/gcn_layer_32/Relu:0' shape=(None, None, 100) dtype=float32>, <tf.Tensor 'IteratorGetNext:1' shape=(None, None, None) dtype=float32>)\n",
            "asd:(<tf.Tensor 'model_5/gcn_layer_33/Relu:0' shape=(None, None, 100) dtype=float32>, <tf.Tensor 'IteratorGetNext:1' shape=(None, None, None) dtype=float32>)\n"
          ]
        }
      ]
    },
    {
      "cell_type": "code",
      "source": [
        "plt.plot(result.history[\"loss\"], label=\"training\")\n",
        "plt.plot(result.history[\"val_loss\"], label=\"validation\")\n",
        "plt.legend()\n",
        "plt.xlabel(\"Epoch\")\n",
        "plt.ylabel(\"Loss\")\n",
        "plt.show()"
      ],
      "metadata": {
        "colab": {
          "base_uri": "https://localhost:8080/",
          "height": 285
        },
        "id": "hlUDMqujDwlW",
        "outputId": "2c4df827-80bd-42e0-917a-bc60d2cdf029"
      },
      "execution_count": null,
      "outputs": [
        {
          "output_type": "display_data",
          "data": {
            "text/plain": [
              "<Figure size 432x288 with 1 Axes>"
            ],
            "image/png": "[encoded data removed]"
          },
          "metadata": {}
        }
      ]
    },
    {
      "cell_type": "code",
      "source": [
        "plt.plot(result.history[\"acc\"], label=\"training\")\n",
        "plt.plot(result.history[\"val_acc\"], label=\"validation\")\n",
        "plt.legend()\n",
        "plt.xlabel(\"Epoch\")\n",
        "plt.ylabel(\"Accuracy\")\n",
        "plt.show()"
      ],
      "metadata": {
        "colab": {
          "base_uri": "https://localhost:8080/",
          "height": 236
        },
        "id": "y0x3-PstcBeF",
        "outputId": "792d2c0d-28c4-4654-cf96-95655def20bb"
      },
      "execution_count": null,
      "outputs": [
        {
          "output_type": "error",
          "ename": "KeyError",
          "evalue": "ignored",
          "traceback": [
            "\u001b[0;31m---------------------------------------------------------------------------\u001b[0m",
            "\u001b[0;31mKeyError\u001b[0m                                  Traceback (most recent call last)",
            "\u001b[0;32m<ipython-input-253-2bcec028bcbf>\u001b[0m in \u001b[0;36m<module>\u001b[0;34m()\u001b[0m\n\u001b[0;32m----> 1\u001b[0;31m \u001b[0mplt\u001b[0m\u001b[0;34m.\u001b[0m\u001b[0mplot\u001b[0m\u001b[0;34m(\u001b[0m\u001b[0mresult\u001b[0m\u001b[0;34m.\u001b[0m\u001b[0mhistory\u001b[0m\u001b[0;34m[\u001b[0m\u001b[0;34m\"acc\"\u001b[0m\u001b[0;34m]\u001b[0m\u001b[0;34m,\u001b[0m \u001b[0mlabel\u001b[0m\u001b[0;34m=\u001b[0m\u001b[0;34m\"training\"\u001b[0m\u001b[0;34m)\u001b[0m\u001b[0;34m\u001b[0m\u001b[0;34m\u001b[0m\u001b[0m\n\u001b[0m\u001b[1;32m      2\u001b[0m \u001b[0mplt\u001b[0m\u001b[0;34m.\u001b[0m\u001b[0mplot\u001b[0m\u001b[0;34m(\u001b[0m\u001b[0mresult\u001b[0m\u001b[0;34m.\u001b[0m\u001b[0mhistory\u001b[0m\u001b[0;34m[\u001b[0m\u001b[0;34m\"val_acc\"\u001b[0m\u001b[0;34m]\u001b[0m\u001b[0;34m,\u001b[0m \u001b[0mlabel\u001b[0m\u001b[0;34m=\u001b[0m\u001b[0;34m\"validation\"\u001b[0m\u001b[0;34m)\u001b[0m\u001b[0;34m\u001b[0m\u001b[0;34m\u001b[0m\u001b[0m\n\u001b[1;32m      3\u001b[0m \u001b[0mplt\u001b[0m\u001b[0;34m.\u001b[0m\u001b[0mlegend\u001b[0m\u001b[0;34m(\u001b[0m\u001b[0;34m)\u001b[0m\u001b[0;34m\u001b[0m\u001b[0;34m\u001b[0m\u001b[0m\n\u001b[1;32m      4\u001b[0m \u001b[0mplt\u001b[0m\u001b[0;34m.\u001b[0m\u001b[0mxlabel\u001b[0m\u001b[0;34m(\u001b[0m\u001b[0;34m\"Epoch\"\u001b[0m\u001b[0;34m)\u001b[0m\u001b[0;34m\u001b[0m\u001b[0;34m\u001b[0m\u001b[0m\n\u001b[1;32m      5\u001b[0m \u001b[0mplt\u001b[0m\u001b[0;34m.\u001b[0m\u001b[0mylabel\u001b[0m\u001b[0;34m(\u001b[0m\u001b[0;34m\"Accuracy\"\u001b[0m\u001b[0;34m)\u001b[0m\u001b[0;34m\u001b[0m\u001b[0;34m\u001b[0m\u001b[0m\n",
            "\u001b[0;31mKeyError\u001b[0m: 'acc'"
          ]
        }
      ]
    },
    {
      "cell_type": "code",
      "source": [
        "model.predict(testData.batch(1))"
      ],
      "metadata": {
        "colab": {
          "base_uri": "https://localhost:8080/"
        },
        "id": "6bvNvMspNANF",
        "outputId": "7a85dfb9-0c35-40f7-95f4-046abbfa98ab"
      },
      "execution_count": null,
      "outputs": [
        {
          "output_type": "stream",
          "name": "stdout",
          "text": [
            "asd:[<tf.Tensor 'IteratorGetNext:0' shape=(None, None, 100) dtype=float32>, <tf.Tensor 'IteratorGetNext:1' shape=(None, None, None) dtype=float32>]\n",
            "asd:(<tf.Tensor 'model_5/gcn_layer_31/Relu:0' shape=(None, None, 100) dtype=float32>, <tf.Tensor 'IteratorGetNext:1' shape=(None, None, None) dtype=float32>)\n",
            "asd:(<tf.Tensor 'model_5/gcn_layer_32/Relu:0' shape=(None, None, 100) dtype=float32>, <tf.Tensor 'IteratorGetNext:1' shape=(None, None, None) dtype=float32>)\n",
            "asd:(<tf.Tensor 'model_5/gcn_layer_33/Relu:0' shape=(None, None, 100) dtype=float32>, <tf.Tensor 'IteratorGetNext:1' shape=(None, None, None) dtype=float32>)\n"
          ]
        },
        {
          "output_type": "execute_result",
          "data": {
            "text/plain": [
              "array([[1.005985  ],\n",
              "       [1.0195249 ],\n",
              "       [1.0097411 ],\n",
              "       [1.0016978 ],\n",
              "       [1.0003797 ],\n",
              "       [0.98707813],\n",
              "       [0.99348396],\n",
              "       [1.060911  ],\n",
              "       [1.0024581 ],\n",
              "       [1.0015093 ],\n",
              "       [1.0043833 ],\n",
              "       [1.0368493 ],\n",
              "       [0.99857193],\n",
              "       [1.0207849 ],\n",
              "       [1.0091813 ],\n",
              "       [0.9948116 ],\n",
              "       [0.9934576 ],\n",
              "       [0.99314827],\n",
              "       [1.0111355 ],\n",
              "       [0.99973214],\n",
              "       [1.0177778 ],\n",
              "       [0.997169  ],\n",
              "       [0.99459505],\n",
              "       [0.99600106],\n",
              "       [0.98519886],\n",
              "       [0.97857404],\n",
              "       [1.0080878 ],\n",
              "       [1.0157571 ],\n",
              "       [0.9903025 ],\n",
              "       [1.0183065 ],\n",
              "       [1.0261314 ],\n",
              "       [1.0114663 ],\n",
              "       [0.9961914 ],\n",
              "       [0.98114103],\n",
              "       [0.9902618 ],\n",
              "       [1.0115674 ],\n",
              "       [1.0325077 ],\n",
              "       [0.99357975],\n",
              "       [1.003506  ],\n",
              "       [1.0598568 ],\n",
              "       [0.996668  ],\n",
              "       [0.9851786 ],\n",
              "       [0.97855824],\n",
              "       [0.9964283 ],\n",
              "       [1.0248375 ],\n",
              "       [1.0237061 ],\n",
              "       [1.0383215 ],\n",
              "       [1.0038724 ],\n",
              "       [0.9987989 ],\n",
              "       [1.0004985 ],\n",
              "       [0.99658006],\n",
              "       [1.0094758 ],\n",
              "       [1.0175939 ],\n",
              "       [1.0024635 ],\n",
              "       [0.99832976],\n",
              "       [1.0257821 ],\n",
              "       [0.9888703 ],\n",
              "       [1.0187564 ],\n",
              "       [1.0024049 ],\n",
              "       [0.9961966 ],\n",
              "       [1.000497  ],\n",
              "       [1.0002625 ],\n",
              "       [0.98683125],\n",
              "       [0.9983434 ],\n",
              "       [1.0114548 ],\n",
              "       [1.0036752 ],\n",
              "       [0.9919531 ],\n",
              "       [1.005166  ],\n",
              "       [1.0075234 ],\n",
              "       [1.0317497 ],\n",
              "       [0.9776153 ],\n",
              "       [0.99751854],\n",
              "       [0.99924904],\n",
              "       [0.99647915],\n",
              "       [0.99582714],\n",
              "       [0.9978202 ],\n",
              "       [0.9956358 ],\n",
              "       [1.0455122 ],\n",
              "       [1.0019479 ],\n",
              "       [1.0003997 ],\n",
              "       [0.9985632 ],\n",
              "       [1.0179136 ],\n",
              "       [0.99898225],\n",
              "       [1.0073555 ],\n",
              "       [1.0003278 ],\n",
              "       [1.0218611 ],\n",
              "       [0.9967997 ],\n",
              "       [1.0000359 ],\n",
              "       [1.0045283 ],\n",
              "       [1.0309473 ],\n",
              "       [1.0207436 ],\n",
              "       [1.0096071 ],\n",
              "       [1.001095  ],\n",
              "       [0.9982807 ],\n",
              "       [1.0221968 ],\n",
              "       [1.0270305 ],\n",
              "       [1.0075595 ],\n",
              "       [0.9869711 ],\n",
              "       [0.97691804],\n",
              "       [1.0448426 ],\n",
              "       [1.0124726 ],\n",
              "       [0.99408704],\n",
              "       [1.0338404 ],\n",
              "       [1.00616   ],\n",
              "       [0.9759347 ],\n",
              "       [0.99685276],\n",
              "       [0.98466295],\n",
              "       [1.0421643 ],\n",
              "       [0.99903286],\n",
              "       [1.0200061 ],\n",
              "       [1.0448217 ],\n",
              "       [0.9975195 ],\n",
              "       [0.9913333 ],\n",
              "       [1.0083424 ],\n",
              "       [0.9965776 ],\n",
              "       [1.0355935 ],\n",
              "       [1.028353  ],\n",
              "       [1.0264826 ],\n",
              "       [0.992649  ],\n",
              "       [0.9968511 ],\n",
              "       [1.0228138 ],\n",
              "       [0.99311656],\n",
              "       [1.0533298 ],\n",
              "       [1.0232108 ],\n",
              "       [0.9842963 ],\n",
              "       [1.011594  ],\n",
              "       [1.013352  ],\n",
              "       [1.0136015 ],\n",
              "       [1.0300814 ],\n",
              "       [1.0007479 ],\n",
              "       [1.0214415 ],\n",
              "       [0.975343  ],\n",
              "       [1.0053864 ],\n",
              "       [1.0081377 ],\n",
              "       [0.9966755 ],\n",
              "       [1.0025117 ],\n",
              "       [1.041205  ],\n",
              "       [0.9990001 ],\n",
              "       [0.99330425],\n",
              "       [1.0906901 ],\n",
              "       [1.0429056 ],\n",
              "       [1.0117126 ],\n",
              "       [0.99151254],\n",
              "       [0.9961545 ],\n",
              "       [0.9787264 ],\n",
              "       [1.0111966 ],\n",
              "       [1.0455273 ],\n",
              "       [0.99306047],\n",
              "       [1.0109882 ],\n",
              "       [0.9954495 ],\n",
              "       [0.9996317 ],\n",
              "       [1.0026958 ],\n",
              "       [0.990707  ],\n",
              "       [1.0146754 ],\n",
              "       [1.0533268 ],\n",
              "       [1.0091335 ],\n",
              "       [1.0258284 ],\n",
              "       [1.0442164 ],\n",
              "       [1.0131128 ],\n",
              "       [0.99246264],\n",
              "       [0.999013  ],\n",
              "       [0.99236876],\n",
              "       [1.0212266 ],\n",
              "       [1.0377437 ],\n",
              "       [0.97585356],\n",
              "       [1.0121769 ],\n",
              "       [1.0060973 ],\n",
              "       [1.0027685 ],\n",
              "       [1.0057137 ],\n",
              "       [1.0128553 ],\n",
              "       [1.0181007 ],\n",
              "       [1.0014243 ],\n",
              "       [1.0159345 ],\n",
              "       [1.0180202 ],\n",
              "       [1.0080364 ],\n",
              "       [0.9714977 ],\n",
              "       [1.0070302 ],\n",
              "       [0.999743  ],\n",
              "       [1.0058476 ],\n",
              "       [1.0095582 ],\n",
              "       [1.030983  ],\n",
              "       [0.9747947 ],\n",
              "       [1.0072865 ],\n",
              "       [1.0163537 ],\n",
              "       [0.99726534],\n",
              "       [0.9972036 ],\n",
              "       [1.0037584 ],\n",
              "       [0.9980472 ],\n",
              "       [0.97673917],\n",
              "       [0.9846801 ],\n",
              "       [0.9956884 ],\n",
              "       [0.9870052 ],\n",
              "       [1.0027276 ],\n",
              "       [0.99120164],\n",
              "       [1.0623534 ],\n",
              "       [1.0257547 ],\n",
              "       [0.9938147 ],\n",
              "       [1.0037949 ],\n",
              "       [0.99678427],\n",
              "       [1.0216897 ],\n",
              "       [0.9913401 ],\n",
              "       [0.9939078 ],\n",
              "       [1.0115151 ],\n",
              "       [1.0080106 ],\n",
              "       [0.9868452 ],\n",
              "       [1.0139722 ],\n",
              "       [1.0063936 ],\n",
              "       [0.98808783],\n",
              "       [0.9960302 ],\n",
              "       [1.0171286 ],\n",
              "       [1.1010153 ],\n",
              "       [0.99639654],\n",
              "       [1.0189965 ],\n",
              "       [1.0394107 ],\n",
              "       [1.0126283 ],\n",
              "       [1.0171015 ],\n",
              "       [1.011398  ],\n",
              "       [1.0212343 ],\n",
              "       [1.0281183 ],\n",
              "       [0.9884485 ],\n",
              "       [0.99668986],\n",
              "       [1.0090998 ],\n",
              "       [1.0057346 ],\n",
              "       [1.0783362 ],\n",
              "       [0.9924391 ],\n",
              "       [0.99668705],\n",
              "       [1.0100411 ],\n",
              "       [0.99203044],\n",
              "       [0.998414  ],\n",
              "       [0.9923725 ],\n",
              "       [0.99507135],\n",
              "       [0.9862321 ],\n",
              "       [0.9914569 ],\n",
              "       [0.9927273 ],\n",
              "       [1.0017612 ],\n",
              "       [1.0024431 ],\n",
              "       [0.9965138 ],\n",
              "       [0.9824169 ],\n",
              "       [0.9956358 ],\n",
              "       [0.9881255 ],\n",
              "       [1.0097523 ],\n",
              "       [0.99926186],\n",
              "       [1.0054798 ],\n",
              "       [1.0498602 ],\n",
              "       [0.9954819 ],\n",
              "       [1.0116142 ],\n",
              "       [0.98384106],\n",
              "       [1.0193893 ],\n",
              "       [1.0017    ],\n",
              "       [0.99057776],\n",
              "       [0.9998839 ],\n",
              "       [1.034842  ],\n",
              "       [1.0323651 ],\n",
              "       [1.0193799 ],\n",
              "       [0.99212915],\n",
              "       [0.99564517],\n",
              "       [1.0074539 ],\n",
              "       [1.0322809 ],\n",
              "       [1.0009944 ],\n",
              "       [0.9801723 ],\n",
              "       [0.991848  ],\n",
              "       [0.985335  ],\n",
              "       [0.99405825],\n",
              "       [0.99622107],\n",
              "       [0.980977  ],\n",
              "       [0.98634934],\n",
              "       [0.9853553 ],\n",
              "       [0.99337816],\n",
              "       [1.0348351 ],\n",
              "       [1.0373812 ],\n",
              "       [0.99844515],\n",
              "       [1.0148222 ],\n",
              "       [0.988167  ],\n",
              "       [0.9967598 ],\n",
              "       [0.9894025 ],\n",
              "       [0.9792448 ],\n",
              "       [0.9949435 ],\n",
              "       [1.0341104 ],\n",
              "       [0.9930767 ],\n",
              "       [1.020334  ],\n",
              "       [1.0023644 ],\n",
              "       [0.99459827],\n",
              "       [1.0059576 ],\n",
              "       [0.9817604 ],\n",
              "       [0.98967165],\n",
              "       [0.9926201 ],\n",
              "       [1.0006051 ],\n",
              "       [1.0239397 ],\n",
              "       [1.0019616 ],\n",
              "       [1.0083749 ],\n",
              "       [0.992045  ],\n",
              "       [1.0141509 ],\n",
              "       [0.99330544],\n",
              "       [1.0011204 ],\n",
              "       [1.0131814 ],\n",
              "       [0.99203354],\n",
              "       [1.0062846 ],\n",
              "       [1.0094353 ],\n",
              "       [1.0125871 ],\n",
              "       [0.9894332 ],\n",
              "       [1.0379736 ],\n",
              "       [1.1105652 ],\n",
              "       [1.0143425 ],\n",
              "       [0.98718274],\n",
              "       [0.9858533 ],\n",
              "       [1.0411751 ],\n",
              "       [0.9950439 ],\n",
              "       [0.9946924 ],\n",
              "       [1.0053039 ],\n",
              "       [0.98853576],\n",
              "       [0.9888949 ],\n",
              "       [0.9905886 ],\n",
              "       [1.0127702 ],\n",
              "       [0.9983283 ],\n",
              "       [0.99011505],\n",
              "       [0.9975448 ],\n",
              "       [0.9906602 ],\n",
              "       [1.0250735 ],\n",
              "       [0.9906672 ],\n",
              "       [0.9966207 ],\n",
              "       [1.0110908 ],\n",
              "       [1.000844  ],\n",
              "       [1.025749  ],\n",
              "       [1.0090785 ],\n",
              "       [1.0025973 ],\n",
              "       [1.0047486 ],\n",
              "       [1.0108178 ],\n",
              "       [1.0203499 ],\n",
              "       [1.011286  ],\n",
              "       [1.005811  ],\n",
              "       [0.9867565 ],\n",
              "       [1.0329674 ],\n",
              "       [1.0307968 ],\n",
              "       [0.9985616 ],\n",
              "       [1.0071554 ],\n",
              "       [1.025562  ],\n",
              "       [0.99633116],\n",
              "       [1.0212944 ],\n",
              "       [1.0051775 ],\n",
              "       [0.9958271 ],\n",
              "       [1.0146859 ],\n",
              "       [1.0161891 ],\n",
              "       [1.0170846 ],\n",
              "       [0.98685133],\n",
              "       [1.0045787 ],\n",
              "       [1.0400777 ],\n",
              "       [0.9785255 ],\n",
              "       [0.99549156],\n",
              "       [1.0449824 ],\n",
              "       [1.0130911 ],\n",
              "       [0.9957479 ],\n",
              "       [0.9989614 ],\n",
              "       [1.0398407 ],\n",
              "       [0.9736902 ],\n",
              "       [1.0213985 ],\n",
              "       [0.99746126],\n",
              "       [0.9775678 ],\n",
              "       [0.97980046],\n",
              "       [0.9926126 ],\n",
              "       [1.0054576 ],\n",
              "       [0.9916551 ],\n",
              "       [0.9873075 ],\n",
              "       [0.9950049 ],\n",
              "       [0.9935439 ],\n",
              "       [0.9849376 ],\n",
              "       [1.0022764 ],\n",
              "       [1.0056877 ],\n",
              "       [1.0053657 ],\n",
              "       [1.0080855 ],\n",
              "       [1.0407231 ],\n",
              "       [0.9920067 ],\n",
              "       [0.99952775],\n",
              "       [0.9995351 ],\n",
              "       [1.0038333 ],\n",
              "       [0.9778891 ],\n",
              "       [0.99419224],\n",
              "       [0.9923999 ],\n",
              "       [0.9936788 ],\n",
              "       [0.9930042 ],\n",
              "       [0.9978011 ],\n",
              "       [0.9984104 ],\n",
              "       [0.99254227],\n",
              "       [1.0386572 ],\n",
              "       [1.0173779 ],\n",
              "       [1.0205305 ],\n",
              "       [1.0081773 ],\n",
              "       [0.9870135 ],\n",
              "       [1.0389049 ],\n",
              "       [1.0201585 ],\n",
              "       [1.0212057 ],\n",
              "       [0.9963799 ],\n",
              "       [1.0095799 ],\n",
              "       [1.0015376 ],\n",
              "       [1.0266736 ],\n",
              "       [0.9953352 ],\n",
              "       [1.0177579 ],\n",
              "       [0.98118186],\n",
              "       [1.0110515 ],\n",
              "       [0.9851048 ],\n",
              "       [0.99498045],\n",
              "       [0.9841059 ],\n",
              "       [0.98863226],\n",
              "       [0.9927177 ],\n",
              "       [1.0000674 ],\n",
              "       [1.0242553 ],\n",
              "       [1.0142537 ]], dtype=float32)"
            ]
          },
          "metadata": {},
          "execution_count": 242
        }
      ]
    },
    {
      "cell_type": "markdown",
      "source": [
        "another example"
      ],
      "metadata": {
        "id": "juzN_Cb9DJCp"
      }
    },
    {
      "cell_type": "markdown",
      "source": [
        "another example"
      ],
      "metadata": {
        "id": "4dZ-3hXID8bo"
      }
    },
    {
      "cell_type": "code",
      "source": [
        "pip install pysmiles"
      ],
      "metadata": {
        "colab": {
          "base_uri": "https://localhost:8080/"
        },
        "id": "F07_7tMBA1Q9",
        "outputId": "6ad35fa6-d272-4b3a-a994-082274de43ae"
      },
      "execution_count": null,
      "outputs": [
        {
          "output_type": "stream",
          "name": "stdout",
          "text": [
            "Collecting pysmiles\n",
            "  Downloading pysmiles-1.0.1.tar.gz (34 kB)\n",
            "Collecting pbr\n",
            "  Using cached pbr-5.9.0-py2.py3-none-any.whl (112 kB)\n",
            "Requirement already satisfied: networkx~=2.0 in /usr/local/lib/python3.7/dist-packages (from pysmiles) (2.6.3)\n",
            "Building wheels for collected packages: pysmiles\n",
            "  Building wheel for pysmiles (setup.py) ... \u001b[?25l\u001b[?25hdone\n",
            "  Created wheel for pysmiles: filename=pysmiles-1.0.1-py2.py3-none-any.whl size=22028 sha256=9b91a5466552e481ceae158e6f05c4d54734b6064a2d258dbeca815c0a8de7a6\n",
            "  Stored in directory: /root/.cache/pip/wheels/e4/f0/ca/dae2e932684a6e26824d29cf5b6dadea7320e6fed036942972\n",
            "Successfully built pysmiles\n",
            "Installing collected packages: pbr, pysmiles\n",
            "Successfully installed pbr-5.9.0 pysmiles-1.0.1\n"
          ]
        }
      ]
    },
    {
      "cell_type": "code",
      "source": [
        "from pysmiles import read_smiles\n",
        "import networkx as nx\n",
        "    \n",
        "\"\"\"smiles = 'C12=C3C4=C5C6=C1C7=C8C9=C1C%10=C%11C(=C29)C3=C2C3=C4C4=C5C5=C9C6=C7C6=C7C8=C1C1=C8C%10=C%10C%11=C2C2=C3C3=C4C4=C5C5=C%11C%12=C(C6=C95)C7=C1C1=C%12C5=C%11C4=C3C3=C5C(=C81)C%10=C23'\n",
        "mol = read_smiles(smiles)\n",
        "\"\"\"\n",
        "smiles=\"CC(C)(C)OC(=O)CCCc1ccc(N(CCCl)CCCl)cc1\"\n",
        "mol = read_smiles(smiles)\n",
        "print(mol.nodes)\n",
        "# atom vector (C only)\n",
        "print(mol.nodes(data='element'))\n",
        "# adjacency matrix\n",
        "print(nx.to_numpy_matrix(mol))\n",
        "print(nx.to_numpy_matrix(mol).shape)"
      ],
      "metadata": {
        "colab": {
          "base_uri": "https://localhost:8080/"
        },
        "id": "rpDFpL-nAviU",
        "outputId": "64ed35aa-2b93-4d2e-8a81-6e9b411edebe"
      },
      "execution_count": null,
      "outputs": [
        {
          "output_type": "stream",
          "name": "stdout",
          "text": [
            "[0, 1, 2, 3, 4, 5, 6, 7, 8, 9, 10, 11, 12, 13, 14, 15, 16, 17, 18, 19, 20, 21, 22]\n",
            "[(0, 'C'), (1, 'C'), (2, 'C'), (3, 'C'), (4, 'O'), (5, 'C'), (6, 'O'), (7, 'C'), (8, 'C'), (9, 'C'), (10, 'C'), (11, 'C'), (12, 'C'), (13, 'C'), (14, 'N'), (15, 'C'), (16, 'C'), (17, 'Cl'), (18, 'C'), (19, 'C'), (20, 'Cl'), (21, 'C'), (22, 'C')]\n",
            "[[0. 1. 0. 0. 0. 0. 0. 0. 0. 0. 0. 0. 0. 0. 0. 0. 0. 0. 0. 0. 0. 0. 0.]\n",
            " [1. 0. 1. 1. 1. 0. 0. 0. 0. 0. 0. 0. 0. 0. 0. 0. 0. 0. 0. 0. 0. 0. 0.]\n",
            " [0. 1. 0. 0. 0. 0. 0. 0. 0. 0. 0. 0. 0. 0. 0. 0. 0. 0. 0. 0. 0. 0. 0.]\n",
            " [0. 1. 0. 0. 0. 0. 0. 0. 0. 0. 0. 0. 0. 0. 0. 0. 0. 0. 0. 0. 0. 0. 0.]\n",
            " [0. 1. 0. 0. 0. 1. 0. 0. 0. 0. 0. 0. 0. 0. 0. 0. 0. 0. 0. 0. 0. 0. 0.]\n",
            " [0. 0. 0. 0. 1. 0. 1. 1. 0. 0. 0. 0. 0. 0. 0. 0. 0. 0. 0. 0. 0. 0. 0.]\n",
            " [0. 0. 0. 0. 0. 1. 0. 0. 0. 0. 0. 0. 0. 0. 0. 0. 0. 0. 0. 0. 0. 0. 0.]\n",
            " [0. 0. 0. 0. 0. 1. 0. 0. 1. 0. 0. 0. 0. 0. 0. 0. 0. 0. 0. 0. 0. 0. 0.]\n",
            " [0. 0. 0. 0. 0. 0. 0. 1. 0. 1. 0. 0. 0. 0. 0. 0. 0. 0. 0. 0. 0. 0. 0.]\n",
            " [0. 0. 0. 0. 0. 0. 0. 0. 1. 0. 1. 0. 0. 0. 0. 0. 0. 0. 0. 0. 0. 0. 0.]\n",
            " [0. 0. 0. 0. 0. 0. 0. 0. 0. 1. 0. 1. 0. 0. 0. 0. 0. 0. 0. 0. 0. 0. 1.]\n",
            " [0. 0. 0. 0. 0. 0. 0. 0. 0. 0. 1. 0. 1. 0. 0. 0. 0. 0. 0. 0. 0. 0. 0.]\n",
            " [0. 0. 0. 0. 0. 0. 0. 0. 0. 0. 0. 1. 0. 1. 0. 0. 0. 0. 0. 0. 0. 0. 0.]\n",
            " [0. 0. 0. 0. 0. 0. 0. 0. 0. 0. 0. 0. 1. 0. 1. 0. 0. 0. 0. 0. 0. 1. 0.]\n",
            " [0. 0. 0. 0. 0. 0. 0. 0. 0. 0. 0. 0. 0. 1. 0. 1. 0. 0. 1. 0. 0. 0. 0.]\n",
            " [0. 0. 0. 0. 0. 0. 0. 0. 0. 0. 0. 0. 0. 0. 1. 0. 1. 0. 0. 0. 0. 0. 0.]\n",
            " [0. 0. 0. 0. 0. 0. 0. 0. 0. 0. 0. 0. 0. 0. 0. 1. 0. 1. 0. 0. 0. 0. 0.]\n",
            " [0. 0. 0. 0. 0. 0. 0. 0. 0. 0. 0. 0. 0. 0. 0. 0. 1. 0. 0. 0. 0. 0. 0.]\n",
            " [0. 0. 0. 0. 0. 0. 0. 0. 0. 0. 0. 0. 0. 0. 1. 0. 0. 0. 0. 1. 0. 0. 0.]\n",
            " [0. 0. 0. 0. 0. 0. 0. 0. 0. 0. 0. 0. 0. 0. 0. 0. 0. 0. 1. 0. 1. 0. 0.]\n",
            " [0. 0. 0. 0. 0. 0. 0. 0. 0. 0. 0. 0. 0. 0. 0. 0. 0. 0. 0. 1. 0. 0. 0.]\n",
            " [0. 0. 0. 0. 0. 0. 0. 0. 0. 0. 0. 0. 0. 1. 0. 0. 0. 0. 0. 0. 0. 0. 1.]\n",
            " [0. 0. 0. 0. 0. 0. 0. 0. 0. 0. 1. 0. 0. 0. 0. 0. 0. 0. 0. 0. 0. 1. 0.]]\n",
            "(23, 23)\n"
          ]
        }
      ]
    },
    {
      "cell_type": "code",
      "source": [
        "import matplotlib.pyplot as plt\n",
        "elements = nx.get_node_attributes(mol, name = \"element\")\n",
        "nx.draw(mol, with_labels=True, labels = elements, pos=nx.spring_layout(mol))\n",
        "plt.gca().set_aspect('equal')"
      ],
      "metadata": {
        "colab": {
          "base_uri": "https://localhost:8080/",
          "height": 319
        },
        "id": "OMJjflTVBV5_",
        "outputId": "715608ad-6eb4-48f4-c48b-8adc309f28ab"
      },
      "execution_count": null,
      "outputs": [
        {
          "output_type": "display_data",
          "data": {
            "text/plain": [
              "<Figure size 432x288 with 1 Axes>"
            ],
            "image/png": "[encoded data removed]"
          },
          "metadata": {}
        }
      ]
    }
  ]
}